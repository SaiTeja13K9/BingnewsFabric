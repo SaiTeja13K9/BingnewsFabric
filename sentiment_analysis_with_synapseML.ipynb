{
 "cells": [
  {
   "cell_type": "markdown",
   "id": "47d894cd-76e8-4332-994c-6837f5f65c01",
   "metadata": {
    "nteract": {
     "transient": {
      "deleting": false
     }
    }
   },
   "source": [
    "### Read the News Table from the Lakehouse DB"
   ]
  },
  {
   "cell_type": "code",
   "execution_count": 1,
   "id": "72a32a8b-15d3-4adc-9274-f64b2547618d",
   "metadata": {
    "collapsed": false,
    "jupyter": {
     "outputs_hidden": false,
     "source_hidden": false
    },
    "nteract": {
     "transient": {
      "deleting": false
     }
    }
   },
   "outputs": [
    {
     "data": {
      "application/vnd.livy.statement-meta+json": {
       "execution_finish_time": null,
       "execution_start_time": null,
       "livy_statement_state": null,
       "parent_msg_id": "2736cf6d-41c9-4e6b-8113-ce69ba79c19f",
       "queued_time": "2024-03-03T12:33:26.9350723Z",
       "session_id": null,
       "session_start_time": null,
       "spark_pool": null,
       "state": "waiting",
       "statement_id": null
      },
      "text/plain": [
       "StatementMeta(, , , Waiting, )"
      ]
     },
     "metadata": {},
     "output_type": "display_data"
    },
    {
     "data": {
      "application/vnd.synapse.widget-view+json": {
       "widget_id": "f348844a-cb1f-442d-9f89-d3d84d841730",
       "widget_type": "Synapse.DataFrame"
      },
      "text/plain": [
       "SynapseWidget(Synapse.DataFrame, f348844a-cb1f-442d-9f89-d3d84d841730)"
      ]
     },
     "metadata": {},
     "output_type": "display_data"
    }
   ],
   "source": [
    "# Perform sentiment analysis using SynapseML\n",
    "\n",
    "df = spark.sql(\"SELECT * FROM bing_lake_db.tbl_latest_news\")\n",
    "display(df)"
   ]
  },
  {
   "cell_type": "markdown",
   "id": "075578f6-d8de-4b90-9ca1-cb3513971a81",
   "metadata": {
    "nteract": {
     "transient": {
      "deleting": false
     }
    }
   },
   "source": [
    "### Import Synapse ML"
   ]
  },
  {
   "cell_type": "code",
   "execution_count": 2,
   "id": "40aa7910-c295-4473-95ac-ff0166d1890b",
   "metadata": {
    "jupyter": {
     "outputs_hidden": false,
     "source_hidden": false
    },
    "nteract": {
     "transient": {
      "deleting": false
     }
    }
   },
   "outputs": [
    {
     "data": {
      "application/vnd.livy.statement-meta+json": {
       "execution_finish_time": null,
       "execution_start_time": null,
       "livy_statement_state": null,
       "parent_msg_id": "b8420dd8-5b6b-4bc3-a5dd-cf08c3196bf5",
       "queued_time": "2024-03-03T12:33:26.9970166Z",
       "session_id": null,
       "session_start_time": null,
       "spark_pool": null,
       "state": "waiting",
       "statement_id": null
      },
      "text/plain": [
       "StatementMeta(, , , Waiting, )"
      ]
     },
     "metadata": {},
     "output_type": "display_data"
    }
   ],
   "source": [
    "# Store analyzed sentiment results into Delta table\n",
    "\n",
    "import synapse.ml.core\n",
    "from synapse.ml.services import AnalyzeText"
   ]
  },
  {
   "cell_type": "markdown",
   "id": "f29dd2b6-b60c-41cd-a1f0-2bda5cb3a80c",
   "metadata": {
    "nteract": {
     "transient": {
      "deleting": false
     }
    }
   },
   "source": [
    "### Configure Synapse ML"
   ]
  },
  {
   "cell_type": "code",
   "execution_count": 3,
   "id": "59604924-8de5-472b-9cf3-b4bde4033b05",
   "metadata": {
    "jupyter": {
     "outputs_hidden": false,
     "source_hidden": false
    },
    "nteract": {
     "transient": {
      "deleting": false
     }
    }
   },
   "outputs": [
    {
     "data": {
      "application/vnd.livy.statement-meta+json": {
       "execution_finish_time": null,
       "execution_start_time": null,
       "livy_statement_state": null,
       "parent_msg_id": "cb59c0f8-908a-41b2-a8aa-cd9e23d34389",
       "queued_time": "2024-03-03T12:33:27.0644858Z",
       "session_id": null,
       "session_start_time": null,
       "spark_pool": null,
       "state": "waiting",
       "statement_id": null
      },
      "text/plain": [
       "StatementMeta(, , , Waiting, )"
      ]
     },
     "metadata": {},
     "output_type": "display_data"
    }
   ],
   "source": [
    "#Import the model and configure the input and output columns\n",
    "model = (AnalyzeText()\n",
    "        .setTextCol(\"description\")\n",
    "        .setKind(\"SentimentAnalysis\")\n",
    "        .setOutputCol(\"response\")\n",
    "        .setErrorCol(\"error\"))"
   ]
  },
  {
   "cell_type": "markdown",
   "id": "71aa881c-25cb-4bd3-ab3d-33eea928f020",
   "metadata": {
    "nteract": {
     "transient": {
      "deleting": false
     }
    }
   },
   "source": [
    "### Apply the model"
   ]
  },
  {
   "cell_type": "code",
   "execution_count": 4,
   "id": "4783dad4-d451-4531-9b0e-7634679f0062",
   "metadata": {
    "jupyter": {
     "outputs_hidden": false,
     "source_hidden": false
    },
    "nteract": {
     "transient": {
      "deleting": false
     }
    }
   },
   "outputs": [
    {
     "data": {
      "application/vnd.livy.statement-meta+json": {
       "execution_finish_time": null,
       "execution_start_time": null,
       "livy_statement_state": null,
       "parent_msg_id": "17abcc36-721a-49e5-9d3c-1d969ea9f313",
       "queued_time": "2024-03-03T12:33:27.122434Z",
       "session_id": null,
       "session_start_time": null,
       "spark_pool": null,
       "state": "waiting",
       "statement_id": null
      },
      "text/plain": [
       "StatementMeta(, , , Waiting, )"
      ]
     },
     "metadata": {},
     "output_type": "display_data"
    }
   ],
   "source": [
    "#Apply the model to our dataframe\n",
    "result = model.transform(df)"
   ]
  },
  {
   "cell_type": "code",
   "execution_count": 5,
   "id": "f784c838-b142-4bf8-80d3-9d307063fab6",
   "metadata": {
    "collapsed": false,
    "jupyter": {
     "outputs_hidden": false,
     "source_hidden": false
    },
    "nteract": {
     "transient": {
      "deleting": false
     }
    }
   },
   "outputs": [
    {
     "data": {
      "application/vnd.livy.statement-meta+json": {
       "execution_finish_time": null,
       "execution_start_time": null,
       "livy_statement_state": null,
       "parent_msg_id": "f544ff71-b2d0-4438-b6e7-39c1973ecf8d",
       "queued_time": "2024-03-03T12:33:27.1910761Z",
       "session_id": null,
       "session_start_time": null,
       "spark_pool": null,
       "state": "waiting",
       "statement_id": null
      },
      "text/plain": [
       "StatementMeta(, , , Waiting, )"
      ]
     },
     "metadata": {},
     "output_type": "display_data"
    },
    {
     "data": {
      "application/vnd.synapse.widget-view+json": {
       "widget_id": "7218bca0-a1af-40ed-b854-075c2857eaff",
       "widget_type": "Synapse.DataFrame"
      },
      "text/plain": [
       "SynapseWidget(Synapse.DataFrame, 7218bca0-a1af-40ed-b854-075c2857eaff)"
      ]
     },
     "metadata": {},
     "output_type": "display_data"
    }
   ],
   "source": [
    "display(result)"
   ]
  },
  {
   "cell_type": "markdown",
   "id": "6a082009-3058-4206-ace5-67f5f98b5037",
   "metadata": {
    "nteract": {
     "transient": {
      "deleting": false
     }
    }
   },
   "source": [
    "### Grab sentiment from the response"
   ]
  },
  {
   "cell_type": "code",
   "execution_count": 6,
   "id": "ef5acfea-a0fe-42f3-8c26-3e0b7181627b",
   "metadata": {
    "jupyter": {
     "outputs_hidden": false,
     "source_hidden": false
    },
    "nteract": {
     "transient": {
      "deleting": false
     }
    }
   },
   "outputs": [
    {
     "data": {
      "application/vnd.livy.statement-meta+json": {
       "execution_finish_time": null,
       "execution_start_time": null,
       "livy_statement_state": null,
       "parent_msg_id": "6daf7909-5fd2-419b-9545-37b40a07fefa",
       "queued_time": "2024-03-03T12:33:27.2453929Z",
       "session_id": null,
       "session_start_time": null,
       "spark_pool": null,
       "state": "waiting",
       "statement_id": null
      },
      "text/plain": [
       "StatementMeta(, , , Waiting, )"
      ]
     },
     "metadata": {},
     "output_type": "display_data"
    }
   ],
   "source": [
    "#Create Sentiment Column\n",
    "from pyspark.sql.functions import col\n",
    "\n",
    "sentiment_df = result.withColumn(\"sentiment\", col(\"response.documents.sentiment\"))"
   ]
  },
  {
   "cell_type": "code",
   "execution_count": 7,
   "id": "87de9026-f3ab-4e4f-9bf9-75e4979332e9",
   "metadata": {
    "collapsed": false,
    "jupyter": {
     "outputs_hidden": false,
     "source_hidden": false
    },
    "nteract": {
     "transient": {
      "deleting": false
     }
    }
   },
   "outputs": [
    {
     "data": {
      "application/vnd.livy.statement-meta+json": {
       "execution_finish_time": null,
       "execution_start_time": null,
       "livy_statement_state": null,
       "parent_msg_id": "d704f2d1-0c59-4db6-ad14-2b85a35a2a39",
       "queued_time": "2024-03-03T12:33:27.3454633Z",
       "session_id": null,
       "session_start_time": null,
       "spark_pool": null,
       "state": "waiting",
       "statement_id": null
      },
      "text/plain": [
       "StatementMeta(, , , Waiting, )"
      ]
     },
     "metadata": {},
     "output_type": "display_data"
    },
    {
     "data": {
      "application/vnd.synapse.widget-view+json": {
       "widget_id": "869c5a13-9a6a-489a-89d7-2cc814af1f21",
       "widget_type": "Synapse.DataFrame"
      },
      "text/plain": [
       "SynapseWidget(Synapse.DataFrame, 869c5a13-9a6a-489a-89d7-2cc814af1f21)"
      ]
     },
     "metadata": {},
     "output_type": "display_data"
    }
   ],
   "source": [
    "display(sentiment_df)"
   ]
  },
  {
   "cell_type": "markdown",
   "id": "46b2effd-4883-4196-bd91-35ed336c7b66",
   "metadata": {
    "nteract": {
     "transient": {
      "deleting": false
     }
    }
   },
   "source": [
    "### Remove unwanted columns"
   ]
  },
  {
   "cell_type": "code",
   "execution_count": 13,
   "id": "d12aae1f-e317-49df-b042-fe28b9a3d156",
   "metadata": {
    "jupyter": {
     "outputs_hidden": false,
     "source_hidden": false
    },
    "nteract": {
     "transient": {
      "deleting": false
     }
    }
   },
   "outputs": [
    {
     "data": {
      "application/vnd.livy.statement-meta+json": {
       "execution_finish_time": null,
       "execution_start_time": null,
       "livy_statement_state": null,
       "parent_msg_id": "73f21334-c763-4809-9748-30c6354b4fa9",
       "queued_time": "2024-03-03T12:33:27.4499124Z",
       "session_id": null,
       "session_start_time": null,
       "spark_pool": null,
       "state": "waiting",
       "statement_id": null
      },
      "text/plain": [
       "StatementMeta(, , , Waiting, )"
      ]
     },
     "metadata": {},
     "output_type": "display_data"
    }
   ],
   "source": [
    "sentiment_df_final = sentiment_df.drop(\"error\",\"response\")"
   ]
  },
  {
   "cell_type": "code",
   "execution_count": 14,
   "id": "f79a6ce2-2010-440a-b59f-0baf216f4fd1",
   "metadata": {
    "collapsed": false,
    "jupyter": {
     "outputs_hidden": false,
     "source_hidden": false
    },
    "nteract": {
     "transient": {
      "deleting": false
     }
    }
   },
   "outputs": [
    {
     "data": {
      "application/vnd.livy.statement-meta+json": {
       "execution_finish_time": null,
       "execution_start_time": null,
       "livy_statement_state": null,
       "parent_msg_id": "52fb21ce-d526-4008-8819-072ee8de622e",
       "queued_time": "2024-03-03T12:33:27.4982757Z",
       "session_id": null,
       "session_start_time": null,
       "spark_pool": null,
       "state": "waiting",
       "statement_id": null
      },
      "text/plain": [
       "StatementMeta(, , , Waiting, )"
      ]
     },
     "metadata": {},
     "output_type": "display_data"
    },
    {
     "data": {
      "application/vnd.synapse.widget-view+json": {
       "widget_id": "661894f8-094e-47ae-beb5-3813798a49a0",
       "widget_type": "Synapse.DataFrame"
      },
      "text/plain": [
       "SynapseWidget(Synapse.DataFrame, 661894f8-094e-47ae-beb5-3813798a49a0)"
      ]
     },
     "metadata": {},
     "output_type": "display_data"
    }
   ],
   "source": [
    "display(sentiment_df_final)"
   ]
  },
  {
   "cell_type": "code",
   "execution_count": null,
   "id": "a23137af-bb99-442d-8d14-255840a4bd2b",
   "metadata": {
    "jupyter": {
     "outputs_hidden": false,
     "source_hidden": false
    },
    "nteract": {
     "transient": {
      "deleting": false
     }
    }
   },
   "outputs": [
    {
     "data": {
      "application/vnd.livy.statement-meta+json": {
       "execution_finish_time": null,
       "execution_start_time": null,
       "livy_statement_state": null,
       "parent_msg_id": "d028c7bb-efb2-4aee-b0e5-a760dacf9361",
       "queued_time": "2024-03-03T12:33:27.5668779Z",
       "session_id": null,
       "session_start_time": null,
       "spark_pool": null,
       "state": "waiting",
       "statement_id": null
      },
      "text/plain": [
       "StatementMeta(, , , Waiting, )"
      ]
     },
     "metadata": {},
     "output_type": "display_data"
    }
   ],
   "source": [
    "from pyspark.sql.functions import col, to_date\n",
    "\n",
    "sentiment_df_final = sentiment_df_final.withColumn(\"datePublished\", to_date(col(\"datePublished\"), \"dd-MMM-yyyy\"))"
   ]
  },
  {
   "cell_type": "markdown",
   "id": "bdf09cc6-f231-446c-b294-c88104f3a77c",
   "metadata": {
    "nteract": {
     "transient": {
      "deleting": false
     }
    }
   },
   "source": [
    "## Type 1 Merge"
   ]
  },
  {
   "cell_type": "code",
   "execution_count": 10,
   "id": "bd3d52c8-ddce-4780-ace7-b48127595925",
   "metadata": {
    "jupyter": {
     "outputs_hidden": false,
     "source_hidden": false
    },
    "nteract": {
     "transient": {
      "deleting": false
     }
    }
   },
   "outputs": [
    {
     "data": {
      "application/vnd.livy.statement-meta+json": {
       "execution_finish_time": null,
       "execution_start_time": null,
       "livy_statement_state": null,
       "parent_msg_id": "5cfa1116-1b48-41cb-884f-591ecfcb30e6",
       "queued_time": "2024-03-03T12:33:27.6169723Z",
       "session_id": null,
       "session_start_time": null,
       "spark_pool": null,
       "state": "waiting",
       "statement_id": null
      },
      "text/plain": [
       "StatementMeta(, , , Waiting, )"
      ]
     },
     "metadata": {},
     "output_type": "display_data"
    },
    {
     "name": "stdout",
     "output_type": "stream",
     "text": [
      "Table Already Exists\n"
     ]
    }
   ],
   "source": [
    "from pyspark.sql.utils import AnalysisException\n",
    "\n",
    "try:\n",
    "\n",
    "    table_name = 'bing_lake_db.tbl_sentiment_analysis'\n",
    "\n",
    "    sentiment_df_final.write.format(\"delta\").saveAsTable(table_name)\n",
    "\n",
    "except AnalysisException:\n",
    "\n",
    "    print(\"Table Already Exists\")\n",
    "\n",
    "    sentiment_df_final.createOrReplaceTempView(\"vw_sentiment_df_final\")\n",
    "\n",
    "    spark.sql(f\"\"\"  MERGE INTO {table_name} target_table\n",
    "                    USING vw_sentiment_df_final source_view\n",
    "\n",
    "                    ON source_view.url = target_table.url\n",
    "                    \n",
    "                    WHEN MATCHED AND \n",
    "                    source_view.title <> target_table.title OR\n",
    "                    source_view.description <> target_table.description OR\n",
    "                    source_view.category <> target_table.category OR\n",
    "                    source_view.image <> target_table.image OR\n",
    "                    source_view.provider <> target_table.provider OR\n",
    "                    source_view.datePublished <> target_table.datePublished   \n",
    "\n",
    "                    THEN UPDATE SET *\n",
    "\n",
    "                    WHEN NOT MATCHED THEN INSERT *\n",
    "\n",
    "                \"\"\")"
   ]
  },
  {
   "cell_type": "code",
   "execution_count": 17,
   "id": "554075d0-130b-4f2f-9031-9d62bf04f628",
   "metadata": {
    "collapsed": false,
    "jupyter": {
     "outputs_hidden": false,
     "source_hidden": false
    },
    "nteract": {
     "transient": {
      "deleting": false
     }
    }
   },
   "outputs": [
    {
     "data": {
      "application/vnd.livy.statement-meta+json": {
       "execution_finish_time": null,
       "execution_start_time": null,
       "livy_statement_state": null,
       "parent_msg_id": "79ae12e5-7fb1-4be1-bf27-ba01e5b6babb",
       "queued_time": "2024-03-03T12:33:27.6779567Z",
       "session_id": null,
       "session_start_time": null,
       "spark_pool": null,
       "state": "waiting",
       "statement_id": null
      },
      "text/plain": [
       "StatementMeta(, , , Waiting, )"
      ]
     },
     "metadata": {},
     "output_type": "display_data"
    },
    {
     "data": {
      "application/vnd.synapse.widget-view+json": {
       "widget_id": "2a4beba9-e8e6-4e6f-be21-6764a6e55690",
       "widget_type": "Synapse.DataFrame"
      },
      "text/plain": [
       "SynapseWidget(Synapse.DataFrame, 2a4beba9-e8e6-4e6f-be21-6764a6e55690)"
      ]
     },
     "metadata": {},
     "output_type": "display_data"
    }
   ],
   "source": [
    "display(sentiment_df_final)"
   ]
  },
  {
   "cell_type": "code",
   "execution_count": null,
   "id": "6d2e14cf-a175-48e4-815e-301044276431",
   "metadata": {
    "collapsed": false,
    "jupyter": {
     "outputs_hidden": false,
     "source_hidden": false
    },
    "microsoft": {
     "language": "sparksql"
    },
    "nteract": {
     "transient": {
      "deleting": false
     }
    }
   },
   "outputs": [
    {
     "data": {
      "application/vnd.livy.statement-meta+json": {
       "execution_finish_time": null,
       "execution_start_time": null,
       "livy_statement_state": null,
       "parent_msg_id": "0d4a22d8-6c3b-4269-bb22-fbb1eabafed2",
       "queued_time": "2024-03-03T12:33:27.7311767Z",
       "session_id": null,
       "session_start_time": null,
       "spark_pool": null,
       "state": "waiting",
       "statement_id": null
      },
      "text/plain": [
       "StatementMeta(, , , Waiting, )"
      ]
     },
     "metadata": {},
     "output_type": "display_data"
    },
    {
     "data": {
      "application/vnd.synapse.sparksql-result+json": {
       "data": [
        [
         "81"
        ]
       ],
       "schema": {
        "fields": [
         {
          "metadata": {
           "__autoGeneratedAlias": "true"
          },
          "name": "count(1)",
          "nullable": false,
          "type": "long"
         }
        ],
        "type": "struct"
       }
      },
      "text/plain": [
       "<Spark SQL result set with 1 rows and 1 fields>"
      ]
     },
     "execution_count": 14,
     "metadata": {},
     "output_type": "execute_result"
    }
   ],
   "source": [
    "%%sql\n",
    "\n",
    "SELECT count(*) from bing_lake_db.tbl_sentiment_analysis"
   ]
  },
  {
   "cell_type": "code",
   "execution_count": null,
   "id": "b2cc4074-8f49-4670-9062-5a7c2c1e5686",
   "metadata": {
    "jupyter": {
     "outputs_hidden": false,
     "source_hidden": false
    },
    "nteract": {
     "transient": {
      "deleting": false
     }
    }
   },
   "outputs": [],
   "source": []
  }
 ],
 "metadata": {
  "dependencies": {
   "lakehouse": {
    "default_lakehouse": "0239bdb1-bd09-477a-a7dc-7f676d708bc7",
    "default_lakehouse_name": "bing_lake_db",
    "default_lakehouse_workspace_id": "568ea1fd-ad18-41a0-a4fa-8ca2e803e5ef"
   }
  },
  "kernel_info": {
   "name": "synapse_pyspark"
  },
  "kernelspec": {
   "display_name": "Synapse PySpark",
   "language": "Python",
   "name": "synapse_pyspark"
  },
  "language_info": {
   "name": "python"
  },
  "microsoft": {
   "language": "python",
   "ms_spell_check": {
    "ms_spell_check_language": "en"
   }
  },
  "nteract": {
   "version": "nteract-front-end@1.0.0"
  },
  "spark_compute": {
   "compute_id": "/trident/default"
  },
  "synapse_widget": {
   "state": {
    "2a4beba9-e8e6-4e6f-be21-6764a6e55690": {
     "persist_state": {
      "view": {
       "chartOptions": {
        "aggregationType": "count",
        "binsNumber": 10,
        "categoryFieldKeys": [
         "2"
        ],
        "chartType": "bar",
        "isStacked": false,
        "seriesFieldKeys": [
         "0"
        ],
        "wordFrequency": "-1"
       },
       "tableOptions": {},
       "type": "details"
      }
     },
     "sync_state": {
      "isSummary": false,
      "language": "scala",
      "table": {
       "rows": [
        {
         "0": "Charismatic Mithun Manhas changes shape of J&K cricket",
         "1": "Jammu, Mar 02: Mithun Manhas is a familiar name not only in J&K cricket but also in the entire cricketing world, especially at the domestic circuit of Indian cricket. He has scored around 10,000 runs in 157 matches of First Class Cricket with 27 centuries ...",
         "2": "Sports",
         "3": "http://www.risingkashmir.in/charismatic-mithun-manhas-changes-shape-of-jk-cricket",
         "4": "https://www.bing.com/th?id=OVFT.OjpOTfqMNa6cu1uvtpSWTS&pid=News",
         "5": "Rising Kashmir",
         "6": "2024-03-03",
         "7": "neutral",
         "index": 1
        },
        {
         "0": "'Drivers were watching cricket match': Railway minister on what caused last year's Andhra accident",
         "1": "Railway Minister Ashwini Vaishnaw revealed that the driver and assistant driver of a passenger train involved in a fatal collision in Andhra Pradesh were watching a cricket match on their phones. The incident, which occurred on October 29, 2023 ...",
         "2": "LifeStyle",
         "3": "https://economictimes.indiatimes.com/industry/transportation/railways/drivers-were-watching-cricket-match-railway-minister-on-what-caused-last-years-andhra-accident/articleshow/108178092.cms",
         "4": "https://www.bing.com/th?id=OVFT.Y3A9NrUP1crns6kKN0xqnC&pid=News",
         "5": "Indiatimes",
         "6": "2024-03-03",
         "7": "negative",
         "index": 2
        },
        {
         "0": "GUJ-W vs DC-W: Check our Fantasy Cricket Prediction, Tips, Playing Team Picks for Women’s Premier League 2024, Match 10 on March 3rd",
         "1": "Gujarat Giants Women will be up against Delhi Capitals Women in the 10th match of the Women’s Premier League 2024 on Sunday. Gujarat Giants are enduring a horrific run at the moment, losing 3 matches on the trot.",
         "2": "Sports",
         "3": "https://in.ign.com/dream-11-fantasy-gaming/203118/news/guj-w-vs-dc-w-check-our-fantasy-cricket-prediction-tips-playing-team-picks-for-womens-premier-league",
         "4": "https://www.bing.com/th?id=OVFT.QMbbuuT1eUBzsliLSESJNi&pid=News",
         "5": "IGN",
         "6": "2024-03-03",
         "7": "negative",
         "index": 3
        },
        {
         "0": "Meet Indian cricket’s 17th Man – son of an influential father and misfit in dressing room",
         "1": "Indian domestic circuit is replete with unwanted, unasked extra hands forced on the team by some compromised administrator",
         "2": "Sports",
         "3": "https://indianexpress.com/article/sports/cricket/meet-indian-crickets-17th-man-son-of-an-influential-father-and-misfits-in-dressing-room-9191386/",
         "4": "https://www.bing.com/th?id=OVFT.iZimGpdlE_a14QQYRDd3Ci&pid=News",
         "5": "The Indian Express",
         "6": "2024-03-02",
         "7": "negative",
         "index": 4
        },
        {
         "0": "IVPL: Cricket Fever Peaks In Greater Noida As VVIP UP And Mumbai Champions Brace For Finals",
         "1": "Negi also lauded the quality of cricket being played in IVPL. \"We are extremely excited about the finals as a team. We're all very happy and we will try our best to win tomorrow. My experience with IVPL has been pretty amazing. The quality of cricket here ...",
         "2": "Sports",
         "3": "https://www.cricketnmore.com/cricket-news/ivpl-cricket-fever-peaks-in-greater-noida-as-vvip-up-and-mumbai-champions-brace-for-finals-139515",
         "4": "https://www.bing.com/th?id=OVFT.SuDSUAbDowXTZFiXZITiOy&pid=News",
         "5": "Cricketnmore",
         "6": "2024-03-03",
         "7": "positive",
         "index": 5
        },
        {
         "0": "Aussie cricket in shock as terrible incident could spell the end of star's career - and he's only 26",
         "1": "The future of Will Pucovski is again up in the air after the star batter suffered another knock to the head while batting during Victoria's Sheffield Shield clash with Tasmania in Hobart.",
         "2": "Sports",
         "3": "https://www.dailymail.co.uk/sport/cricket/article-13150891/Will-Pucovski-concussion-future-cricket-Victoria-Tasmania.html",
         "4": "https://www.bing.com/th?id=OVFT.HwVUZ57ck3gwc6U6o398YS&pid=News",
         "5": "Daily Mail",
         "6": "2024-03-03",
         "7": "negative",
         "index": 6
        },
        {
         "0": "CCL 2024 Points Table, Match Results Today: Celebrity Cricket League Updated Points Table, Standings, Top Team",
         "1": "CCL 2024 Points Table: Films and cricket are the two most important and must-watch events in India, isn't it? Whenever there's a cricket match, we stay glued to our seats. Similarly, we gush over Salman Khan and Akshay Kumar's films in the theatres.",
         "2": "Sports",
         "3": "https://www.filmibeat.com/bollywood/viral/2024/ccl-2024-points-table-match-results-today-celebrity-cricket-league-10-updated-points-table-standings-387101.html",
         "4": "https://www.bing.com/th?id=OVFT.3DYdM96zL0-jfZgXMX3jWy&pid=News",
         "5": "Hot Pics",
         "6": "2024-03-02",
         "7": "neutral",
         "index": 7
        },
        {
         "0": "Ashwini Vaishnaw on Andhra train collision: 'Driver was watching cricket on phone'",
         "1": "Railway Minister Ashwini Vaishnaw on Saturday revealed that the driver and the assistant driver of one of the two passenger trains that collided in Andhra Pradesh, leading to the death of 14 passengers on October 29, 2023, were watching a cricket match on ...",
         "2": "India",
         "3": "https://www.msn.com/en-in/money/topstories/ashwini-vaishnaw-on-andhra-train-collision-driver-was-watching-cricket-on-phone/ar-BB1jfyB9",
         "4": "https://www.bing.com/th?id=OVFT.6Tbg05LA__QdP6zKc5eiKS&pid=News",
         "5": "Business Today on MSN.com",
         "6": "2024-03-03",
         "7": "negative",
         "index": 8
        },
        {
         "0": "'Driver was watching cricket on phone': Minister on deadly Andhra train collision",
         "1": "The Rayagada Passenger train hit the Visakhapatnam Palasa train from behind at 7 pm in October last year on the Howrah-Chennai line in Kantakapalli in Vizianagaram district of Andhra Pradesh.",
         "2": "India",
         "3": "https://www.msn.com/en-in/news/India/2023-andhra-train-collision-vaishnaw-says-driver-was-watching-cricket-on-phone/ar-BB1jenUv",
         "4": "https://www.bing.com/th?id=OVFT.GQ-kKRkZVdrf_WiESfOJHS&pid=News",
         "5": "India Today on MSN.com",
         "6": "2024-03-02",
         "7": "neutral",
         "index": 9
        },
        {
         "0": "Andhra Train Collision: ‘Driver Was Watching Cricket On Phone’, Says Railway Minister Ashwini Vaishnaw",
         "1": "Amaravati: The driver and the assistant driver of one of the two passenger trains, which collided in Andhra Pradesh in October 2023, were watching a cricket match on a smartphone, informed Railway Minister Ashwini Vaishnaw said on Saturday.",
         "2": "LifeStyle",
         "3": "https://www.msn.com/en-in/news/India/andhra-train-collision-driver-was-watching-cricket-on-phone-says-railway-minister-ashwini-vaishnaw/ar-BB1jeXP7",
         "4": "https://www.bing.com/th?id=OVFT.4_RxiSFwTYYMyhRz8UTPbC&pid=News",
         "5": "India.com on MSN.com",
         "6": "2024-03-03",
         "7": "neutral",
         "index": 10
        },
        {
         "0": "GUJ-W Vs DEL-W Dream11 Prediction, WPL 2024, Match 10: Fantasy Cricket Tips, Probable Playing XIs, Injury Updates For Today’s Gujarat Giants Vs Delhi Capitals, 7.30 PM IST",
         "1": "GUJ-W vs DEL-W Dream11 Prediction, WPL 2024, Match 10: Languishing at the bottom of the table, Gujarat Giants will be hoping to end their winless run when they take on Delhi Capitals in a Women’s Premier League (WPL) 2024 match at the M Chinnaswamy ...",
         "2": "Sports",
         "3": "https://www.msn.com/en-in/news/other/guj-w-vs-del-w-dream11-prediction-wpl-2024-match-10-fantasy-cricket-tips-probable-playing-xis-injury-updates-for-today-s-gujarat-giants-vs-delhi-capitals-7-30-pm-ist/ar-BB1jfeG9",
         "4": "https://www.bing.com/th?id=OVFT.3vnZi3JKOcD11VtLAR-8EC&pid=News",
         "5": "India.com on MSN.com",
         "6": "2024-03-03",
         "7": "neutral",
         "index": 11
        },
        {
         "0": "Ranji Trophy 2024: Shreyas Iyer struggles with poor form as he makes his comeback in Domestic Cricket",
         "1": "It was Iyer’s first domestic match since the Board of Control for Cricket in India (BCCI) did not award him a central contract. The decision has caused quite a stir among both fans and experts, with many believing that the choice to omit Iyer and Ishan ...",
         "2": "Sports",
         "3": "https://www.msn.com/en-in/news/other/ranji-trophy-2024-shreyas-iyer-struggles-with-poor-form-as-he-makes-his-comeback-in-domestic-cricket/ar-BB1jfr4H",
         "4": "https://www.bing.com/th?id=OVFT.-NQg1csxTuGX-77sQv0ArC&pid=News",
         "5": "Cricket Country on MSN.com",
         "6": "2024-03-03",
         "7": "negative",
         "index": 12
        },
        {
         "0": "Virat Kohli and James Anderson had some incredible face-offs with each other in Test Cricket.",
         "1": "Veteran England pacer James Anderson rued for having a missing chance to play against Team India star batter Virat Kohli in the ongoing Test series. Kohli withdrew from the five Tests against visiting England team to be with his wife Anuksha Sharma for the birth of their second child, a son, Akaay.",
         "2": "Sports",
         "3": "https://www.msn.com/en-in/sports/cricket/it-s-a-shame-he-s-not-been-playing-james-anderson-on-virat-kohlis-absence-in-ind-vs-eng-test-series/ar-BB1jdDyC",
         "4": "https://www.bing.com/th?id=OVFT.gO6seUNG-m8q9iJ03RY7GC&pid=News",
         "5": "The Free Press Journal on MSN.com",
         "6": "2024-03-02",
         "7": "negative",
         "index": 13
        },
        {
         "0": "Mumbai vs Tamil Nadu, Ranji Trophy semifinal: Shreyas Iyer fails to deliver on his return to domestic cricket",
         "1": "Shreyas Iyer, an out-of-favour India batter, failed to contribute with the bat in the Ranji Trophy semifinal match between Mumbai and Tamil Nadu. He was dismissed by Tamil Nadu pacer Sandeep Warrier for just 3 runs in their first innings.",
         "2": "Sports",
         "3": "https://www.msn.com/en-in/sports/cricket/mumbai-vs-tamil-nadu-ranji-trophy-semifinal-shreyas-iyer-fails-to-deliver-on-his-return-to-domestic-cricket/ar-BB1jf79F",
         "4": "https://www.bing.com/th?id=OVFT.kAPYC46obBxBQaac9RbhyC&pid=News",
         "5": "The Times of India on MSN.com",
         "6": "2024-03-03",
         "7": "negative",
         "index": 14
        },
        {
         "0": "'Playing red-ball games will produce more wicket-taking bowlers', says Mamatha Maben on format’s return to women's domestic cricket",
         "1": "The commencement of the Senior Women's Inter-Zonal Multi-Day Trophy in Pune from March 28 will signal the revival of red-ball cricket for female cricketers in the Indian domestic circuit, following a six-year absence.",
         "2": "Sports",
         "3": "https://www.msn.com/en-in/sports/cricket/playing-red-ball-games-will-produce-more-wicket-taking-bowlers-mamatha-maben-on-return-of-women-s-inter-zonal-multi-day-trophy/ar-BB1jffI0",
         "4": "https://www.bing.com/th?id=OVFT.aYgeEJpOLN4o4Uq1KVWC2S&pid=News",
         "5": "News18 on MSN.com",
         "6": "2024-03-03",
         "7": "neutral",
         "index": 15
        },
        {
         "0": "Tim Southee keeps door open for retired Neil Wagner's return after loss in first Test against Australia",
         "1": "New Zealand skipper Tim Southee has indicated that retired pacer Neil Wagner might be called out of retirement for the second Test against Australia. Southee's comments came after New Zealand lost the first Test by 172 runs and debutant pacer Will O'Rourke got injured.",
         "2": "Sports",
         "3": "https://www.msn.com/en-in/sports/other/tim-southee-keeps-door-open-for-retired-neil-wagners-return-after-loss-in-first-test-against-australia/ar-BB1jfk6C",
         "4": "https://www.bing.com/th?id=OVFT.hyeyBiLzUJIJgalxGfmLSS&pid=News",
         "5": "WION on MSN.com",
         "6": "2024-03-03",
         "7": "negative",
         "index": 16
        },
        {
         "0": "\"World Cricket doing everything to make sure West Indies Cricket is never strong again\": CWI CEO Grave",
         "1": "CEO Jonny Grave slammed the International Cricket Council (ICC) for not supporting the board financially and alleging that the world cricket is doing everything in its power to make sure that cricket in the Caribbean is never strong again.",
         "2": "Sports",
         "3": "https://www.msn.com/en-xl/sports/cricket/world-cricket-doing-everything-to-make-sure-west-indies-cricket-is-never-strong-again-cwi-ceo-grave/ar-BB1jfyyv",
         "4": "https://www.bing.com/th?id=OVFT.Z88zUzi6DP_idExsvXB9oC&pid=News",
         "5": "Asian News International on MSN.com",
         "6": "2024-03-03",
         "7": "negative",
         "index": 17
        },
        {
         "0": "BAN vs SL 1st T20I: Sylhet International Cricket Stadium Pitch Report, Weather Forecast, T20 Stats & Records",
         "1": "Bangladesh will host Sri Lanka in the first T20I of the three-match series at the Sylhet International Cricket Stadium in Sylhet on Monday (March 4). The series provide both teams a chance to test their squads before the T20 World Cup 2024 in June.",
         "2": "Sports",
         "3": "https://www.mykhel.com/cricket/ban-vs-sl-1st-t20i-sylhet-stadium-pitch-report-weather-forecast-t20-stats-records-267849.html",
         "4": "https://www.bing.com/th?id=OVFT.BXNqsgw1epLXLwAoqdQ1ki&pid=News",
         "5": "mykhel",
         "6": "2024-03-03",
         "7": "neutral",
         "index": 18
        },
        {
         "0": "UAE Vs Scotland, ICC Men's Cricket World Cup League 2 Live Streaming: When, Where To Watch",
         "1": "After suffering a defeat in their first match against Canada, both wounded teams - the United Arab Emirates and Scotland are gearing up for their first encounter in the ICC Men's Cricket World Cup League 2, scheduled to be held on March 3, Sunday in Dubai.",
         "2": "Sports",
         "3": "https://www.outlookindia.com/sports/cricket/uae-vs-scotland-icc-mens-cricket-world-cup-league-2-live-streaming-when-where-to-watch-squad-and-all-details",
         "4": "https://www.bing.com/th?id=OVFT.3KDHAD_67oR-nYyqZUXiDy&pid=News",
         "5": "Outlookindia",
         "6": "2024-03-02",
         "7": "neutral",
         "index": 19
        },
        {
         "0": "Colosseum cricket",
         "1": "But it was the bludgeoning of Pakistan that established its reputation for unbridled aggression and win-at-all-costs methods Rajkot: England's Ben Duckett with teammate Ben Stokes celebrates scoring 150 runs during the 3rd day of the 3rd cricket test match ...",
         "2": "Sports",
         "3": "https://www.telegraphindia.com/opinion/colosseum-cricket-englands-cricketing-fortunes-improved-after-its-bazball-makeover/cid/2004397",
         "4": "https://www.bing.com/th?id=OVFT.e9AhTj6CYWGHsN9LA6SZXy&pid=News",
         "5": "The Telegraph",
         "6": "2024-03-03",
         "7": "neutral",
         "index": 20
        },
        {
         "0": "Sports analytics may be outnumbered when it comes to artificial intelligence",
         "1": "BOSTON -- When it comes to artificial intelligence, the sports analytics crowd may be outnumbered. The people who killed the sacrifice bunt and turned NBA games into a 3-point shooting contest aren’t quite sure what will happen when AI fully invades sports — whether in the front office or on the field.",
         "2": "Sports",
         "3": "https://www.msn.com/en-us/sports/nba/sports-analytics-may-be-outnumbered-when-it-comes-to-artificial-intelligence/ar-BB1je6WG",
         "4": "https://www.bing.com/th?id=OVFT.b6Krb2Fb-nzoTVQMxGDDyS&pid=News",
         "5": "The Associated Press – Sports on MSN.com",
         "6": "2024-03-02",
         "7": "negative",
         "index": 21
        },
        {
         "0": "Indian Sports LIVE, March 3: News, updates, scores, results and commentary",
         "1": "ESPN BET is operated by PENN Entertainment, Inc. and its subsidiaries ('PENN'). ESPN BET is available in states where PENN is licensed to offer sports wagering. Must be 21+ to wager. If you or someone you know has a gambling problem and wants help, call 1-800-GAMBLER.",
         "2": "Sports",
         "3": "https://www.espn.com/espn/story/_/id/39638377/indian-sports-live-news-updates-scores-results-commentary-sunday-march-3",
         "4": "https://www.bing.com/th?id=OVFT.QsQU136FSylPigS5PxftyS&pid=News",
         "5": "ESPN",
         "6": "2024-03-03",
         "7": "neutral",
         "index": 22
        },
        {
         "0": "Sports world praises LeBron James for reaching 40,000 points",
         "1": "LeBron James extended his all-time scoring record on Saturday by becoming the first NBA player to reach 40,000 regular-season points.",
         "2": "Sports",
         "3": "https://www.msn.com/en-us/sports/nba/sports-world-praises-lebron-james-for-reaching-40000-points/ar-BB1jeTyn",
         "4": "https://www.bing.com/th?id=OVFT.pQK_b7gFlLtMwnxw2ZjgOS&pid=News",
         "5": "ESPN on MSN.com",
         "6": "2024-03-03",
         "7": "neutral",
         "index": 23
        },
        {
         "0": "Brock Badgers men's, women's wrestling teams sweep national championships",
         "1": "The Brock Badgers kicked off the winter U Sports championship season by taking both the men’s and women’s national wrestling titles in Guelph, Ont., on Saturday.",
         "2": "Sports",
         "3": "https://www.cbc.ca/sports/u-sports-wrestling-championships-mar-2-1.7132405",
         "4": "https://www.bing.com/th?id=OVFT.4mbH3CDkRlXSdWBzkiB9wy&pid=News",
         "5": "CBC.ca",
         "6": "2024-03-03",
         "7": "neutral",
         "index": 24
        },
        {
         "0": "Red-hot Islanders’ task: ‘Keep building’ on momentum",
         "1": "The Islanders know they cannot slow down now. And their confidence is at a high after a crushing 5-1 defeat of the Bruins on home ice Saturday night.",
         "2": "Sports",
         "3": "https://www.msn.com/en-us/sports/other/red-hot-islanders-task-keep-building-on-momentum/ar-BB1jfrqR",
         "4": "https://www.bing.com/th?id=OVFT.YiKgWmb_zyvua0bOk0OW0S&pid=News",
         "5": "New York Post on MSN.com",
         "6": "2024-03-03",
         "7": "negative",
         "index": 25
        },
        {
         "0": "Letters to Sports: Readers recognize Helene Elliott and her impact",
         "1": "Readers of the Los Angeles Times Sports section pay tribute to the career of columnist Helene Elliott and weigh in on Mick Cronin's decision making.",
         "2": "Sports",
         "3": "https://www.msn.com/en-us/sports/other/letters-to-sports-readers-recognize-helene-elliott-and-her-impact/ar-BB1jdnTg",
         "4": "https://www.bing.com/th?id=OVFT.4fKr8MXd9OCl71E6ee0d7i&pid=News",
         "5": "Los Angeles Times on MSN.com",
         "6": "2024-03-02",
         "7": "neutral",
         "index": 26
        },
        {
         "0": "D.C. United stages late two-goal comeback to earn draw with Timbers",
         "1": "Facing a 2-0 deficit and playing without star Christian Benteke, who was scratched before kickoff with an injury, United caught a late spark and earned a point in Portland, Ore.",
         "2": "Sports",
         "3": "https://www.msn.com/en-us/sports/other/dc-united-stages-late-two-goal-comeback-to-earn-draw-with-timbers/ar-BB1jf241",
         "4": "https://www.bing.com/th?id=OVFT.S3_KA9AZo1rCOfReobPE4S&pid=News",
         "5": "The Washington Post on MSN.com",
         "6": "2024-03-03",
         "7": "negative",
         "index": 27
        },
        {
         "0": "Dawn Staley helps reunite South Carolina's Kamilla Cardoso with family: 'An incredible moment for all of us'",
         "1": "Kamilla Cardoso has been a breakout star for the undefeated South Carolina Gamecocks. The Brazil native is the team's leading scorer and rebounder.",
         "2": "Sports",
         "3": "https://www.msn.com/en-us/sports/other/dawn-staley-helps-reunite-south-carolinas-kamilla-cardoso-with-family-an-incredible-moment-for-all-of-us/ar-BB1jeM7K",
         "4": "https://www.bing.com/th?id=OVFT.eHKEdUB4TwVFU54KJRnGdi&pid=News",
         "5": "Fox News on MSN.com",
         "6": "2024-03-03",
         "7": "neutral",
         "index": 28
        },
        {
         "0": "When can we expect the last-freeze?",
         "1": "The start of meteorological spring has many people wondering how soon we might be saying “goodbye” to temperatures that dip to at least 32º. Despite the mild winter and a 7-day outlook that doesn’t include a freezing temperature in Chicago,",
         "2": "LifeStyle",
         "3": "https://www.msn.com/en-us/weather/topstories/when-can-we-expect-the-last-freeze/ar-BB1jfoAp",
         "4": "https://www.bing.com/th?id=OVFT.6Eo-KDNQ8-QXBzgx7SFUTi&pid=News",
         "5": "WGN-TV Chicago on MSN.com",
         "6": "2024-03-03",
         "7": "neutral",
         "index": 29
        },
        {
         "0": "Ten examples of sports growing more and more insane",
         "1": "If a team — any pro team — denies anyone — gays, Estonians, atheists, Mao Marxists, transgender NCAA record-breaking swimmers, green-haired grandmothers, Uncle Leo — entry to a game based on their race, sexuality, ethnicity, religion, politics, biological birth or hairdresser, then we’ve reason to devote a game to the specifically oppressed.",
         "2": "Sports",
         "3": "https://www.yahoo.com/news/ten-examples-sports-growing-more-191214428.html",
         "4": "https://www.bing.com/th?id=OVFT.-S--_IJygUZFg61ulQppGS&pid=News",
         "5": "Yahoo",
         "6": "2024-03-02",
         "7": "negative",
         "index": 30
        },
        {
         "0": "Xavier Prep defeats Desert Vista to win girls' Open, the school's first basketball title",
         "1": "Championship banners are everywhere at Phoenix Xavier Prep. In the athletic facilities. In hallways. Down towards the administrative offices. When you have 138 of them, you have to get creative. They’re a reminder of the school’s dominance in just about every sport Arizona offers.",
         "2": "Sports",
         "3": "https://www.usatoday.com/story/sports/high-school/2024/03/02/xavier-prep-beats-desert-vista-to-win-open-claim-first-ever-title/72754011007/",
         "4": "https://www.bing.com/th?id=OVFT.erNM8yxM9bBQKp52MNXUWi&pid=News",
         "5": "USA Today",
         "6": "2024-03-03",
         "7": "neutral",
         "index": 31
        },
        {
         "0": "Christian Horner opens up on ‘testing’ week for wife Geri Halliwell and family",
         "1": "Christian Horner admits the past week has been “testing” for him and his family as he strode into the Bahrain paddock hand-in-hand with wife Geri Halliwell prior to Saturday’s Bahrain Grand Prix.",
         "2": "Sports",
         "3": "https://www.independent.co.uk/f1/christian-horner-geri-halliwell-f1-red-bull-bahrain-b2506120.html",
         "4": "https://www.bing.com/th?id=OVFT.drCd8P758Up2I2d6XDMyIS&pid=News",
         "5": "The Independent",
         "6": "2024-03-03",
         "7": "neutral",
         "index": 32
        },
        {
         "0": "'We cannot recycle our way out of plastic pollution'",
         "1": "Local environmental leaders will discuss the plastic problem Thursday. The public is welcome. The forum is part of IHM's anti-plastics campaign.",
         "2": "LifeStyle",
         "3": "https://news.yahoo.com/cannot-recycle-way-plastic-pollution-084210209.html",
         "4": "https://www.bing.com/th?id=OVFT.S9mxdHTq7B2krZYZgp60Ci&pid=News",
         "5": "YAHOO!News",
         "6": "2024-03-03",
         "7": "positive",
         "index": 33
        },
        {
         "0": "Small detail in America's NRL coverage proves the code has a huge mountain to climb to make an impact in America",
         "1": "The NRL season opener between Manly and South Sydney has been explosive success, but a photo from the match proves that the code has some work to do to make an impact in America.",
         "2": "Sports",
         "3": "https://www.dailymail.co.uk/sport/nrl/article-13150763/Major-League-Rugby-mistake-NRL-Las-Vegas-Souths-Manly.html",
         "4": "https://www.bing.com/th?id=OVFT.A4OaIZkBsJEA-gXFd7PS2y&pid=News",
         "5": "Daily Mail",
         "6": "2024-03-03",
         "7": "neutral",
         "index": 34
        },
        {
         "0": "Hoyas’ 15-point lead fades away in a heartbreaker against Xavier",
         "1": "Georgetown remains winless against the non-DePaul portion of the Big East after Saturday night’s 98-93 defeat at Capital One Arena.",
         "2": "Sports",
         "3": "https://www.msn.com/en-us/sports/other/hoyas-15-point-lead-over-xavier-fades-away-in-yet-another-loss/ar-BB1jeW3n",
         "4": "https://www.bing.com/th?id=OVFT.eaQXYVTGqZvYG5dwAehujy&pid=News",
         "5": "The Washington Post on MSN.com",
         "6": "2024-03-03",
         "7": "negative",
         "index": 35
        },
        {
         "0": "TV tonight: an explosive finale for Vicky McClure in Trigger Point",
         "1": "Bomb disposal officer Lana faces a terrible dilemma. Plus: the excellent Alex Kingston tell’s the story of Frankenstein. Here’s what to watch this evening",
         "2": "LifeStyle",
         "3": "https://www.theguardian.com/tv-and-radio/2024/mar/03/tv-tonight-an-explosive-finale-for-vicky-mcclure-in-trigger-point",
         "4": "https://www.bing.com/th?id=OVFT.rbNRHmRv2AK1DQ71JFooyy&pid=News",
         "5": "The Guardian",
         "6": "2024-03-03",
         "7": "mixed",
         "index": 36
        },
        {
         "0": "Farm heroes, crispy warts and water sports",
         "1": "Thank you for your dispatch on the costs of the Gaza war to the Israeli economy (“How the war in Gaza has hurt Israel’s economy”, World News, last week). I travelled from Hertfordshire to volunteer at",
         "2": "World",
         "3": "https://www.thetimes.co.uk/article/farm-heroes-crispy-warts-and-water-sports-ncgkrvrr2",
         "4": "https://www.bing.com/th?id=OVFT.V6xeFwujoJzWShsrS2oaxC&pid=News",
         "5": "The Times",
         "6": "2024-03-03",
         "7": "positive",
         "index": 37
        },
        {
         "0": "NRL facing uphill battle to conquer the US, but claims a thrilling toehold in Las Vegas",
         "1": "A new sport won't crack the home of the brave overnight and one week of fun and footy in Las Vegas doesn't prove anything. But it was a pretty good start.",
         "2": "Sports",
         "3": "https://www.msn.com/en-au/sport/other/nrl-facing-uphill-battle-to-conquer-the-us-but-claims-a-thrilling-toehold-in-las-vegas/ar-BB1jfcil",
         "4": "https://www.bing.com/th?id=OVFT.2iGJ8HodTYsp4EpV6Svkai&pid=News",
         "5": "Australian Broadcasting Corporation on MSN.com",
         "6": "2024-03-03",
         "7": "positive",
         "index": 38
        },
        {
         "0": "Aging Bridge Is a Flashpoint in Competitive Washington State House Race",
         "1": "Representative Marie Gluesenkamp Perez is running on fixing one of the busiest bridges in the region. Her far-right opponent calls it an “Antifa superhighway.”",
         "2": "Politics",
         "3": "https://www.nytimes.com/2024/03/03/us/politics/aging-bridge-is-a-flashpoint-in-competitive-washington-state-house-race.html",
         "4": "https://www.bing.com/th?id=OVFT.Q2sz2wpfceQW1RWlboqs-i&pid=News",
         "5": "The New York Times",
         "6": "2024-03-03",
         "7": "neutral",
         "index": 39
        },
        {
         "0": "10Bet Cheltenham Offers: Latest Promos Ahead of the Cheltenham Festival 2024",
         "1": "10Bet's mix of Cheltenham Festival betting offers for 2024 makes them one of the best betting sites to consider for the big meeting. They have catered to both new and existing customers with their Cheltenham betting promos and their Acca Boost up to 100% offer is a valuable one to have with so much action across the four-day festival.",
         "2": "ScienceAndTechnology",
         "3": "https://www.independent.co.uk/betting/cheltenham-festival/10bet-cheltenham-offer",
         "4": "https://www.bing.com/th?id=OVFT.5Vuslqje12mJEn_5VDtM9C&pid=News",
         "5": "The Independent",
         "6": "2024-03-03",
         "7": "positive",
         "index": 40
        },
        {
         "0": "Is It Too Late to Buy Nvidia Stock?",
         "1": "A closer look at the company's forward multiples tells us that it may be a good idea to buy Nvidia right away.",
         "2": "ScienceAndTechnology",
         "3": "https://finance.yahoo.com/news/too-buy-nvidia-stock-084700090.html?fr=sycsrp_catchall",
         "4": "https://www.bing.com/th?id=OVFT.2BYBN1JwErA54iu3swVeXC&pid=News",
         "5": "YAHOO!Finance",
         "6": "2024-03-03",
         "7": "neutral",
         "index": 41
        },
        {
         "0": "Betting offer for Manchester City vs Manchester United: Enhanced odds",
         "1": "Claim this BoyleSports betting offer to get £30 in bonuses and enhanced odds on the Premier League match between Manchester City and Manchester United",
         "2": "Sports",
         "3": "https://www.telegraph.co.uk/betting/football/manchester-city-vs-manchester-united-free-bet-boylesports/",
         "4": "https://www.bing.com/th?id=OVFT.UgyUEvIDCOUPcsYlrfQ57S&pid=News",
         "5": "The Daily Telegraph",
         "6": "2024-03-03",
         "7": "neutral",
         "index": 42
        },
        {
         "0": "2024 Sarasota STRIVE Award Student Stories: Tashaun Bryant",
         "1": "A high school senior and 2024 recipient of a STRIVE Award, Tashaun has made an unlikely journey to Sarasota Military Academy.",
         "2": "LifeStyle",
         "3": "https://news.yahoo.com/2024-sarasota-strive-award-student-090239677.html",
         "4": "https://www.bing.com/th?id=OVFT.foPopeO9I9TlUs4pIxXwoy&pid=News",
         "5": "YAHOO!News",
         "6": "2024-03-03",
         "7": "neutral",
         "index": 43
        },
        {
         "0": "Polls open for Shreveport Times Student of Week voting: March 3-7",
         "1": "Which of these seven talented North Louisiana students will be chosen as the first Shreveport Times Student of the Week? You decide. Vote now!",
         "2": "LifeStyle",
         "3": "https://news.yahoo.com/polls-open-shreveport-times-student-110727459.html",
         "4": "https://www.bing.com/th?id=OVFT.goW_5GeM4-hX4vDf1DYxyC&pid=News",
         "5": "YAHOO!News",
         "6": "2024-03-03",
         "7": "neutral",
         "index": 44
        },
        {
         "0": "Check Out The Music Video Of The Latest Hindi Song Kende Ne Naina Sung By Vishal Mishra",
         "1": "Enjoy the latest Hindi song Kende Ne Naina sung by Vishal Mishra. The music for this captivating track has been composed by Rochak Kohli. Don't miss the opportunity to watch the latest Hindi video song Kende Ne Naina by Vishal Mishra and immerse yourself in its mesmerizing melodies.",
         "2": "LifeStyle",
         "3": "https://timesofindia.indiatimes.com/videos/entertainment/music/hindi/check-out-the-music-video-of-the-latest-hindi-song-kende-ne-naina-sung-by-vishal-mishra/videoshow/108177772.cms",
         "4": "https://www.bing.com/th?id=OVFT.NBTYJ2rHSKvwuzIZ-bUMYC&pid=News",
         "5": "Indiatimes",
         "6": "2024-03-03",
         "7": "positive",
         "index": 45
        },
        {
         "0": "Check Out The Music Video Of The Latest Punjabi Song Dil Darian Sung By Kambi Rajpuria",
         "1": "Enjoy the latest Punjabi song Dil Darian sung by Kambi Rajpuria. The music for this captivating track has been composed by Ricky Khan. Don't miss the opportunity to watch the latest Punjabi video song Dil Darian by Kambi Rajpuria and immerse yourself in its mesmerizing melodies.",
         "2": "LifeStyle",
         "3": "https://timesofindia.indiatimes.com/videos/entertainment/music/punjabi/check-out-the-music-video-of-the-latest-punjabi-song-dil-darian-sung-by-kambi-rajpuria/videoshow/108178124.cms",
         "4": "https://www.bing.com/th?id=OVFT.cbbjgwxlnG04Mjpqtp8ZEy&pid=News",
         "5": "Indiatimes",
         "6": "2024-03-03",
         "7": "positive",
         "index": 46
        },
        {
         "0": "Raye: Singer-songwriter makes history winning six Brit Awards",
         "1": "It was Raye's night as she made history at the Brit Awards, winning six of the seven prizes she was nominated for - beating Blur, Adele and Harry Styles' record four wins at a single ceremony. She is also the first woman to win songwriter of the year.",
         "2": "Entertainment",
         "3": "https://www.bbc.co.uk/news/entertainment-arts-68458922",
         "4": "https://www.bing.com/th?id=OVFT.aNFpkeTfQXgDzqhhBw5uRi&pid=News",
         "5": "BBC",
         "6": "2024-03-03",
         "7": "neutral",
         "index": 47
        },
        {
         "0": "Dua Lipa sends temperatures soaring in sexy red lingerie as she joins abs-flashing Billie Piper at Warner Music's star-studded BRITs afterparty",
         "1": "The singer, 28, who bagged the Best Pop Act gong and performed on stage, looked nothing short of incredible as she let her hair down in a sexy red lingerie inspired ensemble.",
         "2": "Entertainment",
         "3": "https://www.dailymail.co.uk/tvshowbiz/article-13150385/Dua-Lipa-Billie-Piper-Brits-afterparty.html",
         "4": "https://www.bing.com/th?id=OVFT.aNpluipPLWr4fgsNmMwMsC&pid=News",
         "5": "Daily Mail",
         "6": "2024-03-03",
         "7": "positive",
         "index": 48
        },
        {
         "0": "Maya Jama looks sensational in a racy sheer dress as she holds hands with busty AJ Odudu leaving Warner Music's Brit Awards afterparty",
         "1": "Maya Jama looked sensational in a racy sheer dress as she held hands with busty AJ Odudu leaving Warner Music's Brit Awards afterparty on Saturday night.",
         "2": "Entertainment",
         "3": "https://www.dailymail.co.uk/tvshowbiz/article-13151183/Maya-Jama-looks-sensational-racy-sheer-dress-holds-hands-busty-AJ-Odudu-leaving-Warner-Musics-Brit-Awards-afterparty.html",
         "4": "https://www.bing.com/th?id=OVFT.AuZX5nNxzzqiLo3E5mOFkC&pid=News",
         "5": "Daily Mail",
         "6": "2024-03-03",
         "7": "neutral",
         "index": 49
        },
        {
         "0": "Books of the month: From Kazuo Ishiguro’s song lyrics to Family Politics by John O’Farrell",
         "1": "An attention-grabbingly titled debut novel from playwright Anoushka Warden, Peter Pomerantsev’s intriguing study of a genius propagandist who outwitted Hitler, and an important study of the distorted",
         "2": "Entertainment",
         "3": "https://www.independent.co.uk/arts-entertainment/books/features/books-march-releases-bestsellers-b2503870.html",
         "4": "https://www.bing.com/th?id=OVFT.jwkq6657UtxZK-jjjvoAgi&pid=News",
         "5": "The Independent",
         "6": "2024-03-03",
         "7": "positive",
         "index": 50
        },
        {
         "0": "No Twerking. No Drinking. No Smoking. but It's Still a Party at This Christian Nightclub",
         "1": "The young crowd at a Nashville nightclub was ready to dance under the strobe lights to a throbbing mix of hip-hop, rap and Latin beats. But first they gathered to pray and praise God. The rules were announced on the dance floor by a mic-carrying emcee to more than 200 clubgoers blanketed by thick smoke machine fog: ”Rule No.",
         "2": "LifeStyle",
         "3": "https://www.msn.com/en-us/entertainment/news/a-christian-pop-up-nightclub-in-nashville-plays-jesus-rap-and-forbids-twerking-drinking-and-smoking/ar-BB1jeDLc",
         "4": "https://www.bing.com/th?id=OVFT.iRXlTD87QDCQuB6DTC-caC&pid=News",
         "5": "Business Insider on MSN.com",
         "6": "2024-03-02",
         "7": "neutral",
         "index": 51
        },
        {
         "0": "Gloucester young people talk about knife crime on hip-hop album",
         "1": "The group launched its album at Gloucester Cathedral on Friday. A group has created a music album which they say challenges the stereotypes of young people while raising awareness",
         "2": "Entertainment",
         "3": "https://www.msn.com/en-us/entertainment/news/young-people-talk-about-knife-crime-on-hip-hop-album/ar-BB1jfiw9",
         "4": "https://www.bing.com/th?id=OVFT.kBIqzQyzEdLJrR9_6wYIKS&pid=News",
         "5": "BBC on MSN.com",
         "6": "2024-03-03",
         "7": "neutral",
         "index": 52
        },
        {
         "0": "YouTube Music team laid off by Google while workers testified to Austin City Council about working conditions",
         "1": "Some workers learned of the YouTube Music layoffs while testifying to the Austin city council about Google's refusal to negotiate with the union.",
         "2": "ScienceAndTechnology",
         "3": "https://www.msn.com/en-us/money/companies/youtube-music-team-laid-off-by-google-while-workers-testified-to-austin-city-council-about-working-conditions/ar-BB1jetUk",
         "4": "https://www.bing.com/th?id=OVFT.afLmGGokT-qfEr1XKi_YGS&pid=News",
         "5": "Business Insider on MSN.com",
         "6": "2024-03-02",
         "7": "negative",
         "index": 53
        },
        {
         "0": "Elle King Delivers First Performance Since Drunken Grand Ole Opry Incident at Arizona Music Festival",
         "1": "Elle King returned to the stage for the first time since she performed in a Dolly Parton tribute held by the Grand Ole Opry at Nashville's Ryman Auditorium while admittedly drunk. On Friday, the country singer played at Extra Innings Festival in Tempe,",
         "2": "Entertainment",
         "3": "https://www.msn.com/en-us/music/celebrity/elle-king-delivers-first-performance-since-drunken-grand-ole-opry-incident-at-arizona-music-festival/ar-BB1jeENS",
         "4": "https://www.bing.com/th?id=OVFT.M8J6sP6br4B0X6Lw-_a4ey&pid=News",
         "5": "People on MSN.com",
         "6": "2024-03-03",
         "7": "neutral",
         "index": 54
        },
        {
         "0": "Elle King makes her first return to the stage since her drunken Dolly Parton birthday tribute performance",
         "1": "The singer performed at Arizona’s Extra Innings Festival in her first show since the controversial incident at the Nashville’s Grand Ole Opry in January.",
         "2": "Entertainment",
         "3": "https://www.msn.com/en-us/music/celebrity/elle-king-makes-her-first-return-to-the-stage-since-her-drunken-dolly-parton-birthday-tribute-performance/ar-BB1jeZ8k",
         "4": "https://www.bing.com/th?id=OVFT.jDxeKvSx_09RlsBwf6nvni&pid=News",
         "5": "FOX News on MSN.com",
         "6": "2024-03-03",
         "7": "neutral",
         "index": 55
        },
        {
         "0": "BRIT Awards: Raye sets record at Britain's pop music honours",
         "1": "Singer-songwriter Raye was the big winner at the BRIT Awards, the biggest night in British music, on Saturday, setting a new record for most prizes in one night at the annual ceremony. Raye won six awards,",
         "2": "Entertainment",
         "3": "https://www.msn.com/en-us/music/news/brit-awards-raye-sets-record-at-britain-s-pop-music-honours/ar-BB1jeDnx",
         "4": "https://www.bing.com/th?id=OVFT.l87Gc6DJUoZOmY9ox-_oGi&pid=News",
         "5": "Reuters on MSN.com",
         "6": "2024-03-02",
         "7": "neutral",
         "index": 56
        },
        {
         "0": "Kacey Musgraves Performs Barefoot on “Saturday Night Live, ”Rocks 2 Stylish Blue Looks",
         "1": "Kacey Musgraves' Saturn has returned — to Saturday Night Live! For her third time as musical guest on the sketch comedy show, Musgraves, 35, took the stage to perform two tracks",
         "2": "Entertainment",
         "3": "https://www.msn.com/en-us/music/news/kacey-musgraves-performs-barefoot-on-saturday-night-live-rocks-2-stylish-blue-looks/ar-BB1jfBDe",
         "4": "https://www.bing.com/th?id=OVFT.VizLlYliSonoARTFGJaIgi&pid=News",
         "5": "People on MSN.com",
         "6": "2024-03-03",
         "7": "neutral",
         "index": 57
        },
        {
         "0": "Music's Biggest Night in Britain Is Here! See All the Stars Arriving at the 2024 BRIT Awards",
         "1": "The 2024 BRIT Awards kicked off on Saturday evening in London, with celebrities hitting the red carpet at the city's famed O2 Arena. Before they dazzle on stage, see Dua Lipa, Kylie Minogue, Tate McRae and more singing stars arriving at the 2024 BRIT Awards.",
         "2": "Entertainment",
         "3": "https://www.msn.com/en-us/music/news/musics-biggest-night-in-britain-is-here-see-all-the-stars-arriving-at-the-2024-brit-awards/ar-BB1je7d9",
         "4": "https://www.bing.com/th?id=OVFT.-e7bU2DHmf2MIR3JoXJhUS&pid=News",
         "5": "People on MSN.com",
         "6": "2024-03-02",
         "7": "neutral",
         "index": 58
        },
        {
         "0": "Being a female runner shouldn't be dangerous. Laken Riley's death reminds us it is.",
         "1": "Laken’s death has reignited the conversation that began in the wake of Eliza Fletcher’s kidnapping and murder nearly two years ago about the dangers female runners face. Fletcher was a teacher who was abducted while on a morning run near the University of Memphis.",
         "2": "LifeStyle",
         "3": "https://www.msn.com/en-us/news/opinion/being-a-female-runner-shouldnt-be-dangerous-laken-rileys-death-reminds-us-it-is/ar-BB1jftL1",
         "4": "https://www.bing.com/th?id=OVFT.NuUEpQzPSZtam-wTULH62i&pid=News",
         "5": "USA Today on MSN.com",
         "6": "2024-03-03",
         "7": "negative",
         "index": 59
        },
        {
         "0": "A veteran Republican operative relocated to Kyiv — he says Ukraine can win the war",
         "1": "Steven Moore, a Capitol Hill veteran, says he is now \"doing the right thing\" in helping Ukraine's war effort.",
         "2": "Politics",
         "3": "https://www.msn.com/en-us/news/world/a-veteran-republican-operative-relocated-to-kyiv-he-says-ukraine-can-win-the-war/ar-BB1jfxoS",
         "4": "https://www.bing.com/th?id=OVFT.xt6mUXKHPbO0n9EU1YaidS&pid=News",
         "5": "Business Insider on MSN.com",
         "6": "2024-03-03",
         "7": "neutral",
         "index": 60
        },
        {
         "0": "Louis Sarkozy: ‘I went from the Elysée Palace to a dirty barrack room in Pennsylvania – thank God’",
         "1": "The former French president’s son has paused his military career to write a book about Napoleon – and thinks Ridley Scott’s film is ‘trash’",
         "2": "World",
         "3": "https://www.msn.com/en-us/news/world/louis-sarkozy-i-went-from-the-elys%C3%A9e-palace-to-a-dirty-barrack-room-in-pennsylvania-thank-god/ar-BB1jf6WG",
         "4": "https://www.bing.com/th?id=OVFT.qljpA6Bg6FKtm-MY0bn0Cy&pid=News",
         "5": "The Daily Telegraph on MSN.com",
         "6": "2024-03-03",
         "7": "negative",
         "index": 61
        },
        {
         "0": "The ‘subversive spirituality’ of Bob Marley is still being overlooked",
         "1": "A hit movie has cast reggae superstar Bob Marley back into the spotlight. But it also overlooks a key to Marley’s legacy: To him, his Bible was as important as his guitar. Marley’s subversive spirituality was central to his life and music,",
         "2": "Entertainment",
         "3": "https://www.msn.com/en-us/news/world/the-subversive-spirituality-of-bob-marley-is-still-being-overlooked/ar-BB1jfq0t",
         "4": "https://www.bing.com/th?id=OVFT.4Uxlxfxuasvx4JNpcFYHaS&pid=News",
         "5": "CNN on MSN.com",
         "6": "2024-03-03",
         "7": "neutral",
         "index": 62
        },
        {
         "0": "Where Old Vegas is still alive today",
         "1": "Finally, the most recognizable throwback to Old Vegas might be the neon “Welcome to Fabulous Las Vegas” sign at the south end of the Las Vegas Strip near Mandalay Bay Resort & Casino. Betty Willis designed the sign back in 1959, and YESCO owns it today. It was added to the National Register of Historic Places in 2009.",
         "2": "LifeStyle",
         "3": "https://www.msn.com/en-us/travel/news/where-old-vegas-is-still-alive-today/ar-BB1jf9Qg",
         "4": "https://www.bing.com/th?id=OVFT.25H96ag35n6q1Pr3KrOgoC&pid=News",
         "5": "CNN on MSN.com",
         "6": "2024-03-03",
         "7": "neutral",
         "index": 63
        },
        {
         "0": "Martin Bayfield: Six Nations must stay on free to air TV – but coverage needs to improve",
         "1": "Former England second row who has worked as a reporter for BBC, ITV, BT Sport and TNT believes the tournament isn’t being properly projected",
         "2": "Sports",
         "3": "https://www.msn.com/en-us/tv/news/martin-bayfield-six-nations-must-stay-on-free-to-air-tv-but-coverage-needs-to-improve/ar-BB1jfkcd",
         "4": "https://www.bing.com/th?id=OVFT.lwUkMRHVW3dtLs3ADnYF6y&pid=News",
         "5": "The Daily Telegraph on MSN.com",
         "6": "2024-03-03",
         "7": "negative",
         "index": 64
        },
        {
         "0": "Raye’s record-breaking Brits defied the limited imaginations of the British music industry",
         "1": "Raye’s six Brit awards marked a huge vindication for the newly independent artist and rightly shamed the major label that apparently couldn’t see her potential",
         "2": "Entertainment",
         "3": "https://www.theguardian.com/music/2024/mar/02/rayes-record-breaking-brits-defied-the-limited-imaginations-of-the-british-music-industry",
         "4": "https://www.bing.com/th?id=OVFT.Izw8m744T-wOfMfxGv8GmS&pid=News",
         "5": "The Guardian",
         "6": "2024-03-02",
         "7": "negative",
         "index": 65
        },
        {
         "0": "Brit awards 2024: A blushing music industry eats humble pie",
         "1": "Who should win and who will win? The Times chief rock and pop critic Will Hodgkinson reviews this year’s nominees",
         "2": "Entertainment",
         "3": "https://www.thetimes.co.uk/article/brit-awards-2024-winners-full-list-ggghgz33z",
         "4": "https://www.bing.com/th?id=OVFT.ssb-nkJtXm26PE5fmUsAxS&pid=News",
         "5": "The Times",
         "6": "2024-03-02",
         "7": "neutral",
         "index": 66
        },
        {
         "0": "The latest on the Israel-Hamas war",
         "1": "Israeli Prime Minister Benjamin Netanyahu has directed the military to prepare to evacuate over 1 million Palestinians from the southern Gaza city of Rafah ahead of a ground operation. Follow for live updates.",
         "2": "World",
         "3": "https://edition.cnn.com/middleeast/live-news/israel-hamas-war-gaza-news-02-10-24/h_cd8908900541adca9751bf5a3ddd9bdd",
         "4": "https://www.bing.com/th?id=OVFT.BjPWSlzcbo7HCTwmyOxxUy&pid=News",
         "5": "CNN",
         "6": "2024-02-10",
         "7": "neutral",
         "index": 67
        },
        {
         "0": "News Flash: Analysts Just Made A Sizeable Upgrade To Their Vanda Pharmaceuticals Inc. (NASDAQ:VNDA) Forecasts",
         "1": "Celebrations may be in order for Vanda Pharmaceuticals Inc. (NASDAQ:VNDA) shareholders, with the covering analyst delivering a significant upgrade to their statutory estimates for the company. The consensus statutory numbers for both revenue and earnings per share (EPS) increased,",
         "2": "ScienceAndTechnology",
         "3": "https://finance.yahoo.com/news/news-flash-analysts-just-made-124256245.html",
         "4": "https://www.bing.com/th?id=OVFT.7S2v6t5ALCHoDA6DLmT-ES&pid=News",
         "5": "YAHOO!Finance",
         "6": "2024-02-10",
         "7": "neutral",
         "index": 68
        },
        {
         "0": "Six Nations 2024: England vs Wales match preview, team news, kick-off time & BBC coverage",
         "1": "Match preview, team news, BBC coverage, standings and statistics for Saturday's Six Nations match between England and Wales at Twickenham.",
         "2": "Sports",
         "3": "https://www.bbc.co.uk/sport/rugby-union/68185927",
         "4": "https://www.bing.com/th?id=OVFT.qCGwjb_G0SzAlZjuKfuiPy&pid=News",
         "5": "BBC",
         "6": "2024-02-10",
         "7": "neutral",
         "index": 69
        },
        {
         "0": "New York Times editorial board demands Biden ‘do better’ in defending his memory, fitness for office",
         "1": "The New York Times editorial board trashed President Biden's Thursday press conference in which he tried to reassure Americans he is mentally fit. It claimed the move \"didn't work\"",
         "2": "Politics",
         "3": "https://www.foxnews.com/media/new-york-times-editorial-board-demands-biden-do-better-defending-memory-fitness-office",
         "4": "https://www.bing.com/th?id=OVFT.nGHW_CIPXX6ke-JC9OkHny&pid=News",
         "5": "Fox News",
         "6": "2024-02-10",
         "7": "negative",
         "index": 70
        },
        {
         "0": "King Charles cancer – latest: Monarch makes first statement since diagnosis as Will ‘upset’ with Harry",
         "1": "Prince William has returned to royal duties after stepping back for several weeks to care for his wife after she underwent abdominal surgery",
         "2": "Entertainment",
         "3": "https://www.msn.com/en-gb/health/other/king-charles-cancer-latest-william-upset-at-harry-s-pr-stunt-as-key-update-issued-on-kate-s-recovery/ar-BB1hOvJf",
         "4": "https://www.bing.com/th?id=OVFT.rGsHS-NsYVdk7JjfUGbSLy&pid=News",
         "5": "The Independent on MSN.com",
         "6": "2024-02-10",
         "7": "neutral",
         "index": 71
        },
        {
         "0": "Australia news live: Coalition will oppose vehicle emission standards that increase prices of popular cars, Taylor says",
         "1": "Follow the day’s news live",
         "2": "LifeStyle",
         "3": "https://www.msn.com/en-gb/news/uknews/australia-news-live-coalition-will-oppose-vehicle-emission-standards-that-increase-prices-of-popular-cars-taylor-says/ar-BB1i5zYD",
         "4": "https://www.bing.com/th?id=OVFT._VmYfzX-QB7baMCZagQYly&pid=News",
         "5": "The Guardian on MSN.com",
         "6": "2024-02-11",
         "7": "neutral",
         "index": 72
        },
        {
         "0": "Ireland v Italy, Six Nations 2024: Kick-off time, how to watch and latest news",
         "1": "Ireland and Italy face each other on Sunday, February 11. The match kicks off at 3pm GMT. The Aviva Stadium in Dublin. A ground at which the Azzurri have never won. The match will be broadcast live on ITV1 and ITVX in the UK. In the Republic of Ireland, Virgin Media have the rights for the live broadcast.",
         "2": "Sports",
         "3": "https://www.msn.com/en-gb/sport/other/ireland-v-italy-six-nations-2024-kick-off-time-how-to-watch-and-latest-news/ar-BB1i4hzO",
         "4": "https://www.bing.com/th?id=OVFT.N_3-sp2XhHZf5gORfWzy9y&pid=News",
         "5": "The Daily Telegraph on MSN.com",
         "6": "2024-02-10",
         "7": "negative",
         "index": 73
        },
        {
         "0": "New Mexico Budget Bill Would Found Literacy Institute, Propel Housing Construction and Conservation",
         "1": "New Mexico’s strategy for spending and investing a multibillion-dollar annual surplus linked closely to oil production has come into sharper focus",
         "2": "Politics",
         "3": "https://www.msn.com/en-us/money/realestate/new-mexico-budget-bill-would-found-literacy-institute-propel-housing-construction-and-conservation/ar-BB1i5Dlz",
         "4": "https://www.bing.com/th?id=OVFT.LQBFjyuPAxQCv8FPnt7-1i&pid=News",
         "5": "The Associated Press on MSN.com",
         "6": "2024-02-11",
         "7": "neutral",
         "index": 74
        },
        {
         "0": "Scotland v France, Six Nations 2024: Kick-off time today, how to watch and latest news",
         "1": "France head to Edinburgh on the back of a crushing 38-17 home defeat against Six Nations title and Grand Slam favourites Ireland. It followed their shattering World Cup quarter-final loss to South Africa,",
         "2": "Sports",
         "3": "https://www.msn.com/en-us/news/world/scotland-v-france-six-nations-2024-kick-off-time-today-how-to-watch-and-latest-news/ar-BB1i18iu",
         "4": "https://www.bing.com/th?id=OVFT.H_bNkaoWtGCq5FgxkJpvyC&pid=News",
         "5": "The Telegraph on MSN.com",
         "6": "2024-02-10",
         "7": "negative",
         "index": 75
        },
        {
         "0": "What is the Super Bowl spread? Latest point spread for 49ers vs. Chiefs",
         "1": "Super Bowl in just over 24 hours, betting odds paint a clear picture. Here is the latest point spread and Vegas betting odds.",
         "2": "Sports",
         "3": "https://www.msn.com/en-us/sports/nfl/what-is-the-super-bowl-spread-latest-point-spread-for-49ers-vs-chiefs/ar-BB1i5v5f",
         "4": "https://www.bing.com/th?id=OVFT.ylSoWMBa4MbOPECLjMAsYy&pid=News",
         "5": "USA Today on MSN.com",
         "6": "2024-02-10",
         "7": "neutral",
         "index": 76
        },
        {
         "0": "European soccer news: Madrid outclass Girona, Leverkusen defeat Bayern",
         "1": "Real Madrid send a statement win to Girona while Bayer Leverkusen defeat Bayern Munich to continue to defy the odds in the Bundesliga. Here's what you missed in European soccer.",
         "2": "Sports",
         "3": "https://www.msn.com/en-us/sports/soccer/european-soccer-news-madrid-outclass-girona-leverkusen-defeat-bayern/ar-BB1i5SpE",
         "4": "https://www.bing.com/th?id=OVFT.1wbfGL38kkyres1xudGdsS&pid=News",
         "5": "ESPN on MSN.com",
         "6": "2024-02-11",
         "7": "neutral",
         "index": 77
        },
        {
         "0": "It’s a brand new route on the world’s most famous train – but it’ll cost you $8,500 one way",
         "1": "In travel news this week, a European airline is weighing passengers before takeoff, the new luxury train trip that costs $8,500 one way, and how Ukraine keeps its railways running, two years into the war.",
         "2": "LifeStyle",
         "3": "https://www.msn.com/en-us/travel/news/it-s-a-brand-new-route-on-the-world-s-most-famous-train-but-it-ll-cost-you-8500-one-way/ar-BB1i56QW",
         "4": "https://www.bing.com/th?id=OVFT.wMFk1sBsI3YwpWIM4NzkNS&pid=News",
         "5": "CNN on MSN.com",
         "6": "2024-02-10",
         "7": "negative",
         "index": 78
        },
        {
         "0": "New vintage boutique opens in Downtown El Paso",
         "1": "The El Paso Downtown Management District is hosting a grand-opening celebration Saturday, Feb. 10, marking the official inauguration of Pineapple Vintage in Downtown El Paso. The celebration started at noon with a ribbon-cutting celebration,",
         "2": "LifeStyle",
         "3": "https://www.msn.com/en-us/travel/news/new-vintage-boutique-opens-in-downtown-el-paso/ar-BB1i5RtN",
         "4": "https://www.bing.com/th?id=OVFT.RQvhCtfbUWI9U2b3flzTwy&pid=News",
         "5": "KTSM El Paso on MSN.com",
         "6": "2024-02-10",
         "7": "neutral",
         "index": 79
        },
        {
         "0": "WWE Star Daria Berenato Marries Toni Cassano in New Jersey Wedding Officiated by Maria Menounos (Exclusive)",
         "1": "WWE star Daria Berenato and fitness model Toni Cassano tied the knot on Feb. 10 in an elegant ceremony at the Legacy Castle in New Jersey in front of 140 guests.",
         "2": "LifeStyle",
         "3": "https://www.msn.com/en-us/tv/celebrity/wwe-star-daria-berenato-marries-toni-cassano-in-new-jersey-wedding-officiated-by-maria-menounos-exclusive/ar-BB1i5MS8",
         "4": "https://www.bing.com/th?id=OVFT.Uf1PpdBMv2QSYmMztUz_BC&pid=News",
         "5": "People on MSN.com",
         "6": "2024-02-11",
         "7": "neutral",
         "index": 80
        },
        {
         "0": "The best new popular fiction for February 2024 — Oh no! My dad’s a sperm donor",
         "1": "Lena’s gift forces her dad, Tom, to admit that he isn’t their biological father — Lena and Alison were donor-conceived, a secret he’d hoped to take to his grave. Alison, who’s trying to start a family with her wife,",
         "2": "Entertainment",
         "3": "https://www.thetimes.co.uk/article/bfda7b32-ebd5-467a-9c9d-1cd0a245750b?shareToken=d890d0be5d05de6f3f47fa9a10e3cdb3",
         "4": "https://www.bing.com/th?id=OVFT.QWr9Akj_iWRBZ9giCWg25i&pid=News",
         "5": "The Times",
         "6": "2024-02-10",
         "7": "neutral",
         "index": 81
        }
       ],
       "schema": [
        {
         "key": "0",
         "name": "title",
         "type": "string"
        },
        {
         "key": "1",
         "name": "description",
         "type": "string"
        },
        {
         "key": "2",
         "name": "category",
         "type": "string"
        },
        {
         "key": "3",
         "name": "url",
         "type": "string"
        },
        {
         "key": "4",
         "name": "image",
         "type": "string"
        },
        {
         "key": "5",
         "name": "provider",
         "type": "string"
        },
        {
         "key": "6",
         "name": "datePublished",
         "type": "date"
        },
        {
         "key": "7",
         "name": "sentiment",
         "type": "string"
        }
       ],
       "truncated": false
      }
     },
     "type": "Synapse.DataFrame"
    },
    "661894f8-094e-47ae-beb5-3813798a49a0": {
     "persist_state": {
      "view": {
       "chartOptions": {
        "aggregationType": "count",
        "binsNumber": 10,
        "categoryFieldKeys": [
         "2"
        ],
        "chartType": "bar",
        "isStacked": false,
        "seriesFieldKeys": [
         "0"
        ],
        "wordFrequency": "-1"
       },
       "tableOptions": {},
       "type": "details"
      }
     },
     "sync_state": {
      "isSummary": false,
      "language": "scala",
      "table": {
       "rows": [
        {
         "0": "Charismatic Mithun Manhas changes shape of J&K cricket",
         "1": "Jammu, Mar 02: Mithun Manhas is a familiar name not only in J&K cricket but also in the entire cricketing world, especially at the domestic circuit of Indian cricket. He has scored around 10,000 runs in 157 matches of First Class Cricket with 27 centuries ...",
         "2": "Sports",
         "3": "http://www.risingkashmir.in/charismatic-mithun-manhas-changes-shape-of-jk-cricket",
         "4": "https://www.bing.com/th?id=OVFT.OjpOTfqMNa6cu1uvtpSWTS&pid=News",
         "5": "Rising Kashmir",
         "6": "03-Mar-2024",
         "7": "neutral",
         "index": 1
        },
        {
         "0": "'Drivers were watching cricket match': Railway minister on what caused last year's Andhra accident",
         "1": "Railway Minister Ashwini Vaishnaw revealed that the driver and assistant driver of a passenger train involved in a fatal collision in Andhra Pradesh were watching a cricket match on their phones. The incident, which occurred on October 29, 2023 ...",
         "2": "LifeStyle",
         "3": "https://economictimes.indiatimes.com/industry/transportation/railways/drivers-were-watching-cricket-match-railway-minister-on-what-caused-last-years-andhra-accident/articleshow/108178092.cms",
         "4": "https://www.bing.com/th?id=OVFT.Y3A9NrUP1crns6kKN0xqnC&pid=News",
         "5": "Indiatimes",
         "6": "03-Mar-2024",
         "7": "negative",
         "index": 2
        },
        {
         "0": "GUJ-W vs DC-W: Check our Fantasy Cricket Prediction, Tips, Playing Team Picks for Women’s Premier League 2024, Match 10 on March 3rd",
         "1": "Gujarat Giants Women will be up against Delhi Capitals Women in the 10th match of the Women’s Premier League 2024 on Sunday. Gujarat Giants are enduring a horrific run at the moment, losing 3 matches on the trot.",
         "2": "Sports",
         "3": "https://in.ign.com/dream-11-fantasy-gaming/203118/news/guj-w-vs-dc-w-check-our-fantasy-cricket-prediction-tips-playing-team-picks-for-womens-premier-league",
         "4": "https://www.bing.com/th?id=OVFT.QMbbuuT1eUBzsliLSESJNi&pid=News",
         "5": "IGN",
         "6": "03-Mar-2024",
         "7": "negative",
         "index": 3
        },
        {
         "0": "Meet Indian cricket’s 17th Man – son of an influential father and misfit in dressing room",
         "1": "Indian domestic circuit is replete with unwanted, unasked extra hands forced on the team by some compromised administrator",
         "2": "Sports",
         "3": "https://indianexpress.com/article/sports/cricket/meet-indian-crickets-17th-man-son-of-an-influential-father-and-misfits-in-dressing-room-9191386/",
         "4": "https://www.bing.com/th?id=OVFT.iZimGpdlE_a14QQYRDd3Ci&pid=News",
         "5": "The Indian Express",
         "6": "02-Mar-2024",
         "7": "negative",
         "index": 4
        },
        {
         "0": "IVPL: Cricket Fever Peaks In Greater Noida As VVIP UP And Mumbai Champions Brace For Finals",
         "1": "Negi also lauded the quality of cricket being played in IVPL. \"We are extremely excited about the finals as a team. We're all very happy and we will try our best to win tomorrow. My experience with IVPL has been pretty amazing. The quality of cricket here ...",
         "2": "Sports",
         "3": "https://www.cricketnmore.com/cricket-news/ivpl-cricket-fever-peaks-in-greater-noida-as-vvip-up-and-mumbai-champions-brace-for-finals-139515",
         "4": "https://www.bing.com/th?id=OVFT.SuDSUAbDowXTZFiXZITiOy&pid=News",
         "5": "Cricketnmore",
         "6": "03-Mar-2024",
         "7": "positive",
         "index": 5
        },
        {
         "0": "Aussie cricket in shock as terrible incident could spell the end of star's career - and he's only 26",
         "1": "The future of Will Pucovski is again up in the air after the star batter suffered another knock to the head while batting during Victoria's Sheffield Shield clash with Tasmania in Hobart.",
         "2": "Sports",
         "3": "https://www.dailymail.co.uk/sport/cricket/article-13150891/Will-Pucovski-concussion-future-cricket-Victoria-Tasmania.html",
         "4": "https://www.bing.com/th?id=OVFT.HwVUZ57ck3gwc6U6o398YS&pid=News",
         "5": "Daily Mail",
         "6": "03-Mar-2024",
         "7": "negative",
         "index": 6
        },
        {
         "0": "CCL 2024 Points Table, Match Results Today: Celebrity Cricket League Updated Points Table, Standings, Top Team",
         "1": "CCL 2024 Points Table: Films and cricket are the two most important and must-watch events in India, isn't it? Whenever there's a cricket match, we stay glued to our seats. Similarly, we gush over Salman Khan and Akshay Kumar's films in the theatres.",
         "2": "Sports",
         "3": "https://www.filmibeat.com/bollywood/viral/2024/ccl-2024-points-table-match-results-today-celebrity-cricket-league-10-updated-points-table-standings-387101.html",
         "4": "https://www.bing.com/th?id=OVFT.3DYdM96zL0-jfZgXMX3jWy&pid=News",
         "5": "Hot Pics",
         "6": "02-Mar-2024",
         "7": "neutral",
         "index": 7
        },
        {
         "0": "Ashwini Vaishnaw on Andhra train collision: 'Driver was watching cricket on phone'",
         "1": "Railway Minister Ashwini Vaishnaw on Saturday revealed that the driver and the assistant driver of one of the two passenger trains that collided in Andhra Pradesh, leading to the death of 14 passengers on October 29, 2023, were watching a cricket match on ...",
         "2": "India",
         "3": "https://www.msn.com/en-in/money/topstories/ashwini-vaishnaw-on-andhra-train-collision-driver-was-watching-cricket-on-phone/ar-BB1jfyB9",
         "4": "https://www.bing.com/th?id=OVFT.6Tbg05LA__QdP6zKc5eiKS&pid=News",
         "5": "Business Today on MSN.com",
         "6": "03-Mar-2024",
         "7": "negative",
         "index": 8
        },
        {
         "0": "'Driver was watching cricket on phone': Minister on deadly Andhra train collision",
         "1": "The Rayagada Passenger train hit the Visakhapatnam Palasa train from behind at 7 pm in October last year on the Howrah-Chennai line in Kantakapalli in Vizianagaram district of Andhra Pradesh.",
         "2": "India",
         "3": "https://www.msn.com/en-in/news/India/2023-andhra-train-collision-vaishnaw-says-driver-was-watching-cricket-on-phone/ar-BB1jenUv",
         "4": "https://www.bing.com/th?id=OVFT.GQ-kKRkZVdrf_WiESfOJHS&pid=News",
         "5": "India Today on MSN.com",
         "6": "02-Mar-2024",
         "7": "neutral",
         "index": 9
        },
        {
         "0": "Andhra Train Collision: ‘Driver Was Watching Cricket On Phone’, Says Railway Minister Ashwini Vaishnaw",
         "1": "Amaravati: The driver and the assistant driver of one of the two passenger trains, which collided in Andhra Pradesh in October 2023, were watching a cricket match on a smartphone, informed Railway Minister Ashwini Vaishnaw said on Saturday.",
         "2": "LifeStyle",
         "3": "https://www.msn.com/en-in/news/India/andhra-train-collision-driver-was-watching-cricket-on-phone-says-railway-minister-ashwini-vaishnaw/ar-BB1jeXP7",
         "4": "https://www.bing.com/th?id=OVFT.4_RxiSFwTYYMyhRz8UTPbC&pid=News",
         "5": "India.com on MSN.com",
         "6": "03-Mar-2024",
         "7": "neutral",
         "index": 10
        },
        {
         "0": "GUJ-W Vs DEL-W Dream11 Prediction, WPL 2024, Match 10: Fantasy Cricket Tips, Probable Playing XIs, Injury Updates For Today’s Gujarat Giants Vs Delhi Capitals, 7.30 PM IST",
         "1": "GUJ-W vs DEL-W Dream11 Prediction, WPL 2024, Match 10: Languishing at the bottom of the table, Gujarat Giants will be hoping to end their winless run when they take on Delhi Capitals in a Women’s Premier League (WPL) 2024 match at the M Chinnaswamy ...",
         "2": "Sports",
         "3": "https://www.msn.com/en-in/news/other/guj-w-vs-del-w-dream11-prediction-wpl-2024-match-10-fantasy-cricket-tips-probable-playing-xis-injury-updates-for-today-s-gujarat-giants-vs-delhi-capitals-7-30-pm-ist/ar-BB1jfeG9",
         "4": "https://www.bing.com/th?id=OVFT.3vnZi3JKOcD11VtLAR-8EC&pid=News",
         "5": "India.com on MSN.com",
         "6": "03-Mar-2024",
         "7": "neutral",
         "index": 11
        },
        {
         "0": "Ranji Trophy 2024: Shreyas Iyer struggles with poor form as he makes his comeback in Domestic Cricket",
         "1": "It was Iyer’s first domestic match since the Board of Control for Cricket in India (BCCI) did not award him a central contract. The decision has caused quite a stir among both fans and experts, with many believing that the choice to omit Iyer and Ishan ...",
         "2": "Sports",
         "3": "https://www.msn.com/en-in/news/other/ranji-trophy-2024-shreyas-iyer-struggles-with-poor-form-as-he-makes-his-comeback-in-domestic-cricket/ar-BB1jfr4H",
         "4": "https://www.bing.com/th?id=OVFT.-NQg1csxTuGX-77sQv0ArC&pid=News",
         "5": "Cricket Country on MSN.com",
         "6": "03-Mar-2024",
         "7": "negative",
         "index": 12
        },
        {
         "0": "Virat Kohli and James Anderson had some incredible face-offs with each other in Test Cricket.",
         "1": "Veteran England pacer James Anderson rued for having a missing chance to play against Team India star batter Virat Kohli in the ongoing Test series. Kohli withdrew from the five Tests against visiting England team to be with his wife Anuksha Sharma for the birth of their second child, a son, Akaay.",
         "2": "Sports",
         "3": "https://www.msn.com/en-in/sports/cricket/it-s-a-shame-he-s-not-been-playing-james-anderson-on-virat-kohlis-absence-in-ind-vs-eng-test-series/ar-BB1jdDyC",
         "4": "https://www.bing.com/th?id=OVFT.gO6seUNG-m8q9iJ03RY7GC&pid=News",
         "5": "The Free Press Journal on MSN.com",
         "6": "02-Mar-2024",
         "7": "negative",
         "index": 13
        },
        {
         "0": "Mumbai vs Tamil Nadu, Ranji Trophy semifinal: Shreyas Iyer fails to deliver on his return to domestic cricket",
         "1": "Shreyas Iyer, an out-of-favour India batter, failed to contribute with the bat in the Ranji Trophy semifinal match between Mumbai and Tamil Nadu. He was dismissed by Tamil Nadu pacer Sandeep Warrier for just 3 runs in their first innings.",
         "2": "Sports",
         "3": "https://www.msn.com/en-in/sports/cricket/mumbai-vs-tamil-nadu-ranji-trophy-semifinal-shreyas-iyer-fails-to-deliver-on-his-return-to-domestic-cricket/ar-BB1jf79F",
         "4": "https://www.bing.com/th?id=OVFT.kAPYC46obBxBQaac9RbhyC&pid=News",
         "5": "The Times of India on MSN.com",
         "6": "03-Mar-2024",
         "7": "negative",
         "index": 14
        },
        {
         "0": "'Playing red-ball games will produce more wicket-taking bowlers', says Mamatha Maben on format’s return to women's domestic cricket",
         "1": "The commencement of the Senior Women's Inter-Zonal Multi-Day Trophy in Pune from March 28 will signal the revival of red-ball cricket for female cricketers in the Indian domestic circuit, following a six-year absence.",
         "2": "Sports",
         "3": "https://www.msn.com/en-in/sports/cricket/playing-red-ball-games-will-produce-more-wicket-taking-bowlers-mamatha-maben-on-return-of-women-s-inter-zonal-multi-day-trophy/ar-BB1jffI0",
         "4": "https://www.bing.com/th?id=OVFT.aYgeEJpOLN4o4Uq1KVWC2S&pid=News",
         "5": "News18 on MSN.com",
         "6": "03-Mar-2024",
         "7": "neutral",
         "index": 15
        },
        {
         "0": "Tim Southee keeps door open for retired Neil Wagner's return after loss in first Test against Australia",
         "1": "New Zealand skipper Tim Southee has indicated that retired pacer Neil Wagner might be called out of retirement for the second Test against Australia. Southee's comments came after New Zealand lost the first Test by 172 runs and debutant pacer Will O'Rourke got injured.",
         "2": "Sports",
         "3": "https://www.msn.com/en-in/sports/other/tim-southee-keeps-door-open-for-retired-neil-wagners-return-after-loss-in-first-test-against-australia/ar-BB1jfk6C",
         "4": "https://www.bing.com/th?id=OVFT.hyeyBiLzUJIJgalxGfmLSS&pid=News",
         "5": "WION on MSN.com",
         "6": "03-Mar-2024",
         "7": "negative",
         "index": 16
        },
        {
         "0": "\"World Cricket doing everything to make sure West Indies Cricket is never strong again\": CWI CEO Grave",
         "1": "CEO Jonny Grave slammed the International Cricket Council (ICC) for not supporting the board financially and alleging that the world cricket is doing everything in its power to make sure that cricket in the Caribbean is never strong again.",
         "2": "Sports",
         "3": "https://www.msn.com/en-xl/sports/cricket/world-cricket-doing-everything-to-make-sure-west-indies-cricket-is-never-strong-again-cwi-ceo-grave/ar-BB1jfyyv",
         "4": "https://www.bing.com/th?id=OVFT.Z88zUzi6DP_idExsvXB9oC&pid=News",
         "5": "Asian News International on MSN.com",
         "6": "03-Mar-2024",
         "7": "negative",
         "index": 17
        },
        {
         "0": "BAN vs SL 1st T20I: Sylhet International Cricket Stadium Pitch Report, Weather Forecast, T20 Stats & Records",
         "1": "Bangladesh will host Sri Lanka in the first T20I of the three-match series at the Sylhet International Cricket Stadium in Sylhet on Monday (March 4). The series provide both teams a chance to test their squads before the T20 World Cup 2024 in June.",
         "2": "Sports",
         "3": "https://www.mykhel.com/cricket/ban-vs-sl-1st-t20i-sylhet-stadium-pitch-report-weather-forecast-t20-stats-records-267849.html",
         "4": "https://www.bing.com/th?id=OVFT.BXNqsgw1epLXLwAoqdQ1ki&pid=News",
         "5": "mykhel",
         "6": "03-Mar-2024",
         "7": "neutral",
         "index": 18
        },
        {
         "0": "UAE Vs Scotland, ICC Men's Cricket World Cup League 2 Live Streaming: When, Where To Watch",
         "1": "After suffering a defeat in their first match against Canada, both wounded teams - the United Arab Emirates and Scotland are gearing up for their first encounter in the ICC Men's Cricket World Cup League 2, scheduled to be held on March 3, Sunday in Dubai.",
         "2": "Sports",
         "3": "https://www.outlookindia.com/sports/cricket/uae-vs-scotland-icc-mens-cricket-world-cup-league-2-live-streaming-when-where-to-watch-squad-and-all-details",
         "4": "https://www.bing.com/th?id=OVFT.3KDHAD_67oR-nYyqZUXiDy&pid=News",
         "5": "Outlookindia",
         "6": "02-Mar-2024",
         "7": "neutral",
         "index": 19
        },
        {
         "0": "Colosseum cricket",
         "1": "But it was the bludgeoning of Pakistan that established its reputation for unbridled aggression and win-at-all-costs methods Rajkot: England's Ben Duckett with teammate Ben Stokes celebrates scoring 150 runs during the 3rd day of the 3rd cricket test match ...",
         "2": "Sports",
         "3": "https://www.telegraphindia.com/opinion/colosseum-cricket-englands-cricketing-fortunes-improved-after-its-bazball-makeover/cid/2004397",
         "4": "https://www.bing.com/th?id=OVFT.e9AhTj6CYWGHsN9LA6SZXy&pid=News",
         "5": "The Telegraph",
         "6": "03-Mar-2024",
         "7": "neutral",
         "index": 20
        },
        {
         "0": "Sports analytics may be outnumbered when it comes to artificial intelligence",
         "1": "BOSTON -- When it comes to artificial intelligence, the sports analytics crowd may be outnumbered. The people who killed the sacrifice bunt and turned NBA games into a 3-point shooting contest aren’t quite sure what will happen when AI fully invades sports — whether in the front office or on the field.",
         "2": "Sports",
         "3": "https://www.msn.com/en-us/sports/nba/sports-analytics-may-be-outnumbered-when-it-comes-to-artificial-intelligence/ar-BB1je6WG",
         "4": "https://www.bing.com/th?id=OVFT.b6Krb2Fb-nzoTVQMxGDDyS&pid=News",
         "5": "The Associated Press – Sports on MSN.com",
         "6": "02-Mar-2024",
         "7": "negative",
         "index": 21
        },
        {
         "0": "Indian Sports LIVE, March 3: News, updates, scores, results and commentary",
         "1": "ESPN BET is operated by PENN Entertainment, Inc. and its subsidiaries ('PENN'). ESPN BET is available in states where PENN is licensed to offer sports wagering. Must be 21+ to wager. If you or someone you know has a gambling problem and wants help, call 1-800-GAMBLER.",
         "2": "Sports",
         "3": "https://www.espn.com/espn/story/_/id/39638377/indian-sports-live-news-updates-scores-results-commentary-sunday-march-3",
         "4": "https://www.bing.com/th?id=OVFT.QsQU136FSylPigS5PxftyS&pid=News",
         "5": "ESPN",
         "6": "03-Mar-2024",
         "7": "neutral",
         "index": 22
        },
        {
         "0": "Sports world praises LeBron James for reaching 40,000 points",
         "1": "LeBron James extended his all-time scoring record on Saturday by becoming the first NBA player to reach 40,000 regular-season points.",
         "2": "Sports",
         "3": "https://www.msn.com/en-us/sports/nba/sports-world-praises-lebron-james-for-reaching-40000-points/ar-BB1jeTyn",
         "4": "https://www.bing.com/th?id=OVFT.pQK_b7gFlLtMwnxw2ZjgOS&pid=News",
         "5": "ESPN on MSN.com",
         "6": "03-Mar-2024",
         "7": "neutral",
         "index": 23
        },
        {
         "0": "Brock Badgers men's, women's wrestling teams sweep national championships",
         "1": "The Brock Badgers kicked off the winter U Sports championship season by taking both the men’s and women’s national wrestling titles in Guelph, Ont., on Saturday.",
         "2": "Sports",
         "3": "https://www.cbc.ca/sports/u-sports-wrestling-championships-mar-2-1.7132405",
         "4": "https://www.bing.com/th?id=OVFT.4mbH3CDkRlXSdWBzkiB9wy&pid=News",
         "5": "CBC.ca",
         "6": "03-Mar-2024",
         "7": "neutral",
         "index": 24
        },
        {
         "0": "Red-hot Islanders’ task: ‘Keep building’ on momentum",
         "1": "The Islanders know they cannot slow down now. And their confidence is at a high after a crushing 5-1 defeat of the Bruins on home ice Saturday night.",
         "2": "Sports",
         "3": "https://www.msn.com/en-us/sports/other/red-hot-islanders-task-keep-building-on-momentum/ar-BB1jfrqR",
         "4": "https://www.bing.com/th?id=OVFT.YiKgWmb_zyvua0bOk0OW0S&pid=News",
         "5": "New York Post on MSN.com",
         "6": "03-Mar-2024",
         "7": "negative",
         "index": 25
        },
        {
         "0": "Letters to Sports: Readers recognize Helene Elliott and her impact",
         "1": "Readers of the Los Angeles Times Sports section pay tribute to the career of columnist Helene Elliott and weigh in on Mick Cronin's decision making.",
         "2": "Sports",
         "3": "https://www.msn.com/en-us/sports/other/letters-to-sports-readers-recognize-helene-elliott-and-her-impact/ar-BB1jdnTg",
         "4": "https://www.bing.com/th?id=OVFT.4fKr8MXd9OCl71E6ee0d7i&pid=News",
         "5": "Los Angeles Times on MSN.com",
         "6": "02-Mar-2024",
         "7": "neutral",
         "index": 26
        },
        {
         "0": "D.C. United stages late two-goal comeback to earn draw with Timbers",
         "1": "Facing a 2-0 deficit and playing without star Christian Benteke, who was scratched before kickoff with an injury, United caught a late spark and earned a point in Portland, Ore.",
         "2": "Sports",
         "3": "https://www.msn.com/en-us/sports/other/dc-united-stages-late-two-goal-comeback-to-earn-draw-with-timbers/ar-BB1jf241",
         "4": "https://www.bing.com/th?id=OVFT.S3_KA9AZo1rCOfReobPE4S&pid=News",
         "5": "The Washington Post on MSN.com",
         "6": "03-Mar-2024",
         "7": "negative",
         "index": 27
        },
        {
         "0": "Dawn Staley helps reunite South Carolina's Kamilla Cardoso with family: 'An incredible moment for all of us'",
         "1": "Kamilla Cardoso has been a breakout star for the undefeated South Carolina Gamecocks. The Brazil native is the team's leading scorer and rebounder.",
         "2": "Sports",
         "3": "https://www.msn.com/en-us/sports/other/dawn-staley-helps-reunite-south-carolinas-kamilla-cardoso-with-family-an-incredible-moment-for-all-of-us/ar-BB1jeM7K",
         "4": "https://www.bing.com/th?id=OVFT.eHKEdUB4TwVFU54KJRnGdi&pid=News",
         "5": "Fox News on MSN.com",
         "6": "03-Mar-2024",
         "7": "neutral",
         "index": 28
        },
        {
         "0": "When can we expect the last-freeze?",
         "1": "The start of meteorological spring has many people wondering how soon we might be saying “goodbye” to temperatures that dip to at least 32º. Despite the mild winter and a 7-day outlook that doesn’t include a freezing temperature in Chicago,",
         "2": "LifeStyle",
         "3": "https://www.msn.com/en-us/weather/topstories/when-can-we-expect-the-last-freeze/ar-BB1jfoAp",
         "4": "https://www.bing.com/th?id=OVFT.6Eo-KDNQ8-QXBzgx7SFUTi&pid=News",
         "5": "WGN-TV Chicago on MSN.com",
         "6": "03-Mar-2024",
         "7": "neutral",
         "index": 29
        },
        {
         "0": "Ten examples of sports growing more and more insane",
         "1": "If a team — any pro team — denies anyone — gays, Estonians, atheists, Mao Marxists, transgender NCAA record-breaking swimmers, green-haired grandmothers, Uncle Leo — entry to a game based on their race, sexuality, ethnicity, religion, politics, biological birth or hairdresser, then we’ve reason to devote a game to the specifically oppressed.",
         "2": "Sports",
         "3": "https://www.yahoo.com/news/ten-examples-sports-growing-more-191214428.html",
         "4": "https://www.bing.com/th?id=OVFT.-S--_IJygUZFg61ulQppGS&pid=News",
         "5": "Yahoo",
         "6": "02-Mar-2024",
         "7": "negative",
         "index": 30
        },
        {
         "0": "Xavier Prep defeats Desert Vista to win girls' Open, the school's first basketball title",
         "1": "Championship banners are everywhere at Phoenix Xavier Prep. In the athletic facilities. In hallways. Down towards the administrative offices. When you have 138 of them, you have to get creative. They’re a reminder of the school’s dominance in just about every sport Arizona offers.",
         "2": "Sports",
         "3": "https://www.usatoday.com/story/sports/high-school/2024/03/02/xavier-prep-beats-desert-vista-to-win-open-claim-first-ever-title/72754011007/",
         "4": "https://www.bing.com/th?id=OVFT.erNM8yxM9bBQKp52MNXUWi&pid=News",
         "5": "USA Today",
         "6": "03-Mar-2024",
         "7": "neutral",
         "index": 31
        },
        {
         "0": "Christian Horner opens up on ‘testing’ week for wife Geri Halliwell and family",
         "1": "Christian Horner admits the past week has been “testing” for him and his family as he strode into the Bahrain paddock hand-in-hand with wife Geri Halliwell prior to Saturday’s Bahrain Grand Prix.",
         "2": "Sports",
         "3": "https://www.independent.co.uk/f1/christian-horner-geri-halliwell-f1-red-bull-bahrain-b2506120.html",
         "4": "https://www.bing.com/th?id=OVFT.drCd8P758Up2I2d6XDMyIS&pid=News",
         "5": "The Independent",
         "6": "03-Mar-2024",
         "7": "neutral",
         "index": 32
        },
        {
         "0": "'We cannot recycle our way out of plastic pollution'",
         "1": "Local environmental leaders will discuss the plastic problem Thursday. The public is welcome. The forum is part of IHM's anti-plastics campaign.",
         "2": "LifeStyle",
         "3": "https://news.yahoo.com/cannot-recycle-way-plastic-pollution-084210209.html",
         "4": "https://www.bing.com/th?id=OVFT.S9mxdHTq7B2krZYZgp60Ci&pid=News",
         "5": "YAHOO!News",
         "6": "03-Mar-2024",
         "7": "positive",
         "index": 33
        },
        {
         "0": "Small detail in America's NRL coverage proves the code has a huge mountain to climb to make an impact in America",
         "1": "The NRL season opener between Manly and South Sydney has been explosive success, but a photo from the match proves that the code has some work to do to make an impact in America.",
         "2": "Sports",
         "3": "https://www.dailymail.co.uk/sport/nrl/article-13150763/Major-League-Rugby-mistake-NRL-Las-Vegas-Souths-Manly.html",
         "4": "https://www.bing.com/th?id=OVFT.A4OaIZkBsJEA-gXFd7PS2y&pid=News",
         "5": "Daily Mail",
         "6": "03-Mar-2024",
         "7": "neutral",
         "index": 34
        },
        {
         "0": "Hoyas’ 15-point lead fades away in a heartbreaker against Xavier",
         "1": "Georgetown remains winless against the non-DePaul portion of the Big East after Saturday night’s 98-93 defeat at Capital One Arena.",
         "2": "Sports",
         "3": "https://www.msn.com/en-us/sports/other/hoyas-15-point-lead-over-xavier-fades-away-in-yet-another-loss/ar-BB1jeW3n",
         "4": "https://www.bing.com/th?id=OVFT.eaQXYVTGqZvYG5dwAehujy&pid=News",
         "5": "The Washington Post on MSN.com",
         "6": "03-Mar-2024",
         "7": "negative",
         "index": 35
        },
        {
         "0": "TV tonight: an explosive finale for Vicky McClure in Trigger Point",
         "1": "Bomb disposal officer Lana faces a terrible dilemma. Plus: the excellent Alex Kingston tell’s the story of Frankenstein. Here’s what to watch this evening",
         "2": "LifeStyle",
         "3": "https://www.theguardian.com/tv-and-radio/2024/mar/03/tv-tonight-an-explosive-finale-for-vicky-mcclure-in-trigger-point",
         "4": "https://www.bing.com/th?id=OVFT.rbNRHmRv2AK1DQ71JFooyy&pid=News",
         "5": "The Guardian",
         "6": "03-Mar-2024",
         "7": "mixed",
         "index": 36
        },
        {
         "0": "Farm heroes, crispy warts and water sports",
         "1": "Thank you for your dispatch on the costs of the Gaza war to the Israeli economy (“How the war in Gaza has hurt Israel’s economy”, World News, last week). I travelled from Hertfordshire to volunteer at",
         "2": "World",
         "3": "https://www.thetimes.co.uk/article/farm-heroes-crispy-warts-and-water-sports-ncgkrvrr2",
         "4": "https://www.bing.com/th?id=OVFT.V6xeFwujoJzWShsrS2oaxC&pid=News",
         "5": "The Times",
         "6": "03-Mar-2024",
         "7": "positive",
         "index": 37
        },
        {
         "0": "NRL facing uphill battle to conquer the US, but claims a thrilling toehold in Las Vegas",
         "1": "A new sport won't crack the home of the brave overnight and one week of fun and footy in Las Vegas doesn't prove anything. But it was a pretty good start.",
         "2": "Sports",
         "3": "https://www.msn.com/en-au/sport/other/nrl-facing-uphill-battle-to-conquer-the-us-but-claims-a-thrilling-toehold-in-las-vegas/ar-BB1jfcil",
         "4": "https://www.bing.com/th?id=OVFT.2iGJ8HodTYsp4EpV6Svkai&pid=News",
         "5": "Australian Broadcasting Corporation on MSN.com",
         "6": "03-Mar-2024",
         "7": "positive",
         "index": 38
        },
        {
         "0": "Aging Bridge Is a Flashpoint in Competitive Washington State House Race",
         "1": "Representative Marie Gluesenkamp Perez is running on fixing one of the busiest bridges in the region. Her far-right opponent calls it an “Antifa superhighway.”",
         "2": "Politics",
         "3": "https://www.nytimes.com/2024/03/03/us/politics/aging-bridge-is-a-flashpoint-in-competitive-washington-state-house-race.html",
         "4": "https://www.bing.com/th?id=OVFT.Q2sz2wpfceQW1RWlboqs-i&pid=News",
         "5": "The New York Times",
         "6": "03-Mar-2024",
         "7": "neutral",
         "index": 39
        },
        {
         "0": "10Bet Cheltenham Offers: Latest Promos Ahead of the Cheltenham Festival 2024",
         "1": "10Bet's mix of Cheltenham Festival betting offers for 2024 makes them one of the best betting sites to consider for the big meeting. They have catered to both new and existing customers with their Cheltenham betting promos and their Acca Boost up to 100% offer is a valuable one to have with so much action across the four-day festival.",
         "2": "ScienceAndTechnology",
         "3": "https://www.independent.co.uk/betting/cheltenham-festival/10bet-cheltenham-offer",
         "4": "https://www.bing.com/th?id=OVFT.5Vuslqje12mJEn_5VDtM9C&pid=News",
         "5": "The Independent",
         "6": "03-Mar-2024",
         "7": "positive",
         "index": 40
        },
        {
         "0": "Is It Too Late to Buy Nvidia Stock?",
         "1": "A closer look at the company's forward multiples tells us that it may be a good idea to buy Nvidia right away.",
         "2": "ScienceAndTechnology",
         "3": "https://finance.yahoo.com/news/too-buy-nvidia-stock-084700090.html?fr=sycsrp_catchall",
         "4": "https://www.bing.com/th?id=OVFT.2BYBN1JwErA54iu3swVeXC&pid=News",
         "5": "YAHOO!Finance",
         "6": "03-Mar-2024",
         "7": "neutral",
         "index": 41
        },
        {
         "0": "Betting offer for Manchester City vs Manchester United: Enhanced odds",
         "1": "Claim this BoyleSports betting offer to get £30 in bonuses and enhanced odds on the Premier League match between Manchester City and Manchester United",
         "2": "Sports",
         "3": "https://www.telegraph.co.uk/betting/football/manchester-city-vs-manchester-united-free-bet-boylesports/",
         "4": "https://www.bing.com/th?id=OVFT.UgyUEvIDCOUPcsYlrfQ57S&pid=News",
         "5": "The Daily Telegraph",
         "6": "03-Mar-2024",
         "7": "neutral",
         "index": 42
        },
        {
         "0": "2024 Sarasota STRIVE Award Student Stories: Tashaun Bryant",
         "1": "A high school senior and 2024 recipient of a STRIVE Award, Tashaun has made an unlikely journey to Sarasota Military Academy.",
         "2": "LifeStyle",
         "3": "https://news.yahoo.com/2024-sarasota-strive-award-student-090239677.html",
         "4": "https://www.bing.com/th?id=OVFT.foPopeO9I9TlUs4pIxXwoy&pid=News",
         "5": "YAHOO!News",
         "6": "03-Mar-2024",
         "7": "neutral",
         "index": 43
        },
        {
         "0": "Polls open for Shreveport Times Student of Week voting: March 3-7",
         "1": "Which of these seven talented North Louisiana students will be chosen as the first Shreveport Times Student of the Week? You decide. Vote now!",
         "2": "LifeStyle",
         "3": "https://news.yahoo.com/polls-open-shreveport-times-student-110727459.html",
         "4": "https://www.bing.com/th?id=OVFT.goW_5GeM4-hX4vDf1DYxyC&pid=News",
         "5": "YAHOO!News",
         "6": "03-Mar-2024",
         "7": "neutral",
         "index": 44
        },
        {
         "0": "Check Out The Music Video Of The Latest Hindi Song Kende Ne Naina Sung By Vishal Mishra",
         "1": "Enjoy the latest Hindi song Kende Ne Naina sung by Vishal Mishra. The music for this captivating track has been composed by Rochak Kohli. Don't miss the opportunity to watch the latest Hindi video song Kende Ne Naina by Vishal Mishra and immerse yourself in its mesmerizing melodies.",
         "2": "LifeStyle",
         "3": "https://timesofindia.indiatimes.com/videos/entertainment/music/hindi/check-out-the-music-video-of-the-latest-hindi-song-kende-ne-naina-sung-by-vishal-mishra/videoshow/108177772.cms",
         "4": "https://www.bing.com/th?id=OVFT.NBTYJ2rHSKvwuzIZ-bUMYC&pid=News",
         "5": "Indiatimes",
         "6": "03-Mar-2024",
         "7": "positive",
         "index": 45
        },
        {
         "0": "Check Out The Music Video Of The Latest Punjabi Song Dil Darian Sung By Kambi Rajpuria",
         "1": "Enjoy the latest Punjabi song Dil Darian sung by Kambi Rajpuria. The music for this captivating track has been composed by Ricky Khan. Don't miss the opportunity to watch the latest Punjabi video song Dil Darian by Kambi Rajpuria and immerse yourself in its mesmerizing melodies.",
         "2": "LifeStyle",
         "3": "https://timesofindia.indiatimes.com/videos/entertainment/music/punjabi/check-out-the-music-video-of-the-latest-punjabi-song-dil-darian-sung-by-kambi-rajpuria/videoshow/108178124.cms",
         "4": "https://www.bing.com/th?id=OVFT.cbbjgwxlnG04Mjpqtp8ZEy&pid=News",
         "5": "Indiatimes",
         "6": "03-Mar-2024",
         "7": "positive",
         "index": 46
        },
        {
         "0": "Raye: Singer-songwriter makes history winning six Brit Awards",
         "1": "It was Raye's night as she made history at the Brit Awards, winning six of the seven prizes she was nominated for - beating Blur, Adele and Harry Styles' record four wins at a single ceremony. She is also the first woman to win songwriter of the year.",
         "2": "Entertainment",
         "3": "https://www.bbc.co.uk/news/entertainment-arts-68458922",
         "4": "https://www.bing.com/th?id=OVFT.aNFpkeTfQXgDzqhhBw5uRi&pid=News",
         "5": "BBC",
         "6": "03-Mar-2024",
         "7": "neutral",
         "index": 47
        },
        {
         "0": "Dua Lipa sends temperatures soaring in sexy red lingerie as she joins abs-flashing Billie Piper at Warner Music's star-studded BRITs afterparty",
         "1": "The singer, 28, who bagged the Best Pop Act gong and performed on stage, looked nothing short of incredible as she let her hair down in a sexy red lingerie inspired ensemble.",
         "2": "Entertainment",
         "3": "https://www.dailymail.co.uk/tvshowbiz/article-13150385/Dua-Lipa-Billie-Piper-Brits-afterparty.html",
         "4": "https://www.bing.com/th?id=OVFT.aNpluipPLWr4fgsNmMwMsC&pid=News",
         "5": "Daily Mail",
         "6": "03-Mar-2024",
         "7": "positive",
         "index": 48
        },
        {
         "0": "Maya Jama looks sensational in a racy sheer dress as she holds hands with busty AJ Odudu leaving Warner Music's Brit Awards afterparty",
         "1": "Maya Jama looked sensational in a racy sheer dress as she held hands with busty AJ Odudu leaving Warner Music's Brit Awards afterparty on Saturday night.",
         "2": "Entertainment",
         "3": "https://www.dailymail.co.uk/tvshowbiz/article-13151183/Maya-Jama-looks-sensational-racy-sheer-dress-holds-hands-busty-AJ-Odudu-leaving-Warner-Musics-Brit-Awards-afterparty.html",
         "4": "https://www.bing.com/th?id=OVFT.AuZX5nNxzzqiLo3E5mOFkC&pid=News",
         "5": "Daily Mail",
         "6": "03-Mar-2024",
         "7": "neutral",
         "index": 49
        },
        {
         "0": "Books of the month: From Kazuo Ishiguro’s song lyrics to Family Politics by John O’Farrell",
         "1": "An attention-grabbingly titled debut novel from playwright Anoushka Warden, Peter Pomerantsev’s intriguing study of a genius propagandist who outwitted Hitler, and an important study of the distorted",
         "2": "Entertainment",
         "3": "https://www.independent.co.uk/arts-entertainment/books/features/books-march-releases-bestsellers-b2503870.html",
         "4": "https://www.bing.com/th?id=OVFT.jwkq6657UtxZK-jjjvoAgi&pid=News",
         "5": "The Independent",
         "6": "03-Mar-2024",
         "7": "positive",
         "index": 50
        },
        {
         "0": "No Twerking. No Drinking. No Smoking. but It's Still a Party at This Christian Nightclub",
         "1": "The young crowd at a Nashville nightclub was ready to dance under the strobe lights to a throbbing mix of hip-hop, rap and Latin beats. But first they gathered to pray and praise God. The rules were announced on the dance floor by a mic-carrying emcee to more than 200 clubgoers blanketed by thick smoke machine fog: ”Rule No.",
         "2": "LifeStyle",
         "3": "https://www.msn.com/en-us/entertainment/news/a-christian-pop-up-nightclub-in-nashville-plays-jesus-rap-and-forbids-twerking-drinking-and-smoking/ar-BB1jeDLc",
         "4": "https://www.bing.com/th?id=OVFT.iRXlTD87QDCQuB6DTC-caC&pid=News",
         "5": "Business Insider on MSN.com",
         "6": "02-Mar-2024",
         "7": "neutral",
         "index": 51
        },
        {
         "0": "Gloucester young people talk about knife crime on hip-hop album",
         "1": "The group launched its album at Gloucester Cathedral on Friday. A group has created a music album which they say challenges the stereotypes of young people while raising awareness",
         "2": "Entertainment",
         "3": "https://www.msn.com/en-us/entertainment/news/young-people-talk-about-knife-crime-on-hip-hop-album/ar-BB1jfiw9",
         "4": "https://www.bing.com/th?id=OVFT.kBIqzQyzEdLJrR9_6wYIKS&pid=News",
         "5": "BBC on MSN.com",
         "6": "03-Mar-2024",
         "7": "neutral",
         "index": 52
        },
        {
         "0": "YouTube Music team laid off by Google while workers testified to Austin City Council about working conditions",
         "1": "Some workers learned of the YouTube Music layoffs while testifying to the Austin city council about Google's refusal to negotiate with the union.",
         "2": "ScienceAndTechnology",
         "3": "https://www.msn.com/en-us/money/companies/youtube-music-team-laid-off-by-google-while-workers-testified-to-austin-city-council-about-working-conditions/ar-BB1jetUk",
         "4": "https://www.bing.com/th?id=OVFT.afLmGGokT-qfEr1XKi_YGS&pid=News",
         "5": "Business Insider on MSN.com",
         "6": "02-Mar-2024",
         "7": "negative",
         "index": 53
        },
        {
         "0": "Elle King Delivers First Performance Since Drunken Grand Ole Opry Incident at Arizona Music Festival",
         "1": "Elle King returned to the stage for the first time since she performed in a Dolly Parton tribute held by the Grand Ole Opry at Nashville's Ryman Auditorium while admittedly drunk. On Friday, the country singer played at Extra Innings Festival in Tempe,",
         "2": "Entertainment",
         "3": "https://www.msn.com/en-us/music/celebrity/elle-king-delivers-first-performance-since-drunken-grand-ole-opry-incident-at-arizona-music-festival/ar-BB1jeENS",
         "4": "https://www.bing.com/th?id=OVFT.M8J6sP6br4B0X6Lw-_a4ey&pid=News",
         "5": "People on MSN.com",
         "6": "03-Mar-2024",
         "7": "neutral",
         "index": 54
        },
        {
         "0": "Elle King makes her first return to the stage since her drunken Dolly Parton birthday tribute performance",
         "1": "The singer performed at Arizona’s Extra Innings Festival in her first show since the controversial incident at the Nashville’s Grand Ole Opry in January.",
         "2": "Entertainment",
         "3": "https://www.msn.com/en-us/music/celebrity/elle-king-makes-her-first-return-to-the-stage-since-her-drunken-dolly-parton-birthday-tribute-performance/ar-BB1jeZ8k",
         "4": "https://www.bing.com/th?id=OVFT.jDxeKvSx_09RlsBwf6nvni&pid=News",
         "5": "FOX News on MSN.com",
         "6": "03-Mar-2024",
         "7": "neutral",
         "index": 55
        },
        {
         "0": "BRIT Awards: Raye sets record at Britain's pop music honours",
         "1": "Singer-songwriter Raye was the big winner at the BRIT Awards, the biggest night in British music, on Saturday, setting a new record for most prizes in one night at the annual ceremony. Raye won six awards,",
         "2": "Entertainment",
         "3": "https://www.msn.com/en-us/music/news/brit-awards-raye-sets-record-at-britain-s-pop-music-honours/ar-BB1jeDnx",
         "4": "https://www.bing.com/th?id=OVFT.l87Gc6DJUoZOmY9ox-_oGi&pid=News",
         "5": "Reuters on MSN.com",
         "6": "02-Mar-2024",
         "7": "neutral",
         "index": 56
        },
        {
         "0": "Kacey Musgraves Performs Barefoot on “Saturday Night Live, ”Rocks 2 Stylish Blue Looks",
         "1": "Kacey Musgraves' Saturn has returned — to Saturday Night Live! For her third time as musical guest on the sketch comedy show, Musgraves, 35, took the stage to perform two tracks",
         "2": "Entertainment",
         "3": "https://www.msn.com/en-us/music/news/kacey-musgraves-performs-barefoot-on-saturday-night-live-rocks-2-stylish-blue-looks/ar-BB1jfBDe",
         "4": "https://www.bing.com/th?id=OVFT.VizLlYliSonoARTFGJaIgi&pid=News",
         "5": "People on MSN.com",
         "6": "03-Mar-2024",
         "7": "neutral",
         "index": 57
        },
        {
         "0": "Music's Biggest Night in Britain Is Here! See All the Stars Arriving at the 2024 BRIT Awards",
         "1": "The 2024 BRIT Awards kicked off on Saturday evening in London, with celebrities hitting the red carpet at the city's famed O2 Arena. Before they dazzle on stage, see Dua Lipa, Kylie Minogue, Tate McRae and more singing stars arriving at the 2024 BRIT Awards.",
         "2": "Entertainment",
         "3": "https://www.msn.com/en-us/music/news/musics-biggest-night-in-britain-is-here-see-all-the-stars-arriving-at-the-2024-brit-awards/ar-BB1je7d9",
         "4": "https://www.bing.com/th?id=OVFT.-e7bU2DHmf2MIR3JoXJhUS&pid=News",
         "5": "People on MSN.com",
         "6": "02-Mar-2024",
         "7": "neutral",
         "index": 58
        },
        {
         "0": "Being a female runner shouldn't be dangerous. Laken Riley's death reminds us it is.",
         "1": "Laken’s death has reignited the conversation that began in the wake of Eliza Fletcher’s kidnapping and murder nearly two years ago about the dangers female runners face. Fletcher was a teacher who was abducted while on a morning run near the University of Memphis.",
         "2": "LifeStyle",
         "3": "https://www.msn.com/en-us/news/opinion/being-a-female-runner-shouldnt-be-dangerous-laken-rileys-death-reminds-us-it-is/ar-BB1jftL1",
         "4": "https://www.bing.com/th?id=OVFT.NuUEpQzPSZtam-wTULH62i&pid=News",
         "5": "USA Today on MSN.com",
         "6": "03-Mar-2024",
         "7": "negative",
         "index": 59
        },
        {
         "0": "A veteran Republican operative relocated to Kyiv — he says Ukraine can win the war",
         "1": "Steven Moore, a Capitol Hill veteran, says he is now \"doing the right thing\" in helping Ukraine's war effort.",
         "2": "Politics",
         "3": "https://www.msn.com/en-us/news/world/a-veteran-republican-operative-relocated-to-kyiv-he-says-ukraine-can-win-the-war/ar-BB1jfxoS",
         "4": "https://www.bing.com/th?id=OVFT.xt6mUXKHPbO0n9EU1YaidS&pid=News",
         "5": "Business Insider on MSN.com",
         "6": "03-Mar-2024",
         "7": "neutral",
         "index": 60
        },
        {
         "0": "Louis Sarkozy: ‘I went from the Elysée Palace to a dirty barrack room in Pennsylvania – thank God’",
         "1": "The former French president’s son has paused his military career to write a book about Napoleon – and thinks Ridley Scott’s film is ‘trash’",
         "2": "World",
         "3": "https://www.msn.com/en-us/news/world/louis-sarkozy-i-went-from-the-elys%C3%A9e-palace-to-a-dirty-barrack-room-in-pennsylvania-thank-god/ar-BB1jf6WG",
         "4": "https://www.bing.com/th?id=OVFT.qljpA6Bg6FKtm-MY0bn0Cy&pid=News",
         "5": "The Daily Telegraph on MSN.com",
         "6": "03-Mar-2024",
         "7": "negative",
         "index": 61
        },
        {
         "0": "The ‘subversive spirituality’ of Bob Marley is still being overlooked",
         "1": "A hit movie has cast reggae superstar Bob Marley back into the spotlight. But it also overlooks a key to Marley’s legacy: To him, his Bible was as important as his guitar. Marley’s subversive spirituality was central to his life and music,",
         "2": "Entertainment",
         "3": "https://www.msn.com/en-us/news/world/the-subversive-spirituality-of-bob-marley-is-still-being-overlooked/ar-BB1jfq0t",
         "4": "https://www.bing.com/th?id=OVFT.4Uxlxfxuasvx4JNpcFYHaS&pid=News",
         "5": "CNN on MSN.com",
         "6": "03-Mar-2024",
         "7": "neutral",
         "index": 62
        },
        {
         "0": "Where Old Vegas is still alive today",
         "1": "Finally, the most recognizable throwback to Old Vegas might be the neon “Welcome to Fabulous Las Vegas” sign at the south end of the Las Vegas Strip near Mandalay Bay Resort & Casino. Betty Willis designed the sign back in 1959, and YESCO owns it today. It was added to the National Register of Historic Places in 2009.",
         "2": "LifeStyle",
         "3": "https://www.msn.com/en-us/travel/news/where-old-vegas-is-still-alive-today/ar-BB1jf9Qg",
         "4": "https://www.bing.com/th?id=OVFT.25H96ag35n6q1Pr3KrOgoC&pid=News",
         "5": "CNN on MSN.com",
         "6": "03-Mar-2024",
         "7": "neutral",
         "index": 63
        },
        {
         "0": "Martin Bayfield: Six Nations must stay on free to air TV – but coverage needs to improve",
         "1": "Former England second row who has worked as a reporter for BBC, ITV, BT Sport and TNT believes the tournament isn’t being properly projected",
         "2": "Sports",
         "3": "https://www.msn.com/en-us/tv/news/martin-bayfield-six-nations-must-stay-on-free-to-air-tv-but-coverage-needs-to-improve/ar-BB1jfkcd",
         "4": "https://www.bing.com/th?id=OVFT.lwUkMRHVW3dtLs3ADnYF6y&pid=News",
         "5": "The Daily Telegraph on MSN.com",
         "6": "03-Mar-2024",
         "7": "negative",
         "index": 64
        },
        {
         "0": "Raye’s record-breaking Brits defied the limited imaginations of the British music industry",
         "1": "Raye’s six Brit awards marked a huge vindication for the newly independent artist and rightly shamed the major label that apparently couldn’t see her potential",
         "2": "Entertainment",
         "3": "https://www.theguardian.com/music/2024/mar/02/rayes-record-breaking-brits-defied-the-limited-imaginations-of-the-british-music-industry",
         "4": "https://www.bing.com/th?id=OVFT.Izw8m744T-wOfMfxGv8GmS&pid=News",
         "5": "The Guardian",
         "6": "02-Mar-2024",
         "7": "negative",
         "index": 65
        },
        {
         "0": "Brit awards 2024: A blushing music industry eats humble pie",
         "1": "Who should win and who will win? The Times chief rock and pop critic Will Hodgkinson reviews this year’s nominees",
         "2": "Entertainment",
         "3": "https://www.thetimes.co.uk/article/brit-awards-2024-winners-full-list-ggghgz33z",
         "4": "https://www.bing.com/th?id=OVFT.ssb-nkJtXm26PE5fmUsAxS&pid=News",
         "5": "The Times",
         "6": "02-Mar-2024",
         "7": "neutral",
         "index": 66
        },
        {
         "0": "The latest on the Israel-Hamas war",
         "1": "Israeli Prime Minister Benjamin Netanyahu has directed the military to prepare to evacuate over 1 million Palestinians from the southern Gaza city of Rafah ahead of a ground operation. Follow for live updates.",
         "2": "World",
         "3": "https://edition.cnn.com/middleeast/live-news/israel-hamas-war-gaza-news-02-10-24/h_cd8908900541adca9751bf5a3ddd9bdd",
         "4": "https://www.bing.com/th?id=OVFT.BjPWSlzcbo7HCTwmyOxxUy&pid=News",
         "5": "CNN",
         "6": "10-Feb-2024",
         "7": "neutral",
         "index": 67
        },
        {
         "0": "News Flash: Analysts Just Made A Sizeable Upgrade To Their Vanda Pharmaceuticals Inc. (NASDAQ:VNDA) Forecasts",
         "1": "Celebrations may be in order for Vanda Pharmaceuticals Inc. (NASDAQ:VNDA) shareholders, with the covering analyst delivering a significant upgrade to their statutory estimates for the company. The consensus statutory numbers for both revenue and earnings per share (EPS) increased,",
         "2": "ScienceAndTechnology",
         "3": "https://finance.yahoo.com/news/news-flash-analysts-just-made-124256245.html",
         "4": "https://www.bing.com/th?id=OVFT.7S2v6t5ALCHoDA6DLmT-ES&pid=News",
         "5": "YAHOO!Finance",
         "6": "10-Feb-2024",
         "7": "neutral",
         "index": 68
        },
        {
         "0": "Six Nations 2024: England vs Wales match preview, team news, kick-off time & BBC coverage",
         "1": "Match preview, team news, BBC coverage, standings and statistics for Saturday's Six Nations match between England and Wales at Twickenham.",
         "2": "Sports",
         "3": "https://www.bbc.co.uk/sport/rugby-union/68185927",
         "4": "https://www.bing.com/th?id=OVFT.qCGwjb_G0SzAlZjuKfuiPy&pid=News",
         "5": "BBC",
         "6": "10-Feb-2024",
         "7": "neutral",
         "index": 69
        },
        {
         "0": "New York Times editorial board demands Biden ‘do better’ in defending his memory, fitness for office",
         "1": "The New York Times editorial board trashed President Biden's Thursday press conference in which he tried to reassure Americans he is mentally fit. It claimed the move \"didn't work\"",
         "2": "Politics",
         "3": "https://www.foxnews.com/media/new-york-times-editorial-board-demands-biden-do-better-defending-memory-fitness-office",
         "4": "https://www.bing.com/th?id=OVFT.nGHW_CIPXX6ke-JC9OkHny&pid=News",
         "5": "Fox News",
         "6": "10-Feb-2024",
         "7": "negative",
         "index": 70
        },
        {
         "0": "King Charles cancer – latest: Monarch makes first statement since diagnosis as Will ‘upset’ with Harry",
         "1": "Prince William has returned to royal duties after stepping back for several weeks to care for his wife after she underwent abdominal surgery",
         "2": "Entertainment",
         "3": "https://www.msn.com/en-gb/health/other/king-charles-cancer-latest-william-upset-at-harry-s-pr-stunt-as-key-update-issued-on-kate-s-recovery/ar-BB1hOvJf",
         "4": "https://www.bing.com/th?id=OVFT.rGsHS-NsYVdk7JjfUGbSLy&pid=News",
         "5": "The Independent on MSN.com",
         "6": "10-Feb-2024",
         "7": "neutral",
         "index": 71
        },
        {
         "0": "Australia news live: Coalition will oppose vehicle emission standards that increase prices of popular cars, Taylor says",
         "1": "Follow the day’s news live",
         "2": "LifeStyle",
         "3": "https://www.msn.com/en-gb/news/uknews/australia-news-live-coalition-will-oppose-vehicle-emission-standards-that-increase-prices-of-popular-cars-taylor-says/ar-BB1i5zYD",
         "4": "https://www.bing.com/th?id=OVFT._VmYfzX-QB7baMCZagQYly&pid=News",
         "5": "The Guardian on MSN.com",
         "6": "11-Feb-2024",
         "7": "neutral",
         "index": 72
        },
        {
         "0": "Ireland v Italy, Six Nations 2024: Kick-off time, how to watch and latest news",
         "1": "Ireland and Italy face each other on Sunday, February 11. The match kicks off at 3pm GMT. The Aviva Stadium in Dublin. A ground at which the Azzurri have never won. The match will be broadcast live on ITV1 and ITVX in the UK. In the Republic of Ireland, Virgin Media have the rights for the live broadcast.",
         "2": "Sports",
         "3": "https://www.msn.com/en-gb/sport/other/ireland-v-italy-six-nations-2024-kick-off-time-how-to-watch-and-latest-news/ar-BB1i4hzO",
         "4": "https://www.bing.com/th?id=OVFT.N_3-sp2XhHZf5gORfWzy9y&pid=News",
         "5": "The Daily Telegraph on MSN.com",
         "6": "10-Feb-2024",
         "7": "negative",
         "index": 73
        },
        {
         "0": "New Mexico Budget Bill Would Found Literacy Institute, Propel Housing Construction and Conservation",
         "1": "New Mexico’s strategy for spending and investing a multibillion-dollar annual surplus linked closely to oil production has come into sharper focus",
         "2": "Politics",
         "3": "https://www.msn.com/en-us/money/realestate/new-mexico-budget-bill-would-found-literacy-institute-propel-housing-construction-and-conservation/ar-BB1i5Dlz",
         "4": "https://www.bing.com/th?id=OVFT.LQBFjyuPAxQCv8FPnt7-1i&pid=News",
         "5": "The Associated Press on MSN.com",
         "6": "11-Feb-2024",
         "7": "neutral",
         "index": 74
        },
        {
         "0": "Scotland v France, Six Nations 2024: Kick-off time today, how to watch and latest news",
         "1": "France head to Edinburgh on the back of a crushing 38-17 home defeat against Six Nations title and Grand Slam favourites Ireland. It followed their shattering World Cup quarter-final loss to South Africa,",
         "2": "Sports",
         "3": "https://www.msn.com/en-us/news/world/scotland-v-france-six-nations-2024-kick-off-time-today-how-to-watch-and-latest-news/ar-BB1i18iu",
         "4": "https://www.bing.com/th?id=OVFT.H_bNkaoWtGCq5FgxkJpvyC&pid=News",
         "5": "The Telegraph on MSN.com",
         "6": "10-Feb-2024",
         "7": "negative",
         "index": 75
        },
        {
         "0": "What is the Super Bowl spread? Latest point spread for 49ers vs. Chiefs",
         "1": "Super Bowl in just over 24 hours, betting odds paint a clear picture. Here is the latest point spread and Vegas betting odds.",
         "2": "Sports",
         "3": "https://www.msn.com/en-us/sports/nfl/what-is-the-super-bowl-spread-latest-point-spread-for-49ers-vs-chiefs/ar-BB1i5v5f",
         "4": "https://www.bing.com/th?id=OVFT.ylSoWMBa4MbOPECLjMAsYy&pid=News",
         "5": "USA Today on MSN.com",
         "6": "10-Feb-2024",
         "7": "neutral",
         "index": 76
        },
        {
         "0": "European soccer news: Madrid outclass Girona, Leverkusen defeat Bayern",
         "1": "Real Madrid send a statement win to Girona while Bayer Leverkusen defeat Bayern Munich to continue to defy the odds in the Bundesliga. Here's what you missed in European soccer.",
         "2": "Sports",
         "3": "https://www.msn.com/en-us/sports/soccer/european-soccer-news-madrid-outclass-girona-leverkusen-defeat-bayern/ar-BB1i5SpE",
         "4": "https://www.bing.com/th?id=OVFT.1wbfGL38kkyres1xudGdsS&pid=News",
         "5": "ESPN on MSN.com",
         "6": "11-Feb-2024",
         "7": "neutral",
         "index": 77
        },
        {
         "0": "It’s a brand new route on the world’s most famous train – but it’ll cost you $8,500 one way",
         "1": "In travel news this week, a European airline is weighing passengers before takeoff, the new luxury train trip that costs $8,500 one way, and how Ukraine keeps its railways running, two years into the war.",
         "2": "LifeStyle",
         "3": "https://www.msn.com/en-us/travel/news/it-s-a-brand-new-route-on-the-world-s-most-famous-train-but-it-ll-cost-you-8500-one-way/ar-BB1i56QW",
         "4": "https://www.bing.com/th?id=OVFT.wMFk1sBsI3YwpWIM4NzkNS&pid=News",
         "5": "CNN on MSN.com",
         "6": "10-Feb-2024",
         "7": "negative",
         "index": 78
        },
        {
         "0": "New vintage boutique opens in Downtown El Paso",
         "1": "The El Paso Downtown Management District is hosting a grand-opening celebration Saturday, Feb. 10, marking the official inauguration of Pineapple Vintage in Downtown El Paso. The celebration started at noon with a ribbon-cutting celebration,",
         "2": "LifeStyle",
         "3": "https://www.msn.com/en-us/travel/news/new-vintage-boutique-opens-in-downtown-el-paso/ar-BB1i5RtN",
         "4": "https://www.bing.com/th?id=OVFT.RQvhCtfbUWI9U2b3flzTwy&pid=News",
         "5": "KTSM El Paso on MSN.com",
         "6": "10-Feb-2024",
         "7": "neutral",
         "index": 79
        },
        {
         "0": "WWE Star Daria Berenato Marries Toni Cassano in New Jersey Wedding Officiated by Maria Menounos (Exclusive)",
         "1": "WWE star Daria Berenato and fitness model Toni Cassano tied the knot on Feb. 10 in an elegant ceremony at the Legacy Castle in New Jersey in front of 140 guests.",
         "2": "LifeStyle",
         "3": "https://www.msn.com/en-us/tv/celebrity/wwe-star-daria-berenato-marries-toni-cassano-in-new-jersey-wedding-officiated-by-maria-menounos-exclusive/ar-BB1i5MS8",
         "4": "https://www.bing.com/th?id=OVFT.Uf1PpdBMv2QSYmMztUz_BC&pid=News",
         "5": "People on MSN.com",
         "6": "11-Feb-2024",
         "7": "neutral",
         "index": 80
        },
        {
         "0": "The best new popular fiction for February 2024 — Oh no! My dad’s a sperm donor",
         "1": "Lena’s gift forces her dad, Tom, to admit that he isn’t their biological father — Lena and Alison were donor-conceived, a secret he’d hoped to take to his grave. Alison, who’s trying to start a family with her wife,",
         "2": "Entertainment",
         "3": "https://www.thetimes.co.uk/article/bfda7b32-ebd5-467a-9c9d-1cd0a245750b?shareToken=d890d0be5d05de6f3f47fa9a10e3cdb3",
         "4": "https://www.bing.com/th?id=OVFT.QWr9Akj_iWRBZ9giCWg25i&pid=News",
         "5": "The Times",
         "6": "10-Feb-2024",
         "7": "neutral",
         "index": 81
        }
       ],
       "schema": [
        {
         "key": "0",
         "name": "title",
         "type": "string"
        },
        {
         "key": "1",
         "name": "description",
         "type": "string"
        },
        {
         "key": "2",
         "name": "category",
         "type": "string"
        },
        {
         "key": "3",
         "name": "url",
         "type": "string"
        },
        {
         "key": "4",
         "name": "image",
         "type": "string"
        },
        {
         "key": "5",
         "name": "provider",
         "type": "string"
        },
        {
         "key": "6",
         "name": "datePublished",
         "type": "string"
        },
        {
         "key": "7",
         "name": "sentiment",
         "type": "string"
        }
       ],
       "truncated": false
      }
     },
     "type": "Synapse.DataFrame"
    },
    "7218bca0-a1af-40ed-b854-075c2857eaff": {
     "persist_state": {
      "view": {
       "chartOptions": {
        "aggregationType": "count",
        "binsNumber": 10,
        "categoryFieldKeys": [
         "2"
        ],
        "chartType": "bar",
        "isStacked": false,
        "seriesFieldKeys": [
         "0"
        ],
        "wordFrequency": "-1"
       },
       "tableOptions": {},
       "type": "details"
      }
     },
     "sync_state": {
      "isSummary": false,
      "language": "scala",
      "table": {
       "rows": [
        {
         "0": "Charismatic Mithun Manhas changes shape of J&K cricket",
         "1": "Jammu, Mar 02: Mithun Manhas is a familiar name not only in J&K cricket but also in the entire cricketing world, especially at the domestic circuit of Indian cricket. He has scored around 10,000 runs in 157 matches of First Class Cricket with 27 centuries ...",
         "2": "Sports",
         "3": "http://www.risingkashmir.in/charismatic-mithun-manhas-changes-shape-of-jk-cricket",
         "4": "https://www.bing.com/th?id=OVFT.OjpOTfqMNa6cu1uvtpSWTS&pid=News",
         "5": "Rising Kashmir",
         "6": "03-Mar-2024",
         "8": {
          "documents": {
           "confidenceScores": {
            "negative": 0.02,
            "neutral": 0.9,
            "positive": 0.08
           },
           "id": "0",
           "sentences": [
            {
             "confidenceScores": {
              "negative": 0.01,
              "neutral": 0.93,
              "positive": 0.06
             },
             "length": 167,
             "offset": 0,
             "sentiment": "neutral",
             "text": "Jammu, Mar 02: Mithun Manhas is a familiar name not only in J&K cricket but also in the entire cricketing world, especially at the domestic circuit of Indian cricket. "
            },
            {
             "confidenceScores": {
              "negative": 0.03,
              "neutral": 0.87,
              "positive": 0.11
             },
             "length": 92,
             "offset": 167,
             "sentiment": "neutral",
             "text": "He has scored around 10,000 runs in 157 matches of First Class Cricket with 27 centuries ..."
            }
           ],
           "sentiment": "neutral",
           "warnings": []
          },
          "modelVersion": "2022-11-01"
         },
         "index": 1
        },
        {
         "0": "'Drivers were watching cricket match': Railway minister on what caused last year's Andhra accident",
         "1": "Railway Minister Ashwini Vaishnaw revealed that the driver and assistant driver of a passenger train involved in a fatal collision in Andhra Pradesh were watching a cricket match on their phones. The incident, which occurred on October 29, 2023 ...",
         "2": "LifeStyle",
         "3": "https://economictimes.indiatimes.com/industry/transportation/railways/drivers-were-watching-cricket-match-railway-minister-on-what-caused-last-years-andhra-accident/articleshow/108178092.cms",
         "4": "https://www.bing.com/th?id=OVFT.Y3A9NrUP1crns6kKN0xqnC&pid=News",
         "5": "Indiatimes",
         "6": "03-Mar-2024",
         "8": {
          "documents": {
           "confidenceScores": {
            "negative": 0.85,
            "neutral": 0.14,
            "positive": 0.01
           },
           "id": "1",
           "sentences": [
            {
             "confidenceScores": {
              "negative": 0.85,
              "neutral": 0.14,
              "positive": 0.01
             },
             "length": 196,
             "offset": 0,
             "sentiment": "negative",
             "text": "Railway Minister Ashwini Vaishnaw revealed that the driver and assistant driver of a passenger train involved in a fatal collision in Andhra Pradesh were watching a cricket match on their phones. "
            },
            {
             "confidenceScores": {
              "negative": 0.4,
              "neutral": 0.58,
              "positive": 0.03
             },
             "length": 52,
             "offset": 196,
             "sentiment": "neutral",
             "text": "The incident, which occurred on October 29, 2023 ..."
            }
           ],
           "sentiment": "negative",
           "warnings": []
          },
          "modelVersion": "2022-11-01"
         },
         "index": 2
        },
        {
         "0": "GUJ-W vs DC-W: Check our Fantasy Cricket Prediction, Tips, Playing Team Picks for Women’s Premier League 2024, Match 10 on March 3rd",
         "1": "Gujarat Giants Women will be up against Delhi Capitals Women in the 10th match of the Women’s Premier League 2024 on Sunday. Gujarat Giants are enduring a horrific run at the moment, losing 3 matches on the trot.",
         "2": "Sports",
         "3": "https://in.ign.com/dream-11-fantasy-gaming/203118/news/guj-w-vs-dc-w-check-our-fantasy-cricket-prediction-tips-playing-team-picks-for-womens-premier-league",
         "4": "https://www.bing.com/th?id=OVFT.QMbbuuT1eUBzsliLSESJNi&pid=News",
         "5": "IGN",
         "6": "03-Mar-2024",
         "8": {
          "documents": {
           "confidenceScores": {
            "negative": 0.97,
            "neutral": 0.03,
            "positive": 0
           },
           "id": "2",
           "sentences": [
            {
             "confidenceScores": {
              "negative": 0.01,
              "neutral": 0.95,
              "positive": 0.03
             },
             "length": 125,
             "offset": 0,
             "sentiment": "neutral",
             "text": "Gujarat Giants Women will be up against Delhi Capitals Women in the 10th match of the Women’s Premier League 2024 on Sunday. "
            },
            {
             "confidenceScores": {
              "negative": 0.97,
              "neutral": 0.03,
              "positive": 0
             },
             "length": 87,
             "offset": 125,
             "sentiment": "negative",
             "text": "Gujarat Giants are enduring a horrific run at the moment, losing 3 matches on the trot."
            }
           ],
           "sentiment": "negative",
           "warnings": []
          },
          "modelVersion": "2022-11-01"
         },
         "index": 3
        },
        {
         "0": "Meet Indian cricket’s 17th Man – son of an influential father and misfit in dressing room",
         "1": "Indian domestic circuit is replete with unwanted, unasked extra hands forced on the team by some compromised administrator",
         "2": "Sports",
         "3": "https://indianexpress.com/article/sports/cricket/meet-indian-crickets-17th-man-son-of-an-influential-father-and-misfits-in-dressing-room-9191386/",
         "4": "https://www.bing.com/th?id=OVFT.iZimGpdlE_a14QQYRDd3Ci&pid=News",
         "5": "The Indian Express",
         "6": "02-Mar-2024",
         "8": {
          "documents": {
           "confidenceScores": {
            "negative": 0.95,
            "neutral": 0.04,
            "positive": 0
           },
           "id": "3",
           "sentences": [
            {
             "confidenceScores": {
              "negative": 0.95,
              "neutral": 0.04,
              "positive": 0
             },
             "length": 122,
             "offset": 0,
             "sentiment": "negative",
             "text": "Indian domestic circuit is replete with unwanted, unasked extra hands forced on the team by some compromised administrator"
            }
           ],
           "sentiment": "negative",
           "warnings": []
          },
          "modelVersion": "2022-11-01"
         },
         "index": 4
        },
        {
         "0": "IVPL: Cricket Fever Peaks In Greater Noida As VVIP UP And Mumbai Champions Brace For Finals",
         "1": "Negi also lauded the quality of cricket being played in IVPL. \"We are extremely excited about the finals as a team. We're all very happy and we will try our best to win tomorrow. My experience with IVPL has been pretty amazing. The quality of cricket here ...",
         "2": "Sports",
         "3": "https://www.cricketnmore.com/cricket-news/ivpl-cricket-fever-peaks-in-greater-noida-as-vvip-up-and-mumbai-champions-brace-for-finals-139515",
         "4": "https://www.bing.com/th?id=OVFT.SuDSUAbDowXTZFiXZITiOy&pid=News",
         "5": "Cricketnmore",
         "6": "03-Mar-2024",
         "8": {
          "documents": {
           "confidenceScores": {
            "negative": 0.01,
            "neutral": 0.15,
            "positive": 0.83
           },
           "id": "4",
           "sentences": [
            {
             "confidenceScores": {
              "negative": 0.03,
              "neutral": 0.4,
              "positive": 0.57
             },
             "length": 62,
             "offset": 0,
             "sentiment": "positive",
             "text": "Negi also lauded the quality of cricket being played in IVPL. "
            },
            {
             "confidenceScores": {
              "negative": 0.02,
              "neutral": 0.14,
              "positive": 0.84
             },
             "length": 54,
             "offset": 62,
             "sentiment": "positive",
             "text": "\"We are extremely excited about the finals as a team. "
            },
            {
             "confidenceScores": {
              "negative": 0.01,
              "neutral": 0.02,
              "positive": 0.98
             },
             "length": 63,
             "offset": 116,
             "sentiment": "positive",
             "text": "We're all very happy and we will try our best to win tomorrow. "
            },
            {
             "confidenceScores": {
              "negative": 0.01,
              "neutral": 0.05,
              "positive": 0.94
             },
             "length": 49,
             "offset": 179,
             "sentiment": "positive",
             "text": "My experience with IVPL has been pretty amazing. "
            },
            {
             "confidenceScores": {
              "negative": 0.04,
              "neutral": 0.82,
              "positive": 0.14
             },
             "length": 31,
             "offset": 228,
             "sentiment": "neutral",
             "text": "The quality of cricket here ..."
            }
           ],
           "sentiment": "positive",
           "warnings": []
          },
          "modelVersion": "2022-11-01"
         },
         "index": 5
        },
        {
         "0": "Aussie cricket in shock as terrible incident could spell the end of star's career - and he's only 26",
         "1": "The future of Will Pucovski is again up in the air after the star batter suffered another knock to the head while batting during Victoria's Sheffield Shield clash with Tasmania in Hobart.",
         "2": "Sports",
         "3": "https://www.dailymail.co.uk/sport/cricket/article-13150891/Will-Pucovski-concussion-future-cricket-Victoria-Tasmania.html",
         "4": "https://www.bing.com/th?id=OVFT.HwVUZ57ck3gwc6U6o398YS&pid=News",
         "5": "Daily Mail",
         "6": "03-Mar-2024",
         "8": {
          "documents": {
           "confidenceScores": {
            "negative": 0.54,
            "neutral": 0.41,
            "positive": 0.05
           },
           "id": "5",
           "sentences": [
            {
             "confidenceScores": {
              "negative": 0.54,
              "neutral": 0.41,
              "positive": 0.05
             },
             "length": 187,
             "offset": 0,
             "sentiment": "negative",
             "text": "The future of Will Pucovski is again up in the air after the star batter suffered another knock to the head while batting during Victoria's Sheffield Shield clash with Tasmania in Hobart."
            }
           ],
           "sentiment": "negative",
           "warnings": []
          },
          "modelVersion": "2022-11-01"
         },
         "index": 6
        },
        {
         "0": "CCL 2024 Points Table, Match Results Today: Celebrity Cricket League Updated Points Table, Standings, Top Team",
         "1": "CCL 2024 Points Table: Films and cricket are the two most important and must-watch events in India, isn't it? Whenever there's a cricket match, we stay glued to our seats. Similarly, we gush over Salman Khan and Akshay Kumar's films in the theatres.",
         "2": "Sports",
         "3": "https://www.filmibeat.com/bollywood/viral/2024/ccl-2024-points-table-match-results-today-celebrity-cricket-league-10-updated-points-table-standings-387101.html",
         "4": "https://www.bing.com/th?id=OVFT.3DYdM96zL0-jfZgXMX3jWy&pid=News",
         "5": "Hot Pics",
         "6": "02-Mar-2024",
         "8": {
          "documents": {
           "confidenceScores": {
            "negative": 0.12,
            "neutral": 0.76,
            "positive": 0.13
           },
           "id": "6",
           "sentences": [
            {
             "confidenceScores": {
              "negative": 0.03,
              "neutral": 0.65,
              "positive": 0.32
             },
             "length": 110,
             "offset": 0,
             "sentiment": "neutral",
             "text": "CCL 2024 Points Table: Films and cricket are the two most important and must-watch events in India, isn't it? "
            },
            {
             "confidenceScores": {
              "negative": 0.02,
              "neutral": 0.97,
              "positive": 0.01
             },
             "length": 62,
             "offset": 110,
             "sentiment": "neutral",
             "text": "Whenever there's a cricket match, we stay glued to our seats. "
            },
            {
             "confidenceScores": {
              "negative": 0.3,
              "neutral": 0.66,
              "positive": 0.04
             },
             "length": 77,
             "offset": 172,
             "sentiment": "neutral",
             "text": "Similarly, we gush over Salman Khan and Akshay Kumar's films in the theatres."
            }
           ],
           "sentiment": "neutral",
           "warnings": []
          },
          "modelVersion": "2022-11-01"
         },
         "index": 7
        },
        {
         "0": "Ashwini Vaishnaw on Andhra train collision: 'Driver was watching cricket on phone'",
         "1": "Railway Minister Ashwini Vaishnaw on Saturday revealed that the driver and the assistant driver of one of the two passenger trains that collided in Andhra Pradesh, leading to the death of 14 passengers on October 29, 2023, were watching a cricket match on ...",
         "2": "India",
         "3": "https://www.msn.com/en-in/money/topstories/ashwini-vaishnaw-on-andhra-train-collision-driver-was-watching-cricket-on-phone/ar-BB1jfyB9",
         "4": "https://www.bing.com/th?id=OVFT.6Tbg05LA__QdP6zKc5eiKS&pid=News",
         "5": "Business Today on MSN.com",
         "6": "03-Mar-2024",
         "8": {
          "documents": {
           "confidenceScores": {
            "negative": 0.7,
            "neutral": 0.26,
            "positive": 0.03
           },
           "id": "7",
           "sentences": [
            {
             "confidenceScores": {
              "negative": 0.7,
              "neutral": 0.26,
              "positive": 0.03
             },
             "length": 259,
             "offset": 0,
             "sentiment": "negative",
             "text": "Railway Minister Ashwini Vaishnaw on Saturday revealed that the driver and the assistant driver of one of the two passenger trains that collided in Andhra Pradesh, leading to the death of 14 passengers on October 29, 2023, were watching a cricket match on ..."
            }
           ],
           "sentiment": "negative",
           "warnings": []
          },
          "modelVersion": "2022-11-01"
         },
         "index": 8
        },
        {
         "0": "'Driver was watching cricket on phone': Minister on deadly Andhra train collision",
         "1": "The Rayagada Passenger train hit the Visakhapatnam Palasa train from behind at 7 pm in October last year on the Howrah-Chennai line in Kantakapalli in Vizianagaram district of Andhra Pradesh.",
         "2": "India",
         "3": "https://www.msn.com/en-in/news/India/2023-andhra-train-collision-vaishnaw-says-driver-was-watching-cricket-on-phone/ar-BB1jenUv",
         "4": "https://www.bing.com/th?id=OVFT.GQ-kKRkZVdrf_WiESfOJHS&pid=News",
         "5": "India Today on MSN.com",
         "6": "02-Mar-2024",
         "8": {
          "documents": {
           "confidenceScores": {
            "negative": 0.27,
            "neutral": 0.7,
            "positive": 0.02
           },
           "id": "8",
           "sentences": [
            {
             "confidenceScores": {
              "negative": 0.27,
              "neutral": 0.7,
              "positive": 0.02
             },
             "length": 191,
             "offset": 0,
             "sentiment": "neutral",
             "text": "The Rayagada Passenger train hit the Visakhapatnam Palasa train from behind at 7 pm in October last year on the Howrah-Chennai line in Kantakapalli in Vizianagaram district of Andhra Pradesh."
            }
           ],
           "sentiment": "neutral",
           "warnings": []
          },
          "modelVersion": "2022-11-01"
         },
         "index": 9
        },
        {
         "0": "Andhra Train Collision: ‘Driver Was Watching Cricket On Phone’, Says Railway Minister Ashwini Vaishnaw",
         "1": "Amaravati: The driver and the assistant driver of one of the two passenger trains, which collided in Andhra Pradesh in October 2023, were watching a cricket match on a smartphone, informed Railway Minister Ashwini Vaishnaw said on Saturday.",
         "2": "LifeStyle",
         "3": "https://www.msn.com/en-in/news/India/andhra-train-collision-driver-was-watching-cricket-on-phone-says-railway-minister-ashwini-vaishnaw/ar-BB1jeXP7",
         "4": "https://www.bing.com/th?id=OVFT.4_RxiSFwTYYMyhRz8UTPbC&pid=News",
         "5": "India.com on MSN.com",
         "6": "03-Mar-2024",
         "8": {
          "documents": {
           "confidenceScores": {
            "negative": 0.36,
            "neutral": 0.6,
            "positive": 0.04
           },
           "id": "9",
           "sentences": [
            {
             "confidenceScores": {
              "negative": 0.36,
              "neutral": 0.6,
              "positive": 0.04
             },
             "length": 240,
             "offset": 0,
             "sentiment": "neutral",
             "text": "Amaravati: The driver and the assistant driver of one of the two passenger trains, which collided in Andhra Pradesh in October 2023, were watching a cricket match on a smartphone, informed Railway Minister Ashwini Vaishnaw said on Saturday."
            }
           ],
           "sentiment": "neutral",
           "warnings": []
          },
          "modelVersion": "2022-11-01"
         },
         "index": 10
        },
        {
         "0": "GUJ-W Vs DEL-W Dream11 Prediction, WPL 2024, Match 10: Fantasy Cricket Tips, Probable Playing XIs, Injury Updates For Today’s Gujarat Giants Vs Delhi Capitals, 7.30 PM IST",
         "1": "GUJ-W vs DEL-W Dream11 Prediction, WPL 2024, Match 10: Languishing at the bottom of the table, Gujarat Giants will be hoping to end their winless run when they take on Delhi Capitals in a Women’s Premier League (WPL) 2024 match at the M Chinnaswamy ...",
         "2": "Sports",
         "3": "https://www.msn.com/en-in/news/other/guj-w-vs-del-w-dream11-prediction-wpl-2024-match-10-fantasy-cricket-tips-probable-playing-xis-injury-updates-for-today-s-gujarat-giants-vs-delhi-capitals-7-30-pm-ist/ar-BB1jfeG9",
         "4": "https://www.bing.com/th?id=OVFT.3vnZi3JKOcD11VtLAR-8EC&pid=News",
         "5": "India.com on MSN.com",
         "6": "03-Mar-2024",
         "8": {
          "documents": {
           "confidenceScores": {
            "negative": 0.04,
            "neutral": 0.78,
            "positive": 0.17
           },
           "id": "0",
           "sentences": [
            {
             "confidenceScores": {
              "negative": 0.04,
              "neutral": 0.78,
              "positive": 0.17
             },
             "length": 252,
             "offset": 0,
             "sentiment": "neutral",
             "text": "GUJ-W vs DEL-W Dream11 Prediction, WPL 2024, Match 10: Languishing at the bottom of the table, Gujarat Giants will be hoping to end their winless run when they take on Delhi Capitals in a Women’s Premier League (WPL) 2024 match at the M Chinnaswamy ..."
            }
           ],
           "sentiment": "neutral",
           "warnings": []
          },
          "modelVersion": "2022-11-01"
         },
         "index": 11
        },
        {
         "0": "Ranji Trophy 2024: Shreyas Iyer struggles with poor form as he makes his comeback in Domestic Cricket",
         "1": "It was Iyer’s first domestic match since the Board of Control for Cricket in India (BCCI) did not award him a central contract. The decision has caused quite a stir among both fans and experts, with many believing that the choice to omit Iyer and Ishan ...",
         "2": "Sports",
         "3": "https://www.msn.com/en-in/news/other/ranji-trophy-2024-shreyas-iyer-struggles-with-poor-form-as-he-makes-his-comeback-in-domestic-cricket/ar-BB1jfr4H",
         "4": "https://www.bing.com/th?id=OVFT.-NQg1csxTuGX-77sQv0ArC&pid=News",
         "5": "Cricket Country on MSN.com",
         "6": "03-Mar-2024",
         "8": {
          "documents": {
           "confidenceScores": {
            "negative": 0.59,
            "neutral": 0.36,
            "positive": 0.05
           },
           "id": "1",
           "sentences": [
            {
             "confidenceScores": {
              "negative": 0.51,
              "neutral": 0.48,
              "positive": 0.01
             },
             "length": 128,
             "offset": 0,
             "sentiment": "negative",
             "text": "It was Iyer’s first domestic match since the Board of Control for Cricket in India (BCCI) did not award him a central contract. "
            },
            {
             "confidenceScores": {
              "negative": 0.68,
              "neutral": 0.24,
              "positive": 0.08
             },
             "length": 128,
             "offset": 128,
             "sentiment": "negative",
             "text": "The decision has caused quite a stir among both fans and experts, with many believing that the choice to omit Iyer and Ishan ..."
            }
           ],
           "sentiment": "negative",
           "warnings": []
          },
          "modelVersion": "2022-11-01"
         },
         "index": 12
        },
        {
         "0": "Virat Kohli and James Anderson had some incredible face-offs with each other in Test Cricket.",
         "1": "Veteran England pacer James Anderson rued for having a missing chance to play against Team India star batter Virat Kohli in the ongoing Test series. Kohli withdrew from the five Tests against visiting England team to be with his wife Anuksha Sharma for the birth of their second child, a son, Akaay.",
         "2": "Sports",
         "3": "https://www.msn.com/en-in/sports/cricket/it-s-a-shame-he-s-not-been-playing-james-anderson-on-virat-kohlis-absence-in-ind-vs-eng-test-series/ar-BB1jdDyC",
         "4": "https://www.bing.com/th?id=OVFT.gO6seUNG-m8q9iJ03RY7GC&pid=News",
         "5": "The Free Press Journal on MSN.com",
         "6": "02-Mar-2024",
         "8": {
          "documents": {
           "confidenceScores": {
            "negative": 0.78,
            "neutral": 0.2,
            "positive": 0.02
           },
           "id": "2",
           "sentences": [
            {
             "confidenceScores": {
              "negative": 0.78,
              "neutral": 0.2,
              "positive": 0.02
             },
             "length": 149,
             "offset": 0,
             "sentiment": "negative",
             "text": "Veteran England pacer James Anderson rued for having a missing chance to play against Team India star batter Virat Kohli in the ongoing Test series. "
            },
            {
             "confidenceScores": {
              "negative": 0.4,
              "neutral": 0.54,
              "positive": 0.06
             },
             "length": 150,
             "offset": 149,
             "sentiment": "neutral",
             "text": "Kohli withdrew from the five Tests against visiting England team to be with his wife Anuksha Sharma for the birth of their second child, a son, Akaay."
            }
           ],
           "sentiment": "negative",
           "warnings": []
          },
          "modelVersion": "2022-11-01"
         },
         "index": 13
        },
        {
         "0": "Mumbai vs Tamil Nadu, Ranji Trophy semifinal: Shreyas Iyer fails to deliver on his return to domestic cricket",
         "1": "Shreyas Iyer, an out-of-favour India batter, failed to contribute with the bat in the Ranji Trophy semifinal match between Mumbai and Tamil Nadu. He was dismissed by Tamil Nadu pacer Sandeep Warrier for just 3 runs in their first innings.",
         "2": "Sports",
         "3": "https://www.msn.com/en-in/sports/cricket/mumbai-vs-tamil-nadu-ranji-trophy-semifinal-shreyas-iyer-fails-to-deliver-on-his-return-to-domestic-cricket/ar-BB1jf79F",
         "4": "https://www.bing.com/th?id=OVFT.kAPYC46obBxBQaac9RbhyC&pid=News",
         "5": "The Times of India on MSN.com",
         "6": "03-Mar-2024",
         "8": {
          "documents": {
           "confidenceScores": {
            "negative": 0.69,
            "neutral": 0.3,
            "positive": 0.01
           },
           "id": "3",
           "sentences": [
            {
             "confidenceScores": {
              "negative": 0.74,
              "neutral": 0.24,
              "positive": 0.02
             },
             "length": 146,
             "offset": 0,
             "sentiment": "negative",
             "text": "Shreyas Iyer, an out-of-favour India batter, failed to contribute with the bat in the Ranji Trophy semifinal match between Mumbai and Tamil Nadu. "
            },
            {
             "confidenceScores": {
              "negative": 0.63,
              "neutral": 0.36,
              "positive": 0.01
             },
             "length": 92,
             "offset": 146,
             "sentiment": "negative",
             "text": "He was dismissed by Tamil Nadu pacer Sandeep Warrier for just 3 runs in their first innings."
            }
           ],
           "sentiment": "negative",
           "warnings": []
          },
          "modelVersion": "2022-11-01"
         },
         "index": 14
        },
        {
         "0": "'Playing red-ball games will produce more wicket-taking bowlers', says Mamatha Maben on format’s return to women's domestic cricket",
         "1": "The commencement of the Senior Women's Inter-Zonal Multi-Day Trophy in Pune from March 28 will signal the revival of red-ball cricket for female cricketers in the Indian domestic circuit, following a six-year absence.",
         "2": "Sports",
         "3": "https://www.msn.com/en-in/sports/cricket/playing-red-ball-games-will-produce-more-wicket-taking-bowlers-mamatha-maben-on-return-of-women-s-inter-zonal-multi-day-trophy/ar-BB1jffI0",
         "4": "https://www.bing.com/th?id=OVFT.aYgeEJpOLN4o4Uq1KVWC2S&pid=News",
         "5": "News18 on MSN.com",
         "6": "03-Mar-2024",
         "8": {
          "documents": {
           "confidenceScores": {
            "negative": 0.02,
            "neutral": 0.83,
            "positive": 0.15
           },
           "id": "4",
           "sentences": [
            {
             "confidenceScores": {
              "negative": 0.02,
              "neutral": 0.83,
              "positive": 0.15
             },
             "length": 217,
             "offset": 0,
             "sentiment": "neutral",
             "text": "The commencement of the Senior Women's Inter-Zonal Multi-Day Trophy in Pune from March 28 will signal the revival of red-ball cricket for female cricketers in the Indian domestic circuit, following a six-year absence."
            }
           ],
           "sentiment": "neutral",
           "warnings": []
          },
          "modelVersion": "2022-11-01"
         },
         "index": 15
        },
        {
         "0": "Tim Southee keeps door open for retired Neil Wagner's return after loss in first Test against Australia",
         "1": "New Zealand skipper Tim Southee has indicated that retired pacer Neil Wagner might be called out of retirement for the second Test against Australia. Southee's comments came after New Zealand lost the first Test by 172 runs and debutant pacer Will O'Rourke got injured.",
         "2": "Sports",
         "3": "https://www.msn.com/en-in/sports/other/tim-southee-keeps-door-open-for-retired-neil-wagners-return-after-loss-in-first-test-against-australia/ar-BB1jfk6C",
         "4": "https://www.bing.com/th?id=OVFT.hyeyBiLzUJIJgalxGfmLSS&pid=News",
         "5": "WION on MSN.com",
         "6": "03-Mar-2024",
         "8": {
          "documents": {
           "confidenceScores": {
            "negative": 0.9,
            "neutral": 0.1,
            "positive": 0.01
           },
           "id": "5",
           "sentences": [
            {
             "confidenceScores": {
              "negative": 0.07,
              "neutral": 0.89,
              "positive": 0.03
             },
             "length": 150,
             "offset": 0,
             "sentiment": "neutral",
             "text": "New Zealand skipper Tim Southee has indicated that retired pacer Neil Wagner might be called out of retirement for the second Test against Australia. "
            },
            {
             "confidenceScores": {
              "negative": 0.9,
              "neutral": 0.1,
              "positive": 0.01
             },
             "length": 119,
             "offset": 150,
             "sentiment": "negative",
             "text": "Southee's comments came after New Zealand lost the first Test by 172 runs and debutant pacer Will O'Rourke got injured."
            }
           ],
           "sentiment": "negative",
           "warnings": []
          },
          "modelVersion": "2022-11-01"
         },
         "index": 16
        },
        {
         "0": "\"World Cricket doing everything to make sure West Indies Cricket is never strong again\": CWI CEO Grave",
         "1": "CEO Jonny Grave slammed the International Cricket Council (ICC) for not supporting the board financially and alleging that the world cricket is doing everything in its power to make sure that cricket in the Caribbean is never strong again.",
         "2": "Sports",
         "3": "https://www.msn.com/en-xl/sports/cricket/world-cricket-doing-everything-to-make-sure-west-indies-cricket-is-never-strong-again-cwi-ceo-grave/ar-BB1jfyyv",
         "4": "https://www.bing.com/th?id=OVFT.Z88zUzi6DP_idExsvXB9oC&pid=News",
         "5": "Asian News International on MSN.com",
         "6": "03-Mar-2024",
         "8": {
          "documents": {
           "confidenceScores": {
            "negative": 0.87,
            "neutral": 0.12,
            "positive": 0.02
           },
           "id": "6",
           "sentences": [
            {
             "confidenceScores": {
              "negative": 0.87,
              "neutral": 0.12,
              "positive": 0.02
             },
             "length": 239,
             "offset": 0,
             "sentiment": "negative",
             "text": "CEO Jonny Grave slammed the International Cricket Council (ICC) for not supporting the board financially and alleging that the world cricket is doing everything in its power to make sure that cricket in the Caribbean is never strong again."
            }
           ],
           "sentiment": "negative",
           "warnings": []
          },
          "modelVersion": "2022-11-01"
         },
         "index": 17
        },
        {
         "0": "BAN vs SL 1st T20I: Sylhet International Cricket Stadium Pitch Report, Weather Forecast, T20 Stats & Records",
         "1": "Bangladesh will host Sri Lanka in the first T20I of the three-match series at the Sylhet International Cricket Stadium in Sylhet on Monday (March 4). The series provide both teams a chance to test their squads before the T20 World Cup 2024 in June.",
         "2": "Sports",
         "3": "https://www.mykhel.com/cricket/ban-vs-sl-1st-t20i-sylhet-stadium-pitch-report-weather-forecast-t20-stats-records-267849.html",
         "4": "https://www.bing.com/th?id=OVFT.BXNqsgw1epLXLwAoqdQ1ki&pid=News",
         "5": "mykhel",
         "6": "03-Mar-2024",
         "8": {
          "documents": {
           "confidenceScores": {
            "negative": 0.01,
            "neutral": 0.96,
            "positive": 0.03
           },
           "id": "7",
           "sentences": [
            {
             "confidenceScores": {
              "negative": 0.01,
              "neutral": 0.96,
              "positive": 0.03
             },
             "length": 150,
             "offset": 0,
             "sentiment": "neutral",
             "text": "Bangladesh will host Sri Lanka in the first T20I of the three-match series at the Sylhet International Cricket Stadium in Sylhet on Monday (March 4). "
            },
            {
             "confidenceScores": {
              "negative": 0.01,
              "neutral": 0.95,
              "positive": 0.04
             },
             "length": 98,
             "offset": 150,
             "sentiment": "neutral",
             "text": "The series provide both teams a chance to test their squads before the T20 World Cup 2024 in June."
            }
           ],
           "sentiment": "neutral",
           "warnings": []
          },
          "modelVersion": "2022-11-01"
         },
         "index": 18
        },
        {
         "0": "UAE Vs Scotland, ICC Men's Cricket World Cup League 2 Live Streaming: When, Where To Watch",
         "1": "After suffering a defeat in their first match against Canada, both wounded teams - the United Arab Emirates and Scotland are gearing up for their first encounter in the ICC Men's Cricket World Cup League 2, scheduled to be held on March 3, Sunday in Dubai.",
         "2": "Sports",
         "3": "https://www.outlookindia.com/sports/cricket/uae-vs-scotland-icc-mens-cricket-world-cup-league-2-live-streaming-when-where-to-watch-squad-and-all-details",
         "4": "https://www.bing.com/th?id=OVFT.3KDHAD_67oR-nYyqZUXiDy&pid=News",
         "5": "Outlookindia",
         "6": "02-Mar-2024",
         "8": {
          "documents": {
           "confidenceScores": {
            "negative": 0.44,
            "neutral": 0.52,
            "positive": 0.04
           },
           "id": "8",
           "sentences": [
            {
             "confidenceScores": {
              "negative": 0.44,
              "neutral": 0.52,
              "positive": 0.04
             },
             "length": 256,
             "offset": 0,
             "sentiment": "neutral",
             "text": "After suffering a defeat in their first match against Canada, both wounded teams - the United Arab Emirates and Scotland are gearing up for their first encounter in the ICC Men's Cricket World Cup League 2, scheduled to be held on March 3, Sunday in Dubai."
            }
           ],
           "sentiment": "neutral",
           "warnings": []
          },
          "modelVersion": "2022-11-01"
         },
         "index": 19
        },
        {
         "0": "Colosseum cricket",
         "1": "But it was the bludgeoning of Pakistan that established its reputation for unbridled aggression and win-at-all-costs methods Rajkot: England's Ben Duckett with teammate Ben Stokes celebrates scoring 150 runs during the 3rd day of the 3rd cricket test match ...",
         "2": "Sports",
         "3": "https://www.telegraphindia.com/opinion/colosseum-cricket-englands-cricketing-fortunes-improved-after-its-bazball-makeover/cid/2004397",
         "4": "https://www.bing.com/th?id=OVFT.e9AhTj6CYWGHsN9LA6SZXy&pid=News",
         "5": "The Telegraph",
         "6": "03-Mar-2024",
         "8": {
          "documents": {
           "confidenceScores": {
            "negative": 0.41,
            "neutral": 0.52,
            "positive": 0.07
           },
           "id": "9",
           "sentences": [
            {
             "confidenceScores": {
              "negative": 0.41,
              "neutral": 0.52,
              "positive": 0.07
             },
             "length": 260,
             "offset": 0,
             "sentiment": "neutral",
             "text": "But it was the bludgeoning of Pakistan that established its reputation for unbridled aggression and win-at-all-costs methods Rajkot: England's Ben Duckett with teammate Ben Stokes celebrates scoring 150 runs during the 3rd day of the 3rd cricket test match ..."
            }
           ],
           "sentiment": "neutral",
           "warnings": []
          },
          "modelVersion": "2022-11-01"
         },
         "index": 20
        },
        {
         "0": "Sports analytics may be outnumbered when it comes to artificial intelligence",
         "1": "BOSTON -- When it comes to artificial intelligence, the sports analytics crowd may be outnumbered. The people who killed the sacrifice bunt and turned NBA games into a 3-point shooting contest aren’t quite sure what will happen when AI fully invades sports — whether in the front office or on the field.",
         "2": "Sports",
         "3": "https://www.msn.com/en-us/sports/nba/sports-analytics-may-be-outnumbered-when-it-comes-to-artificial-intelligence/ar-BB1je6WG",
         "4": "https://www.bing.com/th?id=OVFT.b6Krb2Fb-nzoTVQMxGDDyS&pid=News",
         "5": "The Associated Press – Sports on MSN.com",
         "6": "02-Mar-2024",
         "8": {
          "documents": {
           "confidenceScores": {
            "negative": 0.72,
            "neutral": 0.26,
            "positive": 0.02
           },
           "id": "0",
           "sentences": [
            {
             "confidenceScores": {
              "negative": 0.05,
              "neutral": 0.89,
              "positive": 0.05
             },
             "length": 99,
             "offset": 0,
             "sentiment": "neutral",
             "text": "BOSTON -- When it comes to artificial intelligence, the sports analytics crowd may be outnumbered. "
            },
            {
             "confidenceScores": {
              "negative": 0.72,
              "neutral": 0.26,
              "positive": 0.02
             },
             "length": 204,
             "offset": 99,
             "sentiment": "negative",
             "text": "The people who killed the sacrifice bunt and turned NBA games into a 3-point shooting contest aren’t quite sure what will happen when AI fully invades sports — whether in the front office or on the field."
            }
           ],
           "sentiment": "negative",
           "warnings": []
          },
          "modelVersion": "2022-11-01"
         },
         "index": 21
        },
        {
         "0": "Indian Sports LIVE, March 3: News, updates, scores, results and commentary",
         "1": "ESPN BET is operated by PENN Entertainment, Inc. and its subsidiaries ('PENN'). ESPN BET is available in states where PENN is licensed to offer sports wagering. Must be 21+ to wager. If you or someone you know has a gambling problem and wants help, call 1-800-GAMBLER.",
         "2": "Sports",
         "3": "https://www.espn.com/espn/story/_/id/39638377/indian-sports-live-news-updates-scores-results-commentary-sunday-march-3",
         "4": "https://www.bing.com/th?id=OVFT.QsQU136FSylPigS5PxftyS&pid=News",
         "5": "ESPN",
         "6": "03-Mar-2024",
         "8": {
          "documents": {
           "confidenceScores": {
            "negative": 0.04,
            "neutral": 0.93,
            "positive": 0.03
           },
           "id": "1",
           "sentences": [
            {
             "confidenceScores": {
              "negative": 0.01,
              "neutral": 0.99,
              "positive": 0.01
             },
             "length": 80,
             "offset": 0,
             "sentiment": "neutral",
             "text": "ESPN BET is operated by PENN Entertainment, Inc. and its subsidiaries ('PENN'). "
            },
            {
             "confidenceScores": {
              "negative": 0,
              "neutral": 0.99,
              "positive": 0.01
             },
             "length": 81,
             "offset": 80,
             "sentiment": "neutral",
             "text": "ESPN BET is available in states where PENN is licensed to offer sports wagering. "
            },
            {
             "confidenceScores": {
              "negative": 0.01,
              "neutral": 0.97,
              "positive": 0.02
             },
             "length": 22,
             "offset": 161,
             "sentiment": "neutral",
             "text": "Must be 21+ to wager. "
            },
            {
             "confidenceScores": {
              "negative": 0.16,
              "neutral": 0.78,
              "positive": 0.06
             },
             "length": 85,
             "offset": 183,
             "sentiment": "neutral",
             "text": "If you or someone you know has a gambling problem and wants help, call 1-800-GAMBLER."
            }
           ],
           "sentiment": "neutral",
           "warnings": []
          },
          "modelVersion": "2022-11-01"
         },
         "index": 22
        },
        {
         "0": "Sports world praises LeBron James for reaching 40,000 points",
         "1": "LeBron James extended his all-time scoring record on Saturday by becoming the first NBA player to reach 40,000 regular-season points.",
         "2": "Sports",
         "3": "https://www.msn.com/en-us/sports/nba/sports-world-praises-lebron-james-for-reaching-40000-points/ar-BB1jeTyn",
         "4": "https://www.bing.com/th?id=OVFT.pQK_b7gFlLtMwnxw2ZjgOS&pid=News",
         "5": "ESPN on MSN.com",
         "6": "03-Mar-2024",
         "8": {
          "documents": {
           "confidenceScores": {
            "negative": 0.01,
            "neutral": 0.77,
            "positive": 0.22
           },
           "id": "2",
           "sentences": [
            {
             "confidenceScores": {
              "negative": 0.01,
              "neutral": 0.77,
              "positive": 0.22
             },
             "length": 133,
             "offset": 0,
             "sentiment": "neutral",
             "text": "LeBron James extended his all-time scoring record on Saturday by becoming the first NBA player to reach 40,000 regular-season points."
            }
           ],
           "sentiment": "neutral",
           "warnings": []
          },
          "modelVersion": "2022-11-01"
         },
         "index": 23
        },
        {
         "0": "Brock Badgers men's, women's wrestling teams sweep national championships",
         "1": "The Brock Badgers kicked off the winter U Sports championship season by taking both the men’s and women’s national wrestling titles in Guelph, Ont., on Saturday.",
         "2": "Sports",
         "3": "https://www.cbc.ca/sports/u-sports-wrestling-championships-mar-2-1.7132405",
         "4": "https://www.bing.com/th?id=OVFT.4mbH3CDkRlXSdWBzkiB9wy&pid=News",
         "5": "CBC.ca",
         "6": "03-Mar-2024",
         "8": {
          "documents": {
           "confidenceScores": {
            "negative": 0.01,
            "neutral": 0.9,
            "positive": 0.08
           },
           "id": "3",
           "sentences": [
            {
             "confidenceScores": {
              "negative": 0.01,
              "neutral": 0.9,
              "positive": 0.08
             },
             "length": 161,
             "offset": 0,
             "sentiment": "neutral",
             "text": "The Brock Badgers kicked off the winter U Sports championship season by taking both the men’s and women’s national wrestling titles in Guelph, Ont., on Saturday."
            }
           ],
           "sentiment": "neutral",
           "warnings": []
          },
          "modelVersion": "2022-11-01"
         },
         "index": 24
        },
        {
         "0": "Red-hot Islanders’ task: ‘Keep building’ on momentum",
         "1": "The Islanders know they cannot slow down now. And their confidence is at a high after a crushing 5-1 defeat of the Bruins on home ice Saturday night.",
         "2": "Sports",
         "3": "https://www.msn.com/en-us/sports/other/red-hot-islanders-task-keep-building-on-momentum/ar-BB1jfrqR",
         "4": "https://www.bing.com/th?id=OVFT.YiKgWmb_zyvua0bOk0OW0S&pid=News",
         "5": "New York Post on MSN.com",
         "6": "03-Mar-2024",
         "8": {
          "documents": {
           "confidenceScores": {
            "negative": 0.58,
            "neutral": 0.38,
            "positive": 0.04
           },
           "id": "4",
           "sentences": [
            {
             "confidenceScores": {
              "negative": 0.06,
              "neutral": 0.91,
              "positive": 0.03
             },
             "length": 46,
             "offset": 0,
             "sentiment": "neutral",
             "text": "The Islanders know they cannot slow down now. "
            },
            {
             "confidenceScores": {
              "negative": 0.58,
              "neutral": 0.38,
              "positive": 0.04
             },
             "length": 103,
             "offset": 46,
             "sentiment": "negative",
             "text": "And their confidence is at a high after a crushing 5-1 defeat of the Bruins on home ice Saturday night."
            }
           ],
           "sentiment": "negative",
           "warnings": []
          },
          "modelVersion": "2022-11-01"
         },
         "index": 25
        },
        {
         "0": "Letters to Sports: Readers recognize Helene Elliott and her impact",
         "1": "Readers of the Los Angeles Times Sports section pay tribute to the career of columnist Helene Elliott and weigh in on Mick Cronin's decision making.",
         "2": "Sports",
         "3": "https://www.msn.com/en-us/sports/other/letters-to-sports-readers-recognize-helene-elliott-and-her-impact/ar-BB1jdnTg",
         "4": "https://www.bing.com/th?id=OVFT.4fKr8MXd9OCl71E6ee0d7i&pid=News",
         "5": "Los Angeles Times on MSN.com",
         "6": "02-Mar-2024",
         "8": {
          "documents": {
           "confidenceScores": {
            "negative": 0.02,
            "neutral": 0.64,
            "positive": 0.34
           },
           "id": "5",
           "sentences": [
            {
             "confidenceScores": {
              "negative": 0.02,
              "neutral": 0.64,
              "positive": 0.34
             },
             "length": 148,
             "offset": 0,
             "sentiment": "neutral",
             "text": "Readers of the Los Angeles Times Sports section pay tribute to the career of columnist Helene Elliott and weigh in on Mick Cronin's decision making."
            }
           ],
           "sentiment": "neutral",
           "warnings": []
          },
          "modelVersion": "2022-11-01"
         },
         "index": 26
        },
        {
         "0": "D.C. United stages late two-goal comeback to earn draw with Timbers",
         "1": "Facing a 2-0 deficit and playing without star Christian Benteke, who was scratched before kickoff with an injury, United caught a late spark and earned a point in Portland, Ore.",
         "2": "Sports",
         "3": "https://www.msn.com/en-us/sports/other/dc-united-stages-late-two-goal-comeback-to-earn-draw-with-timbers/ar-BB1jf241",
         "4": "https://www.bing.com/th?id=OVFT.S3_KA9AZo1rCOfReobPE4S&pid=News",
         "5": "The Washington Post on MSN.com",
         "6": "03-Mar-2024",
         "8": {
          "documents": {
           "confidenceScores": {
            "negative": 0.85,
            "neutral": 0.14,
            "positive": 0.01
           },
           "id": "6",
           "sentences": [
            {
             "confidenceScores": {
              "negative": 0.85,
              "neutral": 0.14,
              "positive": 0.01
             },
             "length": 177,
             "offset": 0,
             "sentiment": "negative",
             "text": "Facing a 2-0 deficit and playing without star Christian Benteke, who was scratched before kickoff with an injury, United caught a late spark and earned a point in Portland, Ore."
            }
           ],
           "sentiment": "negative",
           "warnings": []
          },
          "modelVersion": "2022-11-01"
         },
         "index": 27
        },
        {
         "0": "Dawn Staley helps reunite South Carolina's Kamilla Cardoso with family: 'An incredible moment for all of us'",
         "1": "Kamilla Cardoso has been a breakout star for the undefeated South Carolina Gamecocks. The Brazil native is the team's leading scorer and rebounder.",
         "2": "Sports",
         "3": "https://www.msn.com/en-us/sports/other/dawn-staley-helps-reunite-south-carolinas-kamilla-cardoso-with-family-an-incredible-moment-for-all-of-us/ar-BB1jeM7K",
         "4": "https://www.bing.com/th?id=OVFT.eHKEdUB4TwVFU54KJRnGdi&pid=News",
         "5": "Fox News on MSN.com",
         "6": "03-Mar-2024",
         "8": {
          "documents": {
           "confidenceScores": {
            "negative": 0.03,
            "neutral": 0.69,
            "positive": 0.28
           },
           "id": "7",
           "sentences": [
            {
             "confidenceScores": {
              "negative": 0.03,
              "neutral": 0.58,
              "positive": 0.39
             },
             "length": 86,
             "offset": 0,
             "sentiment": "neutral",
             "text": "Kamilla Cardoso has been a breakout star for the undefeated South Carolina Gamecocks. "
            },
            {
             "confidenceScores": {
              "negative": 0.02,
              "neutral": 0.81,
              "positive": 0.18
             },
             "length": 61,
             "offset": 86,
             "sentiment": "neutral",
             "text": "The Brazil native is the team's leading scorer and rebounder."
            }
           ],
           "sentiment": "neutral",
           "warnings": []
          },
          "modelVersion": "2022-11-01"
         },
         "index": 28
        },
        {
         "0": "When can we expect the last-freeze?",
         "1": "The start of meteorological spring has many people wondering how soon we might be saying “goodbye” to temperatures that dip to at least 32º. Despite the mild winter and a 7-day outlook that doesn’t include a freezing temperature in Chicago,",
         "2": "LifeStyle",
         "3": "https://www.msn.com/en-us/weather/topstories/when-can-we-expect-the-last-freeze/ar-BB1jfoAp",
         "4": "https://www.bing.com/th?id=OVFT.6Eo-KDNQ8-QXBzgx7SFUTi&pid=News",
         "5": "WGN-TV Chicago on MSN.com",
         "6": "03-Mar-2024",
         "8": {
          "documents": {
           "confidenceScores": {
            "negative": 0.17,
            "neutral": 0.67,
            "positive": 0.16
           },
           "id": "8",
           "sentences": [
            {
             "confidenceScores": {
              "negative": 0.02,
              "neutral": 0.75,
              "positive": 0.22
             },
             "length": 141,
             "offset": 0,
             "sentiment": "neutral",
             "text": "The start of meteorological spring has many people wondering how soon we might be saying “goodbye” to temperatures that dip to at least 32º. "
            },
            {
             "confidenceScores": {
              "negative": 0.31,
              "neutral": 0.59,
              "positive": 0.1
             },
             "length": 99,
             "offset": 141,
             "sentiment": "neutral",
             "text": "Despite the mild winter and a 7-day outlook that doesn’t include a freezing temperature in Chicago,"
            }
           ],
           "sentiment": "neutral",
           "warnings": []
          },
          "modelVersion": "2022-11-01"
         },
         "index": 29
        },
        {
         "0": "Ten examples of sports growing more and more insane",
         "1": "If a team — any pro team — denies anyone — gays, Estonians, atheists, Mao Marxists, transgender NCAA record-breaking swimmers, green-haired grandmothers, Uncle Leo — entry to a game based on their race, sexuality, ethnicity, religion, politics, biological birth or hairdresser, then we’ve reason to devote a game to the specifically oppressed.",
         "2": "Sports",
         "3": "https://www.yahoo.com/news/ten-examples-sports-growing-more-191214428.html",
         "4": "https://www.bing.com/th?id=OVFT.-S--_IJygUZFg61ulQppGS&pid=News",
         "5": "Yahoo",
         "6": "02-Mar-2024",
         "8": {
          "documents": {
           "confidenceScores": {
            "negative": 0.62,
            "neutral": 0.32,
            "positive": 0.06
           },
           "id": "9",
           "sentences": [
            {
             "confidenceScores": {
              "negative": 0.62,
              "neutral": 0.32,
              "positive": 0.06
             },
             "length": 343,
             "offset": 0,
             "sentiment": "negative",
             "text": "If a team — any pro team — denies anyone — gays, Estonians, atheists, Mao Marxists, transgender NCAA record-breaking swimmers, green-haired grandmothers, Uncle Leo — entry to a game based on their race, sexuality, ethnicity, religion, politics, biological birth or hairdresser, then we’ve reason to devote a game to the specifically oppressed."
            }
           ],
           "sentiment": "negative",
           "warnings": []
          },
          "modelVersion": "2022-11-01"
         },
         "index": 30
        },
        {
         "0": "Xavier Prep defeats Desert Vista to win girls' Open, the school's first basketball title",
         "1": "Championship banners are everywhere at Phoenix Xavier Prep. In the athletic facilities. In hallways. Down towards the administrative offices. When you have 138 of them, you have to get creative. They’re a reminder of the school’s dominance in just about every sport Arizona offers.",
         "2": "Sports",
         "3": "https://www.usatoday.com/story/sports/high-school/2024/03/02/xavier-prep-beats-desert-vista-to-win-open-claim-first-ever-title/72754011007/",
         "4": "https://www.bing.com/th?id=OVFT.erNM8yxM9bBQKp52MNXUWi&pid=News",
         "5": "USA Today",
         "6": "03-Mar-2024",
         "8": {
          "documents": {
           "confidenceScores": {
            "negative": 0.01,
            "neutral": 0.92,
            "positive": 0.07
           },
           "id": "0",
           "sentences": [
            {
             "confidenceScores": {
              "negative": 0.01,
              "neutral": 0.96,
              "positive": 0.03
             },
             "length": 60,
             "offset": 0,
             "sentiment": "neutral",
             "text": "Championship banners are everywhere at Phoenix Xavier Prep. "
            },
            {
             "confidenceScores": {
              "negative": 0.01,
              "neutral": 0.98,
              "positive": 0.02
             },
             "length": 28,
             "offset": 60,
             "sentiment": "neutral",
             "text": "In the athletic facilities. "
            },
            {
             "confidenceScores": {
              "negative": 0.01,
              "neutral": 0.98,
              "positive": 0.01
             },
             "length": 13,
             "offset": 88,
             "sentiment": "neutral",
             "text": "In hallways. "
            },
            {
             "confidenceScores": {
              "negative": 0.01,
              "neutral": 0.99,
              "positive": 0.01
             },
             "length": 41,
             "offset": 101,
             "sentiment": "neutral",
             "text": "Down towards the administrative offices. "
            },
            {
             "confidenceScores": {
              "negative": 0.01,
              "neutral": 0.95,
              "positive": 0.04
             },
             "length": 53,
             "offset": 142,
             "sentiment": "neutral",
             "text": "When you have 138 of them, you have to get creative. "
            },
            {
             "confidenceScores": {
              "negative": 0.02,
              "neutral": 0.65,
              "positive": 0.33
             },
             "length": 86,
             "offset": 195,
             "sentiment": "neutral",
             "text": "They’re a reminder of the school’s dominance in just about every sport Arizona offers."
            }
           ],
           "sentiment": "neutral",
           "warnings": []
          },
          "modelVersion": "2022-11-01"
         },
         "index": 31
        },
        {
         "0": "Christian Horner opens up on ‘testing’ week for wife Geri Halliwell and family",
         "1": "Christian Horner admits the past week has been “testing” for him and his family as he strode into the Bahrain paddock hand-in-hand with wife Geri Halliwell prior to Saturday’s Bahrain Grand Prix.",
         "2": "Sports",
         "3": "https://www.independent.co.uk/f1/christian-horner-geri-halliwell-f1-red-bull-bahrain-b2506120.html",
         "4": "https://www.bing.com/th?id=OVFT.drCd8P758Up2I2d6XDMyIS&pid=News",
         "5": "The Independent",
         "6": "03-Mar-2024",
         "8": {
          "documents": {
           "confidenceScores": {
            "negative": 0.07,
            "neutral": 0.83,
            "positive": 0.1
           },
           "id": "1",
           "sentences": [
            {
             "confidenceScores": {
              "negative": 0.07,
              "neutral": 0.83,
              "positive": 0.1
             },
             "length": 195,
             "offset": 0,
             "sentiment": "neutral",
             "text": "Christian Horner admits the past week has been “testing” for him and his family as he strode into the Bahrain paddock hand-in-hand with wife Geri Halliwell prior to Saturday’s Bahrain Grand Prix."
            }
           ],
           "sentiment": "neutral",
           "warnings": []
          },
          "modelVersion": "2022-11-01"
         },
         "index": 32
        },
        {
         "0": "'We cannot recycle our way out of plastic pollution'",
         "1": "Local environmental leaders will discuss the plastic problem Thursday. The public is welcome. The forum is part of IHM's anti-plastics campaign.",
         "2": "LifeStyle",
         "3": "https://news.yahoo.com/cannot-recycle-way-plastic-pollution-084210209.html",
         "4": "https://www.bing.com/th?id=OVFT.S9mxdHTq7B2krZYZgp60Ci&pid=News",
         "5": "YAHOO!News",
         "6": "03-Mar-2024",
         "8": {
          "documents": {
           "confidenceScores": {
            "negative": 0.02,
            "neutral": 0.34,
            "positive": 0.64
           },
           "id": "2",
           "sentences": [
            {
             "confidenceScores": {
              "negative": 0.08,
              "neutral": 0.9,
              "positive": 0.02
             },
             "length": 71,
             "offset": 0,
             "sentiment": "neutral",
             "text": "Local environmental leaders will discuss the plastic problem Thursday. "
            },
            {
             "confidenceScores": {
              "negative": 0.02,
              "neutral": 0.34,
              "positive": 0.64
             },
             "length": 23,
             "offset": 71,
             "sentiment": "positive",
             "text": "The public is welcome. "
            },
            {
             "confidenceScores": {
              "negative": 0.08,
              "neutral": 0.91,
              "positive": 0.01
             },
             "length": 50,
             "offset": 94,
             "sentiment": "neutral",
             "text": "The forum is part of IHM's anti-plastics campaign."
            }
           ],
           "sentiment": "positive",
           "warnings": []
          },
          "modelVersion": "2022-11-01"
         },
         "index": 33
        },
        {
         "0": "Small detail in America's NRL coverage proves the code has a huge mountain to climb to make an impact in America",
         "1": "The NRL season opener between Manly and South Sydney has been explosive success, but a photo from the match proves that the code has some work to do to make an impact in America.",
         "2": "Sports",
         "3": "https://www.dailymail.co.uk/sport/nrl/article-13150763/Major-League-Rugby-mistake-NRL-Las-Vegas-Souths-Manly.html",
         "4": "https://www.bing.com/th?id=OVFT.A4OaIZkBsJEA-gXFd7PS2y&pid=News",
         "5": "Daily Mail",
         "6": "03-Mar-2024",
         "8": {
          "documents": {
           "confidenceScores": {
            "negative": 0.04,
            "neutral": 0.54,
            "positive": 0.42
           },
           "id": "3",
           "sentences": [
            {
             "confidenceScores": {
              "negative": 0.04,
              "neutral": 0.54,
              "positive": 0.42
             },
             "length": 178,
             "offset": 0,
             "sentiment": "neutral",
             "text": "The NRL season opener between Manly and South Sydney has been explosive success, but a photo from the match proves that the code has some work to do to make an impact in America."
            }
           ],
           "sentiment": "neutral",
           "warnings": []
          },
          "modelVersion": "2022-11-01"
         },
         "index": 34
        },
        {
         "0": "Hoyas’ 15-point lead fades away in a heartbreaker against Xavier",
         "1": "Georgetown remains winless against the non-DePaul portion of the Big East after Saturday night’s 98-93 defeat at Capital One Arena.",
         "2": "Sports",
         "3": "https://www.msn.com/en-us/sports/other/hoyas-15-point-lead-over-xavier-fades-away-in-yet-another-loss/ar-BB1jeW3n",
         "4": "https://www.bing.com/th?id=OVFT.eaQXYVTGqZvYG5dwAehujy&pid=News",
         "5": "The Washington Post on MSN.com",
         "6": "03-Mar-2024",
         "8": {
          "documents": {
           "confidenceScores": {
            "negative": 0.68,
            "neutral": 0.3,
            "positive": 0.01
           },
           "id": "4",
           "sentences": [
            {
             "confidenceScores": {
              "negative": 0.68,
              "neutral": 0.3,
              "positive": 0.01
             },
             "length": 131,
             "offset": 0,
             "sentiment": "negative",
             "text": "Georgetown remains winless against the non-DePaul portion of the Big East after Saturday night’s 98-93 defeat at Capital One Arena."
            }
           ],
           "sentiment": "negative",
           "warnings": []
          },
          "modelVersion": "2022-11-01"
         },
         "index": 35
        },
        {
         "0": "TV tonight: an explosive finale for Vicky McClure in Trigger Point",
         "1": "Bomb disposal officer Lana faces a terrible dilemma. Plus: the excellent Alex Kingston tell’s the story of Frankenstein. Here’s what to watch this evening",
         "2": "LifeStyle",
         "3": "https://www.theguardian.com/tv-and-radio/2024/mar/03/tv-tonight-an-explosive-finale-for-vicky-mcclure-in-trigger-point",
         "4": "https://www.bing.com/th?id=OVFT.rbNRHmRv2AK1DQ71JFooyy&pid=News",
         "5": "The Guardian",
         "6": "03-Mar-2024",
         "8": {
          "documents": {
           "confidenceScores": {
            "negative": 0.48,
            "neutral": 0.05,
            "positive": 0.47
           },
           "id": "5",
           "sentences": [
            {
             "confidenceScores": {
              "negative": 0.94,
              "neutral": 0.05,
              "positive": 0.01
             },
             "length": 53,
             "offset": 0,
             "sentiment": "negative",
             "text": "Bomb disposal officer Lana faces a terrible dilemma. "
            },
            {
             "confidenceScores": {
              "negative": 0.01,
              "neutral": 0.05,
              "positive": 0.94
             },
             "length": 68,
             "offset": 53,
             "sentiment": "positive",
             "text": "Plus: the excellent Alex Kingston tell’s the story of Frankenstein. "
            },
            {
             "confidenceScores": {
              "negative": 0.07,
              "neutral": 0.52,
              "positive": 0.41
             },
             "length": 33,
             "offset": 121,
             "sentiment": "neutral",
             "text": "Here’s what to watch this evening"
            }
           ],
           "sentiment": "mixed",
           "warnings": []
          },
          "modelVersion": "2022-11-01"
         },
         "index": 36
        },
        {
         "0": "Farm heroes, crispy warts and water sports",
         "1": "Thank you for your dispatch on the costs of the Gaza war to the Israeli economy (“How the war in Gaza has hurt Israel’s economy”, World News, last week). I travelled from Hertfordshire to volunteer at",
         "2": "World",
         "3": "https://www.thetimes.co.uk/article/farm-heroes-crispy-warts-and-water-sports-ncgkrvrr2",
         "4": "https://www.bing.com/th?id=OVFT.V6xeFwujoJzWShsrS2oaxC&pid=News",
         "5": "The Times",
         "6": "03-Mar-2024",
         "8": {
          "documents": {
           "confidenceScores": {
            "negative": 0.33,
            "neutral": 0.15,
            "positive": 0.52
           },
           "id": "6",
           "sentences": [
            {
             "confidenceScores": {
              "negative": 0.33,
              "neutral": 0.15,
              "positive": 0.52
             },
             "length": 154,
             "offset": 0,
             "sentiment": "positive",
             "text": "Thank you for your dispatch on the costs of the Gaza war to the Israeli economy (“How the war in Gaza has hurt Israel’s economy”, World News, last week). "
            },
            {
             "confidenceScores": {
              "negative": 0.02,
              "neutral": 0.71,
              "positive": 0.26
             },
             "length": 46,
             "offset": 154,
             "sentiment": "neutral",
             "text": "I travelled from Hertfordshire to volunteer at"
            }
           ],
           "sentiment": "positive",
           "warnings": []
          },
          "modelVersion": "2022-11-01"
         },
         "index": 37
        },
        {
         "0": "NRL facing uphill battle to conquer the US, but claims a thrilling toehold in Las Vegas",
         "1": "A new sport won't crack the home of the brave overnight and one week of fun and footy in Las Vegas doesn't prove anything. But it was a pretty good start.",
         "2": "Sports",
         "3": "https://www.msn.com/en-au/sport/other/nrl-facing-uphill-battle-to-conquer-the-us-but-claims-a-thrilling-toehold-in-las-vegas/ar-BB1jfcil",
         "4": "https://www.bing.com/th?id=OVFT.2iGJ8HodTYsp4EpV6Svkai&pid=News",
         "5": "Australian Broadcasting Corporation on MSN.com",
         "6": "03-Mar-2024",
         "8": {
          "documents": {
           "confidenceScores": {
            "negative": 0.09,
            "neutral": 0.21,
            "positive": 0.7
           },
           "id": "7",
           "sentences": [
            {
             "confidenceScores": {
              "negative": 0.13,
              "neutral": 0.29,
              "positive": 0.58
             },
             "length": 123,
             "offset": 0,
             "sentiment": "positive",
             "text": "A new sport won't crack the home of the brave overnight and one week of fun and footy in Las Vegas doesn't prove anything. "
            },
            {
             "confidenceScores": {
              "negative": 0.05,
              "neutral": 0.13,
              "positive": 0.82
             },
             "length": 31,
             "offset": 123,
             "sentiment": "positive",
             "text": "But it was a pretty good start."
            }
           ],
           "sentiment": "positive",
           "warnings": []
          },
          "modelVersion": "2022-11-01"
         },
         "index": 38
        },
        {
         "0": "Aging Bridge Is a Flashpoint in Competitive Washington State House Race",
         "1": "Representative Marie Gluesenkamp Perez is running on fixing one of the busiest bridges in the region. Her far-right opponent calls it an “Antifa superhighway.”",
         "2": "Politics",
         "3": "https://www.nytimes.com/2024/03/03/us/politics/aging-bridge-is-a-flashpoint-in-competitive-washington-state-house-race.html",
         "4": "https://www.bing.com/th?id=OVFT.Q2sz2wpfceQW1RWlboqs-i&pid=News",
         "5": "The New York Times",
         "6": "03-Mar-2024",
         "8": {
          "documents": {
           "confidenceScores": {
            "negative": 0.08,
            "neutral": 0.89,
            "positive": 0.04
           },
           "id": "8",
           "sentences": [
            {
             "confidenceScores": {
              "negative": 0.01,
              "neutral": 0.95,
              "positive": 0.04
             },
             "length": 102,
             "offset": 0,
             "sentiment": "neutral",
             "text": "Representative Marie Gluesenkamp Perez is running on fixing one of the busiest bridges in the region. "
            },
            {
             "confidenceScores": {
              "negative": 0.15,
              "neutral": 0.82,
              "positive": 0.03
             },
             "length": 57,
             "offset": 102,
             "sentiment": "neutral",
             "text": "Her far-right opponent calls it an “Antifa superhighway.”"
            }
           ],
           "sentiment": "neutral",
           "warnings": []
          },
          "modelVersion": "2022-11-01"
         },
         "index": 39
        },
        {
         "0": "10Bet Cheltenham Offers: Latest Promos Ahead of the Cheltenham Festival 2024",
         "1": "10Bet's mix of Cheltenham Festival betting offers for 2024 makes them one of the best betting sites to consider for the big meeting. They have catered to both new and existing customers with their Cheltenham betting promos and their Acca Boost up to 100% offer is a valuable one to have with so much action across the four-day festival.",
         "2": "ScienceAndTechnology",
         "3": "https://www.independent.co.uk/betting/cheltenham-festival/10bet-cheltenham-offer",
         "4": "https://www.bing.com/th?id=OVFT.5Vuslqje12mJEn_5VDtM9C&pid=News",
         "5": "The Independent",
         "6": "03-Mar-2024",
         "8": {
          "documents": {
           "confidenceScores": {
            "negative": 0.01,
            "neutral": 0.29,
            "positive": 0.7
           },
           "id": "9",
           "sentences": [
            {
             "confidenceScores": {
              "negative": 0.01,
              "neutral": 0.5,
              "positive": 0.49
             },
             "length": 133,
             "offset": 0,
             "sentiment": "neutral",
             "text": "10Bet's mix of Cheltenham Festival betting offers for 2024 makes them one of the best betting sites to consider for the big meeting. "
            },
            {
             "confidenceScores": {
              "negative": 0.01,
              "neutral": 0.29,
              "positive": 0.7
             },
             "length": 203,
             "offset": 133,
             "sentiment": "positive",
             "text": "They have catered to both new and existing customers with their Cheltenham betting promos and their Acca Boost up to 100% offer is a valuable one to have with so much action across the four-day festival."
            }
           ],
           "sentiment": "positive",
           "warnings": []
          },
          "modelVersion": "2022-11-01"
         },
         "index": 40
        },
        {
         "0": "Is It Too Late to Buy Nvidia Stock?",
         "1": "A closer look at the company's forward multiples tells us that it may be a good idea to buy Nvidia right away.",
         "2": "ScienceAndTechnology",
         "3": "https://finance.yahoo.com/news/too-buy-nvidia-stock-084700090.html?fr=sycsrp_catchall",
         "4": "https://www.bing.com/th?id=OVFT.2BYBN1JwErA54iu3swVeXC&pid=News",
         "5": "YAHOO!Finance",
         "6": "03-Mar-2024",
         "8": {
          "documents": {
           "confidenceScores": {
            "negative": 0.01,
            "neutral": 0.84,
            "positive": 0.15
           },
           "id": "0",
           "sentences": [
            {
             "confidenceScores": {
              "negative": 0.01,
              "neutral": 0.84,
              "positive": 0.15
             },
             "length": 110,
             "offset": 0,
             "sentiment": "neutral",
             "text": "A closer look at the company's forward multiples tells us that it may be a good idea to buy Nvidia right away."
            }
           ],
           "sentiment": "neutral",
           "warnings": []
          },
          "modelVersion": "2022-11-01"
         },
         "index": 41
        },
        {
         "0": "Betting offer for Manchester City vs Manchester United: Enhanced odds",
         "1": "Claim this BoyleSports betting offer to get £30 in bonuses and enhanced odds on the Premier League match between Manchester City and Manchester United",
         "2": "Sports",
         "3": "https://www.telegraph.co.uk/betting/football/manchester-city-vs-manchester-united-free-bet-boylesports/",
         "4": "https://www.bing.com/th?id=OVFT.UgyUEvIDCOUPcsYlrfQ57S&pid=News",
         "5": "The Daily Telegraph",
         "6": "03-Mar-2024",
         "8": {
          "documents": {
           "confidenceScores": {
            "negative": 0.01,
            "neutral": 0.77,
            "positive": 0.22
           },
           "id": "1",
           "sentences": [
            {
             "confidenceScores": {
              "negative": 0.01,
              "neutral": 0.77,
              "positive": 0.22
             },
             "length": 150,
             "offset": 0,
             "sentiment": "neutral",
             "text": "Claim this BoyleSports betting offer to get £30 in bonuses and enhanced odds on the Premier League match between Manchester City and Manchester United"
            }
           ],
           "sentiment": "neutral",
           "warnings": []
          },
          "modelVersion": "2022-11-01"
         },
         "index": 42
        },
        {
         "0": "2024 Sarasota STRIVE Award Student Stories: Tashaun Bryant",
         "1": "A high school senior and 2024 recipient of a STRIVE Award, Tashaun has made an unlikely journey to Sarasota Military Academy.",
         "2": "LifeStyle",
         "3": "https://news.yahoo.com/2024-sarasota-strive-award-student-090239677.html",
         "4": "https://www.bing.com/th?id=OVFT.foPopeO9I9TlUs4pIxXwoy&pid=News",
         "5": "YAHOO!News",
         "6": "03-Mar-2024",
         "8": {
          "documents": {
           "confidenceScores": {
            "negative": 0.02,
            "neutral": 0.77,
            "positive": 0.22
           },
           "id": "0",
           "sentences": [
            {
             "confidenceScores": {
              "negative": 0.02,
              "neutral": 0.77,
              "positive": 0.22
             },
             "length": 125,
             "offset": 0,
             "sentiment": "neutral",
             "text": "A high school senior and 2024 recipient of a STRIVE Award, Tashaun has made an unlikely journey to Sarasota Military Academy."
            }
           ],
           "sentiment": "neutral",
           "warnings": []
          },
          "modelVersion": "2022-11-01"
         },
         "index": 43
        },
        {
         "0": "Polls open for Shreveport Times Student of Week voting: March 3-7",
         "1": "Which of these seven talented North Louisiana students will be chosen as the first Shreveport Times Student of the Week? You decide. Vote now!",
         "2": "LifeStyle",
         "3": "https://news.yahoo.com/polls-open-shreveport-times-student-110727459.html",
         "4": "https://www.bing.com/th?id=OVFT.goW_5GeM4-hX4vDf1DYxyC&pid=News",
         "5": "YAHOO!News",
         "6": "03-Mar-2024",
         "8": {
          "documents": {
           "confidenceScores": {
            "negative": 0.07,
            "neutral": 0.77,
            "positive": 0.17
           },
           "id": "1",
           "sentences": [
            {
             "confidenceScores": {
              "negative": 0.01,
              "neutral": 0.9,
              "positive": 0.09
             },
             "length": 121,
             "offset": 0,
             "sentiment": "neutral",
             "text": "Which of these seven talented North Louisiana students will be chosen as the first Shreveport Times Student of the Week? "
            },
            {
             "confidenceScores": {
              "negative": 0.02,
              "neutral": 0.93,
              "positive": 0.05
             },
             "length": 12,
             "offset": 121,
             "sentiment": "neutral",
             "text": "You decide. "
            },
            {
             "confidenceScores": {
              "negative": 0.17,
              "neutral": 0.48,
              "positive": 0.35
             },
             "length": 9,
             "offset": 133,
             "sentiment": "neutral",
             "text": "Vote now!"
            }
           ],
           "sentiment": "neutral",
           "warnings": []
          },
          "modelVersion": "2022-11-01"
         },
         "index": 44
        },
        {
         "0": "Check Out The Music Video Of The Latest Hindi Song Kende Ne Naina Sung By Vishal Mishra",
         "1": "Enjoy the latest Hindi song Kende Ne Naina sung by Vishal Mishra. The music for this captivating track has been composed by Rochak Kohli. Don't miss the opportunity to watch the latest Hindi video song Kende Ne Naina by Vishal Mishra and immerse yourself in its mesmerizing melodies.",
         "2": "LifeStyle",
         "3": "https://timesofindia.indiatimes.com/videos/entertainment/music/hindi/check-out-the-music-video-of-the-latest-hindi-song-kende-ne-naina-sung-by-vishal-mishra/videoshow/108177772.cms",
         "4": "https://www.bing.com/th?id=OVFT.NBTYJ2rHSKvwuzIZ-bUMYC&pid=News",
         "5": "Indiatimes",
         "6": "03-Mar-2024",
         "8": {
          "documents": {
           "confidenceScores": {
            "negative": 0.02,
            "neutral": 0.42,
            "positive": 0.56
           },
           "id": "2",
           "sentences": [
            {
             "confidenceScores": {
              "negative": 0.01,
              "neutral": 0.68,
              "positive": 0.3
             },
             "length": 66,
             "offset": 0,
             "sentiment": "neutral",
             "text": "Enjoy the latest Hindi song Kende Ne Naina sung by Vishal Mishra. "
            },
            {
             "confidenceScores": {
              "negative": 0.02,
              "neutral": 0.42,
              "positive": 0.56
             },
             "length": 72,
             "offset": 66,
             "sentiment": "positive",
             "text": "The music for this captivating track has been composed by Rochak Kohli. "
            },
            {
             "confidenceScores": {
              "negative": 0.03,
              "neutral": 0.5,
              "positive": 0.47
             },
             "length": 145,
             "offset": 138,
             "sentiment": "neutral",
             "text": "Don't miss the opportunity to watch the latest Hindi video song Kende Ne Naina by Vishal Mishra and immerse yourself in its mesmerizing melodies."
            }
           ],
           "sentiment": "positive",
           "warnings": []
          },
          "modelVersion": "2022-11-01"
         },
         "index": 45
        },
        {
         "0": "Check Out The Music Video Of The Latest Punjabi Song Dil Darian Sung By Kambi Rajpuria",
         "1": "Enjoy the latest Punjabi song Dil Darian sung by Kambi Rajpuria. The music for this captivating track has been composed by Ricky Khan. Don't miss the opportunity to watch the latest Punjabi video song Dil Darian by Kambi Rajpuria and immerse yourself in its mesmerizing melodies.",
         "2": "LifeStyle",
         "3": "https://timesofindia.indiatimes.com/videos/entertainment/music/punjabi/check-out-the-music-video-of-the-latest-punjabi-song-dil-darian-sung-by-kambi-rajpuria/videoshow/108178124.cms",
         "4": "https://www.bing.com/th?id=OVFT.cbbjgwxlnG04Mjpqtp8ZEy&pid=News",
         "5": "Indiatimes",
         "6": "03-Mar-2024",
         "8": {
          "documents": {
           "confidenceScores": {
            "negative": 0.02,
            "neutral": 0.46,
            "positive": 0.52
           },
           "id": "3",
           "sentences": [
            {
             "confidenceScores": {
              "negative": 0.02,
              "neutral": 0.54,
              "positive": 0.44
             },
             "length": 65,
             "offset": 0,
             "sentiment": "neutral",
             "text": "Enjoy the latest Punjabi song Dil Darian sung by Kambi Rajpuria. "
            },
            {
             "confidenceScores": {
              "negative": 0.02,
              "neutral": 0.46,
              "positive": 0.51
             },
             "length": 70,
             "offset": 65,
             "sentiment": "positive",
             "text": "The music for this captivating track has been composed by Ricky Khan. "
            },
            {
             "confidenceScores": {
              "negative": 0.02,
              "neutral": 0.46,
              "positive": 0.52
             },
             "length": 144,
             "offset": 135,
             "sentiment": "positive",
             "text": "Don't miss the opportunity to watch the latest Punjabi video song Dil Darian by Kambi Rajpuria and immerse yourself in its mesmerizing melodies."
            }
           ],
           "sentiment": "positive",
           "warnings": []
          },
          "modelVersion": "2022-11-01"
         },
         "index": 46
        },
        {
         "0": "Raye: Singer-songwriter makes history winning six Brit Awards",
         "1": "It was Raye's night as she made history at the Brit Awards, winning six of the seven prizes she was nominated for - beating Blur, Adele and Harry Styles' record four wins at a single ceremony. She is also the first woman to win songwriter of the year.",
         "2": "Entertainment",
         "3": "https://www.bbc.co.uk/news/entertainment-arts-68458922",
         "4": "https://www.bing.com/th?id=OVFT.aNFpkeTfQXgDzqhhBw5uRi&pid=News",
         "5": "BBC",
         "6": "03-Mar-2024",
         "8": {
          "documents": {
           "confidenceScores": {
            "negative": 0.03,
            "neutral": 0.66,
            "positive": 0.31
           },
           "id": "4",
           "sentences": [
            {
             "confidenceScores": {
              "negative": 0.03,
              "neutral": 0.75,
              "positive": 0.22
             },
             "length": 193,
             "offset": 0,
             "sentiment": "neutral",
             "text": "It was Raye's night as she made history at the Brit Awards, winning six of the seven prizes she was nominated for - beating Blur, Adele and Harry Styles' record four wins at a single ceremony. "
            },
            {
             "confidenceScores": {
              "negative": 0.03,
              "neutral": 0.57,
              "positive": 0.4
             },
             "length": 58,
             "offset": 193,
             "sentiment": "neutral",
             "text": "She is also the first woman to win songwriter of the year."
            }
           ],
           "sentiment": "neutral",
           "warnings": []
          },
          "modelVersion": "2022-11-01"
         },
         "index": 47
        },
        {
         "0": "Dua Lipa sends temperatures soaring in sexy red lingerie as she joins abs-flashing Billie Piper at Warner Music's star-studded BRITs afterparty",
         "1": "The singer, 28, who bagged the Best Pop Act gong and performed on stage, looked nothing short of incredible as she let her hair down in a sexy red lingerie inspired ensemble.",
         "2": "Entertainment",
         "3": "https://www.dailymail.co.uk/tvshowbiz/article-13150385/Dua-Lipa-Billie-Piper-Brits-afterparty.html",
         "4": "https://www.bing.com/th?id=OVFT.aNpluipPLWr4fgsNmMwMsC&pid=News",
         "5": "Daily Mail",
         "6": "03-Mar-2024",
         "8": {
          "documents": {
           "confidenceScores": {
            "negative": 0.05,
            "neutral": 0.43,
            "positive": 0.53
           },
           "id": "5",
           "sentences": [
            {
             "confidenceScores": {
              "negative": 0.05,
              "neutral": 0.43,
              "positive": 0.53
             },
             "length": 174,
             "offset": 0,
             "sentiment": "positive",
             "text": "The singer, 28, who bagged the Best Pop Act gong and performed on stage, looked nothing short of incredible as she let her hair down in a sexy red lingerie inspired ensemble."
            }
           ],
           "sentiment": "positive",
           "warnings": []
          },
          "modelVersion": "2022-11-01"
         },
         "index": 48
        },
        {
         "0": "Maya Jama looks sensational in a racy sheer dress as she holds hands with busty AJ Odudu leaving Warner Music's Brit Awards afterparty",
         "1": "Maya Jama looked sensational in a racy sheer dress as she held hands with busty AJ Odudu leaving Warner Music's Brit Awards afterparty on Saturday night.",
         "2": "Entertainment",
         "3": "https://www.dailymail.co.uk/tvshowbiz/article-13151183/Maya-Jama-looks-sensational-racy-sheer-dress-holds-hands-busty-AJ-Odudu-leaving-Warner-Musics-Brit-Awards-afterparty.html",
         "4": "https://www.bing.com/th?id=OVFT.AuZX5nNxzzqiLo3E5mOFkC&pid=News",
         "5": "Daily Mail",
         "6": "03-Mar-2024",
         "8": {
          "documents": {
           "confidenceScores": {
            "negative": 0.03,
            "neutral": 0.57,
            "positive": 0.39
           },
           "id": "6",
           "sentences": [
            {
             "confidenceScores": {
              "negative": 0.03,
              "neutral": 0.57,
              "positive": 0.39
             },
             "length": 153,
             "offset": 0,
             "sentiment": "neutral",
             "text": "Maya Jama looked sensational in a racy sheer dress as she held hands with busty AJ Odudu leaving Warner Music's Brit Awards afterparty on Saturday night."
            }
           ],
           "sentiment": "neutral",
           "warnings": []
          },
          "modelVersion": "2022-11-01"
         },
         "index": 49
        },
        {
         "0": "Books of the month: From Kazuo Ishiguro’s song lyrics to Family Politics by John O’Farrell",
         "1": "An attention-grabbingly titled debut novel from playwright Anoushka Warden, Peter Pomerantsev’s intriguing study of a genius propagandist who outwitted Hitler, and an important study of the distorted",
         "2": "Entertainment",
         "3": "https://www.independent.co.uk/arts-entertainment/books/features/books-march-releases-bestsellers-b2503870.html",
         "4": "https://www.bing.com/th?id=OVFT.jwkq6657UtxZK-jjjvoAgi&pid=News",
         "5": "The Independent",
         "6": "03-Mar-2024",
         "8": {
          "documents": {
           "confidenceScores": {
            "negative": 0.03,
            "neutral": 0.34,
            "positive": 0.62
           },
           "id": "7",
           "sentences": [
            {
             "confidenceScores": {
              "negative": 0.03,
              "neutral": 0.34,
              "positive": 0.62
             },
             "length": 199,
             "offset": 0,
             "sentiment": "positive",
             "text": "An attention-grabbingly titled debut novel from playwright Anoushka Warden, Peter Pomerantsev’s intriguing study of a genius propagandist who outwitted Hitler, and an important study of the distorted"
            }
           ],
           "sentiment": "positive",
           "warnings": []
          },
          "modelVersion": "2022-11-01"
         },
         "index": 50
        },
        {
         "0": "No Twerking. No Drinking. No Smoking. but It's Still a Party at This Christian Nightclub",
         "1": "The young crowd at a Nashville nightclub was ready to dance under the strobe lights to a throbbing mix of hip-hop, rap and Latin beats. But first they gathered to pray and praise God. The rules were announced on the dance floor by a mic-carrying emcee to more than 200 clubgoers blanketed by thick smoke machine fog: ”Rule No.",
         "2": "LifeStyle",
         "3": "https://www.msn.com/en-us/entertainment/news/a-christian-pop-up-nightclub-in-nashville-plays-jesus-rap-and-forbids-twerking-drinking-and-smoking/ar-BB1jeDLc",
         "4": "https://www.bing.com/th?id=OVFT.iRXlTD87QDCQuB6DTC-caC&pid=News",
         "5": "Business Insider on MSN.com",
         "6": "02-Mar-2024",
         "8": {
          "documents": {
           "confidenceScores": {
            "negative": 0.18,
            "neutral": 0.6,
            "positive": 0.22
           },
           "id": "8",
           "sentences": [
            {
             "confidenceScores": {
              "negative": 0.03,
              "neutral": 0.65,
              "positive": 0.32
             },
             "length": 136,
             "offset": 0,
             "sentiment": "neutral",
             "text": "The young crowd at a Nashville nightclub was ready to dance under the strobe lights to a throbbing mix of hip-hop, rap and Latin beats. "
            },
            {
             "confidenceScores": {
              "negative": 0.09,
              "neutral": 0.61,
              "positive": 0.31
             },
             "length": 48,
             "offset": 136,
             "sentiment": "neutral",
             "text": "But first they gathered to pray and praise God. "
            },
            {
             "confidenceScores": {
              "negative": 0.43,
              "neutral": 0.53,
              "positive": 0.03
             },
             "length": 142,
             "offset": 184,
             "sentiment": "neutral",
             "text": "The rules were announced on the dance floor by a mic-carrying emcee to more than 200 clubgoers blanketed by thick smoke machine fog: ”Rule No."
            }
           ],
           "sentiment": "neutral",
           "warnings": []
          },
          "modelVersion": "2022-11-01"
         },
         "index": 51
        },
        {
         "0": "Gloucester young people talk about knife crime on hip-hop album",
         "1": "The group launched its album at Gloucester Cathedral on Friday. A group has created a music album which they say challenges the stereotypes of young people while raising awareness",
         "2": "Entertainment",
         "3": "https://www.msn.com/en-us/entertainment/news/young-people-talk-about-knife-crime-on-hip-hop-album/ar-BB1jfiw9",
         "4": "https://www.bing.com/th?id=OVFT.kBIqzQyzEdLJrR9_6wYIKS&pid=News",
         "5": "BBC on MSN.com",
         "6": "03-Mar-2024",
         "8": {
          "documents": {
           "confidenceScores": {
            "negative": 0.08,
            "neutral": 0.83,
            "positive": 0.09
           },
           "id": "9",
           "sentences": [
            {
             "confidenceScores": {
              "negative": 0.03,
              "neutral": 0.9,
              "positive": 0.07
             },
             "length": 64,
             "offset": 0,
             "sentiment": "neutral",
             "text": "The group launched its album at Gloucester Cathedral on Friday. "
            },
            {
             "confidenceScores": {
              "negative": 0.14,
              "neutral": 0.76,
              "positive": 0.1
             },
             "length": 115,
             "offset": 64,
             "sentiment": "neutral",
             "text": "A group has created a music album which they say challenges the stereotypes of young people while raising awareness"
            }
           ],
           "sentiment": "neutral",
           "warnings": []
          },
          "modelVersion": "2022-11-01"
         },
         "index": 52
        },
        {
         "0": "YouTube Music team laid off by Google while workers testified to Austin City Council about working conditions",
         "1": "Some workers learned of the YouTube Music layoffs while testifying to the Austin city council about Google's refusal to negotiate with the union.",
         "2": "ScienceAndTechnology",
         "3": "https://www.msn.com/en-us/money/companies/youtube-music-team-laid-off-by-google-while-workers-testified-to-austin-city-council-about-working-conditions/ar-BB1jetUk",
         "4": "https://www.bing.com/th?id=OVFT.afLmGGokT-qfEr1XKi_YGS&pid=News",
         "5": "Business Insider on MSN.com",
         "6": "02-Mar-2024",
         "8": {
          "documents": {
           "confidenceScores": {
            "negative": 0.59,
            "neutral": 0.38,
            "positive": 0.02
           },
           "id": "0",
           "sentences": [
            {
             "confidenceScores": {
              "negative": 0.59,
              "neutral": 0.38,
              "positive": 0.02
             },
             "length": 145,
             "offset": 0,
             "sentiment": "negative",
             "text": "Some workers learned of the YouTube Music layoffs while testifying to the Austin city council about Google's refusal to negotiate with the union."
            }
           ],
           "sentiment": "negative",
           "warnings": []
          },
          "modelVersion": "2022-11-01"
         },
         "index": 53
        },
        {
         "0": "Elle King Delivers First Performance Since Drunken Grand Ole Opry Incident at Arizona Music Festival",
         "1": "Elle King returned to the stage for the first time since she performed in a Dolly Parton tribute held by the Grand Ole Opry at Nashville's Ryman Auditorium while admittedly drunk. On Friday, the country singer played at Extra Innings Festival in Tempe,",
         "2": "Entertainment",
         "3": "https://www.msn.com/en-us/music/celebrity/elle-king-delivers-first-performance-since-drunken-grand-ole-opry-incident-at-arizona-music-festival/ar-BB1jeENS",
         "4": "https://www.bing.com/th?id=OVFT.M8J6sP6br4B0X6Lw-_a4ey&pid=News",
         "5": "People on MSN.com",
         "6": "03-Mar-2024",
         "8": {
          "documents": {
           "confidenceScores": {
            "negative": 0.06,
            "neutral": 0.83,
            "positive": 0.1
           },
           "id": "1",
           "sentences": [
            {
             "confidenceScores": {
              "negative": 0.11,
              "neutral": 0.78,
              "positive": 0.11
             },
             "length": 180,
             "offset": 0,
             "sentiment": "neutral",
             "text": "Elle King returned to the stage for the first time since she performed in a Dolly Parton tribute held by the Grand Ole Opry at Nashville's Ryman Auditorium while admittedly drunk. "
            },
            {
             "confidenceScores": {
              "negative": 0.01,
              "neutral": 0.89,
              "positive": 0.1
             },
             "length": 72,
             "offset": 180,
             "sentiment": "neutral",
             "text": "On Friday, the country singer played at Extra Innings Festival in Tempe,"
            }
           ],
           "sentiment": "neutral",
           "warnings": []
          },
          "modelVersion": "2022-11-01"
         },
         "index": 54
        },
        {
         "0": "Elle King makes her first return to the stage since her drunken Dolly Parton birthday tribute performance",
         "1": "The singer performed at Arizona’s Extra Innings Festival in her first show since the controversial incident at the Nashville’s Grand Ole Opry in January.",
         "2": "Entertainment",
         "3": "https://www.msn.com/en-us/music/celebrity/elle-king-makes-her-first-return-to-the-stage-since-her-drunken-dolly-parton-birthday-tribute-performance/ar-BB1jeZ8k",
         "4": "https://www.bing.com/th?id=OVFT.jDxeKvSx_09RlsBwf6nvni&pid=News",
         "5": "FOX News on MSN.com",
         "6": "03-Mar-2024",
         "8": {
          "documents": {
           "confidenceScores": {
            "negative": 0.22,
            "neutral": 0.76,
            "positive": 0.02
           },
           "id": "2",
           "sentences": [
            {
             "confidenceScores": {
              "negative": 0.22,
              "neutral": 0.76,
              "positive": 0.02
             },
             "length": 153,
             "offset": 0,
             "sentiment": "neutral",
             "text": "The singer performed at Arizona’s Extra Innings Festival in her first show since the controversial incident at the Nashville’s Grand Ole Opry in January."
            }
           ],
           "sentiment": "neutral",
           "warnings": []
          },
          "modelVersion": "2022-11-01"
         },
         "index": 55
        },
        {
         "0": "BRIT Awards: Raye sets record at Britain's pop music honours",
         "1": "Singer-songwriter Raye was the big winner at the BRIT Awards, the biggest night in British music, on Saturday, setting a new record for most prizes in one night at the annual ceremony. Raye won six awards,",
         "2": "Entertainment",
         "3": "https://www.msn.com/en-us/music/news/brit-awards-raye-sets-record-at-britain-s-pop-music-honours/ar-BB1jeDnx",
         "4": "https://www.bing.com/th?id=OVFT.l87Gc6DJUoZOmY9ox-_oGi&pid=News",
         "5": "Reuters on MSN.com",
         "6": "02-Mar-2024",
         "8": {
          "documents": {
           "confidenceScores": {
            "negative": 0.02,
            "neutral": 0.71,
            "positive": 0.27
           },
           "id": "3",
           "sentences": [
            {
             "confidenceScores": {
              "negative": 0.02,
              "neutral": 0.59,
              "positive": 0.39
             },
             "length": 185,
             "offset": 0,
             "sentiment": "neutral",
             "text": "Singer-songwriter Raye was the big winner at the BRIT Awards, the biggest night in British music, on Saturday, setting a new record for most prizes in one night at the annual ceremony. "
            },
            {
             "confidenceScores": {
              "negative": 0.01,
              "neutral": 0.83,
              "positive": 0.16
             },
             "length": 20,
             "offset": 185,
             "sentiment": "neutral",
             "text": "Raye won six awards,"
            }
           ],
           "sentiment": "neutral",
           "warnings": []
          },
          "modelVersion": "2022-11-01"
         },
         "index": 56
        },
        {
         "0": "Kacey Musgraves Performs Barefoot on “Saturday Night Live, ”Rocks 2 Stylish Blue Looks",
         "1": "Kacey Musgraves' Saturn has returned — to Saturday Night Live! For her third time as musical guest on the sketch comedy show, Musgraves, 35, took the stage to perform two tracks",
         "2": "Entertainment",
         "3": "https://www.msn.com/en-us/music/news/kacey-musgraves-performs-barefoot-on-saturday-night-live-rocks-2-stylish-blue-looks/ar-BB1jfBDe",
         "4": "https://www.bing.com/th?id=OVFT.VizLlYliSonoARTFGJaIgi&pid=News",
         "5": "People on MSN.com",
         "6": "03-Mar-2024",
         "8": {
          "documents": {
           "confidenceScores": {
            "negative": 0.02,
            "neutral": 0.78,
            "positive": 0.2
           },
           "id": "4",
           "sentences": [
            {
             "confidenceScores": {
              "negative": 0.02,
              "neutral": 0.64,
              "positive": 0.34
             },
             "length": 63,
             "offset": 0,
             "sentiment": "neutral",
             "text": "Kacey Musgraves' Saturn has returned — to Saturday Night Live! "
            },
            {
             "confidenceScores": {
              "negative": 0.02,
              "neutral": 0.91,
              "positive": 0.07
             },
             "length": 114,
             "offset": 63,
             "sentiment": "neutral",
             "text": "For her third time as musical guest on the sketch comedy show, Musgraves, 35, took the stage to perform two tracks"
            }
           ],
           "sentiment": "neutral",
           "warnings": []
          },
          "modelVersion": "2022-11-01"
         },
         "index": 57
        },
        {
         "0": "Music's Biggest Night in Britain Is Here! See All the Stars Arriving at the 2024 BRIT Awards",
         "1": "The 2024 BRIT Awards kicked off on Saturday evening in London, with celebrities hitting the red carpet at the city's famed O2 Arena. Before they dazzle on stage, see Dua Lipa, Kylie Minogue, Tate McRae and more singing stars arriving at the 2024 BRIT Awards.",
         "2": "Entertainment",
         "3": "https://www.msn.com/en-us/music/news/musics-biggest-night-in-britain-is-here-see-all-the-stars-arriving-at-the-2024-brit-awards/ar-BB1je7d9",
         "4": "https://www.bing.com/th?id=OVFT.-e7bU2DHmf2MIR3JoXJhUS&pid=News",
         "5": "People on MSN.com",
         "6": "02-Mar-2024",
         "8": {
          "documents": {
           "confidenceScores": {
            "negative": 0.02,
            "neutral": 0.82,
            "positive": 0.17
           },
           "id": "5",
           "sentences": [
            {
             "confidenceScores": {
              "negative": 0.02,
              "neutral": 0.84,
              "positive": 0.14
             },
             "length": 133,
             "offset": 0,
             "sentiment": "neutral",
             "text": "The 2024 BRIT Awards kicked off on Saturday evening in London, with celebrities hitting the red carpet at the city's famed O2 Arena. "
            },
            {
             "confidenceScores": {
              "negative": 0.02,
              "neutral": 0.79,
              "positive": 0.2
             },
             "length": 125,
             "offset": 133,
             "sentiment": "neutral",
             "text": "Before they dazzle on stage, see Dua Lipa, Kylie Minogue, Tate McRae and more singing stars arriving at the 2024 BRIT Awards."
            }
           ],
           "sentiment": "neutral",
           "warnings": []
          },
          "modelVersion": "2022-11-01"
         },
         "index": 58
        },
        {
         "0": "Being a female runner shouldn't be dangerous. Laken Riley's death reminds us it is.",
         "1": "Laken’s death has reignited the conversation that began in the wake of Eliza Fletcher’s kidnapping and murder nearly two years ago about the dangers female runners face. Fletcher was a teacher who was abducted while on a morning run near the University of Memphis.",
         "2": "LifeStyle",
         "3": "https://www.msn.com/en-us/news/opinion/being-a-female-runner-shouldnt-be-dangerous-laken-rileys-death-reminds-us-it-is/ar-BB1jftL1",
         "4": "https://www.bing.com/th?id=OVFT.NuUEpQzPSZtam-wTULH62i&pid=News",
         "5": "USA Today on MSN.com",
         "6": "03-Mar-2024",
         "8": {
          "documents": {
           "confidenceScores": {
            "negative": 0.86,
            "neutral": 0.13,
            "positive": 0.01
           },
           "id": "6",
           "sentences": [
            {
             "confidenceScores": {
              "negative": 0.94,
              "neutral": 0.06,
              "positive": 0.01
             },
             "length": 170,
             "offset": 0,
             "sentiment": "negative",
             "text": "Laken’s death has reignited the conversation that began in the wake of Eliza Fletcher’s kidnapping and murder nearly two years ago about the dangers female runners face. "
            },
            {
             "confidenceScores": {
              "negative": 0.78,
              "neutral": 0.21,
              "positive": 0.01
             },
             "length": 94,
             "offset": 170,
             "sentiment": "negative",
             "text": "Fletcher was a teacher who was abducted while on a morning run near the University of Memphis."
            }
           ],
           "sentiment": "negative",
           "warnings": []
          },
          "modelVersion": "2022-11-01"
         },
         "index": 59
        },
        {
         "0": "A veteran Republican operative relocated to Kyiv — he says Ukraine can win the war",
         "1": "Steven Moore, a Capitol Hill veteran, says he is now \"doing the right thing\" in helping Ukraine's war effort.",
         "2": "Politics",
         "3": "https://www.msn.com/en-us/news/world/a-veteran-republican-operative-relocated-to-kyiv-he-says-ukraine-can-win-the-war/ar-BB1jfxoS",
         "4": "https://www.bing.com/th?id=OVFT.xt6mUXKHPbO0n9EU1YaidS&pid=News",
         "5": "Business Insider on MSN.com",
         "6": "03-Mar-2024",
         "8": {
          "documents": {
           "confidenceScores": {
            "negative": 0.15,
            "neutral": 0.55,
            "positive": 0.31
           },
           "id": "7",
           "sentences": [
            {
             "confidenceScores": {
              "negative": 0.15,
              "neutral": 0.55,
              "positive": 0.31
             },
             "length": 109,
             "offset": 0,
             "sentiment": "neutral",
             "text": "Steven Moore, a Capitol Hill veteran, says he is now \"doing the right thing\" in helping Ukraine's war effort."
            }
           ],
           "sentiment": "neutral",
           "warnings": []
          },
          "modelVersion": "2022-11-01"
         },
         "index": 60
        },
        {
         "0": "Louis Sarkozy: ‘I went from the Elysée Palace to a dirty barrack room in Pennsylvania – thank God’",
         "1": "The former French president’s son has paused his military career to write a book about Napoleon – and thinks Ridley Scott’s film is ‘trash’",
         "2": "World",
         "3": "https://www.msn.com/en-us/news/world/louis-sarkozy-i-went-from-the-elys%C3%A9e-palace-to-a-dirty-barrack-room-in-pennsylvania-thank-god/ar-BB1jf6WG",
         "4": "https://www.bing.com/th?id=OVFT.qljpA6Bg6FKtm-MY0bn0Cy&pid=News",
         "5": "The Daily Telegraph on MSN.com",
         "6": "03-Mar-2024",
         "8": {
          "documents": {
           "confidenceScores": {
            "negative": 0.74,
            "neutral": 0.24,
            "positive": 0.02
           },
           "id": "8",
           "sentences": [
            {
             "confidenceScores": {
              "negative": 0.74,
              "neutral": 0.24,
              "positive": 0.02
             },
             "length": 139,
             "offset": 0,
             "sentiment": "negative",
             "text": "The former French president’s son has paused his military career to write a book about Napoleon – and thinks Ridley Scott’s film is ‘trash’"
            }
           ],
           "sentiment": "negative",
           "warnings": []
          },
          "modelVersion": "2022-11-01"
         },
         "index": 61
        },
        {
         "0": "The ‘subversive spirituality’ of Bob Marley is still being overlooked",
         "1": "A hit movie has cast reggae superstar Bob Marley back into the spotlight. But it also overlooks a key to Marley’s legacy: To him, his Bible was as important as his guitar. Marley’s subversive spirituality was central to his life and music,",
         "2": "Entertainment",
         "3": "https://www.msn.com/en-us/news/world/the-subversive-spirituality-of-bob-marley-is-still-being-overlooked/ar-BB1jfq0t",
         "4": "https://www.bing.com/th?id=OVFT.4Uxlxfxuasvx4JNpcFYHaS&pid=News",
         "5": "CNN on MSN.com",
         "6": "03-Mar-2024",
         "8": {
          "documents": {
           "confidenceScores": {
            "negative": 0.19,
            "neutral": 0.64,
            "positive": 0.18
           },
           "id": "9",
           "sentences": [
            {
             "confidenceScores": {
              "negative": 0.03,
              "neutral": 0.57,
              "positive": 0.4
             },
             "length": 74,
             "offset": 0,
             "sentiment": "neutral",
             "text": "A hit movie has cast reggae superstar Bob Marley back into the spotlight. "
            },
            {
             "confidenceScores": {
              "negative": 0.13,
              "neutral": 0.76,
              "positive": 0.11
             },
             "length": 98,
             "offset": 74,
             "sentiment": "neutral",
             "text": "But it also overlooks a key to Marley’s legacy: To him, his Bible was as important as his guitar. "
            },
            {
             "confidenceScores": {
              "negative": 0.4,
              "neutral": 0.58,
              "positive": 0.02
             },
             "length": 67,
             "offset": 172,
             "sentiment": "neutral",
             "text": "Marley’s subversive spirituality was central to his life and music,"
            }
           ],
           "sentiment": "neutral",
           "warnings": []
          },
          "modelVersion": "2022-11-01"
         },
         "index": 62
        },
        {
         "0": "Where Old Vegas is still alive today",
         "1": "Finally, the most recognizable throwback to Old Vegas might be the neon “Welcome to Fabulous Las Vegas” sign at the south end of the Las Vegas Strip near Mandalay Bay Resort & Casino. Betty Willis designed the sign back in 1959, and YESCO owns it today. It was added to the National Register of Historic Places in 2009.",
         "2": "LifeStyle",
         "3": "https://www.msn.com/en-us/travel/news/where-old-vegas-is-still-alive-today/ar-BB1jf9Qg",
         "4": "https://www.bing.com/th?id=OVFT.25H96ag35n6q1Pr3KrOgoC&pid=News",
         "5": "CNN on MSN.com",
         "6": "03-Mar-2024",
         "8": {
          "documents": {
           "confidenceScores": {
            "negative": 0.01,
            "neutral": 0.89,
            "positive": 0.1
           },
           "id": "0",
           "sentences": [
            {
             "confidenceScores": {
              "negative": 0.02,
              "neutral": 0.73,
              "positive": 0.25
             },
             "length": 184,
             "offset": 0,
             "sentiment": "neutral",
             "text": "Finally, the most recognizable throwback to Old Vegas might be the neon “Welcome to Fabulous Las Vegas” sign at the south end of the Las Vegas Strip near Mandalay Bay Resort & Casino. "
            },
            {
             "confidenceScores": {
              "negative": 0.01,
              "neutral": 0.98,
              "positive": 0.02
             },
             "length": 70,
             "offset": 184,
             "sentiment": "neutral",
             "text": "Betty Willis designed the sign back in 1959, and YESCO owns it today. "
            },
            {
             "confidenceScores": {
              "negative": 0.01,
              "neutral": 0.97,
              "positive": 0.02
             },
             "length": 65,
             "offset": 254,
             "sentiment": "neutral",
             "text": "It was added to the National Register of Historic Places in 2009."
            }
           ],
           "sentiment": "neutral",
           "warnings": []
          },
          "modelVersion": "2022-11-01"
         },
         "index": 63
        },
        {
         "0": "Martin Bayfield: Six Nations must stay on free to air TV – but coverage needs to improve",
         "1": "Former England second row who has worked as a reporter for BBC, ITV, BT Sport and TNT believes the tournament isn’t being properly projected",
         "2": "Sports",
         "3": "https://www.msn.com/en-us/tv/news/martin-bayfield-six-nations-must-stay-on-free-to-air-tv-but-coverage-needs-to-improve/ar-BB1jfkcd",
         "4": "https://www.bing.com/th?id=OVFT.lwUkMRHVW3dtLs3ADnYF6y&pid=News",
         "5": "The Daily Telegraph on MSN.com",
         "6": "03-Mar-2024",
         "8": {
          "documents": {
           "confidenceScores": {
            "negative": 0.71,
            "neutral": 0.27,
            "positive": 0.01
           },
           "id": "1",
           "sentences": [
            {
             "confidenceScores": {
              "negative": 0.71,
              "neutral": 0.27,
              "positive": 0.01
             },
             "length": 140,
             "offset": 0,
             "sentiment": "negative",
             "text": "Former England second row who has worked as a reporter for BBC, ITV, BT Sport and TNT believes the tournament isn’t being properly projected"
            }
           ],
           "sentiment": "negative",
           "warnings": []
          },
          "modelVersion": "2022-11-01"
         },
         "index": 64
        },
        {
         "0": "Raye’s record-breaking Brits defied the limited imaginations of the British music industry",
         "1": "Raye’s six Brit awards marked a huge vindication for the newly independent artist and rightly shamed the major label that apparently couldn’t see her potential",
         "2": "Entertainment",
         "3": "https://www.theguardian.com/music/2024/mar/02/rayes-record-breaking-brits-defied-the-limited-imaginations-of-the-british-music-industry",
         "4": "https://www.bing.com/th?id=OVFT.Izw8m744T-wOfMfxGv8GmS&pid=News",
         "5": "The Guardian",
         "6": "02-Mar-2024",
         "8": {
          "documents": {
           "confidenceScores": {
            "negative": 0.93,
            "neutral": 0.06,
            "positive": 0.02
           },
           "id": "2",
           "sentences": [
            {
             "confidenceScores": {
              "negative": 0.93,
              "neutral": 0.06,
              "positive": 0.02
             },
             "length": 159,
             "offset": 0,
             "sentiment": "negative",
             "text": "Raye’s six Brit awards marked a huge vindication for the newly independent artist and rightly shamed the major label that apparently couldn’t see her potential"
            }
           ],
           "sentiment": "negative",
           "warnings": []
          },
          "modelVersion": "2022-11-01"
         },
         "index": 65
        },
        {
         "0": "Brit awards 2024: A blushing music industry eats humble pie",
         "1": "Who should win and who will win? The Times chief rock and pop critic Will Hodgkinson reviews this year’s nominees",
         "2": "Entertainment",
         "3": "https://www.thetimes.co.uk/article/brit-awards-2024-winners-full-list-ggghgz33z",
         "4": "https://www.bing.com/th?id=OVFT.ssb-nkJtXm26PE5fmUsAxS&pid=News",
         "5": "The Times",
         "6": "02-Mar-2024",
         "8": {
          "documents": {
           "confidenceScores": {
            "negative": 0.03,
            "neutral": 0.89,
            "positive": 0.07
           },
           "id": "3",
           "sentences": [
            {
             "confidenceScores": {
              "negative": 0.06,
              "neutral": 0.88,
              "positive": 0.06
             },
             "length": 33,
             "offset": 0,
             "sentiment": "neutral",
             "text": "Who should win and who will win? "
            },
            {
             "confidenceScores": {
              "negative": 0.01,
              "neutral": 0.91,
              "positive": 0.09
             },
             "length": 80,
             "offset": 33,
             "sentiment": "neutral",
             "text": "The Times chief rock and pop critic Will Hodgkinson reviews this year’s nominees"
            }
           ],
           "sentiment": "neutral",
           "warnings": []
          },
          "modelVersion": "2022-11-01"
         },
         "index": 66
        },
        {
         "0": "The latest on the Israel-Hamas war",
         "1": "Israeli Prime Minister Benjamin Netanyahu has directed the military to prepare to evacuate over 1 million Palestinians from the southern Gaza city of Rafah ahead of a ground operation. Follow for live updates.",
         "2": "World",
         "3": "https://edition.cnn.com/middleeast/live-news/israel-hamas-war-gaza-news-02-10-24/h_cd8908900541adca9751bf5a3ddd9bdd",
         "4": "https://www.bing.com/th?id=OVFT.BjPWSlzcbo7HCTwmyOxxUy&pid=News",
         "5": "CNN",
         "6": "10-Feb-2024",
         "8": {
          "documents": {
           "confidenceScores": {
            "negative": 0.19,
            "neutral": 0.61,
            "positive": 0.21
           },
           "id": "0",
           "sentences": [
            {
             "confidenceScores": {
              "negative": 0.35,
              "neutral": 0.61,
              "positive": 0.05
             },
             "length": 185,
             "offset": 0,
             "sentiment": "neutral",
             "text": "Israeli Prime Minister Benjamin Netanyahu has directed the military to prepare to evacuate over 1 million Palestinians from the southern Gaza city of Rafah ahead of a ground operation. "
            },
            {
             "confidenceScores": {
              "negative": 0.03,
              "neutral": 0.61,
              "positive": 0.37
             },
             "length": 24,
             "offset": 185,
             "sentiment": "neutral",
             "text": "Follow for live updates."
            }
           ],
           "sentiment": "neutral",
           "warnings": []
          },
          "modelVersion": "2022-11-01"
         },
         "index": 67
        },
        {
         "0": "News Flash: Analysts Just Made A Sizeable Upgrade To Their Vanda Pharmaceuticals Inc. (NASDAQ:VNDA) Forecasts",
         "1": "Celebrations may be in order for Vanda Pharmaceuticals Inc. (NASDAQ:VNDA) shareholders, with the covering analyst delivering a significant upgrade to their statutory estimates for the company. The consensus statutory numbers for both revenue and earnings per share (EPS) increased,",
         "2": "ScienceAndTechnology",
         "3": "https://finance.yahoo.com/news/news-flash-analysts-just-made-124256245.html",
         "4": "https://www.bing.com/th?id=OVFT.7S2v6t5ALCHoDA6DLmT-ES&pid=News",
         "5": "YAHOO!Finance",
         "6": "10-Feb-2024",
         "8": {
          "documents": {
           "confidenceScores": {
            "negative": 0.01,
            "neutral": 0.86,
            "positive": 0.13
           },
           "id": "1",
           "sentences": [
            {
             "confidenceScores": {
              "negative": 0.01,
              "neutral": 0.75,
              "positive": 0.23
             },
             "length": 193,
             "offset": 0,
             "sentiment": "neutral",
             "text": "Celebrations may be in order for Vanda Pharmaceuticals Inc. (NASDAQ:VNDA) shareholders, with the covering analyst delivering a significant upgrade to their statutory estimates for the company. "
            },
            {
             "confidenceScores": {
              "negative": 0.01,
              "neutral": 0.97,
              "positive": 0.02
             },
             "length": 88,
             "offset": 193,
             "sentiment": "neutral",
             "text": "The consensus statutory numbers for both revenue and earnings per share (EPS) increased,"
            }
           ],
           "sentiment": "neutral",
           "warnings": []
          },
          "modelVersion": "2022-11-01"
         },
         "index": 68
        },
        {
         "0": "Six Nations 2024: England vs Wales match preview, team news, kick-off time & BBC coverage",
         "1": "Match preview, team news, BBC coverage, standings and statistics for Saturday's Six Nations match between England and Wales at Twickenham.",
         "2": "Sports",
         "3": "https://www.bbc.co.uk/sport/rugby-union/68185927",
         "4": "https://www.bing.com/th?id=OVFT.qCGwjb_G0SzAlZjuKfuiPy&pid=News",
         "5": "BBC",
         "6": "10-Feb-2024",
         "8": {
          "documents": {
           "confidenceScores": {
            "negative": 0.02,
            "neutral": 0.96,
            "positive": 0.02
           },
           "id": "2",
           "sentences": [
            {
             "confidenceScores": {
              "negative": 0.02,
              "neutral": 0.96,
              "positive": 0.02
             },
             "length": 138,
             "offset": 0,
             "sentiment": "neutral",
             "text": "Match preview, team news, BBC coverage, standings and statistics for Saturday's Six Nations match between England and Wales at Twickenham."
            }
           ],
           "sentiment": "neutral",
           "warnings": []
          },
          "modelVersion": "2022-11-01"
         },
         "index": 69
        },
        {
         "0": "New York Times editorial board demands Biden ‘do better’ in defending his memory, fitness for office",
         "1": "The New York Times editorial board trashed President Biden's Thursday press conference in which he tried to reassure Americans he is mentally fit. It claimed the move \"didn't work\"",
         "2": "Politics",
         "3": "https://www.foxnews.com/media/new-york-times-editorial-board-demands-biden-do-better-defending-memory-fitness-office",
         "4": "https://www.bing.com/th?id=OVFT.nGHW_CIPXX6ke-JC9OkHny&pid=News",
         "5": "Fox News",
         "6": "10-Feb-2024",
         "8": {
          "documents": {
           "confidenceScores": {
            "negative": 0.64,
            "neutral": 0.33,
            "positive": 0.03
           },
           "id": "3",
           "sentences": [
            {
             "confidenceScores": {
              "negative": 0.72,
              "neutral": 0.24,
              "positive": 0.04
             },
             "length": 147,
             "offset": 0,
             "sentiment": "negative",
             "text": "The New York Times editorial board trashed President Biden's Thursday press conference in which he tried to reassure Americans he is mentally fit. "
            },
            {
             "confidenceScores": {
              "negative": 0.56,
              "neutral": 0.42,
              "positive": 0.01
             },
             "length": 33,
             "offset": 147,
             "sentiment": "negative",
             "text": "It claimed the move \"didn't work\""
            }
           ],
           "sentiment": "negative",
           "warnings": []
          },
          "modelVersion": "2022-11-01"
         },
         "index": 70
        },
        {
         "0": "King Charles cancer – latest: Monarch makes first statement since diagnosis as Will ‘upset’ with Harry",
         "1": "Prince William has returned to royal duties after stepping back for several weeks to care for his wife after she underwent abdominal surgery",
         "2": "Entertainment",
         "3": "https://www.msn.com/en-gb/health/other/king-charles-cancer-latest-william-upset-at-harry-s-pr-stunt-as-key-update-issued-on-kate-s-recovery/ar-BB1hOvJf",
         "4": "https://www.bing.com/th?id=OVFT.rGsHS-NsYVdk7JjfUGbSLy&pid=News",
         "5": "The Independent on MSN.com",
         "6": "10-Feb-2024",
         "8": {
          "documents": {
           "confidenceScores": {
            "negative": 0.07,
            "neutral": 0.59,
            "positive": 0.33
           },
           "id": "4",
           "sentences": [
            {
             "confidenceScores": {
              "negative": 0.07,
              "neutral": 0.59,
              "positive": 0.33
             },
             "length": 140,
             "offset": 0,
             "sentiment": "neutral",
             "text": "Prince William has returned to royal duties after stepping back for several weeks to care for his wife after she underwent abdominal surgery"
            }
           ],
           "sentiment": "neutral",
           "warnings": []
          },
          "modelVersion": "2022-11-01"
         },
         "index": 71
        },
        {
         "0": "Australia news live: Coalition will oppose vehicle emission standards that increase prices of popular cars, Taylor says",
         "1": "Follow the day’s news live",
         "2": "LifeStyle",
         "3": "https://www.msn.com/en-gb/news/uknews/australia-news-live-coalition-will-oppose-vehicle-emission-standards-that-increase-prices-of-popular-cars-taylor-says/ar-BB1i5zYD",
         "4": "https://www.bing.com/th?id=OVFT._VmYfzX-QB7baMCZagQYly&pid=News",
         "5": "The Guardian on MSN.com",
         "6": "11-Feb-2024",
         "8": {
          "documents": {
           "confidenceScores": {
            "negative": 0.01,
            "neutral": 0.79,
            "positive": 0.2
           },
           "id": "5",
           "sentences": [
            {
             "confidenceScores": {
              "negative": 0.01,
              "neutral": 0.79,
              "positive": 0.2
             },
             "length": 26,
             "offset": 0,
             "sentiment": "neutral",
             "text": "Follow the day’s news live"
            }
           ],
           "sentiment": "neutral",
           "warnings": []
          },
          "modelVersion": "2022-11-01"
         },
         "index": 72
        },
        {
         "0": "Ireland v Italy, Six Nations 2024: Kick-off time, how to watch and latest news",
         "1": "Ireland and Italy face each other on Sunday, February 11. The match kicks off at 3pm GMT. The Aviva Stadium in Dublin. A ground at which the Azzurri have never won. The match will be broadcast live on ITV1 and ITVX in the UK. In the Republic of Ireland, Virgin Media have the rights for the live broadcast.",
         "2": "Sports",
         "3": "https://www.msn.com/en-gb/sport/other/ireland-v-italy-six-nations-2024-kick-off-time-how-to-watch-and-latest-news/ar-BB1i4hzO",
         "4": "https://www.bing.com/th?id=OVFT.N_3-sp2XhHZf5gORfWzy9y&pid=News",
         "5": "The Daily Telegraph on MSN.com",
         "6": "10-Feb-2024",
         "8": {
          "documents": {
           "confidenceScores": {
            "negative": 0.62,
            "neutral": 0.36,
            "positive": 0.02
           },
           "id": "6",
           "sentences": [
            {
             "confidenceScores": {
              "negative": 0.04,
              "neutral": 0.94,
              "positive": 0.02
             },
             "length": 58,
             "offset": 0,
             "sentiment": "neutral",
             "text": "Ireland and Italy face each other on Sunday, February 11. "
            },
            {
             "confidenceScores": {
              "negative": 0.01,
              "neutral": 0.98,
              "positive": 0.01
             },
             "length": 32,
             "offset": 58,
             "sentiment": "neutral",
             "text": "The match kicks off at 3pm GMT. "
            },
            {
             "confidenceScores": {
              "negative": 0.01,
              "neutral": 0.98,
              "positive": 0.01
             },
             "length": 29,
             "offset": 90,
             "sentiment": "neutral",
             "text": "The Aviva Stadium in Dublin. "
            },
            {
             "confidenceScores": {
              "negative": 0.62,
              "neutral": 0.36,
              "positive": 0.02
             },
             "length": 46,
             "offset": 119,
             "sentiment": "negative",
             "text": "A ground at which the Azzurri have never won. "
            },
            {
             "confidenceScores": {
              "negative": 0.01,
              "neutral": 0.98,
              "positive": 0.02
             },
             "length": 61,
             "offset": 165,
             "sentiment": "neutral",
             "text": "The match will be broadcast live on ITV1 and ITVX in the UK. "
            },
            {
             "confidenceScores": {
              "negative": 0.01,
              "neutral": 0.97,
              "positive": 0.02
             },
             "length": 80,
             "offset": 226,
             "sentiment": "neutral",
             "text": "In the Republic of Ireland, Virgin Media have the rights for the live broadcast."
            }
           ],
           "sentiment": "negative",
           "warnings": []
          },
          "modelVersion": "2022-11-01"
         },
         "index": 73
        },
        {
         "0": "New Mexico Budget Bill Would Found Literacy Institute, Propel Housing Construction and Conservation",
         "1": "New Mexico’s strategy for spending and investing a multibillion-dollar annual surplus linked closely to oil production has come into sharper focus",
         "2": "Politics",
         "3": "https://www.msn.com/en-us/money/realestate/new-mexico-budget-bill-would-found-literacy-institute-propel-housing-construction-and-conservation/ar-BB1i5Dlz",
         "4": "https://www.bing.com/th?id=OVFT.LQBFjyuPAxQCv8FPnt7-1i&pid=News",
         "5": "The Associated Press on MSN.com",
         "6": "11-Feb-2024",
         "8": {
          "documents": {
           "confidenceScores": {
            "negative": 0.02,
            "neutral": 0.89,
            "positive": 0.08
           },
           "id": "7",
           "sentences": [
            {
             "confidenceScores": {
              "negative": 0.02,
              "neutral": 0.89,
              "positive": 0.08
             },
             "length": 146,
             "offset": 0,
             "sentiment": "neutral",
             "text": "New Mexico’s strategy for spending and investing a multibillion-dollar annual surplus linked closely to oil production has come into sharper focus"
            }
           ],
           "sentiment": "neutral",
           "warnings": []
          },
          "modelVersion": "2022-11-01"
         },
         "index": 74
        },
        {
         "0": "Scotland v France, Six Nations 2024: Kick-off time today, how to watch and latest news",
         "1": "France head to Edinburgh on the back of a crushing 38-17 home defeat against Six Nations title and Grand Slam favourites Ireland. It followed their shattering World Cup quarter-final loss to South Africa,",
         "2": "Sports",
         "3": "https://www.msn.com/en-us/news/world/scotland-v-france-six-nations-2024-kick-off-time-today-how-to-watch-and-latest-news/ar-BB1i18iu",
         "4": "https://www.bing.com/th?id=OVFT.H_bNkaoWtGCq5FgxkJpvyC&pid=News",
         "5": "The Telegraph on MSN.com",
         "6": "10-Feb-2024",
         "8": {
          "documents": {
           "confidenceScores": {
            "negative": 0.89,
            "neutral": 0.1,
            "positive": 0.01
           },
           "id": "8",
           "sentences": [
            {
             "confidenceScores": {
              "negative": 0.47,
              "neutral": 0.5,
              "positive": 0.03
             },
             "length": 130,
             "offset": 0,
             "sentiment": "neutral",
             "text": "France head to Edinburgh on the back of a crushing 38-17 home defeat against Six Nations title and Grand Slam favourites Ireland. "
            },
            {
             "confidenceScores": {
              "negative": 0.89,
              "neutral": 0.1,
              "positive": 0.01
             },
             "length": 74,
             "offset": 130,
             "sentiment": "negative",
             "text": "It followed their shattering World Cup quarter-final loss to South Africa,"
            }
           ],
           "sentiment": "negative",
           "warnings": []
          },
          "modelVersion": "2022-11-01"
         },
         "index": 75
        },
        {
         "0": "What is the Super Bowl spread? Latest point spread for 49ers vs. Chiefs",
         "1": "Super Bowl in just over 24 hours, betting odds paint a clear picture. Here is the latest point spread and Vegas betting odds.",
         "2": "Sports",
         "3": "https://www.msn.com/en-us/sports/nfl/what-is-the-super-bowl-spread-latest-point-spread-for-49ers-vs-chiefs/ar-BB1i5v5f",
         "4": "https://www.bing.com/th?id=OVFT.ylSoWMBa4MbOPECLjMAsYy&pid=News",
         "5": "USA Today on MSN.com",
         "6": "10-Feb-2024",
         "8": {
          "documents": {
           "confidenceScores": {
            "negative": 0.01,
            "neutral": 0.9,
            "positive": 0.09
           },
           "id": "9",
           "sentences": [
            {
             "confidenceScores": {
              "negative": 0.02,
              "neutral": 0.82,
              "positive": 0.16
             },
             "length": 70,
             "offset": 0,
             "sentiment": "neutral",
             "text": "Super Bowl in just over 24 hours, betting odds paint a clear picture. "
            },
            {
             "confidenceScores": {
              "negative": 0.01,
              "neutral": 0.98,
              "positive": 0.01
             },
             "length": 55,
             "offset": 70,
             "sentiment": "neutral",
             "text": "Here is the latest point spread and Vegas betting odds."
            }
           ],
           "sentiment": "neutral",
           "warnings": []
          },
          "modelVersion": "2022-11-01"
         },
         "index": 76
        },
        {
         "0": "European soccer news: Madrid outclass Girona, Leverkusen defeat Bayern",
         "1": "Real Madrid send a statement win to Girona while Bayer Leverkusen defeat Bayern Munich to continue to defy the odds in the Bundesliga. Here's what you missed in European soccer.",
         "2": "Sports",
         "3": "https://www.msn.com/en-us/sports/soccer/european-soccer-news-madrid-outclass-girona-leverkusen-defeat-bayern/ar-BB1i5SpE",
         "4": "https://www.bing.com/th?id=OVFT.1wbfGL38kkyres1xudGdsS&pid=News",
         "5": "ESPN on MSN.com",
         "6": "11-Feb-2024",
         "8": {
          "documents": {
           "confidenceScores": {
            "negative": 0.26,
            "neutral": 0.66,
            "positive": 0.09
           },
           "id": "0",
           "sentences": [
            {
             "confidenceScores": {
              "negative": 0.23,
              "neutral": 0.73,
              "positive": 0.04
             },
             "length": 135,
             "offset": 0,
             "sentiment": "neutral",
             "text": "Real Madrid send a statement win to Girona while Bayer Leverkusen defeat Bayern Munich to continue to defy the odds in the Bundesliga. "
            },
            {
             "confidenceScores": {
              "negative": 0.29,
              "neutral": 0.58,
              "positive": 0.13
             },
             "length": 42,
             "offset": 135,
             "sentiment": "neutral",
             "text": "Here's what you missed in European soccer."
            }
           ],
           "sentiment": "neutral",
           "warnings": []
          },
          "modelVersion": "2022-11-01"
         },
         "index": 77
        },
        {
         "0": "It’s a brand new route on the world’s most famous train – but it’ll cost you $8,500 one way",
         "1": "In travel news this week, a European airline is weighing passengers before takeoff, the new luxury train trip that costs $8,500 one way, and how Ukraine keeps its railways running, two years into the war.",
         "2": "LifeStyle",
         "3": "https://www.msn.com/en-us/travel/news/it-s-a-brand-new-route-on-the-world-s-most-famous-train-but-it-ll-cost-you-8500-one-way/ar-BB1i56QW",
         "4": "https://www.bing.com/th?id=OVFT.wMFk1sBsI3YwpWIM4NzkNS&pid=News",
         "5": "CNN on MSN.com",
         "6": "10-Feb-2024",
         "8": {
          "documents": {
           "confidenceScores": {
            "negative": 0.72,
            "neutral": 0.26,
            "positive": 0.02
           },
           "id": "1",
           "sentences": [
            {
             "confidenceScores": {
              "negative": 0.72,
              "neutral": 0.26,
              "positive": 0.02
             },
             "length": 204,
             "offset": 0,
             "sentiment": "negative",
             "text": "In travel news this week, a European airline is weighing passengers before takeoff, the new luxury train trip that costs $8,500 one way, and how Ukraine keeps its railways running, two years into the war."
            }
           ],
           "sentiment": "negative",
           "warnings": []
          },
          "modelVersion": "2022-11-01"
         },
         "index": 78
        },
        {
         "0": "New vintage boutique opens in Downtown El Paso",
         "1": "The El Paso Downtown Management District is hosting a grand-opening celebration Saturday, Feb. 10, marking the official inauguration of Pineapple Vintage in Downtown El Paso. The celebration started at noon with a ribbon-cutting celebration,",
         "2": "LifeStyle",
         "3": "https://www.msn.com/en-us/travel/news/new-vintage-boutique-opens-in-downtown-el-paso/ar-BB1i5RtN",
         "4": "https://www.bing.com/th?id=OVFT.RQvhCtfbUWI9U2b3flzTwy&pid=News",
         "5": "KTSM El Paso on MSN.com",
         "6": "10-Feb-2024",
         "8": {
          "documents": {
           "confidenceScores": {
            "negative": 0.02,
            "neutral": 0.77,
            "positive": 0.22
           },
           "id": "2",
           "sentences": [
            {
             "confidenceScores": {
              "negative": 0.01,
              "neutral": 0.86,
              "positive": 0.12
             },
             "length": 175,
             "offset": 0,
             "sentiment": "neutral",
             "text": "The El Paso Downtown Management District is hosting a grand-opening celebration Saturday, Feb. 10, marking the official inauguration of Pineapple Vintage in Downtown El Paso. "
            },
            {
             "confidenceScores": {
              "negative": 0.02,
              "neutral": 0.67,
              "positive": 0.31
             },
             "length": 66,
             "offset": 175,
             "sentiment": "neutral",
             "text": "The celebration started at noon with a ribbon-cutting celebration,"
            }
           ],
           "sentiment": "neutral",
           "warnings": []
          },
          "modelVersion": "2022-11-01"
         },
         "index": 79
        },
        {
         "0": "WWE Star Daria Berenato Marries Toni Cassano in New Jersey Wedding Officiated by Maria Menounos (Exclusive)",
         "1": "WWE star Daria Berenato and fitness model Toni Cassano tied the knot on Feb. 10 in an elegant ceremony at the Legacy Castle in New Jersey in front of 140 guests.",
         "2": "LifeStyle",
         "3": "https://www.msn.com/en-us/tv/celebrity/wwe-star-daria-berenato-marries-toni-cassano-in-new-jersey-wedding-officiated-by-maria-menounos-exclusive/ar-BB1i5MS8",
         "4": "https://www.bing.com/th?id=OVFT.Uf1PpdBMv2QSYmMztUz_BC&pid=News",
         "5": "People on MSN.com",
         "6": "11-Feb-2024",
         "8": {
          "documents": {
           "confidenceScores": {
            "negative": 0.01,
            "neutral": 0.93,
            "positive": 0.06
           },
           "id": "3",
           "sentences": [
            {
             "confidenceScores": {
              "negative": 0.01,
              "neutral": 0.93,
              "positive": 0.06
             },
             "length": 161,
             "offset": 0,
             "sentiment": "neutral",
             "text": "WWE star Daria Berenato and fitness model Toni Cassano tied the knot on Feb. 10 in an elegant ceremony at the Legacy Castle in New Jersey in front of 140 guests."
            }
           ],
           "sentiment": "neutral",
           "warnings": []
          },
          "modelVersion": "2022-11-01"
         },
         "index": 80
        },
        {
         "0": "The best new popular fiction for February 2024 — Oh no! My dad’s a sperm donor",
         "1": "Lena’s gift forces her dad, Tom, to admit that he isn’t their biological father — Lena and Alison were donor-conceived, a secret he’d hoped to take to his grave. Alison, who’s trying to start a family with her wife,",
         "2": "Entertainment",
         "3": "https://www.thetimes.co.uk/article/bfda7b32-ebd5-467a-9c9d-1cd0a245750b?shareToken=d890d0be5d05de6f3f47fa9a10e3cdb3",
         "4": "https://www.bing.com/th?id=OVFT.QWr9Akj_iWRBZ9giCWg25i&pid=News",
         "5": "The Times",
         "6": "10-Feb-2024",
         "8": {
          "documents": {
           "confidenceScores": {
            "negative": 0.26,
            "neutral": 0.57,
            "positive": 0.17
           },
           "id": "4",
           "sentences": [
            {
             "confidenceScores": {
              "negative": 0.3,
              "neutral": 0.46,
              "positive": 0.23
             },
             "length": 162,
             "offset": 0,
             "sentiment": "neutral",
             "text": "Lena’s gift forces her dad, Tom, to admit that he isn’t their biological father — Lena and Alison were donor-conceived, a secret he’d hoped to take to his grave. "
            },
            {
             "confidenceScores": {
              "negative": 0.21,
              "neutral": 0.68,
              "positive": 0.11
             },
             "length": 53,
             "offset": 162,
             "sentiment": "neutral",
             "text": "Alison, who’s trying to start a family with her wife,"
            }
           ],
           "sentiment": "neutral",
           "warnings": []
          },
          "modelVersion": "2022-11-01"
         },
         "index": 81
        }
       ],
       "schema": [
        {
         "key": "0",
         "name": "title",
         "type": "string"
        },
        {
         "key": "1",
         "name": "description",
         "type": "string"
        },
        {
         "key": "2",
         "name": "category",
         "type": "string"
        },
        {
         "key": "3",
         "name": "url",
         "type": "string"
        },
        {
         "key": "4",
         "name": "image",
         "type": "string"
        },
        {
         "key": "5",
         "name": "provider",
         "type": "string"
        },
        {
         "key": "6",
         "name": "datePublished",
         "type": "string"
        },
        {
         "key": "7",
         "name": "error",
         "type": "StructType(StructField(response,StringType,true),StructField(status,StructType(StructField(protocolVersion,StructType(StructField(protocol,StringType,true),StructField(major,IntegerType,false),StructField(minor,IntegerType,false)),true),StructField(statusCode,IntegerType,false),StructField(reasonPhrase,StringType,true)),true))"
        },
        {
         "key": "8",
         "name": "response",
         "type": "StructType(StructField(statistics,StructType(StructField(documentsCount,IntegerType,false),StructField(erroneousDocumentsCount,IntegerType,false),StructField(transactionsCount,IntegerType,false),StructField(validDocumentsCount,IntegerType,false)),true),StructField(documents,StructType(StructField(id,StringType,true),StructField(sentiment,StringType,true),StructField(statistics,StructType(StructField(charactersCount,IntegerType,false),StructField(transactionsCount,IntegerType,false)),true),StructField(confidenceScores,StructType(StructField(positive,DoubleType,false),StructField(neutral,DoubleType,false),StructField(negative,DoubleType,false)),true),StructField(sentences,ArrayType(StructType(StructField(text,StringType,true),StructField(sentiment,StringType,true),StructField(confidenceScores,StructType(StructField(positive,DoubleType,false),StructField(neutral,DoubleType,false),StructField(negative,DoubleType,false)),true),StructField(targets,ArrayType(StructType(StructField(confidenceScores,StructType(StructField(positive,DoubleType,false),StructField(negative,DoubleType,false)),true),StructField(length,IntegerType,false),StructField(offset,IntegerType,false),StructField(text,StringType,true),StructField(sentiment,StringType,true),StructField(relations,ArrayType(StructType(StructField(ref,StringType,true),StructField(relationType,StringType,true)),true),true)),true),true),StructField(assessments,ArrayType(StructType(StructField(confidenceScores,StructType(StructField(positive,DoubleType,false),StructField(negative,DoubleType,false)),true),StructField(length,IntegerType,false),StructField(offset,IntegerType,false),StructField(text,StringType,true),StructField(sentiment,StringType,true),StructField(isNegated,BooleanType,false)),true),true),StructField(offset,IntegerType,false),StructField(length,IntegerType,false)),true),true),StructField(warnings,ArrayType(StructType(StructField(code,StringType,true),StructField(message,StringType,true),StructField(targetRef,StringType,true)),true),true)),true),StructField(errors,StructType(StructField(id,StringType,true),StructField(error,StructType(StructField(code,StringType,true),StructField(details,ArrayType(MapType(StringType,StringType,true),true),true),StructField(innererror,StructType(StructField(code,StringType,true),StructField(innerError,StringType,true)),true),StructField(message,StringType,true),StructField(target,StringType,true)),true)),true),StructField(modelVersion,StringType,true))"
        }
       ],
       "truncated": false
      }
     },
     "type": "Synapse.DataFrame"
    },
    "869c5a13-9a6a-489a-89d7-2cc814af1f21": {
     "persist_state": {
      "view": {
       "chartOptions": {
        "aggregationType": "count",
        "binsNumber": 10,
        "categoryFieldKeys": [
         "2"
        ],
        "chartType": "bar",
        "isStacked": false,
        "seriesFieldKeys": [
         "0"
        ],
        "wordFrequency": "-1"
       },
       "tableOptions": {},
       "type": "details"
      }
     },
     "sync_state": {
      "isSummary": false,
      "language": "scala",
      "table": {
       "rows": [
        {
         "0": "Charismatic Mithun Manhas changes shape of J&K cricket",
         "1": "Jammu, Mar 02: Mithun Manhas is a familiar name not only in J&K cricket but also in the entire cricketing world, especially at the domestic circuit of Indian cricket. He has scored around 10,000 runs in 157 matches of First Class Cricket with 27 centuries ...",
         "2": "Sports",
         "3": "http://www.risingkashmir.in/charismatic-mithun-manhas-changes-shape-of-jk-cricket",
         "4": "https://www.bing.com/th?id=OVFT.OjpOTfqMNa6cu1uvtpSWTS&pid=News",
         "5": "Rising Kashmir",
         "6": "03-Mar-2024",
         "8": {
          "documents": {
           "confidenceScores": {
            "negative": 0.02,
            "neutral": 0.9,
            "positive": 0.08
           },
           "id": "0",
           "sentences": [
            {
             "confidenceScores": {
              "negative": 0.01,
              "neutral": 0.93,
              "positive": 0.06
             },
             "length": 167,
             "offset": 0,
             "sentiment": "neutral",
             "text": "Jammu, Mar 02: Mithun Manhas is a familiar name not only in J&K cricket but also in the entire cricketing world, especially at the domestic circuit of Indian cricket. "
            },
            {
             "confidenceScores": {
              "negative": 0.03,
              "neutral": 0.87,
              "positive": 0.11
             },
             "length": 92,
             "offset": 167,
             "sentiment": "neutral",
             "text": "He has scored around 10,000 runs in 157 matches of First Class Cricket with 27 centuries ..."
            }
           ],
           "sentiment": "neutral",
           "warnings": []
          },
          "modelVersion": "2022-11-01"
         },
         "9": "neutral",
         "index": 1
        },
        {
         "0": "'Drivers were watching cricket match': Railway minister on what caused last year's Andhra accident",
         "1": "Railway Minister Ashwini Vaishnaw revealed that the driver and assistant driver of a passenger train involved in a fatal collision in Andhra Pradesh were watching a cricket match on their phones. The incident, which occurred on October 29, 2023 ...",
         "2": "LifeStyle",
         "3": "https://economictimes.indiatimes.com/industry/transportation/railways/drivers-were-watching-cricket-match-railway-minister-on-what-caused-last-years-andhra-accident/articleshow/108178092.cms",
         "4": "https://www.bing.com/th?id=OVFT.Y3A9NrUP1crns6kKN0xqnC&pid=News",
         "5": "Indiatimes",
         "6": "03-Mar-2024",
         "8": {
          "documents": {
           "confidenceScores": {
            "negative": 0.85,
            "neutral": 0.14,
            "positive": 0.01
           },
           "id": "1",
           "sentences": [
            {
             "confidenceScores": {
              "negative": 0.85,
              "neutral": 0.14,
              "positive": 0.01
             },
             "length": 196,
             "offset": 0,
             "sentiment": "negative",
             "text": "Railway Minister Ashwini Vaishnaw revealed that the driver and assistant driver of a passenger train involved in a fatal collision in Andhra Pradesh were watching a cricket match on their phones. "
            },
            {
             "confidenceScores": {
              "negative": 0.4,
              "neutral": 0.58,
              "positive": 0.03
             },
             "length": 52,
             "offset": 196,
             "sentiment": "neutral",
             "text": "The incident, which occurred on October 29, 2023 ..."
            }
           ],
           "sentiment": "negative",
           "warnings": []
          },
          "modelVersion": "2022-11-01"
         },
         "9": "negative",
         "index": 2
        },
        {
         "0": "GUJ-W vs DC-W: Check our Fantasy Cricket Prediction, Tips, Playing Team Picks for Women’s Premier League 2024, Match 10 on March 3rd",
         "1": "Gujarat Giants Women will be up against Delhi Capitals Women in the 10th match of the Women’s Premier League 2024 on Sunday. Gujarat Giants are enduring a horrific run at the moment, losing 3 matches on the trot.",
         "2": "Sports",
         "3": "https://in.ign.com/dream-11-fantasy-gaming/203118/news/guj-w-vs-dc-w-check-our-fantasy-cricket-prediction-tips-playing-team-picks-for-womens-premier-league",
         "4": "https://www.bing.com/th?id=OVFT.QMbbuuT1eUBzsliLSESJNi&pid=News",
         "5": "IGN",
         "6": "03-Mar-2024",
         "8": {
          "documents": {
           "confidenceScores": {
            "negative": 0.97,
            "neutral": 0.03,
            "positive": 0
           },
           "id": "2",
           "sentences": [
            {
             "confidenceScores": {
              "negative": 0.01,
              "neutral": 0.95,
              "positive": 0.03
             },
             "length": 125,
             "offset": 0,
             "sentiment": "neutral",
             "text": "Gujarat Giants Women will be up against Delhi Capitals Women in the 10th match of the Women’s Premier League 2024 on Sunday. "
            },
            {
             "confidenceScores": {
              "negative": 0.97,
              "neutral": 0.03,
              "positive": 0
             },
             "length": 87,
             "offset": 125,
             "sentiment": "negative",
             "text": "Gujarat Giants are enduring a horrific run at the moment, losing 3 matches on the trot."
            }
           ],
           "sentiment": "negative",
           "warnings": []
          },
          "modelVersion": "2022-11-01"
         },
         "9": "negative",
         "index": 3
        },
        {
         "0": "Meet Indian cricket’s 17th Man – son of an influential father and misfit in dressing room",
         "1": "Indian domestic circuit is replete with unwanted, unasked extra hands forced on the team by some compromised administrator",
         "2": "Sports",
         "3": "https://indianexpress.com/article/sports/cricket/meet-indian-crickets-17th-man-son-of-an-influential-father-and-misfits-in-dressing-room-9191386/",
         "4": "https://www.bing.com/th?id=OVFT.iZimGpdlE_a14QQYRDd3Ci&pid=News",
         "5": "The Indian Express",
         "6": "02-Mar-2024",
         "8": {
          "documents": {
           "confidenceScores": {
            "negative": 0.95,
            "neutral": 0.04,
            "positive": 0
           },
           "id": "3",
           "sentences": [
            {
             "confidenceScores": {
              "negative": 0.95,
              "neutral": 0.04,
              "positive": 0
             },
             "length": 122,
             "offset": 0,
             "sentiment": "negative",
             "text": "Indian domestic circuit is replete with unwanted, unasked extra hands forced on the team by some compromised administrator"
            }
           ],
           "sentiment": "negative",
           "warnings": []
          },
          "modelVersion": "2022-11-01"
         },
         "9": "negative",
         "index": 4
        },
        {
         "0": "IVPL: Cricket Fever Peaks In Greater Noida As VVIP UP And Mumbai Champions Brace For Finals",
         "1": "Negi also lauded the quality of cricket being played in IVPL. \"We are extremely excited about the finals as a team. We're all very happy and we will try our best to win tomorrow. My experience with IVPL has been pretty amazing. The quality of cricket here ...",
         "2": "Sports",
         "3": "https://www.cricketnmore.com/cricket-news/ivpl-cricket-fever-peaks-in-greater-noida-as-vvip-up-and-mumbai-champions-brace-for-finals-139515",
         "4": "https://www.bing.com/th?id=OVFT.SuDSUAbDowXTZFiXZITiOy&pid=News",
         "5": "Cricketnmore",
         "6": "03-Mar-2024",
         "8": {
          "documents": {
           "confidenceScores": {
            "negative": 0.01,
            "neutral": 0.15,
            "positive": 0.83
           },
           "id": "4",
           "sentences": [
            {
             "confidenceScores": {
              "negative": 0.03,
              "neutral": 0.4,
              "positive": 0.57
             },
             "length": 62,
             "offset": 0,
             "sentiment": "positive",
             "text": "Negi also lauded the quality of cricket being played in IVPL. "
            },
            {
             "confidenceScores": {
              "negative": 0.02,
              "neutral": 0.14,
              "positive": 0.84
             },
             "length": 54,
             "offset": 62,
             "sentiment": "positive",
             "text": "\"We are extremely excited about the finals as a team. "
            },
            {
             "confidenceScores": {
              "negative": 0.01,
              "neutral": 0.02,
              "positive": 0.98
             },
             "length": 63,
             "offset": 116,
             "sentiment": "positive",
             "text": "We're all very happy and we will try our best to win tomorrow. "
            },
            {
             "confidenceScores": {
              "negative": 0.01,
              "neutral": 0.05,
              "positive": 0.94
             },
             "length": 49,
             "offset": 179,
             "sentiment": "positive",
             "text": "My experience with IVPL has been pretty amazing. "
            },
            {
             "confidenceScores": {
              "negative": 0.04,
              "neutral": 0.82,
              "positive": 0.14
             },
             "length": 31,
             "offset": 228,
             "sentiment": "neutral",
             "text": "The quality of cricket here ..."
            }
           ],
           "sentiment": "positive",
           "warnings": []
          },
          "modelVersion": "2022-11-01"
         },
         "9": "positive",
         "index": 5
        },
        {
         "0": "Aussie cricket in shock as terrible incident could spell the end of star's career - and he's only 26",
         "1": "The future of Will Pucovski is again up in the air after the star batter suffered another knock to the head while batting during Victoria's Sheffield Shield clash with Tasmania in Hobart.",
         "2": "Sports",
         "3": "https://www.dailymail.co.uk/sport/cricket/article-13150891/Will-Pucovski-concussion-future-cricket-Victoria-Tasmania.html",
         "4": "https://www.bing.com/th?id=OVFT.HwVUZ57ck3gwc6U6o398YS&pid=News",
         "5": "Daily Mail",
         "6": "03-Mar-2024",
         "8": {
          "documents": {
           "confidenceScores": {
            "negative": 0.54,
            "neutral": 0.41,
            "positive": 0.05
           },
           "id": "5",
           "sentences": [
            {
             "confidenceScores": {
              "negative": 0.54,
              "neutral": 0.41,
              "positive": 0.05
             },
             "length": 187,
             "offset": 0,
             "sentiment": "negative",
             "text": "The future of Will Pucovski is again up in the air after the star batter suffered another knock to the head while batting during Victoria's Sheffield Shield clash with Tasmania in Hobart."
            }
           ],
           "sentiment": "negative",
           "warnings": []
          },
          "modelVersion": "2022-11-01"
         },
         "9": "negative",
         "index": 6
        },
        {
         "0": "CCL 2024 Points Table, Match Results Today: Celebrity Cricket League Updated Points Table, Standings, Top Team",
         "1": "CCL 2024 Points Table: Films and cricket are the two most important and must-watch events in India, isn't it? Whenever there's a cricket match, we stay glued to our seats. Similarly, we gush over Salman Khan and Akshay Kumar's films in the theatres.",
         "2": "Sports",
         "3": "https://www.filmibeat.com/bollywood/viral/2024/ccl-2024-points-table-match-results-today-celebrity-cricket-league-10-updated-points-table-standings-387101.html",
         "4": "https://www.bing.com/th?id=OVFT.3DYdM96zL0-jfZgXMX3jWy&pid=News",
         "5": "Hot Pics",
         "6": "02-Mar-2024",
         "8": {
          "documents": {
           "confidenceScores": {
            "negative": 0.12,
            "neutral": 0.76,
            "positive": 0.13
           },
           "id": "6",
           "sentences": [
            {
             "confidenceScores": {
              "negative": 0.03,
              "neutral": 0.65,
              "positive": 0.32
             },
             "length": 110,
             "offset": 0,
             "sentiment": "neutral",
             "text": "CCL 2024 Points Table: Films and cricket are the two most important and must-watch events in India, isn't it? "
            },
            {
             "confidenceScores": {
              "negative": 0.02,
              "neutral": 0.97,
              "positive": 0.01
             },
             "length": 62,
             "offset": 110,
             "sentiment": "neutral",
             "text": "Whenever there's a cricket match, we stay glued to our seats. "
            },
            {
             "confidenceScores": {
              "negative": 0.3,
              "neutral": 0.66,
              "positive": 0.04
             },
             "length": 77,
             "offset": 172,
             "sentiment": "neutral",
             "text": "Similarly, we gush over Salman Khan and Akshay Kumar's films in the theatres."
            }
           ],
           "sentiment": "neutral",
           "warnings": []
          },
          "modelVersion": "2022-11-01"
         },
         "9": "neutral",
         "index": 7
        },
        {
         "0": "Ashwini Vaishnaw on Andhra train collision: 'Driver was watching cricket on phone'",
         "1": "Railway Minister Ashwini Vaishnaw on Saturday revealed that the driver and the assistant driver of one of the two passenger trains that collided in Andhra Pradesh, leading to the death of 14 passengers on October 29, 2023, were watching a cricket match on ...",
         "2": "India",
         "3": "https://www.msn.com/en-in/money/topstories/ashwini-vaishnaw-on-andhra-train-collision-driver-was-watching-cricket-on-phone/ar-BB1jfyB9",
         "4": "https://www.bing.com/th?id=OVFT.6Tbg05LA__QdP6zKc5eiKS&pid=News",
         "5": "Business Today on MSN.com",
         "6": "03-Mar-2024",
         "8": {
          "documents": {
           "confidenceScores": {
            "negative": 0.7,
            "neutral": 0.26,
            "positive": 0.03
           },
           "id": "7",
           "sentences": [
            {
             "confidenceScores": {
              "negative": 0.7,
              "neutral": 0.26,
              "positive": 0.03
             },
             "length": 259,
             "offset": 0,
             "sentiment": "negative",
             "text": "Railway Minister Ashwini Vaishnaw on Saturday revealed that the driver and the assistant driver of one of the two passenger trains that collided in Andhra Pradesh, leading to the death of 14 passengers on October 29, 2023, were watching a cricket match on ..."
            }
           ],
           "sentiment": "negative",
           "warnings": []
          },
          "modelVersion": "2022-11-01"
         },
         "9": "negative",
         "index": 8
        },
        {
         "0": "'Driver was watching cricket on phone': Minister on deadly Andhra train collision",
         "1": "The Rayagada Passenger train hit the Visakhapatnam Palasa train from behind at 7 pm in October last year on the Howrah-Chennai line in Kantakapalli in Vizianagaram district of Andhra Pradesh.",
         "2": "India",
         "3": "https://www.msn.com/en-in/news/India/2023-andhra-train-collision-vaishnaw-says-driver-was-watching-cricket-on-phone/ar-BB1jenUv",
         "4": "https://www.bing.com/th?id=OVFT.GQ-kKRkZVdrf_WiESfOJHS&pid=News",
         "5": "India Today on MSN.com",
         "6": "02-Mar-2024",
         "8": {
          "documents": {
           "confidenceScores": {
            "negative": 0.27,
            "neutral": 0.7,
            "positive": 0.02
           },
           "id": "8",
           "sentences": [
            {
             "confidenceScores": {
              "negative": 0.27,
              "neutral": 0.7,
              "positive": 0.02
             },
             "length": 191,
             "offset": 0,
             "sentiment": "neutral",
             "text": "The Rayagada Passenger train hit the Visakhapatnam Palasa train from behind at 7 pm in October last year on the Howrah-Chennai line in Kantakapalli in Vizianagaram district of Andhra Pradesh."
            }
           ],
           "sentiment": "neutral",
           "warnings": []
          },
          "modelVersion": "2022-11-01"
         },
         "9": "neutral",
         "index": 9
        },
        {
         "0": "Andhra Train Collision: ‘Driver Was Watching Cricket On Phone’, Says Railway Minister Ashwini Vaishnaw",
         "1": "Amaravati: The driver and the assistant driver of one of the two passenger trains, which collided in Andhra Pradesh in October 2023, were watching a cricket match on a smartphone, informed Railway Minister Ashwini Vaishnaw said on Saturday.",
         "2": "LifeStyle",
         "3": "https://www.msn.com/en-in/news/India/andhra-train-collision-driver-was-watching-cricket-on-phone-says-railway-minister-ashwini-vaishnaw/ar-BB1jeXP7",
         "4": "https://www.bing.com/th?id=OVFT.4_RxiSFwTYYMyhRz8UTPbC&pid=News",
         "5": "India.com on MSN.com",
         "6": "03-Mar-2024",
         "8": {
          "documents": {
           "confidenceScores": {
            "negative": 0.36,
            "neutral": 0.6,
            "positive": 0.04
           },
           "id": "9",
           "sentences": [
            {
             "confidenceScores": {
              "negative": 0.36,
              "neutral": 0.6,
              "positive": 0.04
             },
             "length": 240,
             "offset": 0,
             "sentiment": "neutral",
             "text": "Amaravati: The driver and the assistant driver of one of the two passenger trains, which collided in Andhra Pradesh in October 2023, were watching a cricket match on a smartphone, informed Railway Minister Ashwini Vaishnaw said on Saturday."
            }
           ],
           "sentiment": "neutral",
           "warnings": []
          },
          "modelVersion": "2022-11-01"
         },
         "9": "neutral",
         "index": 10
        },
        {
         "0": "GUJ-W Vs DEL-W Dream11 Prediction, WPL 2024, Match 10: Fantasy Cricket Tips, Probable Playing XIs, Injury Updates For Today’s Gujarat Giants Vs Delhi Capitals, 7.30 PM IST",
         "1": "GUJ-W vs DEL-W Dream11 Prediction, WPL 2024, Match 10: Languishing at the bottom of the table, Gujarat Giants will be hoping to end their winless run when they take on Delhi Capitals in a Women’s Premier League (WPL) 2024 match at the M Chinnaswamy ...",
         "2": "Sports",
         "3": "https://www.msn.com/en-in/news/other/guj-w-vs-del-w-dream11-prediction-wpl-2024-match-10-fantasy-cricket-tips-probable-playing-xis-injury-updates-for-today-s-gujarat-giants-vs-delhi-capitals-7-30-pm-ist/ar-BB1jfeG9",
         "4": "https://www.bing.com/th?id=OVFT.3vnZi3JKOcD11VtLAR-8EC&pid=News",
         "5": "India.com on MSN.com",
         "6": "03-Mar-2024",
         "8": {
          "documents": {
           "confidenceScores": {
            "negative": 0.04,
            "neutral": 0.78,
            "positive": 0.17
           },
           "id": "0",
           "sentences": [
            {
             "confidenceScores": {
              "negative": 0.04,
              "neutral": 0.78,
              "positive": 0.17
             },
             "length": 252,
             "offset": 0,
             "sentiment": "neutral",
             "text": "GUJ-W vs DEL-W Dream11 Prediction, WPL 2024, Match 10: Languishing at the bottom of the table, Gujarat Giants will be hoping to end their winless run when they take on Delhi Capitals in a Women’s Premier League (WPL) 2024 match at the M Chinnaswamy ..."
            }
           ],
           "sentiment": "neutral",
           "warnings": []
          },
          "modelVersion": "2022-11-01"
         },
         "9": "neutral",
         "index": 11
        },
        {
         "0": "Ranji Trophy 2024: Shreyas Iyer struggles with poor form as he makes his comeback in Domestic Cricket",
         "1": "It was Iyer’s first domestic match since the Board of Control for Cricket in India (BCCI) did not award him a central contract. The decision has caused quite a stir among both fans and experts, with many believing that the choice to omit Iyer and Ishan ...",
         "2": "Sports",
         "3": "https://www.msn.com/en-in/news/other/ranji-trophy-2024-shreyas-iyer-struggles-with-poor-form-as-he-makes-his-comeback-in-domestic-cricket/ar-BB1jfr4H",
         "4": "https://www.bing.com/th?id=OVFT.-NQg1csxTuGX-77sQv0ArC&pid=News",
         "5": "Cricket Country on MSN.com",
         "6": "03-Mar-2024",
         "8": {
          "documents": {
           "confidenceScores": {
            "negative": 0.59,
            "neutral": 0.36,
            "positive": 0.05
           },
           "id": "1",
           "sentences": [
            {
             "confidenceScores": {
              "negative": 0.51,
              "neutral": 0.48,
              "positive": 0.01
             },
             "length": 128,
             "offset": 0,
             "sentiment": "negative",
             "text": "It was Iyer’s first domestic match since the Board of Control for Cricket in India (BCCI) did not award him a central contract. "
            },
            {
             "confidenceScores": {
              "negative": 0.68,
              "neutral": 0.24,
              "positive": 0.08
             },
             "length": 128,
             "offset": 128,
             "sentiment": "negative",
             "text": "The decision has caused quite a stir among both fans and experts, with many believing that the choice to omit Iyer and Ishan ..."
            }
           ],
           "sentiment": "negative",
           "warnings": []
          },
          "modelVersion": "2022-11-01"
         },
         "9": "negative",
         "index": 12
        },
        {
         "0": "Virat Kohli and James Anderson had some incredible face-offs with each other in Test Cricket.",
         "1": "Veteran England pacer James Anderson rued for having a missing chance to play against Team India star batter Virat Kohli in the ongoing Test series. Kohli withdrew from the five Tests against visiting England team to be with his wife Anuksha Sharma for the birth of their second child, a son, Akaay.",
         "2": "Sports",
         "3": "https://www.msn.com/en-in/sports/cricket/it-s-a-shame-he-s-not-been-playing-james-anderson-on-virat-kohlis-absence-in-ind-vs-eng-test-series/ar-BB1jdDyC",
         "4": "https://www.bing.com/th?id=OVFT.gO6seUNG-m8q9iJ03RY7GC&pid=News",
         "5": "The Free Press Journal on MSN.com",
         "6": "02-Mar-2024",
         "8": {
          "documents": {
           "confidenceScores": {
            "negative": 0.78,
            "neutral": 0.2,
            "positive": 0.02
           },
           "id": "2",
           "sentences": [
            {
             "confidenceScores": {
              "negative": 0.78,
              "neutral": 0.2,
              "positive": 0.02
             },
             "length": 149,
             "offset": 0,
             "sentiment": "negative",
             "text": "Veteran England pacer James Anderson rued for having a missing chance to play against Team India star batter Virat Kohli in the ongoing Test series. "
            },
            {
             "confidenceScores": {
              "negative": 0.4,
              "neutral": 0.54,
              "positive": 0.06
             },
             "length": 150,
             "offset": 149,
             "sentiment": "neutral",
             "text": "Kohli withdrew from the five Tests against visiting England team to be with his wife Anuksha Sharma for the birth of their second child, a son, Akaay."
            }
           ],
           "sentiment": "negative",
           "warnings": []
          },
          "modelVersion": "2022-11-01"
         },
         "9": "negative",
         "index": 13
        },
        {
         "0": "Mumbai vs Tamil Nadu, Ranji Trophy semifinal: Shreyas Iyer fails to deliver on his return to domestic cricket",
         "1": "Shreyas Iyer, an out-of-favour India batter, failed to contribute with the bat in the Ranji Trophy semifinal match between Mumbai and Tamil Nadu. He was dismissed by Tamil Nadu pacer Sandeep Warrier for just 3 runs in their first innings.",
         "2": "Sports",
         "3": "https://www.msn.com/en-in/sports/cricket/mumbai-vs-tamil-nadu-ranji-trophy-semifinal-shreyas-iyer-fails-to-deliver-on-his-return-to-domestic-cricket/ar-BB1jf79F",
         "4": "https://www.bing.com/th?id=OVFT.kAPYC46obBxBQaac9RbhyC&pid=News",
         "5": "The Times of India on MSN.com",
         "6": "03-Mar-2024",
         "8": {
          "documents": {
           "confidenceScores": {
            "negative": 0.69,
            "neutral": 0.3,
            "positive": 0.01
           },
           "id": "3",
           "sentences": [
            {
             "confidenceScores": {
              "negative": 0.74,
              "neutral": 0.24,
              "positive": 0.02
             },
             "length": 146,
             "offset": 0,
             "sentiment": "negative",
             "text": "Shreyas Iyer, an out-of-favour India batter, failed to contribute with the bat in the Ranji Trophy semifinal match between Mumbai and Tamil Nadu. "
            },
            {
             "confidenceScores": {
              "negative": 0.63,
              "neutral": 0.36,
              "positive": 0.01
             },
             "length": 92,
             "offset": 146,
             "sentiment": "negative",
             "text": "He was dismissed by Tamil Nadu pacer Sandeep Warrier for just 3 runs in their first innings."
            }
           ],
           "sentiment": "negative",
           "warnings": []
          },
          "modelVersion": "2022-11-01"
         },
         "9": "negative",
         "index": 14
        },
        {
         "0": "'Playing red-ball games will produce more wicket-taking bowlers', says Mamatha Maben on format’s return to women's domestic cricket",
         "1": "The commencement of the Senior Women's Inter-Zonal Multi-Day Trophy in Pune from March 28 will signal the revival of red-ball cricket for female cricketers in the Indian domestic circuit, following a six-year absence.",
         "2": "Sports",
         "3": "https://www.msn.com/en-in/sports/cricket/playing-red-ball-games-will-produce-more-wicket-taking-bowlers-mamatha-maben-on-return-of-women-s-inter-zonal-multi-day-trophy/ar-BB1jffI0",
         "4": "https://www.bing.com/th?id=OVFT.aYgeEJpOLN4o4Uq1KVWC2S&pid=News",
         "5": "News18 on MSN.com",
         "6": "03-Mar-2024",
         "8": {
          "documents": {
           "confidenceScores": {
            "negative": 0.02,
            "neutral": 0.83,
            "positive": 0.15
           },
           "id": "4",
           "sentences": [
            {
             "confidenceScores": {
              "negative": 0.02,
              "neutral": 0.83,
              "positive": 0.15
             },
             "length": 217,
             "offset": 0,
             "sentiment": "neutral",
             "text": "The commencement of the Senior Women's Inter-Zonal Multi-Day Trophy in Pune from March 28 will signal the revival of red-ball cricket for female cricketers in the Indian domestic circuit, following a six-year absence."
            }
           ],
           "sentiment": "neutral",
           "warnings": []
          },
          "modelVersion": "2022-11-01"
         },
         "9": "neutral",
         "index": 15
        },
        {
         "0": "Tim Southee keeps door open for retired Neil Wagner's return after loss in first Test against Australia",
         "1": "New Zealand skipper Tim Southee has indicated that retired pacer Neil Wagner might be called out of retirement for the second Test against Australia. Southee's comments came after New Zealand lost the first Test by 172 runs and debutant pacer Will O'Rourke got injured.",
         "2": "Sports",
         "3": "https://www.msn.com/en-in/sports/other/tim-southee-keeps-door-open-for-retired-neil-wagners-return-after-loss-in-first-test-against-australia/ar-BB1jfk6C",
         "4": "https://www.bing.com/th?id=OVFT.hyeyBiLzUJIJgalxGfmLSS&pid=News",
         "5": "WION on MSN.com",
         "6": "03-Mar-2024",
         "8": {
          "documents": {
           "confidenceScores": {
            "negative": 0.9,
            "neutral": 0.1,
            "positive": 0.01
           },
           "id": "5",
           "sentences": [
            {
             "confidenceScores": {
              "negative": 0.07,
              "neutral": 0.89,
              "positive": 0.03
             },
             "length": 150,
             "offset": 0,
             "sentiment": "neutral",
             "text": "New Zealand skipper Tim Southee has indicated that retired pacer Neil Wagner might be called out of retirement for the second Test against Australia. "
            },
            {
             "confidenceScores": {
              "negative": 0.9,
              "neutral": 0.1,
              "positive": 0.01
             },
             "length": 119,
             "offset": 150,
             "sentiment": "negative",
             "text": "Southee's comments came after New Zealand lost the first Test by 172 runs and debutant pacer Will O'Rourke got injured."
            }
           ],
           "sentiment": "negative",
           "warnings": []
          },
          "modelVersion": "2022-11-01"
         },
         "9": "negative",
         "index": 16
        },
        {
         "0": "\"World Cricket doing everything to make sure West Indies Cricket is never strong again\": CWI CEO Grave",
         "1": "CEO Jonny Grave slammed the International Cricket Council (ICC) for not supporting the board financially and alleging that the world cricket is doing everything in its power to make sure that cricket in the Caribbean is never strong again.",
         "2": "Sports",
         "3": "https://www.msn.com/en-xl/sports/cricket/world-cricket-doing-everything-to-make-sure-west-indies-cricket-is-never-strong-again-cwi-ceo-grave/ar-BB1jfyyv",
         "4": "https://www.bing.com/th?id=OVFT.Z88zUzi6DP_idExsvXB9oC&pid=News",
         "5": "Asian News International on MSN.com",
         "6": "03-Mar-2024",
         "8": {
          "documents": {
           "confidenceScores": {
            "negative": 0.87,
            "neutral": 0.12,
            "positive": 0.02
           },
           "id": "6",
           "sentences": [
            {
             "confidenceScores": {
              "negative": 0.87,
              "neutral": 0.12,
              "positive": 0.02
             },
             "length": 239,
             "offset": 0,
             "sentiment": "negative",
             "text": "CEO Jonny Grave slammed the International Cricket Council (ICC) for not supporting the board financially and alleging that the world cricket is doing everything in its power to make sure that cricket in the Caribbean is never strong again."
            }
           ],
           "sentiment": "negative",
           "warnings": []
          },
          "modelVersion": "2022-11-01"
         },
         "9": "negative",
         "index": 17
        },
        {
         "0": "BAN vs SL 1st T20I: Sylhet International Cricket Stadium Pitch Report, Weather Forecast, T20 Stats & Records",
         "1": "Bangladesh will host Sri Lanka in the first T20I of the three-match series at the Sylhet International Cricket Stadium in Sylhet on Monday (March 4). The series provide both teams a chance to test their squads before the T20 World Cup 2024 in June.",
         "2": "Sports",
         "3": "https://www.mykhel.com/cricket/ban-vs-sl-1st-t20i-sylhet-stadium-pitch-report-weather-forecast-t20-stats-records-267849.html",
         "4": "https://www.bing.com/th?id=OVFT.BXNqsgw1epLXLwAoqdQ1ki&pid=News",
         "5": "mykhel",
         "6": "03-Mar-2024",
         "8": {
          "documents": {
           "confidenceScores": {
            "negative": 0.01,
            "neutral": 0.96,
            "positive": 0.03
           },
           "id": "7",
           "sentences": [
            {
             "confidenceScores": {
              "negative": 0.01,
              "neutral": 0.96,
              "positive": 0.03
             },
             "length": 150,
             "offset": 0,
             "sentiment": "neutral",
             "text": "Bangladesh will host Sri Lanka in the first T20I of the three-match series at the Sylhet International Cricket Stadium in Sylhet on Monday (March 4). "
            },
            {
             "confidenceScores": {
              "negative": 0.01,
              "neutral": 0.95,
              "positive": 0.04
             },
             "length": 98,
             "offset": 150,
             "sentiment": "neutral",
             "text": "The series provide both teams a chance to test their squads before the T20 World Cup 2024 in June."
            }
           ],
           "sentiment": "neutral",
           "warnings": []
          },
          "modelVersion": "2022-11-01"
         },
         "9": "neutral",
         "index": 18
        },
        {
         "0": "UAE Vs Scotland, ICC Men's Cricket World Cup League 2 Live Streaming: When, Where To Watch",
         "1": "After suffering a defeat in their first match against Canada, both wounded teams - the United Arab Emirates and Scotland are gearing up for their first encounter in the ICC Men's Cricket World Cup League 2, scheduled to be held on March 3, Sunday in Dubai.",
         "2": "Sports",
         "3": "https://www.outlookindia.com/sports/cricket/uae-vs-scotland-icc-mens-cricket-world-cup-league-2-live-streaming-when-where-to-watch-squad-and-all-details",
         "4": "https://www.bing.com/th?id=OVFT.3KDHAD_67oR-nYyqZUXiDy&pid=News",
         "5": "Outlookindia",
         "6": "02-Mar-2024",
         "8": {
          "documents": {
           "confidenceScores": {
            "negative": 0.44,
            "neutral": 0.52,
            "positive": 0.04
           },
           "id": "8",
           "sentences": [
            {
             "confidenceScores": {
              "negative": 0.44,
              "neutral": 0.52,
              "positive": 0.04
             },
             "length": 256,
             "offset": 0,
             "sentiment": "neutral",
             "text": "After suffering a defeat in their first match against Canada, both wounded teams - the United Arab Emirates and Scotland are gearing up for their first encounter in the ICC Men's Cricket World Cup League 2, scheduled to be held on March 3, Sunday in Dubai."
            }
           ],
           "sentiment": "neutral",
           "warnings": []
          },
          "modelVersion": "2022-11-01"
         },
         "9": "neutral",
         "index": 19
        },
        {
         "0": "Colosseum cricket",
         "1": "But it was the bludgeoning of Pakistan that established its reputation for unbridled aggression and win-at-all-costs methods Rajkot: England's Ben Duckett with teammate Ben Stokes celebrates scoring 150 runs during the 3rd day of the 3rd cricket test match ...",
         "2": "Sports",
         "3": "https://www.telegraphindia.com/opinion/colosseum-cricket-englands-cricketing-fortunes-improved-after-its-bazball-makeover/cid/2004397",
         "4": "https://www.bing.com/th?id=OVFT.e9AhTj6CYWGHsN9LA6SZXy&pid=News",
         "5": "The Telegraph",
         "6": "03-Mar-2024",
         "8": {
          "documents": {
           "confidenceScores": {
            "negative": 0.41,
            "neutral": 0.52,
            "positive": 0.07
           },
           "id": "9",
           "sentences": [
            {
             "confidenceScores": {
              "negative": 0.41,
              "neutral": 0.52,
              "positive": 0.07
             },
             "length": 260,
             "offset": 0,
             "sentiment": "neutral",
             "text": "But it was the bludgeoning of Pakistan that established its reputation for unbridled aggression and win-at-all-costs methods Rajkot: England's Ben Duckett with teammate Ben Stokes celebrates scoring 150 runs during the 3rd day of the 3rd cricket test match ..."
            }
           ],
           "sentiment": "neutral",
           "warnings": []
          },
          "modelVersion": "2022-11-01"
         },
         "9": "neutral",
         "index": 20
        },
        {
         "0": "Sports analytics may be outnumbered when it comes to artificial intelligence",
         "1": "BOSTON -- When it comes to artificial intelligence, the sports analytics crowd may be outnumbered. The people who killed the sacrifice bunt and turned NBA games into a 3-point shooting contest aren’t quite sure what will happen when AI fully invades sports — whether in the front office or on the field.",
         "2": "Sports",
         "3": "https://www.msn.com/en-us/sports/nba/sports-analytics-may-be-outnumbered-when-it-comes-to-artificial-intelligence/ar-BB1je6WG",
         "4": "https://www.bing.com/th?id=OVFT.b6Krb2Fb-nzoTVQMxGDDyS&pid=News",
         "5": "The Associated Press – Sports on MSN.com",
         "6": "02-Mar-2024",
         "8": {
          "documents": {
           "confidenceScores": {
            "negative": 0.72,
            "neutral": 0.26,
            "positive": 0.02
           },
           "id": "0",
           "sentences": [
            {
             "confidenceScores": {
              "negative": 0.05,
              "neutral": 0.89,
              "positive": 0.05
             },
             "length": 99,
             "offset": 0,
             "sentiment": "neutral",
             "text": "BOSTON -- When it comes to artificial intelligence, the sports analytics crowd may be outnumbered. "
            },
            {
             "confidenceScores": {
              "negative": 0.72,
              "neutral": 0.26,
              "positive": 0.02
             },
             "length": 204,
             "offset": 99,
             "sentiment": "negative",
             "text": "The people who killed the sacrifice bunt and turned NBA games into a 3-point shooting contest aren’t quite sure what will happen when AI fully invades sports — whether in the front office or on the field."
            }
           ],
           "sentiment": "negative",
           "warnings": []
          },
          "modelVersion": "2022-11-01"
         },
         "9": "negative",
         "index": 21
        },
        {
         "0": "Indian Sports LIVE, March 3: News, updates, scores, results and commentary",
         "1": "ESPN BET is operated by PENN Entertainment, Inc. and its subsidiaries ('PENN'). ESPN BET is available in states where PENN is licensed to offer sports wagering. Must be 21+ to wager. If you or someone you know has a gambling problem and wants help, call 1-800-GAMBLER.",
         "2": "Sports",
         "3": "https://www.espn.com/espn/story/_/id/39638377/indian-sports-live-news-updates-scores-results-commentary-sunday-march-3",
         "4": "https://www.bing.com/th?id=OVFT.QsQU136FSylPigS5PxftyS&pid=News",
         "5": "ESPN",
         "6": "03-Mar-2024",
         "8": {
          "documents": {
           "confidenceScores": {
            "negative": 0.04,
            "neutral": 0.93,
            "positive": 0.03
           },
           "id": "1",
           "sentences": [
            {
             "confidenceScores": {
              "negative": 0.01,
              "neutral": 0.99,
              "positive": 0.01
             },
             "length": 80,
             "offset": 0,
             "sentiment": "neutral",
             "text": "ESPN BET is operated by PENN Entertainment, Inc. and its subsidiaries ('PENN'). "
            },
            {
             "confidenceScores": {
              "negative": 0,
              "neutral": 0.99,
              "positive": 0.01
             },
             "length": 81,
             "offset": 80,
             "sentiment": "neutral",
             "text": "ESPN BET is available in states where PENN is licensed to offer sports wagering. "
            },
            {
             "confidenceScores": {
              "negative": 0.01,
              "neutral": 0.97,
              "positive": 0.02
             },
             "length": 22,
             "offset": 161,
             "sentiment": "neutral",
             "text": "Must be 21+ to wager. "
            },
            {
             "confidenceScores": {
              "negative": 0.16,
              "neutral": 0.78,
              "positive": 0.06
             },
             "length": 85,
             "offset": 183,
             "sentiment": "neutral",
             "text": "If you or someone you know has a gambling problem and wants help, call 1-800-GAMBLER."
            }
           ],
           "sentiment": "neutral",
           "warnings": []
          },
          "modelVersion": "2022-11-01"
         },
         "9": "neutral",
         "index": 22
        },
        {
         "0": "Sports world praises LeBron James for reaching 40,000 points",
         "1": "LeBron James extended his all-time scoring record on Saturday by becoming the first NBA player to reach 40,000 regular-season points.",
         "2": "Sports",
         "3": "https://www.msn.com/en-us/sports/nba/sports-world-praises-lebron-james-for-reaching-40000-points/ar-BB1jeTyn",
         "4": "https://www.bing.com/th?id=OVFT.pQK_b7gFlLtMwnxw2ZjgOS&pid=News",
         "5": "ESPN on MSN.com",
         "6": "03-Mar-2024",
         "8": {
          "documents": {
           "confidenceScores": {
            "negative": 0.01,
            "neutral": 0.77,
            "positive": 0.22
           },
           "id": "2",
           "sentences": [
            {
             "confidenceScores": {
              "negative": 0.01,
              "neutral": 0.77,
              "positive": 0.22
             },
             "length": 133,
             "offset": 0,
             "sentiment": "neutral",
             "text": "LeBron James extended his all-time scoring record on Saturday by becoming the first NBA player to reach 40,000 regular-season points."
            }
           ],
           "sentiment": "neutral",
           "warnings": []
          },
          "modelVersion": "2022-11-01"
         },
         "9": "neutral",
         "index": 23
        },
        {
         "0": "Brock Badgers men's, women's wrestling teams sweep national championships",
         "1": "The Brock Badgers kicked off the winter U Sports championship season by taking both the men’s and women’s national wrestling titles in Guelph, Ont., on Saturday.",
         "2": "Sports",
         "3": "https://www.cbc.ca/sports/u-sports-wrestling-championships-mar-2-1.7132405",
         "4": "https://www.bing.com/th?id=OVFT.4mbH3CDkRlXSdWBzkiB9wy&pid=News",
         "5": "CBC.ca",
         "6": "03-Mar-2024",
         "8": {
          "documents": {
           "confidenceScores": {
            "negative": 0.01,
            "neutral": 0.9,
            "positive": 0.08
           },
           "id": "3",
           "sentences": [
            {
             "confidenceScores": {
              "negative": 0.01,
              "neutral": 0.9,
              "positive": 0.08
             },
             "length": 161,
             "offset": 0,
             "sentiment": "neutral",
             "text": "The Brock Badgers kicked off the winter U Sports championship season by taking both the men’s and women’s national wrestling titles in Guelph, Ont., on Saturday."
            }
           ],
           "sentiment": "neutral",
           "warnings": []
          },
          "modelVersion": "2022-11-01"
         },
         "9": "neutral",
         "index": 24
        },
        {
         "0": "Red-hot Islanders’ task: ‘Keep building’ on momentum",
         "1": "The Islanders know they cannot slow down now. And their confidence is at a high after a crushing 5-1 defeat of the Bruins on home ice Saturday night.",
         "2": "Sports",
         "3": "https://www.msn.com/en-us/sports/other/red-hot-islanders-task-keep-building-on-momentum/ar-BB1jfrqR",
         "4": "https://www.bing.com/th?id=OVFT.YiKgWmb_zyvua0bOk0OW0S&pid=News",
         "5": "New York Post on MSN.com",
         "6": "03-Mar-2024",
         "8": {
          "documents": {
           "confidenceScores": {
            "negative": 0.58,
            "neutral": 0.38,
            "positive": 0.04
           },
           "id": "4",
           "sentences": [
            {
             "confidenceScores": {
              "negative": 0.06,
              "neutral": 0.91,
              "positive": 0.03
             },
             "length": 46,
             "offset": 0,
             "sentiment": "neutral",
             "text": "The Islanders know they cannot slow down now. "
            },
            {
             "confidenceScores": {
              "negative": 0.58,
              "neutral": 0.38,
              "positive": 0.04
             },
             "length": 103,
             "offset": 46,
             "sentiment": "negative",
             "text": "And their confidence is at a high after a crushing 5-1 defeat of the Bruins on home ice Saturday night."
            }
           ],
           "sentiment": "negative",
           "warnings": []
          },
          "modelVersion": "2022-11-01"
         },
         "9": "negative",
         "index": 25
        },
        {
         "0": "Letters to Sports: Readers recognize Helene Elliott and her impact",
         "1": "Readers of the Los Angeles Times Sports section pay tribute to the career of columnist Helene Elliott and weigh in on Mick Cronin's decision making.",
         "2": "Sports",
         "3": "https://www.msn.com/en-us/sports/other/letters-to-sports-readers-recognize-helene-elliott-and-her-impact/ar-BB1jdnTg",
         "4": "https://www.bing.com/th?id=OVFT.4fKr8MXd9OCl71E6ee0d7i&pid=News",
         "5": "Los Angeles Times on MSN.com",
         "6": "02-Mar-2024",
         "8": {
          "documents": {
           "confidenceScores": {
            "negative": 0.02,
            "neutral": 0.64,
            "positive": 0.34
           },
           "id": "5",
           "sentences": [
            {
             "confidenceScores": {
              "negative": 0.02,
              "neutral": 0.64,
              "positive": 0.34
             },
             "length": 148,
             "offset": 0,
             "sentiment": "neutral",
             "text": "Readers of the Los Angeles Times Sports section pay tribute to the career of columnist Helene Elliott and weigh in on Mick Cronin's decision making."
            }
           ],
           "sentiment": "neutral",
           "warnings": []
          },
          "modelVersion": "2022-11-01"
         },
         "9": "neutral",
         "index": 26
        },
        {
         "0": "D.C. United stages late two-goal comeback to earn draw with Timbers",
         "1": "Facing a 2-0 deficit and playing without star Christian Benteke, who was scratched before kickoff with an injury, United caught a late spark and earned a point in Portland, Ore.",
         "2": "Sports",
         "3": "https://www.msn.com/en-us/sports/other/dc-united-stages-late-two-goal-comeback-to-earn-draw-with-timbers/ar-BB1jf241",
         "4": "https://www.bing.com/th?id=OVFT.S3_KA9AZo1rCOfReobPE4S&pid=News",
         "5": "The Washington Post on MSN.com",
         "6": "03-Mar-2024",
         "8": {
          "documents": {
           "confidenceScores": {
            "negative": 0.85,
            "neutral": 0.14,
            "positive": 0.01
           },
           "id": "6",
           "sentences": [
            {
             "confidenceScores": {
              "negative": 0.85,
              "neutral": 0.14,
              "positive": 0.01
             },
             "length": 177,
             "offset": 0,
             "sentiment": "negative",
             "text": "Facing a 2-0 deficit and playing without star Christian Benteke, who was scratched before kickoff with an injury, United caught a late spark and earned a point in Portland, Ore."
            }
           ],
           "sentiment": "negative",
           "warnings": []
          },
          "modelVersion": "2022-11-01"
         },
         "9": "negative",
         "index": 27
        },
        {
         "0": "Dawn Staley helps reunite South Carolina's Kamilla Cardoso with family: 'An incredible moment for all of us'",
         "1": "Kamilla Cardoso has been a breakout star for the undefeated South Carolina Gamecocks. The Brazil native is the team's leading scorer and rebounder.",
         "2": "Sports",
         "3": "https://www.msn.com/en-us/sports/other/dawn-staley-helps-reunite-south-carolinas-kamilla-cardoso-with-family-an-incredible-moment-for-all-of-us/ar-BB1jeM7K",
         "4": "https://www.bing.com/th?id=OVFT.eHKEdUB4TwVFU54KJRnGdi&pid=News",
         "5": "Fox News on MSN.com",
         "6": "03-Mar-2024",
         "8": {
          "documents": {
           "confidenceScores": {
            "negative": 0.03,
            "neutral": 0.69,
            "positive": 0.28
           },
           "id": "7",
           "sentences": [
            {
             "confidenceScores": {
              "negative": 0.03,
              "neutral": 0.58,
              "positive": 0.39
             },
             "length": 86,
             "offset": 0,
             "sentiment": "neutral",
             "text": "Kamilla Cardoso has been a breakout star for the undefeated South Carolina Gamecocks. "
            },
            {
             "confidenceScores": {
              "negative": 0.02,
              "neutral": 0.81,
              "positive": 0.18
             },
             "length": 61,
             "offset": 86,
             "sentiment": "neutral",
             "text": "The Brazil native is the team's leading scorer and rebounder."
            }
           ],
           "sentiment": "neutral",
           "warnings": []
          },
          "modelVersion": "2022-11-01"
         },
         "9": "neutral",
         "index": 28
        },
        {
         "0": "When can we expect the last-freeze?",
         "1": "The start of meteorological spring has many people wondering how soon we might be saying “goodbye” to temperatures that dip to at least 32º. Despite the mild winter and a 7-day outlook that doesn’t include a freezing temperature in Chicago,",
         "2": "LifeStyle",
         "3": "https://www.msn.com/en-us/weather/topstories/when-can-we-expect-the-last-freeze/ar-BB1jfoAp",
         "4": "https://www.bing.com/th?id=OVFT.6Eo-KDNQ8-QXBzgx7SFUTi&pid=News",
         "5": "WGN-TV Chicago on MSN.com",
         "6": "03-Mar-2024",
         "8": {
          "documents": {
           "confidenceScores": {
            "negative": 0.17,
            "neutral": 0.67,
            "positive": 0.16
           },
           "id": "8",
           "sentences": [
            {
             "confidenceScores": {
              "negative": 0.02,
              "neutral": 0.75,
              "positive": 0.22
             },
             "length": 141,
             "offset": 0,
             "sentiment": "neutral",
             "text": "The start of meteorological spring has many people wondering how soon we might be saying “goodbye” to temperatures that dip to at least 32º. "
            },
            {
             "confidenceScores": {
              "negative": 0.31,
              "neutral": 0.59,
              "positive": 0.1
             },
             "length": 99,
             "offset": 141,
             "sentiment": "neutral",
             "text": "Despite the mild winter and a 7-day outlook that doesn’t include a freezing temperature in Chicago,"
            }
           ],
           "sentiment": "neutral",
           "warnings": []
          },
          "modelVersion": "2022-11-01"
         },
         "9": "neutral",
         "index": 29
        },
        {
         "0": "Ten examples of sports growing more and more insane",
         "1": "If a team — any pro team — denies anyone — gays, Estonians, atheists, Mao Marxists, transgender NCAA record-breaking swimmers, green-haired grandmothers, Uncle Leo — entry to a game based on their race, sexuality, ethnicity, religion, politics, biological birth or hairdresser, then we’ve reason to devote a game to the specifically oppressed.",
         "2": "Sports",
         "3": "https://www.yahoo.com/news/ten-examples-sports-growing-more-191214428.html",
         "4": "https://www.bing.com/th?id=OVFT.-S--_IJygUZFg61ulQppGS&pid=News",
         "5": "Yahoo",
         "6": "02-Mar-2024",
         "8": {
          "documents": {
           "confidenceScores": {
            "negative": 0.62,
            "neutral": 0.32,
            "positive": 0.06
           },
           "id": "9",
           "sentences": [
            {
             "confidenceScores": {
              "negative": 0.62,
              "neutral": 0.32,
              "positive": 0.06
             },
             "length": 343,
             "offset": 0,
             "sentiment": "negative",
             "text": "If a team — any pro team — denies anyone — gays, Estonians, atheists, Mao Marxists, transgender NCAA record-breaking swimmers, green-haired grandmothers, Uncle Leo — entry to a game based on their race, sexuality, ethnicity, religion, politics, biological birth or hairdresser, then we’ve reason to devote a game to the specifically oppressed."
            }
           ],
           "sentiment": "negative",
           "warnings": []
          },
          "modelVersion": "2022-11-01"
         },
         "9": "negative",
         "index": 30
        },
        {
         "0": "Xavier Prep defeats Desert Vista to win girls' Open, the school's first basketball title",
         "1": "Championship banners are everywhere at Phoenix Xavier Prep. In the athletic facilities. In hallways. Down towards the administrative offices. When you have 138 of them, you have to get creative. They’re a reminder of the school’s dominance in just about every sport Arizona offers.",
         "2": "Sports",
         "3": "https://www.usatoday.com/story/sports/high-school/2024/03/02/xavier-prep-beats-desert-vista-to-win-open-claim-first-ever-title/72754011007/",
         "4": "https://www.bing.com/th?id=OVFT.erNM8yxM9bBQKp52MNXUWi&pid=News",
         "5": "USA Today",
         "6": "03-Mar-2024",
         "8": {
          "documents": {
           "confidenceScores": {
            "negative": 0.01,
            "neutral": 0.92,
            "positive": 0.07
           },
           "id": "0",
           "sentences": [
            {
             "confidenceScores": {
              "negative": 0.01,
              "neutral": 0.96,
              "positive": 0.03
             },
             "length": 60,
             "offset": 0,
             "sentiment": "neutral",
             "text": "Championship banners are everywhere at Phoenix Xavier Prep. "
            },
            {
             "confidenceScores": {
              "negative": 0.01,
              "neutral": 0.98,
              "positive": 0.02
             },
             "length": 28,
             "offset": 60,
             "sentiment": "neutral",
             "text": "In the athletic facilities. "
            },
            {
             "confidenceScores": {
              "negative": 0.01,
              "neutral": 0.98,
              "positive": 0.01
             },
             "length": 13,
             "offset": 88,
             "sentiment": "neutral",
             "text": "In hallways. "
            },
            {
             "confidenceScores": {
              "negative": 0.01,
              "neutral": 0.99,
              "positive": 0.01
             },
             "length": 41,
             "offset": 101,
             "sentiment": "neutral",
             "text": "Down towards the administrative offices. "
            },
            {
             "confidenceScores": {
              "negative": 0.01,
              "neutral": 0.95,
              "positive": 0.04
             },
             "length": 53,
             "offset": 142,
             "sentiment": "neutral",
             "text": "When you have 138 of them, you have to get creative. "
            },
            {
             "confidenceScores": {
              "negative": 0.02,
              "neutral": 0.65,
              "positive": 0.33
             },
             "length": 86,
             "offset": 195,
             "sentiment": "neutral",
             "text": "They’re a reminder of the school’s dominance in just about every sport Arizona offers."
            }
           ],
           "sentiment": "neutral",
           "warnings": []
          },
          "modelVersion": "2022-11-01"
         },
         "9": "neutral",
         "index": 31
        },
        {
         "0": "Christian Horner opens up on ‘testing’ week for wife Geri Halliwell and family",
         "1": "Christian Horner admits the past week has been “testing” for him and his family as he strode into the Bahrain paddock hand-in-hand with wife Geri Halliwell prior to Saturday’s Bahrain Grand Prix.",
         "2": "Sports",
         "3": "https://www.independent.co.uk/f1/christian-horner-geri-halliwell-f1-red-bull-bahrain-b2506120.html",
         "4": "https://www.bing.com/th?id=OVFT.drCd8P758Up2I2d6XDMyIS&pid=News",
         "5": "The Independent",
         "6": "03-Mar-2024",
         "8": {
          "documents": {
           "confidenceScores": {
            "negative": 0.07,
            "neutral": 0.83,
            "positive": 0.1
           },
           "id": "1",
           "sentences": [
            {
             "confidenceScores": {
              "negative": 0.07,
              "neutral": 0.83,
              "positive": 0.1
             },
             "length": 195,
             "offset": 0,
             "sentiment": "neutral",
             "text": "Christian Horner admits the past week has been “testing” for him and his family as he strode into the Bahrain paddock hand-in-hand with wife Geri Halliwell prior to Saturday’s Bahrain Grand Prix."
            }
           ],
           "sentiment": "neutral",
           "warnings": []
          },
          "modelVersion": "2022-11-01"
         },
         "9": "neutral",
         "index": 32
        },
        {
         "0": "'We cannot recycle our way out of plastic pollution'",
         "1": "Local environmental leaders will discuss the plastic problem Thursday. The public is welcome. The forum is part of IHM's anti-plastics campaign.",
         "2": "LifeStyle",
         "3": "https://news.yahoo.com/cannot-recycle-way-plastic-pollution-084210209.html",
         "4": "https://www.bing.com/th?id=OVFT.S9mxdHTq7B2krZYZgp60Ci&pid=News",
         "5": "YAHOO!News",
         "6": "03-Mar-2024",
         "8": {
          "documents": {
           "confidenceScores": {
            "negative": 0.02,
            "neutral": 0.34,
            "positive": 0.64
           },
           "id": "2",
           "sentences": [
            {
             "confidenceScores": {
              "negative": 0.08,
              "neutral": 0.9,
              "positive": 0.02
             },
             "length": 71,
             "offset": 0,
             "sentiment": "neutral",
             "text": "Local environmental leaders will discuss the plastic problem Thursday. "
            },
            {
             "confidenceScores": {
              "negative": 0.02,
              "neutral": 0.34,
              "positive": 0.64
             },
             "length": 23,
             "offset": 71,
             "sentiment": "positive",
             "text": "The public is welcome. "
            },
            {
             "confidenceScores": {
              "negative": 0.08,
              "neutral": 0.91,
              "positive": 0.01
             },
             "length": 50,
             "offset": 94,
             "sentiment": "neutral",
             "text": "The forum is part of IHM's anti-plastics campaign."
            }
           ],
           "sentiment": "positive",
           "warnings": []
          },
          "modelVersion": "2022-11-01"
         },
         "9": "positive",
         "index": 33
        },
        {
         "0": "Small detail in America's NRL coverage proves the code has a huge mountain to climb to make an impact in America",
         "1": "The NRL season opener between Manly and South Sydney has been explosive success, but a photo from the match proves that the code has some work to do to make an impact in America.",
         "2": "Sports",
         "3": "https://www.dailymail.co.uk/sport/nrl/article-13150763/Major-League-Rugby-mistake-NRL-Las-Vegas-Souths-Manly.html",
         "4": "https://www.bing.com/th?id=OVFT.A4OaIZkBsJEA-gXFd7PS2y&pid=News",
         "5": "Daily Mail",
         "6": "03-Mar-2024",
         "8": {
          "documents": {
           "confidenceScores": {
            "negative": 0.04,
            "neutral": 0.54,
            "positive": 0.42
           },
           "id": "3",
           "sentences": [
            {
             "confidenceScores": {
              "negative": 0.04,
              "neutral": 0.54,
              "positive": 0.42
             },
             "length": 178,
             "offset": 0,
             "sentiment": "neutral",
             "text": "The NRL season opener between Manly and South Sydney has been explosive success, but a photo from the match proves that the code has some work to do to make an impact in America."
            }
           ],
           "sentiment": "neutral",
           "warnings": []
          },
          "modelVersion": "2022-11-01"
         },
         "9": "neutral",
         "index": 34
        },
        {
         "0": "Hoyas’ 15-point lead fades away in a heartbreaker against Xavier",
         "1": "Georgetown remains winless against the non-DePaul portion of the Big East after Saturday night’s 98-93 defeat at Capital One Arena.",
         "2": "Sports",
         "3": "https://www.msn.com/en-us/sports/other/hoyas-15-point-lead-over-xavier-fades-away-in-yet-another-loss/ar-BB1jeW3n",
         "4": "https://www.bing.com/th?id=OVFT.eaQXYVTGqZvYG5dwAehujy&pid=News",
         "5": "The Washington Post on MSN.com",
         "6": "03-Mar-2024",
         "8": {
          "documents": {
           "confidenceScores": {
            "negative": 0.68,
            "neutral": 0.3,
            "positive": 0.01
           },
           "id": "4",
           "sentences": [
            {
             "confidenceScores": {
              "negative": 0.68,
              "neutral": 0.3,
              "positive": 0.01
             },
             "length": 131,
             "offset": 0,
             "sentiment": "negative",
             "text": "Georgetown remains winless against the non-DePaul portion of the Big East after Saturday night’s 98-93 defeat at Capital One Arena."
            }
           ],
           "sentiment": "negative",
           "warnings": []
          },
          "modelVersion": "2022-11-01"
         },
         "9": "negative",
         "index": 35
        },
        {
         "0": "TV tonight: an explosive finale for Vicky McClure in Trigger Point",
         "1": "Bomb disposal officer Lana faces a terrible dilemma. Plus: the excellent Alex Kingston tell’s the story of Frankenstein. Here’s what to watch this evening",
         "2": "LifeStyle",
         "3": "https://www.theguardian.com/tv-and-radio/2024/mar/03/tv-tonight-an-explosive-finale-for-vicky-mcclure-in-trigger-point",
         "4": "https://www.bing.com/th?id=OVFT.rbNRHmRv2AK1DQ71JFooyy&pid=News",
         "5": "The Guardian",
         "6": "03-Mar-2024",
         "8": {
          "documents": {
           "confidenceScores": {
            "negative": 0.48,
            "neutral": 0.05,
            "positive": 0.47
           },
           "id": "5",
           "sentences": [
            {
             "confidenceScores": {
              "negative": 0.94,
              "neutral": 0.05,
              "positive": 0.01
             },
             "length": 53,
             "offset": 0,
             "sentiment": "negative",
             "text": "Bomb disposal officer Lana faces a terrible dilemma. "
            },
            {
             "confidenceScores": {
              "negative": 0.01,
              "neutral": 0.05,
              "positive": 0.94
             },
             "length": 68,
             "offset": 53,
             "sentiment": "positive",
             "text": "Plus: the excellent Alex Kingston tell’s the story of Frankenstein. "
            },
            {
             "confidenceScores": {
              "negative": 0.07,
              "neutral": 0.52,
              "positive": 0.41
             },
             "length": 33,
             "offset": 121,
             "sentiment": "neutral",
             "text": "Here’s what to watch this evening"
            }
           ],
           "sentiment": "mixed",
           "warnings": []
          },
          "modelVersion": "2022-11-01"
         },
         "9": "mixed",
         "index": 36
        },
        {
         "0": "Farm heroes, crispy warts and water sports",
         "1": "Thank you for your dispatch on the costs of the Gaza war to the Israeli economy (“How the war in Gaza has hurt Israel’s economy”, World News, last week). I travelled from Hertfordshire to volunteer at",
         "2": "World",
         "3": "https://www.thetimes.co.uk/article/farm-heroes-crispy-warts-and-water-sports-ncgkrvrr2",
         "4": "https://www.bing.com/th?id=OVFT.V6xeFwujoJzWShsrS2oaxC&pid=News",
         "5": "The Times",
         "6": "03-Mar-2024",
         "8": {
          "documents": {
           "confidenceScores": {
            "negative": 0.33,
            "neutral": 0.15,
            "positive": 0.52
           },
           "id": "6",
           "sentences": [
            {
             "confidenceScores": {
              "negative": 0.33,
              "neutral": 0.15,
              "positive": 0.52
             },
             "length": 154,
             "offset": 0,
             "sentiment": "positive",
             "text": "Thank you for your dispatch on the costs of the Gaza war to the Israeli economy (“How the war in Gaza has hurt Israel’s economy”, World News, last week). "
            },
            {
             "confidenceScores": {
              "negative": 0.02,
              "neutral": 0.71,
              "positive": 0.26
             },
             "length": 46,
             "offset": 154,
             "sentiment": "neutral",
             "text": "I travelled from Hertfordshire to volunteer at"
            }
           ],
           "sentiment": "positive",
           "warnings": []
          },
          "modelVersion": "2022-11-01"
         },
         "9": "positive",
         "index": 37
        },
        {
         "0": "NRL facing uphill battle to conquer the US, but claims a thrilling toehold in Las Vegas",
         "1": "A new sport won't crack the home of the brave overnight and one week of fun and footy in Las Vegas doesn't prove anything. But it was a pretty good start.",
         "2": "Sports",
         "3": "https://www.msn.com/en-au/sport/other/nrl-facing-uphill-battle-to-conquer-the-us-but-claims-a-thrilling-toehold-in-las-vegas/ar-BB1jfcil",
         "4": "https://www.bing.com/th?id=OVFT.2iGJ8HodTYsp4EpV6Svkai&pid=News",
         "5": "Australian Broadcasting Corporation on MSN.com",
         "6": "03-Mar-2024",
         "8": {
          "documents": {
           "confidenceScores": {
            "negative": 0.09,
            "neutral": 0.21,
            "positive": 0.7
           },
           "id": "7",
           "sentences": [
            {
             "confidenceScores": {
              "negative": 0.13,
              "neutral": 0.29,
              "positive": 0.58
             },
             "length": 123,
             "offset": 0,
             "sentiment": "positive",
             "text": "A new sport won't crack the home of the brave overnight and one week of fun and footy in Las Vegas doesn't prove anything. "
            },
            {
             "confidenceScores": {
              "negative": 0.05,
              "neutral": 0.13,
              "positive": 0.82
             },
             "length": 31,
             "offset": 123,
             "sentiment": "positive",
             "text": "But it was a pretty good start."
            }
           ],
           "sentiment": "positive",
           "warnings": []
          },
          "modelVersion": "2022-11-01"
         },
         "9": "positive",
         "index": 38
        },
        {
         "0": "Aging Bridge Is a Flashpoint in Competitive Washington State House Race",
         "1": "Representative Marie Gluesenkamp Perez is running on fixing one of the busiest bridges in the region. Her far-right opponent calls it an “Antifa superhighway.”",
         "2": "Politics",
         "3": "https://www.nytimes.com/2024/03/03/us/politics/aging-bridge-is-a-flashpoint-in-competitive-washington-state-house-race.html",
         "4": "https://www.bing.com/th?id=OVFT.Q2sz2wpfceQW1RWlboqs-i&pid=News",
         "5": "The New York Times",
         "6": "03-Mar-2024",
         "8": {
          "documents": {
           "confidenceScores": {
            "negative": 0.08,
            "neutral": 0.89,
            "positive": 0.04
           },
           "id": "8",
           "sentences": [
            {
             "confidenceScores": {
              "negative": 0.01,
              "neutral": 0.95,
              "positive": 0.04
             },
             "length": 102,
             "offset": 0,
             "sentiment": "neutral",
             "text": "Representative Marie Gluesenkamp Perez is running on fixing one of the busiest bridges in the region. "
            },
            {
             "confidenceScores": {
              "negative": 0.15,
              "neutral": 0.82,
              "positive": 0.03
             },
             "length": 57,
             "offset": 102,
             "sentiment": "neutral",
             "text": "Her far-right opponent calls it an “Antifa superhighway.”"
            }
           ],
           "sentiment": "neutral",
           "warnings": []
          },
          "modelVersion": "2022-11-01"
         },
         "9": "neutral",
         "index": 39
        },
        {
         "0": "10Bet Cheltenham Offers: Latest Promos Ahead of the Cheltenham Festival 2024",
         "1": "10Bet's mix of Cheltenham Festival betting offers for 2024 makes them one of the best betting sites to consider for the big meeting. They have catered to both new and existing customers with their Cheltenham betting promos and their Acca Boost up to 100% offer is a valuable one to have with so much action across the four-day festival.",
         "2": "ScienceAndTechnology",
         "3": "https://www.independent.co.uk/betting/cheltenham-festival/10bet-cheltenham-offer",
         "4": "https://www.bing.com/th?id=OVFT.5Vuslqje12mJEn_5VDtM9C&pid=News",
         "5": "The Independent",
         "6": "03-Mar-2024",
         "8": {
          "documents": {
           "confidenceScores": {
            "negative": 0.01,
            "neutral": 0.29,
            "positive": 0.7
           },
           "id": "9",
           "sentences": [
            {
             "confidenceScores": {
              "negative": 0.01,
              "neutral": 0.5,
              "positive": 0.49
             },
             "length": 133,
             "offset": 0,
             "sentiment": "neutral",
             "text": "10Bet's mix of Cheltenham Festival betting offers for 2024 makes them one of the best betting sites to consider for the big meeting. "
            },
            {
             "confidenceScores": {
              "negative": 0.01,
              "neutral": 0.29,
              "positive": 0.7
             },
             "length": 203,
             "offset": 133,
             "sentiment": "positive",
             "text": "They have catered to both new and existing customers with their Cheltenham betting promos and their Acca Boost up to 100% offer is a valuable one to have with so much action across the four-day festival."
            }
           ],
           "sentiment": "positive",
           "warnings": []
          },
          "modelVersion": "2022-11-01"
         },
         "9": "positive",
         "index": 40
        },
        {
         "0": "Is It Too Late to Buy Nvidia Stock?",
         "1": "A closer look at the company's forward multiples tells us that it may be a good idea to buy Nvidia right away.",
         "2": "ScienceAndTechnology",
         "3": "https://finance.yahoo.com/news/too-buy-nvidia-stock-084700090.html?fr=sycsrp_catchall",
         "4": "https://www.bing.com/th?id=OVFT.2BYBN1JwErA54iu3swVeXC&pid=News",
         "5": "YAHOO!Finance",
         "6": "03-Mar-2024",
         "8": {
          "documents": {
           "confidenceScores": {
            "negative": 0.01,
            "neutral": 0.84,
            "positive": 0.15
           },
           "id": "0",
           "sentences": [
            {
             "confidenceScores": {
              "negative": 0.01,
              "neutral": 0.84,
              "positive": 0.15
             },
             "length": 110,
             "offset": 0,
             "sentiment": "neutral",
             "text": "A closer look at the company's forward multiples tells us that it may be a good idea to buy Nvidia right away."
            }
           ],
           "sentiment": "neutral",
           "warnings": []
          },
          "modelVersion": "2022-11-01"
         },
         "9": "neutral",
         "index": 41
        },
        {
         "0": "Betting offer for Manchester City vs Manchester United: Enhanced odds",
         "1": "Claim this BoyleSports betting offer to get £30 in bonuses and enhanced odds on the Premier League match between Manchester City and Manchester United",
         "2": "Sports",
         "3": "https://www.telegraph.co.uk/betting/football/manchester-city-vs-manchester-united-free-bet-boylesports/",
         "4": "https://www.bing.com/th?id=OVFT.UgyUEvIDCOUPcsYlrfQ57S&pid=News",
         "5": "The Daily Telegraph",
         "6": "03-Mar-2024",
         "8": {
          "documents": {
           "confidenceScores": {
            "negative": 0.01,
            "neutral": 0.77,
            "positive": 0.22
           },
           "id": "1",
           "sentences": [
            {
             "confidenceScores": {
              "negative": 0.01,
              "neutral": 0.77,
              "positive": 0.22
             },
             "length": 150,
             "offset": 0,
             "sentiment": "neutral",
             "text": "Claim this BoyleSports betting offer to get £30 in bonuses and enhanced odds on the Premier League match between Manchester City and Manchester United"
            }
           ],
           "sentiment": "neutral",
           "warnings": []
          },
          "modelVersion": "2022-11-01"
         },
         "9": "neutral",
         "index": 42
        },
        {
         "0": "2024 Sarasota STRIVE Award Student Stories: Tashaun Bryant",
         "1": "A high school senior and 2024 recipient of a STRIVE Award, Tashaun has made an unlikely journey to Sarasota Military Academy.",
         "2": "LifeStyle",
         "3": "https://news.yahoo.com/2024-sarasota-strive-award-student-090239677.html",
         "4": "https://www.bing.com/th?id=OVFT.foPopeO9I9TlUs4pIxXwoy&pid=News",
         "5": "YAHOO!News",
         "6": "03-Mar-2024",
         "8": {
          "documents": {
           "confidenceScores": {
            "negative": 0.02,
            "neutral": 0.77,
            "positive": 0.22
           },
           "id": "0",
           "sentences": [
            {
             "confidenceScores": {
              "negative": 0.02,
              "neutral": 0.77,
              "positive": 0.22
             },
             "length": 125,
             "offset": 0,
             "sentiment": "neutral",
             "text": "A high school senior and 2024 recipient of a STRIVE Award, Tashaun has made an unlikely journey to Sarasota Military Academy."
            }
           ],
           "sentiment": "neutral",
           "warnings": []
          },
          "modelVersion": "2022-11-01"
         },
         "9": "neutral",
         "index": 43
        },
        {
         "0": "Polls open for Shreveport Times Student of Week voting: March 3-7",
         "1": "Which of these seven talented North Louisiana students will be chosen as the first Shreveport Times Student of the Week? You decide. Vote now!",
         "2": "LifeStyle",
         "3": "https://news.yahoo.com/polls-open-shreveport-times-student-110727459.html",
         "4": "https://www.bing.com/th?id=OVFT.goW_5GeM4-hX4vDf1DYxyC&pid=News",
         "5": "YAHOO!News",
         "6": "03-Mar-2024",
         "8": {
          "documents": {
           "confidenceScores": {
            "negative": 0.07,
            "neutral": 0.77,
            "positive": 0.17
           },
           "id": "1",
           "sentences": [
            {
             "confidenceScores": {
              "negative": 0.01,
              "neutral": 0.9,
              "positive": 0.09
             },
             "length": 121,
             "offset": 0,
             "sentiment": "neutral",
             "text": "Which of these seven talented North Louisiana students will be chosen as the first Shreveport Times Student of the Week? "
            },
            {
             "confidenceScores": {
              "negative": 0.02,
              "neutral": 0.93,
              "positive": 0.05
             },
             "length": 12,
             "offset": 121,
             "sentiment": "neutral",
             "text": "You decide. "
            },
            {
             "confidenceScores": {
              "negative": 0.17,
              "neutral": 0.48,
              "positive": 0.35
             },
             "length": 9,
             "offset": 133,
             "sentiment": "neutral",
             "text": "Vote now!"
            }
           ],
           "sentiment": "neutral",
           "warnings": []
          },
          "modelVersion": "2022-11-01"
         },
         "9": "neutral",
         "index": 44
        },
        {
         "0": "Check Out The Music Video Of The Latest Hindi Song Kende Ne Naina Sung By Vishal Mishra",
         "1": "Enjoy the latest Hindi song Kende Ne Naina sung by Vishal Mishra. The music for this captivating track has been composed by Rochak Kohli. Don't miss the opportunity to watch the latest Hindi video song Kende Ne Naina by Vishal Mishra and immerse yourself in its mesmerizing melodies.",
         "2": "LifeStyle",
         "3": "https://timesofindia.indiatimes.com/videos/entertainment/music/hindi/check-out-the-music-video-of-the-latest-hindi-song-kende-ne-naina-sung-by-vishal-mishra/videoshow/108177772.cms",
         "4": "https://www.bing.com/th?id=OVFT.NBTYJ2rHSKvwuzIZ-bUMYC&pid=News",
         "5": "Indiatimes",
         "6": "03-Mar-2024",
         "8": {
          "documents": {
           "confidenceScores": {
            "negative": 0.02,
            "neutral": 0.42,
            "positive": 0.56
           },
           "id": "2",
           "sentences": [
            {
             "confidenceScores": {
              "negative": 0.01,
              "neutral": 0.68,
              "positive": 0.3
             },
             "length": 66,
             "offset": 0,
             "sentiment": "neutral",
             "text": "Enjoy the latest Hindi song Kende Ne Naina sung by Vishal Mishra. "
            },
            {
             "confidenceScores": {
              "negative": 0.02,
              "neutral": 0.42,
              "positive": 0.56
             },
             "length": 72,
             "offset": 66,
             "sentiment": "positive",
             "text": "The music for this captivating track has been composed by Rochak Kohli. "
            },
            {
             "confidenceScores": {
              "negative": 0.03,
              "neutral": 0.5,
              "positive": 0.47
             },
             "length": 145,
             "offset": 138,
             "sentiment": "neutral",
             "text": "Don't miss the opportunity to watch the latest Hindi video song Kende Ne Naina by Vishal Mishra and immerse yourself in its mesmerizing melodies."
            }
           ],
           "sentiment": "positive",
           "warnings": []
          },
          "modelVersion": "2022-11-01"
         },
         "9": "positive",
         "index": 45
        },
        {
         "0": "Check Out The Music Video Of The Latest Punjabi Song Dil Darian Sung By Kambi Rajpuria",
         "1": "Enjoy the latest Punjabi song Dil Darian sung by Kambi Rajpuria. The music for this captivating track has been composed by Ricky Khan. Don't miss the opportunity to watch the latest Punjabi video song Dil Darian by Kambi Rajpuria and immerse yourself in its mesmerizing melodies.",
         "2": "LifeStyle",
         "3": "https://timesofindia.indiatimes.com/videos/entertainment/music/punjabi/check-out-the-music-video-of-the-latest-punjabi-song-dil-darian-sung-by-kambi-rajpuria/videoshow/108178124.cms",
         "4": "https://www.bing.com/th?id=OVFT.cbbjgwxlnG04Mjpqtp8ZEy&pid=News",
         "5": "Indiatimes",
         "6": "03-Mar-2024",
         "8": {
          "documents": {
           "confidenceScores": {
            "negative": 0.02,
            "neutral": 0.46,
            "positive": 0.52
           },
           "id": "3",
           "sentences": [
            {
             "confidenceScores": {
              "negative": 0.02,
              "neutral": 0.54,
              "positive": 0.44
             },
             "length": 65,
             "offset": 0,
             "sentiment": "neutral",
             "text": "Enjoy the latest Punjabi song Dil Darian sung by Kambi Rajpuria. "
            },
            {
             "confidenceScores": {
              "negative": 0.02,
              "neutral": 0.46,
              "positive": 0.51
             },
             "length": 70,
             "offset": 65,
             "sentiment": "positive",
             "text": "The music for this captivating track has been composed by Ricky Khan. "
            },
            {
             "confidenceScores": {
              "negative": 0.02,
              "neutral": 0.46,
              "positive": 0.52
             },
             "length": 144,
             "offset": 135,
             "sentiment": "positive",
             "text": "Don't miss the opportunity to watch the latest Punjabi video song Dil Darian by Kambi Rajpuria and immerse yourself in its mesmerizing melodies."
            }
           ],
           "sentiment": "positive",
           "warnings": []
          },
          "modelVersion": "2022-11-01"
         },
         "9": "positive",
         "index": 46
        },
        {
         "0": "Raye: Singer-songwriter makes history winning six Brit Awards",
         "1": "It was Raye's night as she made history at the Brit Awards, winning six of the seven prizes she was nominated for - beating Blur, Adele and Harry Styles' record four wins at a single ceremony. She is also the first woman to win songwriter of the year.",
         "2": "Entertainment",
         "3": "https://www.bbc.co.uk/news/entertainment-arts-68458922",
         "4": "https://www.bing.com/th?id=OVFT.aNFpkeTfQXgDzqhhBw5uRi&pid=News",
         "5": "BBC",
         "6": "03-Mar-2024",
         "8": {
          "documents": {
           "confidenceScores": {
            "negative": 0.03,
            "neutral": 0.66,
            "positive": 0.31
           },
           "id": "4",
           "sentences": [
            {
             "confidenceScores": {
              "negative": 0.03,
              "neutral": 0.75,
              "positive": 0.22
             },
             "length": 193,
             "offset": 0,
             "sentiment": "neutral",
             "text": "It was Raye's night as she made history at the Brit Awards, winning six of the seven prizes she was nominated for - beating Blur, Adele and Harry Styles' record four wins at a single ceremony. "
            },
            {
             "confidenceScores": {
              "negative": 0.03,
              "neutral": 0.57,
              "positive": 0.4
             },
             "length": 58,
             "offset": 193,
             "sentiment": "neutral",
             "text": "She is also the first woman to win songwriter of the year."
            }
           ],
           "sentiment": "neutral",
           "warnings": []
          },
          "modelVersion": "2022-11-01"
         },
         "9": "neutral",
         "index": 47
        },
        {
         "0": "Dua Lipa sends temperatures soaring in sexy red lingerie as she joins abs-flashing Billie Piper at Warner Music's star-studded BRITs afterparty",
         "1": "The singer, 28, who bagged the Best Pop Act gong and performed on stage, looked nothing short of incredible as she let her hair down in a sexy red lingerie inspired ensemble.",
         "2": "Entertainment",
         "3": "https://www.dailymail.co.uk/tvshowbiz/article-13150385/Dua-Lipa-Billie-Piper-Brits-afterparty.html",
         "4": "https://www.bing.com/th?id=OVFT.aNpluipPLWr4fgsNmMwMsC&pid=News",
         "5": "Daily Mail",
         "6": "03-Mar-2024",
         "8": {
          "documents": {
           "confidenceScores": {
            "negative": 0.05,
            "neutral": 0.43,
            "positive": 0.53
           },
           "id": "5",
           "sentences": [
            {
             "confidenceScores": {
              "negative": 0.05,
              "neutral": 0.43,
              "positive": 0.53
             },
             "length": 174,
             "offset": 0,
             "sentiment": "positive",
             "text": "The singer, 28, who bagged the Best Pop Act gong and performed on stage, looked nothing short of incredible as she let her hair down in a sexy red lingerie inspired ensemble."
            }
           ],
           "sentiment": "positive",
           "warnings": []
          },
          "modelVersion": "2022-11-01"
         },
         "9": "positive",
         "index": 48
        },
        {
         "0": "Maya Jama looks sensational in a racy sheer dress as she holds hands with busty AJ Odudu leaving Warner Music's Brit Awards afterparty",
         "1": "Maya Jama looked sensational in a racy sheer dress as she held hands with busty AJ Odudu leaving Warner Music's Brit Awards afterparty on Saturday night.",
         "2": "Entertainment",
         "3": "https://www.dailymail.co.uk/tvshowbiz/article-13151183/Maya-Jama-looks-sensational-racy-sheer-dress-holds-hands-busty-AJ-Odudu-leaving-Warner-Musics-Brit-Awards-afterparty.html",
         "4": "https://www.bing.com/th?id=OVFT.AuZX5nNxzzqiLo3E5mOFkC&pid=News",
         "5": "Daily Mail",
         "6": "03-Mar-2024",
         "8": {
          "documents": {
           "confidenceScores": {
            "negative": 0.03,
            "neutral": 0.57,
            "positive": 0.39
           },
           "id": "6",
           "sentences": [
            {
             "confidenceScores": {
              "negative": 0.03,
              "neutral": 0.57,
              "positive": 0.39
             },
             "length": 153,
             "offset": 0,
             "sentiment": "neutral",
             "text": "Maya Jama looked sensational in a racy sheer dress as she held hands with busty AJ Odudu leaving Warner Music's Brit Awards afterparty on Saturday night."
            }
           ],
           "sentiment": "neutral",
           "warnings": []
          },
          "modelVersion": "2022-11-01"
         },
         "9": "neutral",
         "index": 49
        },
        {
         "0": "Books of the month: From Kazuo Ishiguro’s song lyrics to Family Politics by John O’Farrell",
         "1": "An attention-grabbingly titled debut novel from playwright Anoushka Warden, Peter Pomerantsev’s intriguing study of a genius propagandist who outwitted Hitler, and an important study of the distorted",
         "2": "Entertainment",
         "3": "https://www.independent.co.uk/arts-entertainment/books/features/books-march-releases-bestsellers-b2503870.html",
         "4": "https://www.bing.com/th?id=OVFT.jwkq6657UtxZK-jjjvoAgi&pid=News",
         "5": "The Independent",
         "6": "03-Mar-2024",
         "8": {
          "documents": {
           "confidenceScores": {
            "negative": 0.03,
            "neutral": 0.34,
            "positive": 0.62
           },
           "id": "7",
           "sentences": [
            {
             "confidenceScores": {
              "negative": 0.03,
              "neutral": 0.34,
              "positive": 0.62
             },
             "length": 199,
             "offset": 0,
             "sentiment": "positive",
             "text": "An attention-grabbingly titled debut novel from playwright Anoushka Warden, Peter Pomerantsev’s intriguing study of a genius propagandist who outwitted Hitler, and an important study of the distorted"
            }
           ],
           "sentiment": "positive",
           "warnings": []
          },
          "modelVersion": "2022-11-01"
         },
         "9": "positive",
         "index": 50
        },
        {
         "0": "No Twerking. No Drinking. No Smoking. but It's Still a Party at This Christian Nightclub",
         "1": "The young crowd at a Nashville nightclub was ready to dance under the strobe lights to a throbbing mix of hip-hop, rap and Latin beats. But first they gathered to pray and praise God. The rules were announced on the dance floor by a mic-carrying emcee to more than 200 clubgoers blanketed by thick smoke machine fog: ”Rule No.",
         "2": "LifeStyle",
         "3": "https://www.msn.com/en-us/entertainment/news/a-christian-pop-up-nightclub-in-nashville-plays-jesus-rap-and-forbids-twerking-drinking-and-smoking/ar-BB1jeDLc",
         "4": "https://www.bing.com/th?id=OVFT.iRXlTD87QDCQuB6DTC-caC&pid=News",
         "5": "Business Insider on MSN.com",
         "6": "02-Mar-2024",
         "8": {
          "documents": {
           "confidenceScores": {
            "negative": 0.18,
            "neutral": 0.6,
            "positive": 0.22
           },
           "id": "8",
           "sentences": [
            {
             "confidenceScores": {
              "negative": 0.03,
              "neutral": 0.65,
              "positive": 0.32
             },
             "length": 136,
             "offset": 0,
             "sentiment": "neutral",
             "text": "The young crowd at a Nashville nightclub was ready to dance under the strobe lights to a throbbing mix of hip-hop, rap and Latin beats. "
            },
            {
             "confidenceScores": {
              "negative": 0.09,
              "neutral": 0.61,
              "positive": 0.31
             },
             "length": 48,
             "offset": 136,
             "sentiment": "neutral",
             "text": "But first they gathered to pray and praise God. "
            },
            {
             "confidenceScores": {
              "negative": 0.43,
              "neutral": 0.53,
              "positive": 0.03
             },
             "length": 142,
             "offset": 184,
             "sentiment": "neutral",
             "text": "The rules were announced on the dance floor by a mic-carrying emcee to more than 200 clubgoers blanketed by thick smoke machine fog: ”Rule No."
            }
           ],
           "sentiment": "neutral",
           "warnings": []
          },
          "modelVersion": "2022-11-01"
         },
         "9": "neutral",
         "index": 51
        },
        {
         "0": "Gloucester young people talk about knife crime on hip-hop album",
         "1": "The group launched its album at Gloucester Cathedral on Friday. A group has created a music album which they say challenges the stereotypes of young people while raising awareness",
         "2": "Entertainment",
         "3": "https://www.msn.com/en-us/entertainment/news/young-people-talk-about-knife-crime-on-hip-hop-album/ar-BB1jfiw9",
         "4": "https://www.bing.com/th?id=OVFT.kBIqzQyzEdLJrR9_6wYIKS&pid=News",
         "5": "BBC on MSN.com",
         "6": "03-Mar-2024",
         "8": {
          "documents": {
           "confidenceScores": {
            "negative": 0.08,
            "neutral": 0.83,
            "positive": 0.09
           },
           "id": "9",
           "sentences": [
            {
             "confidenceScores": {
              "negative": 0.03,
              "neutral": 0.9,
              "positive": 0.07
             },
             "length": 64,
             "offset": 0,
             "sentiment": "neutral",
             "text": "The group launched its album at Gloucester Cathedral on Friday. "
            },
            {
             "confidenceScores": {
              "negative": 0.14,
              "neutral": 0.76,
              "positive": 0.1
             },
             "length": 115,
             "offset": 64,
             "sentiment": "neutral",
             "text": "A group has created a music album which they say challenges the stereotypes of young people while raising awareness"
            }
           ],
           "sentiment": "neutral",
           "warnings": []
          },
          "modelVersion": "2022-11-01"
         },
         "9": "neutral",
         "index": 52
        },
        {
         "0": "YouTube Music team laid off by Google while workers testified to Austin City Council about working conditions",
         "1": "Some workers learned of the YouTube Music layoffs while testifying to the Austin city council about Google's refusal to negotiate with the union.",
         "2": "ScienceAndTechnology",
         "3": "https://www.msn.com/en-us/money/companies/youtube-music-team-laid-off-by-google-while-workers-testified-to-austin-city-council-about-working-conditions/ar-BB1jetUk",
         "4": "https://www.bing.com/th?id=OVFT.afLmGGokT-qfEr1XKi_YGS&pid=News",
         "5": "Business Insider on MSN.com",
         "6": "02-Mar-2024",
         "8": {
          "documents": {
           "confidenceScores": {
            "negative": 0.59,
            "neutral": 0.38,
            "positive": 0.02
           },
           "id": "0",
           "sentences": [
            {
             "confidenceScores": {
              "negative": 0.59,
              "neutral": 0.38,
              "positive": 0.02
             },
             "length": 145,
             "offset": 0,
             "sentiment": "negative",
             "text": "Some workers learned of the YouTube Music layoffs while testifying to the Austin city council about Google's refusal to negotiate with the union."
            }
           ],
           "sentiment": "negative",
           "warnings": []
          },
          "modelVersion": "2022-11-01"
         },
         "9": "negative",
         "index": 53
        },
        {
         "0": "Elle King Delivers First Performance Since Drunken Grand Ole Opry Incident at Arizona Music Festival",
         "1": "Elle King returned to the stage for the first time since she performed in a Dolly Parton tribute held by the Grand Ole Opry at Nashville's Ryman Auditorium while admittedly drunk. On Friday, the country singer played at Extra Innings Festival in Tempe,",
         "2": "Entertainment",
         "3": "https://www.msn.com/en-us/music/celebrity/elle-king-delivers-first-performance-since-drunken-grand-ole-opry-incident-at-arizona-music-festival/ar-BB1jeENS",
         "4": "https://www.bing.com/th?id=OVFT.M8J6sP6br4B0X6Lw-_a4ey&pid=News",
         "5": "People on MSN.com",
         "6": "03-Mar-2024",
         "8": {
          "documents": {
           "confidenceScores": {
            "negative": 0.06,
            "neutral": 0.83,
            "positive": 0.1
           },
           "id": "1",
           "sentences": [
            {
             "confidenceScores": {
              "negative": 0.11,
              "neutral": 0.78,
              "positive": 0.11
             },
             "length": 180,
             "offset": 0,
             "sentiment": "neutral",
             "text": "Elle King returned to the stage for the first time since she performed in a Dolly Parton tribute held by the Grand Ole Opry at Nashville's Ryman Auditorium while admittedly drunk. "
            },
            {
             "confidenceScores": {
              "negative": 0.01,
              "neutral": 0.89,
              "positive": 0.1
             },
             "length": 72,
             "offset": 180,
             "sentiment": "neutral",
             "text": "On Friday, the country singer played at Extra Innings Festival in Tempe,"
            }
           ],
           "sentiment": "neutral",
           "warnings": []
          },
          "modelVersion": "2022-11-01"
         },
         "9": "neutral",
         "index": 54
        },
        {
         "0": "Elle King makes her first return to the stage since her drunken Dolly Parton birthday tribute performance",
         "1": "The singer performed at Arizona’s Extra Innings Festival in her first show since the controversial incident at the Nashville’s Grand Ole Opry in January.",
         "2": "Entertainment",
         "3": "https://www.msn.com/en-us/music/celebrity/elle-king-makes-her-first-return-to-the-stage-since-her-drunken-dolly-parton-birthday-tribute-performance/ar-BB1jeZ8k",
         "4": "https://www.bing.com/th?id=OVFT.jDxeKvSx_09RlsBwf6nvni&pid=News",
         "5": "FOX News on MSN.com",
         "6": "03-Mar-2024",
         "8": {
          "documents": {
           "confidenceScores": {
            "negative": 0.22,
            "neutral": 0.76,
            "positive": 0.02
           },
           "id": "2",
           "sentences": [
            {
             "confidenceScores": {
              "negative": 0.22,
              "neutral": 0.76,
              "positive": 0.02
             },
             "length": 153,
             "offset": 0,
             "sentiment": "neutral",
             "text": "The singer performed at Arizona’s Extra Innings Festival in her first show since the controversial incident at the Nashville’s Grand Ole Opry in January."
            }
           ],
           "sentiment": "neutral",
           "warnings": []
          },
          "modelVersion": "2022-11-01"
         },
         "9": "neutral",
         "index": 55
        },
        {
         "0": "BRIT Awards: Raye sets record at Britain's pop music honours",
         "1": "Singer-songwriter Raye was the big winner at the BRIT Awards, the biggest night in British music, on Saturday, setting a new record for most prizes in one night at the annual ceremony. Raye won six awards,",
         "2": "Entertainment",
         "3": "https://www.msn.com/en-us/music/news/brit-awards-raye-sets-record-at-britain-s-pop-music-honours/ar-BB1jeDnx",
         "4": "https://www.bing.com/th?id=OVFT.l87Gc6DJUoZOmY9ox-_oGi&pid=News",
         "5": "Reuters on MSN.com",
         "6": "02-Mar-2024",
         "8": {
          "documents": {
           "confidenceScores": {
            "negative": 0.02,
            "neutral": 0.71,
            "positive": 0.27
           },
           "id": "3",
           "sentences": [
            {
             "confidenceScores": {
              "negative": 0.02,
              "neutral": 0.59,
              "positive": 0.39
             },
             "length": 185,
             "offset": 0,
             "sentiment": "neutral",
             "text": "Singer-songwriter Raye was the big winner at the BRIT Awards, the biggest night in British music, on Saturday, setting a new record for most prizes in one night at the annual ceremony. "
            },
            {
             "confidenceScores": {
              "negative": 0.01,
              "neutral": 0.83,
              "positive": 0.16
             },
             "length": 20,
             "offset": 185,
             "sentiment": "neutral",
             "text": "Raye won six awards,"
            }
           ],
           "sentiment": "neutral",
           "warnings": []
          },
          "modelVersion": "2022-11-01"
         },
         "9": "neutral",
         "index": 56
        },
        {
         "0": "Kacey Musgraves Performs Barefoot on “Saturday Night Live, ”Rocks 2 Stylish Blue Looks",
         "1": "Kacey Musgraves' Saturn has returned — to Saturday Night Live! For her third time as musical guest on the sketch comedy show, Musgraves, 35, took the stage to perform two tracks",
         "2": "Entertainment",
         "3": "https://www.msn.com/en-us/music/news/kacey-musgraves-performs-barefoot-on-saturday-night-live-rocks-2-stylish-blue-looks/ar-BB1jfBDe",
         "4": "https://www.bing.com/th?id=OVFT.VizLlYliSonoARTFGJaIgi&pid=News",
         "5": "People on MSN.com",
         "6": "03-Mar-2024",
         "8": {
          "documents": {
           "confidenceScores": {
            "negative": 0.02,
            "neutral": 0.78,
            "positive": 0.2
           },
           "id": "4",
           "sentences": [
            {
             "confidenceScores": {
              "negative": 0.02,
              "neutral": 0.64,
              "positive": 0.34
             },
             "length": 63,
             "offset": 0,
             "sentiment": "neutral",
             "text": "Kacey Musgraves' Saturn has returned — to Saturday Night Live! "
            },
            {
             "confidenceScores": {
              "negative": 0.02,
              "neutral": 0.91,
              "positive": 0.07
             },
             "length": 114,
             "offset": 63,
             "sentiment": "neutral",
             "text": "For her third time as musical guest on the sketch comedy show, Musgraves, 35, took the stage to perform two tracks"
            }
           ],
           "sentiment": "neutral",
           "warnings": []
          },
          "modelVersion": "2022-11-01"
         },
         "9": "neutral",
         "index": 57
        },
        {
         "0": "Music's Biggest Night in Britain Is Here! See All the Stars Arriving at the 2024 BRIT Awards",
         "1": "The 2024 BRIT Awards kicked off on Saturday evening in London, with celebrities hitting the red carpet at the city's famed O2 Arena. Before they dazzle on stage, see Dua Lipa, Kylie Minogue, Tate McRae and more singing stars arriving at the 2024 BRIT Awards.",
         "2": "Entertainment",
         "3": "https://www.msn.com/en-us/music/news/musics-biggest-night-in-britain-is-here-see-all-the-stars-arriving-at-the-2024-brit-awards/ar-BB1je7d9",
         "4": "https://www.bing.com/th?id=OVFT.-e7bU2DHmf2MIR3JoXJhUS&pid=News",
         "5": "People on MSN.com",
         "6": "02-Mar-2024",
         "8": {
          "documents": {
           "confidenceScores": {
            "negative": 0.02,
            "neutral": 0.82,
            "positive": 0.17
           },
           "id": "5",
           "sentences": [
            {
             "confidenceScores": {
              "negative": 0.02,
              "neutral": 0.84,
              "positive": 0.14
             },
             "length": 133,
             "offset": 0,
             "sentiment": "neutral",
             "text": "The 2024 BRIT Awards kicked off on Saturday evening in London, with celebrities hitting the red carpet at the city's famed O2 Arena. "
            },
            {
             "confidenceScores": {
              "negative": 0.02,
              "neutral": 0.79,
              "positive": 0.2
             },
             "length": 125,
             "offset": 133,
             "sentiment": "neutral",
             "text": "Before they dazzle on stage, see Dua Lipa, Kylie Minogue, Tate McRae and more singing stars arriving at the 2024 BRIT Awards."
            }
           ],
           "sentiment": "neutral",
           "warnings": []
          },
          "modelVersion": "2022-11-01"
         },
         "9": "neutral",
         "index": 58
        },
        {
         "0": "Being a female runner shouldn't be dangerous. Laken Riley's death reminds us it is.",
         "1": "Laken’s death has reignited the conversation that began in the wake of Eliza Fletcher’s kidnapping and murder nearly two years ago about the dangers female runners face. Fletcher was a teacher who was abducted while on a morning run near the University of Memphis.",
         "2": "LifeStyle",
         "3": "https://www.msn.com/en-us/news/opinion/being-a-female-runner-shouldnt-be-dangerous-laken-rileys-death-reminds-us-it-is/ar-BB1jftL1",
         "4": "https://www.bing.com/th?id=OVFT.NuUEpQzPSZtam-wTULH62i&pid=News",
         "5": "USA Today on MSN.com",
         "6": "03-Mar-2024",
         "8": {
          "documents": {
           "confidenceScores": {
            "negative": 0.86,
            "neutral": 0.13,
            "positive": 0.01
           },
           "id": "6",
           "sentences": [
            {
             "confidenceScores": {
              "negative": 0.94,
              "neutral": 0.06,
              "positive": 0.01
             },
             "length": 170,
             "offset": 0,
             "sentiment": "negative",
             "text": "Laken’s death has reignited the conversation that began in the wake of Eliza Fletcher’s kidnapping and murder nearly two years ago about the dangers female runners face. "
            },
            {
             "confidenceScores": {
              "negative": 0.78,
              "neutral": 0.21,
              "positive": 0.01
             },
             "length": 94,
             "offset": 170,
             "sentiment": "negative",
             "text": "Fletcher was a teacher who was abducted while on a morning run near the University of Memphis."
            }
           ],
           "sentiment": "negative",
           "warnings": []
          },
          "modelVersion": "2022-11-01"
         },
         "9": "negative",
         "index": 59
        },
        {
         "0": "A veteran Republican operative relocated to Kyiv — he says Ukraine can win the war",
         "1": "Steven Moore, a Capitol Hill veteran, says he is now \"doing the right thing\" in helping Ukraine's war effort.",
         "2": "Politics",
         "3": "https://www.msn.com/en-us/news/world/a-veteran-republican-operative-relocated-to-kyiv-he-says-ukraine-can-win-the-war/ar-BB1jfxoS",
         "4": "https://www.bing.com/th?id=OVFT.xt6mUXKHPbO0n9EU1YaidS&pid=News",
         "5": "Business Insider on MSN.com",
         "6": "03-Mar-2024",
         "8": {
          "documents": {
           "confidenceScores": {
            "negative": 0.15,
            "neutral": 0.55,
            "positive": 0.31
           },
           "id": "7",
           "sentences": [
            {
             "confidenceScores": {
              "negative": 0.15,
              "neutral": 0.55,
              "positive": 0.31
             },
             "length": 109,
             "offset": 0,
             "sentiment": "neutral",
             "text": "Steven Moore, a Capitol Hill veteran, says he is now \"doing the right thing\" in helping Ukraine's war effort."
            }
           ],
           "sentiment": "neutral",
           "warnings": []
          },
          "modelVersion": "2022-11-01"
         },
         "9": "neutral",
         "index": 60
        },
        {
         "0": "Louis Sarkozy: ‘I went from the Elysée Palace to a dirty barrack room in Pennsylvania – thank God’",
         "1": "The former French president’s son has paused his military career to write a book about Napoleon – and thinks Ridley Scott’s film is ‘trash’",
         "2": "World",
         "3": "https://www.msn.com/en-us/news/world/louis-sarkozy-i-went-from-the-elys%C3%A9e-palace-to-a-dirty-barrack-room-in-pennsylvania-thank-god/ar-BB1jf6WG",
         "4": "https://www.bing.com/th?id=OVFT.qljpA6Bg6FKtm-MY0bn0Cy&pid=News",
         "5": "The Daily Telegraph on MSN.com",
         "6": "03-Mar-2024",
         "8": {
          "documents": {
           "confidenceScores": {
            "negative": 0.74,
            "neutral": 0.24,
            "positive": 0.02
           },
           "id": "8",
           "sentences": [
            {
             "confidenceScores": {
              "negative": 0.74,
              "neutral": 0.24,
              "positive": 0.02
             },
             "length": 139,
             "offset": 0,
             "sentiment": "negative",
             "text": "The former French president’s son has paused his military career to write a book about Napoleon – and thinks Ridley Scott’s film is ‘trash’"
            }
           ],
           "sentiment": "negative",
           "warnings": []
          },
          "modelVersion": "2022-11-01"
         },
         "9": "negative",
         "index": 61
        },
        {
         "0": "The ‘subversive spirituality’ of Bob Marley is still being overlooked",
         "1": "A hit movie has cast reggae superstar Bob Marley back into the spotlight. But it also overlooks a key to Marley’s legacy: To him, his Bible was as important as his guitar. Marley’s subversive spirituality was central to his life and music,",
         "2": "Entertainment",
         "3": "https://www.msn.com/en-us/news/world/the-subversive-spirituality-of-bob-marley-is-still-being-overlooked/ar-BB1jfq0t",
         "4": "https://www.bing.com/th?id=OVFT.4Uxlxfxuasvx4JNpcFYHaS&pid=News",
         "5": "CNN on MSN.com",
         "6": "03-Mar-2024",
         "8": {
          "documents": {
           "confidenceScores": {
            "negative": 0.19,
            "neutral": 0.64,
            "positive": 0.18
           },
           "id": "9",
           "sentences": [
            {
             "confidenceScores": {
              "negative": 0.03,
              "neutral": 0.57,
              "positive": 0.4
             },
             "length": 74,
             "offset": 0,
             "sentiment": "neutral",
             "text": "A hit movie has cast reggae superstar Bob Marley back into the spotlight. "
            },
            {
             "confidenceScores": {
              "negative": 0.13,
              "neutral": 0.76,
              "positive": 0.11
             },
             "length": 98,
             "offset": 74,
             "sentiment": "neutral",
             "text": "But it also overlooks a key to Marley’s legacy: To him, his Bible was as important as his guitar. "
            },
            {
             "confidenceScores": {
              "negative": 0.4,
              "neutral": 0.58,
              "positive": 0.02
             },
             "length": 67,
             "offset": 172,
             "sentiment": "neutral",
             "text": "Marley’s subversive spirituality was central to his life and music,"
            }
           ],
           "sentiment": "neutral",
           "warnings": []
          },
          "modelVersion": "2022-11-01"
         },
         "9": "neutral",
         "index": 62
        },
        {
         "0": "Where Old Vegas is still alive today",
         "1": "Finally, the most recognizable throwback to Old Vegas might be the neon “Welcome to Fabulous Las Vegas” sign at the south end of the Las Vegas Strip near Mandalay Bay Resort & Casino. Betty Willis designed the sign back in 1959, and YESCO owns it today. It was added to the National Register of Historic Places in 2009.",
         "2": "LifeStyle",
         "3": "https://www.msn.com/en-us/travel/news/where-old-vegas-is-still-alive-today/ar-BB1jf9Qg",
         "4": "https://www.bing.com/th?id=OVFT.25H96ag35n6q1Pr3KrOgoC&pid=News",
         "5": "CNN on MSN.com",
         "6": "03-Mar-2024",
         "8": {
          "documents": {
           "confidenceScores": {
            "negative": 0.01,
            "neutral": 0.89,
            "positive": 0.1
           },
           "id": "0",
           "sentences": [
            {
             "confidenceScores": {
              "negative": 0.02,
              "neutral": 0.73,
              "positive": 0.25
             },
             "length": 184,
             "offset": 0,
             "sentiment": "neutral",
             "text": "Finally, the most recognizable throwback to Old Vegas might be the neon “Welcome to Fabulous Las Vegas” sign at the south end of the Las Vegas Strip near Mandalay Bay Resort & Casino. "
            },
            {
             "confidenceScores": {
              "negative": 0.01,
              "neutral": 0.98,
              "positive": 0.02
             },
             "length": 70,
             "offset": 184,
             "sentiment": "neutral",
             "text": "Betty Willis designed the sign back in 1959, and YESCO owns it today. "
            },
            {
             "confidenceScores": {
              "negative": 0.01,
              "neutral": 0.97,
              "positive": 0.02
             },
             "length": 65,
             "offset": 254,
             "sentiment": "neutral",
             "text": "It was added to the National Register of Historic Places in 2009."
            }
           ],
           "sentiment": "neutral",
           "warnings": []
          },
          "modelVersion": "2022-11-01"
         },
         "9": "neutral",
         "index": 63
        },
        {
         "0": "Martin Bayfield: Six Nations must stay on free to air TV – but coverage needs to improve",
         "1": "Former England second row who has worked as a reporter for BBC, ITV, BT Sport and TNT believes the tournament isn’t being properly projected",
         "2": "Sports",
         "3": "https://www.msn.com/en-us/tv/news/martin-bayfield-six-nations-must-stay-on-free-to-air-tv-but-coverage-needs-to-improve/ar-BB1jfkcd",
         "4": "https://www.bing.com/th?id=OVFT.lwUkMRHVW3dtLs3ADnYF6y&pid=News",
         "5": "The Daily Telegraph on MSN.com",
         "6": "03-Mar-2024",
         "8": {
          "documents": {
           "confidenceScores": {
            "negative": 0.71,
            "neutral": 0.27,
            "positive": 0.01
           },
           "id": "1",
           "sentences": [
            {
             "confidenceScores": {
              "negative": 0.71,
              "neutral": 0.27,
              "positive": 0.01
             },
             "length": 140,
             "offset": 0,
             "sentiment": "negative",
             "text": "Former England second row who has worked as a reporter for BBC, ITV, BT Sport and TNT believes the tournament isn’t being properly projected"
            }
           ],
           "sentiment": "negative",
           "warnings": []
          },
          "modelVersion": "2022-11-01"
         },
         "9": "negative",
         "index": 64
        },
        {
         "0": "Raye’s record-breaking Brits defied the limited imaginations of the British music industry",
         "1": "Raye’s six Brit awards marked a huge vindication for the newly independent artist and rightly shamed the major label that apparently couldn’t see her potential",
         "2": "Entertainment",
         "3": "https://www.theguardian.com/music/2024/mar/02/rayes-record-breaking-brits-defied-the-limited-imaginations-of-the-british-music-industry",
         "4": "https://www.bing.com/th?id=OVFT.Izw8m744T-wOfMfxGv8GmS&pid=News",
         "5": "The Guardian",
         "6": "02-Mar-2024",
         "8": {
          "documents": {
           "confidenceScores": {
            "negative": 0.93,
            "neutral": 0.06,
            "positive": 0.02
           },
           "id": "2",
           "sentences": [
            {
             "confidenceScores": {
              "negative": 0.93,
              "neutral": 0.06,
              "positive": 0.02
             },
             "length": 159,
             "offset": 0,
             "sentiment": "negative",
             "text": "Raye’s six Brit awards marked a huge vindication for the newly independent artist and rightly shamed the major label that apparently couldn’t see her potential"
            }
           ],
           "sentiment": "negative",
           "warnings": []
          },
          "modelVersion": "2022-11-01"
         },
         "9": "negative",
         "index": 65
        },
        {
         "0": "Brit awards 2024: A blushing music industry eats humble pie",
         "1": "Who should win and who will win? The Times chief rock and pop critic Will Hodgkinson reviews this year’s nominees",
         "2": "Entertainment",
         "3": "https://www.thetimes.co.uk/article/brit-awards-2024-winners-full-list-ggghgz33z",
         "4": "https://www.bing.com/th?id=OVFT.ssb-nkJtXm26PE5fmUsAxS&pid=News",
         "5": "The Times",
         "6": "02-Mar-2024",
         "8": {
          "documents": {
           "confidenceScores": {
            "negative": 0.03,
            "neutral": 0.89,
            "positive": 0.07
           },
           "id": "3",
           "sentences": [
            {
             "confidenceScores": {
              "negative": 0.06,
              "neutral": 0.88,
              "positive": 0.06
             },
             "length": 33,
             "offset": 0,
             "sentiment": "neutral",
             "text": "Who should win and who will win? "
            },
            {
             "confidenceScores": {
              "negative": 0.01,
              "neutral": 0.91,
              "positive": 0.09
             },
             "length": 80,
             "offset": 33,
             "sentiment": "neutral",
             "text": "The Times chief rock and pop critic Will Hodgkinson reviews this year’s nominees"
            }
           ],
           "sentiment": "neutral",
           "warnings": []
          },
          "modelVersion": "2022-11-01"
         },
         "9": "neutral",
         "index": 66
        },
        {
         "0": "The latest on the Israel-Hamas war",
         "1": "Israeli Prime Minister Benjamin Netanyahu has directed the military to prepare to evacuate over 1 million Palestinians from the southern Gaza city of Rafah ahead of a ground operation. Follow for live updates.",
         "2": "World",
         "3": "https://edition.cnn.com/middleeast/live-news/israel-hamas-war-gaza-news-02-10-24/h_cd8908900541adca9751bf5a3ddd9bdd",
         "4": "https://www.bing.com/th?id=OVFT.BjPWSlzcbo7HCTwmyOxxUy&pid=News",
         "5": "CNN",
         "6": "10-Feb-2024",
         "8": {
          "documents": {
           "confidenceScores": {
            "negative": 0.19,
            "neutral": 0.61,
            "positive": 0.21
           },
           "id": "0",
           "sentences": [
            {
             "confidenceScores": {
              "negative": 0.35,
              "neutral": 0.61,
              "positive": 0.05
             },
             "length": 185,
             "offset": 0,
             "sentiment": "neutral",
             "text": "Israeli Prime Minister Benjamin Netanyahu has directed the military to prepare to evacuate over 1 million Palestinians from the southern Gaza city of Rafah ahead of a ground operation. "
            },
            {
             "confidenceScores": {
              "negative": 0.03,
              "neutral": 0.61,
              "positive": 0.37
             },
             "length": 24,
             "offset": 185,
             "sentiment": "neutral",
             "text": "Follow for live updates."
            }
           ],
           "sentiment": "neutral",
           "warnings": []
          },
          "modelVersion": "2022-11-01"
         },
         "9": "neutral",
         "index": 67
        },
        {
         "0": "News Flash: Analysts Just Made A Sizeable Upgrade To Their Vanda Pharmaceuticals Inc. (NASDAQ:VNDA) Forecasts",
         "1": "Celebrations may be in order for Vanda Pharmaceuticals Inc. (NASDAQ:VNDA) shareholders, with the covering analyst delivering a significant upgrade to their statutory estimates for the company. The consensus statutory numbers for both revenue and earnings per share (EPS) increased,",
         "2": "ScienceAndTechnology",
         "3": "https://finance.yahoo.com/news/news-flash-analysts-just-made-124256245.html",
         "4": "https://www.bing.com/th?id=OVFT.7S2v6t5ALCHoDA6DLmT-ES&pid=News",
         "5": "YAHOO!Finance",
         "6": "10-Feb-2024",
         "8": {
          "documents": {
           "confidenceScores": {
            "negative": 0.01,
            "neutral": 0.86,
            "positive": 0.13
           },
           "id": "1",
           "sentences": [
            {
             "confidenceScores": {
              "negative": 0.01,
              "neutral": 0.75,
              "positive": 0.23
             },
             "length": 193,
             "offset": 0,
             "sentiment": "neutral",
             "text": "Celebrations may be in order for Vanda Pharmaceuticals Inc. (NASDAQ:VNDA) shareholders, with the covering analyst delivering a significant upgrade to their statutory estimates for the company. "
            },
            {
             "confidenceScores": {
              "negative": 0.01,
              "neutral": 0.97,
              "positive": 0.02
             },
             "length": 88,
             "offset": 193,
             "sentiment": "neutral",
             "text": "The consensus statutory numbers for both revenue and earnings per share (EPS) increased,"
            }
           ],
           "sentiment": "neutral",
           "warnings": []
          },
          "modelVersion": "2022-11-01"
         },
         "9": "neutral",
         "index": 68
        },
        {
         "0": "Six Nations 2024: England vs Wales match preview, team news, kick-off time & BBC coverage",
         "1": "Match preview, team news, BBC coverage, standings and statistics for Saturday's Six Nations match between England and Wales at Twickenham.",
         "2": "Sports",
         "3": "https://www.bbc.co.uk/sport/rugby-union/68185927",
         "4": "https://www.bing.com/th?id=OVFT.qCGwjb_G0SzAlZjuKfuiPy&pid=News",
         "5": "BBC",
         "6": "10-Feb-2024",
         "8": {
          "documents": {
           "confidenceScores": {
            "negative": 0.02,
            "neutral": 0.96,
            "positive": 0.02
           },
           "id": "2",
           "sentences": [
            {
             "confidenceScores": {
              "negative": 0.02,
              "neutral": 0.96,
              "positive": 0.02
             },
             "length": 138,
             "offset": 0,
             "sentiment": "neutral",
             "text": "Match preview, team news, BBC coverage, standings and statistics for Saturday's Six Nations match between England and Wales at Twickenham."
            }
           ],
           "sentiment": "neutral",
           "warnings": []
          },
          "modelVersion": "2022-11-01"
         },
         "9": "neutral",
         "index": 69
        },
        {
         "0": "New York Times editorial board demands Biden ‘do better’ in defending his memory, fitness for office",
         "1": "The New York Times editorial board trashed President Biden's Thursday press conference in which he tried to reassure Americans he is mentally fit. It claimed the move \"didn't work\"",
         "2": "Politics",
         "3": "https://www.foxnews.com/media/new-york-times-editorial-board-demands-biden-do-better-defending-memory-fitness-office",
         "4": "https://www.bing.com/th?id=OVFT.nGHW_CIPXX6ke-JC9OkHny&pid=News",
         "5": "Fox News",
         "6": "10-Feb-2024",
         "8": {
          "documents": {
           "confidenceScores": {
            "negative": 0.64,
            "neutral": 0.33,
            "positive": 0.03
           },
           "id": "3",
           "sentences": [
            {
             "confidenceScores": {
              "negative": 0.72,
              "neutral": 0.24,
              "positive": 0.04
             },
             "length": 147,
             "offset": 0,
             "sentiment": "negative",
             "text": "The New York Times editorial board trashed President Biden's Thursday press conference in which he tried to reassure Americans he is mentally fit. "
            },
            {
             "confidenceScores": {
              "negative": 0.56,
              "neutral": 0.42,
              "positive": 0.01
             },
             "length": 33,
             "offset": 147,
             "sentiment": "negative",
             "text": "It claimed the move \"didn't work\""
            }
           ],
           "sentiment": "negative",
           "warnings": []
          },
          "modelVersion": "2022-11-01"
         },
         "9": "negative",
         "index": 70
        },
        {
         "0": "King Charles cancer – latest: Monarch makes first statement since diagnosis as Will ‘upset’ with Harry",
         "1": "Prince William has returned to royal duties after stepping back for several weeks to care for his wife after she underwent abdominal surgery",
         "2": "Entertainment",
         "3": "https://www.msn.com/en-gb/health/other/king-charles-cancer-latest-william-upset-at-harry-s-pr-stunt-as-key-update-issued-on-kate-s-recovery/ar-BB1hOvJf",
         "4": "https://www.bing.com/th?id=OVFT.rGsHS-NsYVdk7JjfUGbSLy&pid=News",
         "5": "The Independent on MSN.com",
         "6": "10-Feb-2024",
         "8": {
          "documents": {
           "confidenceScores": {
            "negative": 0.07,
            "neutral": 0.59,
            "positive": 0.33
           },
           "id": "4",
           "sentences": [
            {
             "confidenceScores": {
              "negative": 0.07,
              "neutral": 0.59,
              "positive": 0.33
             },
             "length": 140,
             "offset": 0,
             "sentiment": "neutral",
             "text": "Prince William has returned to royal duties after stepping back for several weeks to care for his wife after she underwent abdominal surgery"
            }
           ],
           "sentiment": "neutral",
           "warnings": []
          },
          "modelVersion": "2022-11-01"
         },
         "9": "neutral",
         "index": 71
        },
        {
         "0": "Australia news live: Coalition will oppose vehicle emission standards that increase prices of popular cars, Taylor says",
         "1": "Follow the day’s news live",
         "2": "LifeStyle",
         "3": "https://www.msn.com/en-gb/news/uknews/australia-news-live-coalition-will-oppose-vehicle-emission-standards-that-increase-prices-of-popular-cars-taylor-says/ar-BB1i5zYD",
         "4": "https://www.bing.com/th?id=OVFT._VmYfzX-QB7baMCZagQYly&pid=News",
         "5": "The Guardian on MSN.com",
         "6": "11-Feb-2024",
         "8": {
          "documents": {
           "confidenceScores": {
            "negative": 0.01,
            "neutral": 0.79,
            "positive": 0.2
           },
           "id": "5",
           "sentences": [
            {
             "confidenceScores": {
              "negative": 0.01,
              "neutral": 0.79,
              "positive": 0.2
             },
             "length": 26,
             "offset": 0,
             "sentiment": "neutral",
             "text": "Follow the day’s news live"
            }
           ],
           "sentiment": "neutral",
           "warnings": []
          },
          "modelVersion": "2022-11-01"
         },
         "9": "neutral",
         "index": 72
        },
        {
         "0": "Ireland v Italy, Six Nations 2024: Kick-off time, how to watch and latest news",
         "1": "Ireland and Italy face each other on Sunday, February 11. The match kicks off at 3pm GMT. The Aviva Stadium in Dublin. A ground at which the Azzurri have never won. The match will be broadcast live on ITV1 and ITVX in the UK. In the Republic of Ireland, Virgin Media have the rights for the live broadcast.",
         "2": "Sports",
         "3": "https://www.msn.com/en-gb/sport/other/ireland-v-italy-six-nations-2024-kick-off-time-how-to-watch-and-latest-news/ar-BB1i4hzO",
         "4": "https://www.bing.com/th?id=OVFT.N_3-sp2XhHZf5gORfWzy9y&pid=News",
         "5": "The Daily Telegraph on MSN.com",
         "6": "10-Feb-2024",
         "8": {
          "documents": {
           "confidenceScores": {
            "negative": 0.62,
            "neutral": 0.36,
            "positive": 0.02
           },
           "id": "6",
           "sentences": [
            {
             "confidenceScores": {
              "negative": 0.04,
              "neutral": 0.94,
              "positive": 0.02
             },
             "length": 58,
             "offset": 0,
             "sentiment": "neutral",
             "text": "Ireland and Italy face each other on Sunday, February 11. "
            },
            {
             "confidenceScores": {
              "negative": 0.01,
              "neutral": 0.98,
              "positive": 0.01
             },
             "length": 32,
             "offset": 58,
             "sentiment": "neutral",
             "text": "The match kicks off at 3pm GMT. "
            },
            {
             "confidenceScores": {
              "negative": 0.01,
              "neutral": 0.98,
              "positive": 0.01
             },
             "length": 29,
             "offset": 90,
             "sentiment": "neutral",
             "text": "The Aviva Stadium in Dublin. "
            },
            {
             "confidenceScores": {
              "negative": 0.62,
              "neutral": 0.36,
              "positive": 0.02
             },
             "length": 46,
             "offset": 119,
             "sentiment": "negative",
             "text": "A ground at which the Azzurri have never won. "
            },
            {
             "confidenceScores": {
              "negative": 0.01,
              "neutral": 0.98,
              "positive": 0.02
             },
             "length": 61,
             "offset": 165,
             "sentiment": "neutral",
             "text": "The match will be broadcast live on ITV1 and ITVX in the UK. "
            },
            {
             "confidenceScores": {
              "negative": 0.01,
              "neutral": 0.97,
              "positive": 0.02
             },
             "length": 80,
             "offset": 226,
             "sentiment": "neutral",
             "text": "In the Republic of Ireland, Virgin Media have the rights for the live broadcast."
            }
           ],
           "sentiment": "negative",
           "warnings": []
          },
          "modelVersion": "2022-11-01"
         },
         "9": "negative",
         "index": 73
        },
        {
         "0": "New Mexico Budget Bill Would Found Literacy Institute, Propel Housing Construction and Conservation",
         "1": "New Mexico’s strategy for spending and investing a multibillion-dollar annual surplus linked closely to oil production has come into sharper focus",
         "2": "Politics",
         "3": "https://www.msn.com/en-us/money/realestate/new-mexico-budget-bill-would-found-literacy-institute-propel-housing-construction-and-conservation/ar-BB1i5Dlz",
         "4": "https://www.bing.com/th?id=OVFT.LQBFjyuPAxQCv8FPnt7-1i&pid=News",
         "5": "The Associated Press on MSN.com",
         "6": "11-Feb-2024",
         "8": {
          "documents": {
           "confidenceScores": {
            "negative": 0.02,
            "neutral": 0.89,
            "positive": 0.08
           },
           "id": "7",
           "sentences": [
            {
             "confidenceScores": {
              "negative": 0.02,
              "neutral": 0.89,
              "positive": 0.08
             },
             "length": 146,
             "offset": 0,
             "sentiment": "neutral",
             "text": "New Mexico’s strategy for spending and investing a multibillion-dollar annual surplus linked closely to oil production has come into sharper focus"
            }
           ],
           "sentiment": "neutral",
           "warnings": []
          },
          "modelVersion": "2022-11-01"
         },
         "9": "neutral",
         "index": 74
        },
        {
         "0": "Scotland v France, Six Nations 2024: Kick-off time today, how to watch and latest news",
         "1": "France head to Edinburgh on the back of a crushing 38-17 home defeat against Six Nations title and Grand Slam favourites Ireland. It followed their shattering World Cup quarter-final loss to South Africa,",
         "2": "Sports",
         "3": "https://www.msn.com/en-us/news/world/scotland-v-france-six-nations-2024-kick-off-time-today-how-to-watch-and-latest-news/ar-BB1i18iu",
         "4": "https://www.bing.com/th?id=OVFT.H_bNkaoWtGCq5FgxkJpvyC&pid=News",
         "5": "The Telegraph on MSN.com",
         "6": "10-Feb-2024",
         "8": {
          "documents": {
           "confidenceScores": {
            "negative": 0.89,
            "neutral": 0.1,
            "positive": 0.01
           },
           "id": "8",
           "sentences": [
            {
             "confidenceScores": {
              "negative": 0.47,
              "neutral": 0.5,
              "positive": 0.03
             },
             "length": 130,
             "offset": 0,
             "sentiment": "neutral",
             "text": "France head to Edinburgh on the back of a crushing 38-17 home defeat against Six Nations title and Grand Slam favourites Ireland. "
            },
            {
             "confidenceScores": {
              "negative": 0.89,
              "neutral": 0.1,
              "positive": 0.01
             },
             "length": 74,
             "offset": 130,
             "sentiment": "negative",
             "text": "It followed their shattering World Cup quarter-final loss to South Africa,"
            }
           ],
           "sentiment": "negative",
           "warnings": []
          },
          "modelVersion": "2022-11-01"
         },
         "9": "negative",
         "index": 75
        },
        {
         "0": "What is the Super Bowl spread? Latest point spread for 49ers vs. Chiefs",
         "1": "Super Bowl in just over 24 hours, betting odds paint a clear picture. Here is the latest point spread and Vegas betting odds.",
         "2": "Sports",
         "3": "https://www.msn.com/en-us/sports/nfl/what-is-the-super-bowl-spread-latest-point-spread-for-49ers-vs-chiefs/ar-BB1i5v5f",
         "4": "https://www.bing.com/th?id=OVFT.ylSoWMBa4MbOPECLjMAsYy&pid=News",
         "5": "USA Today on MSN.com",
         "6": "10-Feb-2024",
         "8": {
          "documents": {
           "confidenceScores": {
            "negative": 0.01,
            "neutral": 0.9,
            "positive": 0.09
           },
           "id": "9",
           "sentences": [
            {
             "confidenceScores": {
              "negative": 0.02,
              "neutral": 0.82,
              "positive": 0.16
             },
             "length": 70,
             "offset": 0,
             "sentiment": "neutral",
             "text": "Super Bowl in just over 24 hours, betting odds paint a clear picture. "
            },
            {
             "confidenceScores": {
              "negative": 0.01,
              "neutral": 0.98,
              "positive": 0.01
             },
             "length": 55,
             "offset": 70,
             "sentiment": "neutral",
             "text": "Here is the latest point spread and Vegas betting odds."
            }
           ],
           "sentiment": "neutral",
           "warnings": []
          },
          "modelVersion": "2022-11-01"
         },
         "9": "neutral",
         "index": 76
        },
        {
         "0": "European soccer news: Madrid outclass Girona, Leverkusen defeat Bayern",
         "1": "Real Madrid send a statement win to Girona while Bayer Leverkusen defeat Bayern Munich to continue to defy the odds in the Bundesliga. Here's what you missed in European soccer.",
         "2": "Sports",
         "3": "https://www.msn.com/en-us/sports/soccer/european-soccer-news-madrid-outclass-girona-leverkusen-defeat-bayern/ar-BB1i5SpE",
         "4": "https://www.bing.com/th?id=OVFT.1wbfGL38kkyres1xudGdsS&pid=News",
         "5": "ESPN on MSN.com",
         "6": "11-Feb-2024",
         "8": {
          "documents": {
           "confidenceScores": {
            "negative": 0.26,
            "neutral": 0.66,
            "positive": 0.09
           },
           "id": "0",
           "sentences": [
            {
             "confidenceScores": {
              "negative": 0.23,
              "neutral": 0.73,
              "positive": 0.04
             },
             "length": 135,
             "offset": 0,
             "sentiment": "neutral",
             "text": "Real Madrid send a statement win to Girona while Bayer Leverkusen defeat Bayern Munich to continue to defy the odds in the Bundesliga. "
            },
            {
             "confidenceScores": {
              "negative": 0.29,
              "neutral": 0.58,
              "positive": 0.13
             },
             "length": 42,
             "offset": 135,
             "sentiment": "neutral",
             "text": "Here's what you missed in European soccer."
            }
           ],
           "sentiment": "neutral",
           "warnings": []
          },
          "modelVersion": "2022-11-01"
         },
         "9": "neutral",
         "index": 77
        },
        {
         "0": "It’s a brand new route on the world’s most famous train – but it’ll cost you $8,500 one way",
         "1": "In travel news this week, a European airline is weighing passengers before takeoff, the new luxury train trip that costs $8,500 one way, and how Ukraine keeps its railways running, two years into the war.",
         "2": "LifeStyle",
         "3": "https://www.msn.com/en-us/travel/news/it-s-a-brand-new-route-on-the-world-s-most-famous-train-but-it-ll-cost-you-8500-one-way/ar-BB1i56QW",
         "4": "https://www.bing.com/th?id=OVFT.wMFk1sBsI3YwpWIM4NzkNS&pid=News",
         "5": "CNN on MSN.com",
         "6": "10-Feb-2024",
         "8": {
          "documents": {
           "confidenceScores": {
            "negative": 0.72,
            "neutral": 0.26,
            "positive": 0.02
           },
           "id": "1",
           "sentences": [
            {
             "confidenceScores": {
              "negative": 0.72,
              "neutral": 0.26,
              "positive": 0.02
             },
             "length": 204,
             "offset": 0,
             "sentiment": "negative",
             "text": "In travel news this week, a European airline is weighing passengers before takeoff, the new luxury train trip that costs $8,500 one way, and how Ukraine keeps its railways running, two years into the war."
            }
           ],
           "sentiment": "negative",
           "warnings": []
          },
          "modelVersion": "2022-11-01"
         },
         "9": "negative",
         "index": 78
        },
        {
         "0": "New vintage boutique opens in Downtown El Paso",
         "1": "The El Paso Downtown Management District is hosting a grand-opening celebration Saturday, Feb. 10, marking the official inauguration of Pineapple Vintage in Downtown El Paso. The celebration started at noon with a ribbon-cutting celebration,",
         "2": "LifeStyle",
         "3": "https://www.msn.com/en-us/travel/news/new-vintage-boutique-opens-in-downtown-el-paso/ar-BB1i5RtN",
         "4": "https://www.bing.com/th?id=OVFT.RQvhCtfbUWI9U2b3flzTwy&pid=News",
         "5": "KTSM El Paso on MSN.com",
         "6": "10-Feb-2024",
         "8": {
          "documents": {
           "confidenceScores": {
            "negative": 0.02,
            "neutral": 0.77,
            "positive": 0.22
           },
           "id": "2",
           "sentences": [
            {
             "confidenceScores": {
              "negative": 0.01,
              "neutral": 0.86,
              "positive": 0.12
             },
             "length": 175,
             "offset": 0,
             "sentiment": "neutral",
             "text": "The El Paso Downtown Management District is hosting a grand-opening celebration Saturday, Feb. 10, marking the official inauguration of Pineapple Vintage in Downtown El Paso. "
            },
            {
             "confidenceScores": {
              "negative": 0.02,
              "neutral": 0.67,
              "positive": 0.31
             },
             "length": 66,
             "offset": 175,
             "sentiment": "neutral",
             "text": "The celebration started at noon with a ribbon-cutting celebration,"
            }
           ],
           "sentiment": "neutral",
           "warnings": []
          },
          "modelVersion": "2022-11-01"
         },
         "9": "neutral",
         "index": 79
        },
        {
         "0": "WWE Star Daria Berenato Marries Toni Cassano in New Jersey Wedding Officiated by Maria Menounos (Exclusive)",
         "1": "WWE star Daria Berenato and fitness model Toni Cassano tied the knot on Feb. 10 in an elegant ceremony at the Legacy Castle in New Jersey in front of 140 guests.",
         "2": "LifeStyle",
         "3": "https://www.msn.com/en-us/tv/celebrity/wwe-star-daria-berenato-marries-toni-cassano-in-new-jersey-wedding-officiated-by-maria-menounos-exclusive/ar-BB1i5MS8",
         "4": "https://www.bing.com/th?id=OVFT.Uf1PpdBMv2QSYmMztUz_BC&pid=News",
         "5": "People on MSN.com",
         "6": "11-Feb-2024",
         "8": {
          "documents": {
           "confidenceScores": {
            "negative": 0.01,
            "neutral": 0.93,
            "positive": 0.06
           },
           "id": "3",
           "sentences": [
            {
             "confidenceScores": {
              "negative": 0.01,
              "neutral": 0.93,
              "positive": 0.06
             },
             "length": 161,
             "offset": 0,
             "sentiment": "neutral",
             "text": "WWE star Daria Berenato and fitness model Toni Cassano tied the knot on Feb. 10 in an elegant ceremony at the Legacy Castle in New Jersey in front of 140 guests."
            }
           ],
           "sentiment": "neutral",
           "warnings": []
          },
          "modelVersion": "2022-11-01"
         },
         "9": "neutral",
         "index": 80
        },
        {
         "0": "The best new popular fiction for February 2024 — Oh no! My dad’s a sperm donor",
         "1": "Lena’s gift forces her dad, Tom, to admit that he isn’t their biological father — Lena and Alison were donor-conceived, a secret he’d hoped to take to his grave. Alison, who’s trying to start a family with her wife,",
         "2": "Entertainment",
         "3": "https://www.thetimes.co.uk/article/bfda7b32-ebd5-467a-9c9d-1cd0a245750b?shareToken=d890d0be5d05de6f3f47fa9a10e3cdb3",
         "4": "https://www.bing.com/th?id=OVFT.QWr9Akj_iWRBZ9giCWg25i&pid=News",
         "5": "The Times",
         "6": "10-Feb-2024",
         "8": {
          "documents": {
           "confidenceScores": {
            "negative": 0.26,
            "neutral": 0.57,
            "positive": 0.17
           },
           "id": "4",
           "sentences": [
            {
             "confidenceScores": {
              "negative": 0.3,
              "neutral": 0.46,
              "positive": 0.23
             },
             "length": 162,
             "offset": 0,
             "sentiment": "neutral",
             "text": "Lena’s gift forces her dad, Tom, to admit that he isn’t their biological father — Lena and Alison were donor-conceived, a secret he’d hoped to take to his grave. "
            },
            {
             "confidenceScores": {
              "negative": 0.21,
              "neutral": 0.68,
              "positive": 0.11
             },
             "length": 53,
             "offset": 162,
             "sentiment": "neutral",
             "text": "Alison, who’s trying to start a family with her wife,"
            }
           ],
           "sentiment": "neutral",
           "warnings": []
          },
          "modelVersion": "2022-11-01"
         },
         "9": "neutral",
         "index": 81
        }
       ],
       "schema": [
        {
         "key": "0",
         "name": "title",
         "type": "string"
        },
        {
         "key": "1",
         "name": "description",
         "type": "string"
        },
        {
         "key": "2",
         "name": "category",
         "type": "string"
        },
        {
         "key": "3",
         "name": "url",
         "type": "string"
        },
        {
         "key": "4",
         "name": "image",
         "type": "string"
        },
        {
         "key": "5",
         "name": "provider",
         "type": "string"
        },
        {
         "key": "6",
         "name": "datePublished",
         "type": "string"
        },
        {
         "key": "7",
         "name": "error",
         "type": "StructType(StructField(response,StringType,true),StructField(status,StructType(StructField(protocolVersion,StructType(StructField(protocol,StringType,true),StructField(major,IntegerType,false),StructField(minor,IntegerType,false)),true),StructField(statusCode,IntegerType,false),StructField(reasonPhrase,StringType,true)),true))"
        },
        {
         "key": "8",
         "name": "response",
         "type": "StructType(StructField(statistics,StructType(StructField(documentsCount,IntegerType,false),StructField(erroneousDocumentsCount,IntegerType,false),StructField(transactionsCount,IntegerType,false),StructField(validDocumentsCount,IntegerType,false)),true),StructField(documents,StructType(StructField(id,StringType,true),StructField(sentiment,StringType,true),StructField(statistics,StructType(StructField(charactersCount,IntegerType,false),StructField(transactionsCount,IntegerType,false)),true),StructField(confidenceScores,StructType(StructField(positive,DoubleType,false),StructField(neutral,DoubleType,false),StructField(negative,DoubleType,false)),true),StructField(sentences,ArrayType(StructType(StructField(text,StringType,true),StructField(sentiment,StringType,true),StructField(confidenceScores,StructType(StructField(positive,DoubleType,false),StructField(neutral,DoubleType,false),StructField(negative,DoubleType,false)),true),StructField(targets,ArrayType(StructType(StructField(confidenceScores,StructType(StructField(positive,DoubleType,false),StructField(negative,DoubleType,false)),true),StructField(length,IntegerType,false),StructField(offset,IntegerType,false),StructField(text,StringType,true),StructField(sentiment,StringType,true),StructField(relations,ArrayType(StructType(StructField(ref,StringType,true),StructField(relationType,StringType,true)),true),true)),true),true),StructField(assessments,ArrayType(StructType(StructField(confidenceScores,StructType(StructField(positive,DoubleType,false),StructField(negative,DoubleType,false)),true),StructField(length,IntegerType,false),StructField(offset,IntegerType,false),StructField(text,StringType,true),StructField(sentiment,StringType,true),StructField(isNegated,BooleanType,false)),true),true),StructField(offset,IntegerType,false),StructField(length,IntegerType,false)),true),true),StructField(warnings,ArrayType(StructType(StructField(code,StringType,true),StructField(message,StringType,true),StructField(targetRef,StringType,true)),true),true)),true),StructField(errors,StructType(StructField(id,StringType,true),StructField(error,StructType(StructField(code,StringType,true),StructField(details,ArrayType(MapType(StringType,StringType,true),true),true),StructField(innererror,StructType(StructField(code,StringType,true),StructField(innerError,StringType,true)),true),StructField(message,StringType,true),StructField(target,StringType,true)),true)),true),StructField(modelVersion,StringType,true))"
        },
        {
         "key": "9",
         "name": "sentiment",
         "type": "string"
        }
       ],
       "truncated": false
      }
     },
     "type": "Synapse.DataFrame"
    },
    "f348844a-cb1f-442d-9f89-d3d84d841730": {
     "persist_state": {
      "view": {
       "chartOptions": {
        "aggregationType": "count",
        "binsNumber": 10,
        "categoryFieldKeys": [
         "2"
        ],
        "chartType": "bar",
        "isStacked": false,
        "seriesFieldKeys": [
         "0"
        ],
        "wordFrequency": "-1"
       },
       "tableOptions": {},
       "type": "details"
      }
     },
     "sync_state": {
      "isSummary": false,
      "language": "scala",
      "table": {
       "rows": [
        {
         "0": "Charismatic Mithun Manhas changes shape of J&K cricket",
         "1": "Jammu, Mar 02: Mithun Manhas is a familiar name not only in J&K cricket but also in the entire cricketing world, especially at the domestic circuit of Indian cricket. He has scored around 10,000 runs in 157 matches of First Class Cricket with 27 centuries ...",
         "2": "Sports",
         "3": "http://www.risingkashmir.in/charismatic-mithun-manhas-changes-shape-of-jk-cricket",
         "4": "https://www.bing.com/th?id=OVFT.OjpOTfqMNa6cu1uvtpSWTS&pid=News",
         "5": "Rising Kashmir",
         "6": "03-Mar-2024",
         "index": 1
        },
        {
         "0": "'Drivers were watching cricket match': Railway minister on what caused last year's Andhra accident",
         "1": "Railway Minister Ashwini Vaishnaw revealed that the driver and assistant driver of a passenger train involved in a fatal collision in Andhra Pradesh were watching a cricket match on their phones. The incident, which occurred on October 29, 2023 ...",
         "2": "LifeStyle",
         "3": "https://economictimes.indiatimes.com/industry/transportation/railways/drivers-were-watching-cricket-match-railway-minister-on-what-caused-last-years-andhra-accident/articleshow/108178092.cms",
         "4": "https://www.bing.com/th?id=OVFT.Y3A9NrUP1crns6kKN0xqnC&pid=News",
         "5": "Indiatimes",
         "6": "03-Mar-2024",
         "index": 2
        },
        {
         "0": "GUJ-W vs DC-W: Check our Fantasy Cricket Prediction, Tips, Playing Team Picks for Women’s Premier League 2024, Match 10 on March 3rd",
         "1": "Gujarat Giants Women will be up against Delhi Capitals Women in the 10th match of the Women’s Premier League 2024 on Sunday. Gujarat Giants are enduring a horrific run at the moment, losing 3 matches on the trot.",
         "2": "Sports",
         "3": "https://in.ign.com/dream-11-fantasy-gaming/203118/news/guj-w-vs-dc-w-check-our-fantasy-cricket-prediction-tips-playing-team-picks-for-womens-premier-league",
         "4": "https://www.bing.com/th?id=OVFT.QMbbuuT1eUBzsliLSESJNi&pid=News",
         "5": "IGN",
         "6": "03-Mar-2024",
         "index": 3
        },
        {
         "0": "Meet Indian cricket’s 17th Man – son of an influential father and misfit in dressing room",
         "1": "Indian domestic circuit is replete with unwanted, unasked extra hands forced on the team by some compromised administrator",
         "2": "Sports",
         "3": "https://indianexpress.com/article/sports/cricket/meet-indian-crickets-17th-man-son-of-an-influential-father-and-misfits-in-dressing-room-9191386/",
         "4": "https://www.bing.com/th?id=OVFT.iZimGpdlE_a14QQYRDd3Ci&pid=News",
         "5": "The Indian Express",
         "6": "02-Mar-2024",
         "index": 4
        },
        {
         "0": "IVPL: Cricket Fever Peaks In Greater Noida As VVIP UP And Mumbai Champions Brace For Finals",
         "1": "Negi also lauded the quality of cricket being played in IVPL. \"We are extremely excited about the finals as a team. We're all very happy and we will try our best to win tomorrow. My experience with IVPL has been pretty amazing. The quality of cricket here ...",
         "2": "Sports",
         "3": "https://www.cricketnmore.com/cricket-news/ivpl-cricket-fever-peaks-in-greater-noida-as-vvip-up-and-mumbai-champions-brace-for-finals-139515",
         "4": "https://www.bing.com/th?id=OVFT.SuDSUAbDowXTZFiXZITiOy&pid=News",
         "5": "Cricketnmore",
         "6": "03-Mar-2024",
         "index": 5
        },
        {
         "0": "Aussie cricket in shock as terrible incident could spell the end of star's career - and he's only 26",
         "1": "The future of Will Pucovski is again up in the air after the star batter suffered another knock to the head while batting during Victoria's Sheffield Shield clash with Tasmania in Hobart.",
         "2": "Sports",
         "3": "https://www.dailymail.co.uk/sport/cricket/article-13150891/Will-Pucovski-concussion-future-cricket-Victoria-Tasmania.html",
         "4": "https://www.bing.com/th?id=OVFT.HwVUZ57ck3gwc6U6o398YS&pid=News",
         "5": "Daily Mail",
         "6": "03-Mar-2024",
         "index": 6
        },
        {
         "0": "CCL 2024 Points Table, Match Results Today: Celebrity Cricket League Updated Points Table, Standings, Top Team",
         "1": "CCL 2024 Points Table: Films and cricket are the two most important and must-watch events in India, isn't it? Whenever there's a cricket match, we stay glued to our seats. Similarly, we gush over Salman Khan and Akshay Kumar's films in the theatres.",
         "2": "Sports",
         "3": "https://www.filmibeat.com/bollywood/viral/2024/ccl-2024-points-table-match-results-today-celebrity-cricket-league-10-updated-points-table-standings-387101.html",
         "4": "https://www.bing.com/th?id=OVFT.3DYdM96zL0-jfZgXMX3jWy&pid=News",
         "5": "Hot Pics",
         "6": "02-Mar-2024",
         "index": 7
        },
        {
         "0": "Ashwini Vaishnaw on Andhra train collision: 'Driver was watching cricket on phone'",
         "1": "Railway Minister Ashwini Vaishnaw on Saturday revealed that the driver and the assistant driver of one of the two passenger trains that collided in Andhra Pradesh, leading to the death of 14 passengers on October 29, 2023, were watching a cricket match on ...",
         "2": "India",
         "3": "https://www.msn.com/en-in/money/topstories/ashwini-vaishnaw-on-andhra-train-collision-driver-was-watching-cricket-on-phone/ar-BB1jfyB9",
         "4": "https://www.bing.com/th?id=OVFT.6Tbg05LA__QdP6zKc5eiKS&pid=News",
         "5": "Business Today on MSN.com",
         "6": "03-Mar-2024",
         "index": 8
        },
        {
         "0": "'Driver was watching cricket on phone': Minister on deadly Andhra train collision",
         "1": "The Rayagada Passenger train hit the Visakhapatnam Palasa train from behind at 7 pm in October last year on the Howrah-Chennai line in Kantakapalli in Vizianagaram district of Andhra Pradesh.",
         "2": "India",
         "3": "https://www.msn.com/en-in/news/India/2023-andhra-train-collision-vaishnaw-says-driver-was-watching-cricket-on-phone/ar-BB1jenUv",
         "4": "https://www.bing.com/th?id=OVFT.GQ-kKRkZVdrf_WiESfOJHS&pid=News",
         "5": "India Today on MSN.com",
         "6": "02-Mar-2024",
         "index": 9
        },
        {
         "0": "Andhra Train Collision: ‘Driver Was Watching Cricket On Phone’, Says Railway Minister Ashwini Vaishnaw",
         "1": "Amaravati: The driver and the assistant driver of one of the two passenger trains, which collided in Andhra Pradesh in October 2023, were watching a cricket match on a smartphone, informed Railway Minister Ashwini Vaishnaw said on Saturday.",
         "2": "LifeStyle",
         "3": "https://www.msn.com/en-in/news/India/andhra-train-collision-driver-was-watching-cricket-on-phone-says-railway-minister-ashwini-vaishnaw/ar-BB1jeXP7",
         "4": "https://www.bing.com/th?id=OVFT.4_RxiSFwTYYMyhRz8UTPbC&pid=News",
         "5": "India.com on MSN.com",
         "6": "03-Mar-2024",
         "index": 10
        },
        {
         "0": "GUJ-W Vs DEL-W Dream11 Prediction, WPL 2024, Match 10: Fantasy Cricket Tips, Probable Playing XIs, Injury Updates For Today’s Gujarat Giants Vs Delhi Capitals, 7.30 PM IST",
         "1": "GUJ-W vs DEL-W Dream11 Prediction, WPL 2024, Match 10: Languishing at the bottom of the table, Gujarat Giants will be hoping to end their winless run when they take on Delhi Capitals in a Women’s Premier League (WPL) 2024 match at the M Chinnaswamy ...",
         "2": "Sports",
         "3": "https://www.msn.com/en-in/news/other/guj-w-vs-del-w-dream11-prediction-wpl-2024-match-10-fantasy-cricket-tips-probable-playing-xis-injury-updates-for-today-s-gujarat-giants-vs-delhi-capitals-7-30-pm-ist/ar-BB1jfeG9",
         "4": "https://www.bing.com/th?id=OVFT.3vnZi3JKOcD11VtLAR-8EC&pid=News",
         "5": "India.com on MSN.com",
         "6": "03-Mar-2024",
         "index": 11
        },
        {
         "0": "Ranji Trophy 2024: Shreyas Iyer struggles with poor form as he makes his comeback in Domestic Cricket",
         "1": "It was Iyer’s first domestic match since the Board of Control for Cricket in India (BCCI) did not award him a central contract. The decision has caused quite a stir among both fans and experts, with many believing that the choice to omit Iyer and Ishan ...",
         "2": "Sports",
         "3": "https://www.msn.com/en-in/news/other/ranji-trophy-2024-shreyas-iyer-struggles-with-poor-form-as-he-makes-his-comeback-in-domestic-cricket/ar-BB1jfr4H",
         "4": "https://www.bing.com/th?id=OVFT.-NQg1csxTuGX-77sQv0ArC&pid=News",
         "5": "Cricket Country on MSN.com",
         "6": "03-Mar-2024",
         "index": 12
        },
        {
         "0": "Virat Kohli and James Anderson had some incredible face-offs with each other in Test Cricket.",
         "1": "Veteran England pacer James Anderson rued for having a missing chance to play against Team India star batter Virat Kohli in the ongoing Test series. Kohli withdrew from the five Tests against visiting England team to be with his wife Anuksha Sharma for the birth of their second child, a son, Akaay.",
         "2": "Sports",
         "3": "https://www.msn.com/en-in/sports/cricket/it-s-a-shame-he-s-not-been-playing-james-anderson-on-virat-kohlis-absence-in-ind-vs-eng-test-series/ar-BB1jdDyC",
         "4": "https://www.bing.com/th?id=OVFT.gO6seUNG-m8q9iJ03RY7GC&pid=News",
         "5": "The Free Press Journal on MSN.com",
         "6": "02-Mar-2024",
         "index": 13
        },
        {
         "0": "Mumbai vs Tamil Nadu, Ranji Trophy semifinal: Shreyas Iyer fails to deliver on his return to domestic cricket",
         "1": "Shreyas Iyer, an out-of-favour India batter, failed to contribute with the bat in the Ranji Trophy semifinal match between Mumbai and Tamil Nadu. He was dismissed by Tamil Nadu pacer Sandeep Warrier for just 3 runs in their first innings.",
         "2": "Sports",
         "3": "https://www.msn.com/en-in/sports/cricket/mumbai-vs-tamil-nadu-ranji-trophy-semifinal-shreyas-iyer-fails-to-deliver-on-his-return-to-domestic-cricket/ar-BB1jf79F",
         "4": "https://www.bing.com/th?id=OVFT.kAPYC46obBxBQaac9RbhyC&pid=News",
         "5": "The Times of India on MSN.com",
         "6": "03-Mar-2024",
         "index": 14
        },
        {
         "0": "'Playing red-ball games will produce more wicket-taking bowlers', says Mamatha Maben on format’s return to women's domestic cricket",
         "1": "The commencement of the Senior Women's Inter-Zonal Multi-Day Trophy in Pune from March 28 will signal the revival of red-ball cricket for female cricketers in the Indian domestic circuit, following a six-year absence.",
         "2": "Sports",
         "3": "https://www.msn.com/en-in/sports/cricket/playing-red-ball-games-will-produce-more-wicket-taking-bowlers-mamatha-maben-on-return-of-women-s-inter-zonal-multi-day-trophy/ar-BB1jffI0",
         "4": "https://www.bing.com/th?id=OVFT.aYgeEJpOLN4o4Uq1KVWC2S&pid=News",
         "5": "News18 on MSN.com",
         "6": "03-Mar-2024",
         "index": 15
        },
        {
         "0": "Tim Southee keeps door open for retired Neil Wagner's return after loss in first Test against Australia",
         "1": "New Zealand skipper Tim Southee has indicated that retired pacer Neil Wagner might be called out of retirement for the second Test against Australia. Southee's comments came after New Zealand lost the first Test by 172 runs and debutant pacer Will O'Rourke got injured.",
         "2": "Sports",
         "3": "https://www.msn.com/en-in/sports/other/tim-southee-keeps-door-open-for-retired-neil-wagners-return-after-loss-in-first-test-against-australia/ar-BB1jfk6C",
         "4": "https://www.bing.com/th?id=OVFT.hyeyBiLzUJIJgalxGfmLSS&pid=News",
         "5": "WION on MSN.com",
         "6": "03-Mar-2024",
         "index": 16
        },
        {
         "0": "\"World Cricket doing everything to make sure West Indies Cricket is never strong again\": CWI CEO Grave",
         "1": "CEO Jonny Grave slammed the International Cricket Council (ICC) for not supporting the board financially and alleging that the world cricket is doing everything in its power to make sure that cricket in the Caribbean is never strong again.",
         "2": "Sports",
         "3": "https://www.msn.com/en-xl/sports/cricket/world-cricket-doing-everything-to-make-sure-west-indies-cricket-is-never-strong-again-cwi-ceo-grave/ar-BB1jfyyv",
         "4": "https://www.bing.com/th?id=OVFT.Z88zUzi6DP_idExsvXB9oC&pid=News",
         "5": "Asian News International on MSN.com",
         "6": "03-Mar-2024",
         "index": 17
        },
        {
         "0": "BAN vs SL 1st T20I: Sylhet International Cricket Stadium Pitch Report, Weather Forecast, T20 Stats & Records",
         "1": "Bangladesh will host Sri Lanka in the first T20I of the three-match series at the Sylhet International Cricket Stadium in Sylhet on Monday (March 4). The series provide both teams a chance to test their squads before the T20 World Cup 2024 in June.",
         "2": "Sports",
         "3": "https://www.mykhel.com/cricket/ban-vs-sl-1st-t20i-sylhet-stadium-pitch-report-weather-forecast-t20-stats-records-267849.html",
         "4": "https://www.bing.com/th?id=OVFT.BXNqsgw1epLXLwAoqdQ1ki&pid=News",
         "5": "mykhel",
         "6": "03-Mar-2024",
         "index": 18
        },
        {
         "0": "UAE Vs Scotland, ICC Men's Cricket World Cup League 2 Live Streaming: When, Where To Watch",
         "1": "After suffering a defeat in their first match against Canada, both wounded teams - the United Arab Emirates and Scotland are gearing up for their first encounter in the ICC Men's Cricket World Cup League 2, scheduled to be held on March 3, Sunday in Dubai.",
         "2": "Sports",
         "3": "https://www.outlookindia.com/sports/cricket/uae-vs-scotland-icc-mens-cricket-world-cup-league-2-live-streaming-when-where-to-watch-squad-and-all-details",
         "4": "https://www.bing.com/th?id=OVFT.3KDHAD_67oR-nYyqZUXiDy&pid=News",
         "5": "Outlookindia",
         "6": "02-Mar-2024",
         "index": 19
        },
        {
         "0": "Colosseum cricket",
         "1": "But it was the bludgeoning of Pakistan that established its reputation for unbridled aggression and win-at-all-costs methods Rajkot: England's Ben Duckett with teammate Ben Stokes celebrates scoring 150 runs during the 3rd day of the 3rd cricket test match ...",
         "2": "Sports",
         "3": "https://www.telegraphindia.com/opinion/colosseum-cricket-englands-cricketing-fortunes-improved-after-its-bazball-makeover/cid/2004397",
         "4": "https://www.bing.com/th?id=OVFT.e9AhTj6CYWGHsN9LA6SZXy&pid=News",
         "5": "The Telegraph",
         "6": "03-Mar-2024",
         "index": 20
        },
        {
         "0": "Sports analytics may be outnumbered when it comes to artificial intelligence",
         "1": "BOSTON -- When it comes to artificial intelligence, the sports analytics crowd may be outnumbered. The people who killed the sacrifice bunt and turned NBA games into a 3-point shooting contest aren’t quite sure what will happen when AI fully invades sports — whether in the front office or on the field.",
         "2": "Sports",
         "3": "https://www.msn.com/en-us/sports/nba/sports-analytics-may-be-outnumbered-when-it-comes-to-artificial-intelligence/ar-BB1je6WG",
         "4": "https://www.bing.com/th?id=OVFT.b6Krb2Fb-nzoTVQMxGDDyS&pid=News",
         "5": "The Associated Press – Sports on MSN.com",
         "6": "02-Mar-2024",
         "index": 21
        },
        {
         "0": "Indian Sports LIVE, March 3: News, updates, scores, results and commentary",
         "1": "ESPN BET is operated by PENN Entertainment, Inc. and its subsidiaries ('PENN'). ESPN BET is available in states where PENN is licensed to offer sports wagering. Must be 21+ to wager. If you or someone you know has a gambling problem and wants help, call 1-800-GAMBLER.",
         "2": "Sports",
         "3": "https://www.espn.com/espn/story/_/id/39638377/indian-sports-live-news-updates-scores-results-commentary-sunday-march-3",
         "4": "https://www.bing.com/th?id=OVFT.QsQU136FSylPigS5PxftyS&pid=News",
         "5": "ESPN",
         "6": "03-Mar-2024",
         "index": 22
        },
        {
         "0": "Sports world praises LeBron James for reaching 40,000 points",
         "1": "LeBron James extended his all-time scoring record on Saturday by becoming the first NBA player to reach 40,000 regular-season points.",
         "2": "Sports",
         "3": "https://www.msn.com/en-us/sports/nba/sports-world-praises-lebron-james-for-reaching-40000-points/ar-BB1jeTyn",
         "4": "https://www.bing.com/th?id=OVFT.pQK_b7gFlLtMwnxw2ZjgOS&pid=News",
         "5": "ESPN on MSN.com",
         "6": "03-Mar-2024",
         "index": 23
        },
        {
         "0": "Brock Badgers men's, women's wrestling teams sweep national championships",
         "1": "The Brock Badgers kicked off the winter U Sports championship season by taking both the men’s and women’s national wrestling titles in Guelph, Ont., on Saturday.",
         "2": "Sports",
         "3": "https://www.cbc.ca/sports/u-sports-wrestling-championships-mar-2-1.7132405",
         "4": "https://www.bing.com/th?id=OVFT.4mbH3CDkRlXSdWBzkiB9wy&pid=News",
         "5": "CBC.ca",
         "6": "03-Mar-2024",
         "index": 24
        },
        {
         "0": "Red-hot Islanders’ task: ‘Keep building’ on momentum",
         "1": "The Islanders know they cannot slow down now. And their confidence is at a high after a crushing 5-1 defeat of the Bruins on home ice Saturday night.",
         "2": "Sports",
         "3": "https://www.msn.com/en-us/sports/other/red-hot-islanders-task-keep-building-on-momentum/ar-BB1jfrqR",
         "4": "https://www.bing.com/th?id=OVFT.YiKgWmb_zyvua0bOk0OW0S&pid=News",
         "5": "New York Post on MSN.com",
         "6": "03-Mar-2024",
         "index": 25
        },
        {
         "0": "Letters to Sports: Readers recognize Helene Elliott and her impact",
         "1": "Readers of the Los Angeles Times Sports section pay tribute to the career of columnist Helene Elliott and weigh in on Mick Cronin's decision making.",
         "2": "Sports",
         "3": "https://www.msn.com/en-us/sports/other/letters-to-sports-readers-recognize-helene-elliott-and-her-impact/ar-BB1jdnTg",
         "4": "https://www.bing.com/th?id=OVFT.4fKr8MXd9OCl71E6ee0d7i&pid=News",
         "5": "Los Angeles Times on MSN.com",
         "6": "02-Mar-2024",
         "index": 26
        },
        {
         "0": "D.C. United stages late two-goal comeback to earn draw with Timbers",
         "1": "Facing a 2-0 deficit and playing without star Christian Benteke, who was scratched before kickoff with an injury, United caught a late spark and earned a point in Portland, Ore.",
         "2": "Sports",
         "3": "https://www.msn.com/en-us/sports/other/dc-united-stages-late-two-goal-comeback-to-earn-draw-with-timbers/ar-BB1jf241",
         "4": "https://www.bing.com/th?id=OVFT.S3_KA9AZo1rCOfReobPE4S&pid=News",
         "5": "The Washington Post on MSN.com",
         "6": "03-Mar-2024",
         "index": 27
        },
        {
         "0": "Dawn Staley helps reunite South Carolina's Kamilla Cardoso with family: 'An incredible moment for all of us'",
         "1": "Kamilla Cardoso has been a breakout star for the undefeated South Carolina Gamecocks. The Brazil native is the team's leading scorer and rebounder.",
         "2": "Sports",
         "3": "https://www.msn.com/en-us/sports/other/dawn-staley-helps-reunite-south-carolinas-kamilla-cardoso-with-family-an-incredible-moment-for-all-of-us/ar-BB1jeM7K",
         "4": "https://www.bing.com/th?id=OVFT.eHKEdUB4TwVFU54KJRnGdi&pid=News",
         "5": "Fox News on MSN.com",
         "6": "03-Mar-2024",
         "index": 28
        },
        {
         "0": "When can we expect the last-freeze?",
         "1": "The start of meteorological spring has many people wondering how soon we might be saying “goodbye” to temperatures that dip to at least 32º. Despite the mild winter and a 7-day outlook that doesn’t include a freezing temperature in Chicago,",
         "2": "LifeStyle",
         "3": "https://www.msn.com/en-us/weather/topstories/when-can-we-expect-the-last-freeze/ar-BB1jfoAp",
         "4": "https://www.bing.com/th?id=OVFT.6Eo-KDNQ8-QXBzgx7SFUTi&pid=News",
         "5": "WGN-TV Chicago on MSN.com",
         "6": "03-Mar-2024",
         "index": 29
        },
        {
         "0": "Ten examples of sports growing more and more insane",
         "1": "If a team — any pro team — denies anyone — gays, Estonians, atheists, Mao Marxists, transgender NCAA record-breaking swimmers, green-haired grandmothers, Uncle Leo — entry to a game based on their race, sexuality, ethnicity, religion, politics, biological birth or hairdresser, then we’ve reason to devote a game to the specifically oppressed.",
         "2": "Sports",
         "3": "https://www.yahoo.com/news/ten-examples-sports-growing-more-191214428.html",
         "4": "https://www.bing.com/th?id=OVFT.-S--_IJygUZFg61ulQppGS&pid=News",
         "5": "Yahoo",
         "6": "02-Mar-2024",
         "index": 30
        },
        {
         "0": "Xavier Prep defeats Desert Vista to win girls' Open, the school's first basketball title",
         "1": "Championship banners are everywhere at Phoenix Xavier Prep. In the athletic facilities. In hallways. Down towards the administrative offices. When you have 138 of them, you have to get creative. They’re a reminder of the school’s dominance in just about every sport Arizona offers.",
         "2": "Sports",
         "3": "https://www.usatoday.com/story/sports/high-school/2024/03/02/xavier-prep-beats-desert-vista-to-win-open-claim-first-ever-title/72754011007/",
         "4": "https://www.bing.com/th?id=OVFT.erNM8yxM9bBQKp52MNXUWi&pid=News",
         "5": "USA Today",
         "6": "03-Mar-2024",
         "index": 31
        },
        {
         "0": "Christian Horner opens up on ‘testing’ week for wife Geri Halliwell and family",
         "1": "Christian Horner admits the past week has been “testing” for him and his family as he strode into the Bahrain paddock hand-in-hand with wife Geri Halliwell prior to Saturday’s Bahrain Grand Prix.",
         "2": "Sports",
         "3": "https://www.independent.co.uk/f1/christian-horner-geri-halliwell-f1-red-bull-bahrain-b2506120.html",
         "4": "https://www.bing.com/th?id=OVFT.drCd8P758Up2I2d6XDMyIS&pid=News",
         "5": "The Independent",
         "6": "03-Mar-2024",
         "index": 32
        },
        {
         "0": "'We cannot recycle our way out of plastic pollution'",
         "1": "Local environmental leaders will discuss the plastic problem Thursday. The public is welcome. The forum is part of IHM's anti-plastics campaign.",
         "2": "LifeStyle",
         "3": "https://news.yahoo.com/cannot-recycle-way-plastic-pollution-084210209.html",
         "4": "https://www.bing.com/th?id=OVFT.S9mxdHTq7B2krZYZgp60Ci&pid=News",
         "5": "YAHOO!News",
         "6": "03-Mar-2024",
         "index": 33
        },
        {
         "0": "Small detail in America's NRL coverage proves the code has a huge mountain to climb to make an impact in America",
         "1": "The NRL season opener between Manly and South Sydney has been explosive success, but a photo from the match proves that the code has some work to do to make an impact in America.",
         "2": "Sports",
         "3": "https://www.dailymail.co.uk/sport/nrl/article-13150763/Major-League-Rugby-mistake-NRL-Las-Vegas-Souths-Manly.html",
         "4": "https://www.bing.com/th?id=OVFT.A4OaIZkBsJEA-gXFd7PS2y&pid=News",
         "5": "Daily Mail",
         "6": "03-Mar-2024",
         "index": 34
        },
        {
         "0": "Hoyas’ 15-point lead fades away in a heartbreaker against Xavier",
         "1": "Georgetown remains winless against the non-DePaul portion of the Big East after Saturday night’s 98-93 defeat at Capital One Arena.",
         "2": "Sports",
         "3": "https://www.msn.com/en-us/sports/other/hoyas-15-point-lead-over-xavier-fades-away-in-yet-another-loss/ar-BB1jeW3n",
         "4": "https://www.bing.com/th?id=OVFT.eaQXYVTGqZvYG5dwAehujy&pid=News",
         "5": "The Washington Post on MSN.com",
         "6": "03-Mar-2024",
         "index": 35
        },
        {
         "0": "TV tonight: an explosive finale for Vicky McClure in Trigger Point",
         "1": "Bomb disposal officer Lana faces a terrible dilemma. Plus: the excellent Alex Kingston tell’s the story of Frankenstein. Here’s what to watch this evening",
         "2": "LifeStyle",
         "3": "https://www.theguardian.com/tv-and-radio/2024/mar/03/tv-tonight-an-explosive-finale-for-vicky-mcclure-in-trigger-point",
         "4": "https://www.bing.com/th?id=OVFT.rbNRHmRv2AK1DQ71JFooyy&pid=News",
         "5": "The Guardian",
         "6": "03-Mar-2024",
         "index": 36
        },
        {
         "0": "Farm heroes, crispy warts and water sports",
         "1": "Thank you for your dispatch on the costs of the Gaza war to the Israeli economy (“How the war in Gaza has hurt Israel’s economy”, World News, last week). I travelled from Hertfordshire to volunteer at",
         "2": "World",
         "3": "https://www.thetimes.co.uk/article/farm-heroes-crispy-warts-and-water-sports-ncgkrvrr2",
         "4": "https://www.bing.com/th?id=OVFT.V6xeFwujoJzWShsrS2oaxC&pid=News",
         "5": "The Times",
         "6": "03-Mar-2024",
         "index": 37
        },
        {
         "0": "NRL facing uphill battle to conquer the US, but claims a thrilling toehold in Las Vegas",
         "1": "A new sport won't crack the home of the brave overnight and one week of fun and footy in Las Vegas doesn't prove anything. But it was a pretty good start.",
         "2": "Sports",
         "3": "https://www.msn.com/en-au/sport/other/nrl-facing-uphill-battle-to-conquer-the-us-but-claims-a-thrilling-toehold-in-las-vegas/ar-BB1jfcil",
         "4": "https://www.bing.com/th?id=OVFT.2iGJ8HodTYsp4EpV6Svkai&pid=News",
         "5": "Australian Broadcasting Corporation on MSN.com",
         "6": "03-Mar-2024",
         "index": 38
        },
        {
         "0": "Aging Bridge Is a Flashpoint in Competitive Washington State House Race",
         "1": "Representative Marie Gluesenkamp Perez is running on fixing one of the busiest bridges in the region. Her far-right opponent calls it an “Antifa superhighway.”",
         "2": "Politics",
         "3": "https://www.nytimes.com/2024/03/03/us/politics/aging-bridge-is-a-flashpoint-in-competitive-washington-state-house-race.html",
         "4": "https://www.bing.com/th?id=OVFT.Q2sz2wpfceQW1RWlboqs-i&pid=News",
         "5": "The New York Times",
         "6": "03-Mar-2024",
         "index": 39
        },
        {
         "0": "10Bet Cheltenham Offers: Latest Promos Ahead of the Cheltenham Festival 2024",
         "1": "10Bet's mix of Cheltenham Festival betting offers for 2024 makes them one of the best betting sites to consider for the big meeting. They have catered to both new and existing customers with their Cheltenham betting promos and their Acca Boost up to 100% offer is a valuable one to have with so much action across the four-day festival.",
         "2": "ScienceAndTechnology",
         "3": "https://www.independent.co.uk/betting/cheltenham-festival/10bet-cheltenham-offer",
         "4": "https://www.bing.com/th?id=OVFT.5Vuslqje12mJEn_5VDtM9C&pid=News",
         "5": "The Independent",
         "6": "03-Mar-2024",
         "index": 40
        },
        {
         "0": "Is It Too Late to Buy Nvidia Stock?",
         "1": "A closer look at the company's forward multiples tells us that it may be a good idea to buy Nvidia right away.",
         "2": "ScienceAndTechnology",
         "3": "https://finance.yahoo.com/news/too-buy-nvidia-stock-084700090.html?fr=sycsrp_catchall",
         "4": "https://www.bing.com/th?id=OVFT.2BYBN1JwErA54iu3swVeXC&pid=News",
         "5": "YAHOO!Finance",
         "6": "03-Mar-2024",
         "index": 41
        },
        {
         "0": "Betting offer for Manchester City vs Manchester United: Enhanced odds",
         "1": "Claim this BoyleSports betting offer to get £30 in bonuses and enhanced odds on the Premier League match between Manchester City and Manchester United",
         "2": "Sports",
         "3": "https://www.telegraph.co.uk/betting/football/manchester-city-vs-manchester-united-free-bet-boylesports/",
         "4": "https://www.bing.com/th?id=OVFT.UgyUEvIDCOUPcsYlrfQ57S&pid=News",
         "5": "The Daily Telegraph",
         "6": "03-Mar-2024",
         "index": 42
        },
        {
         "0": "2024 Sarasota STRIVE Award Student Stories: Tashaun Bryant",
         "1": "A high school senior and 2024 recipient of a STRIVE Award, Tashaun has made an unlikely journey to Sarasota Military Academy.",
         "2": "LifeStyle",
         "3": "https://news.yahoo.com/2024-sarasota-strive-award-student-090239677.html",
         "4": "https://www.bing.com/th?id=OVFT.foPopeO9I9TlUs4pIxXwoy&pid=News",
         "5": "YAHOO!News",
         "6": "03-Mar-2024",
         "index": 43
        },
        {
         "0": "Polls open for Shreveport Times Student of Week voting: March 3-7",
         "1": "Which of these seven talented North Louisiana students will be chosen as the first Shreveport Times Student of the Week? You decide. Vote now!",
         "2": "LifeStyle",
         "3": "https://news.yahoo.com/polls-open-shreveport-times-student-110727459.html",
         "4": "https://www.bing.com/th?id=OVFT.goW_5GeM4-hX4vDf1DYxyC&pid=News",
         "5": "YAHOO!News",
         "6": "03-Mar-2024",
         "index": 44
        },
        {
         "0": "Check Out The Music Video Of The Latest Hindi Song Kende Ne Naina Sung By Vishal Mishra",
         "1": "Enjoy the latest Hindi song Kende Ne Naina sung by Vishal Mishra. The music for this captivating track has been composed by Rochak Kohli. Don't miss the opportunity to watch the latest Hindi video song Kende Ne Naina by Vishal Mishra and immerse yourself in its mesmerizing melodies.",
         "2": "LifeStyle",
         "3": "https://timesofindia.indiatimes.com/videos/entertainment/music/hindi/check-out-the-music-video-of-the-latest-hindi-song-kende-ne-naina-sung-by-vishal-mishra/videoshow/108177772.cms",
         "4": "https://www.bing.com/th?id=OVFT.NBTYJ2rHSKvwuzIZ-bUMYC&pid=News",
         "5": "Indiatimes",
         "6": "03-Mar-2024",
         "index": 45
        },
        {
         "0": "Check Out The Music Video Of The Latest Punjabi Song Dil Darian Sung By Kambi Rajpuria",
         "1": "Enjoy the latest Punjabi song Dil Darian sung by Kambi Rajpuria. The music for this captivating track has been composed by Ricky Khan. Don't miss the opportunity to watch the latest Punjabi video song Dil Darian by Kambi Rajpuria and immerse yourself in its mesmerizing melodies.",
         "2": "LifeStyle",
         "3": "https://timesofindia.indiatimes.com/videos/entertainment/music/punjabi/check-out-the-music-video-of-the-latest-punjabi-song-dil-darian-sung-by-kambi-rajpuria/videoshow/108178124.cms",
         "4": "https://www.bing.com/th?id=OVFT.cbbjgwxlnG04Mjpqtp8ZEy&pid=News",
         "5": "Indiatimes",
         "6": "03-Mar-2024",
         "index": 46
        },
        {
         "0": "Raye: Singer-songwriter makes history winning six Brit Awards",
         "1": "It was Raye's night as she made history at the Brit Awards, winning six of the seven prizes she was nominated for - beating Blur, Adele and Harry Styles' record four wins at a single ceremony. She is also the first woman to win songwriter of the year.",
         "2": "Entertainment",
         "3": "https://www.bbc.co.uk/news/entertainment-arts-68458922",
         "4": "https://www.bing.com/th?id=OVFT.aNFpkeTfQXgDzqhhBw5uRi&pid=News",
         "5": "BBC",
         "6": "03-Mar-2024",
         "index": 47
        },
        {
         "0": "Dua Lipa sends temperatures soaring in sexy red lingerie as she joins abs-flashing Billie Piper at Warner Music's star-studded BRITs afterparty",
         "1": "The singer, 28, who bagged the Best Pop Act gong and performed on stage, looked nothing short of incredible as she let her hair down in a sexy red lingerie inspired ensemble.",
         "2": "Entertainment",
         "3": "https://www.dailymail.co.uk/tvshowbiz/article-13150385/Dua-Lipa-Billie-Piper-Brits-afterparty.html",
         "4": "https://www.bing.com/th?id=OVFT.aNpluipPLWr4fgsNmMwMsC&pid=News",
         "5": "Daily Mail",
         "6": "03-Mar-2024",
         "index": 48
        },
        {
         "0": "Maya Jama looks sensational in a racy sheer dress as she holds hands with busty AJ Odudu leaving Warner Music's Brit Awards afterparty",
         "1": "Maya Jama looked sensational in a racy sheer dress as she held hands with busty AJ Odudu leaving Warner Music's Brit Awards afterparty on Saturday night.",
         "2": "Entertainment",
         "3": "https://www.dailymail.co.uk/tvshowbiz/article-13151183/Maya-Jama-looks-sensational-racy-sheer-dress-holds-hands-busty-AJ-Odudu-leaving-Warner-Musics-Brit-Awards-afterparty.html",
         "4": "https://www.bing.com/th?id=OVFT.AuZX5nNxzzqiLo3E5mOFkC&pid=News",
         "5": "Daily Mail",
         "6": "03-Mar-2024",
         "index": 49
        },
        {
         "0": "Books of the month: From Kazuo Ishiguro’s song lyrics to Family Politics by John O’Farrell",
         "1": "An attention-grabbingly titled debut novel from playwright Anoushka Warden, Peter Pomerantsev’s intriguing study of a genius propagandist who outwitted Hitler, and an important study of the distorted",
         "2": "Entertainment",
         "3": "https://www.independent.co.uk/arts-entertainment/books/features/books-march-releases-bestsellers-b2503870.html",
         "4": "https://www.bing.com/th?id=OVFT.jwkq6657UtxZK-jjjvoAgi&pid=News",
         "5": "The Independent",
         "6": "03-Mar-2024",
         "index": 50
        },
        {
         "0": "No Twerking. No Drinking. No Smoking. but It's Still a Party at This Christian Nightclub",
         "1": "The young crowd at a Nashville nightclub was ready to dance under the strobe lights to a throbbing mix of hip-hop, rap and Latin beats. But first they gathered to pray and praise God. The rules were announced on the dance floor by a mic-carrying emcee to more than 200 clubgoers blanketed by thick smoke machine fog: ”Rule No.",
         "2": "LifeStyle",
         "3": "https://www.msn.com/en-us/entertainment/news/a-christian-pop-up-nightclub-in-nashville-plays-jesus-rap-and-forbids-twerking-drinking-and-smoking/ar-BB1jeDLc",
         "4": "https://www.bing.com/th?id=OVFT.iRXlTD87QDCQuB6DTC-caC&pid=News",
         "5": "Business Insider on MSN.com",
         "6": "02-Mar-2024",
         "index": 51
        },
        {
         "0": "Gloucester young people talk about knife crime on hip-hop album",
         "1": "The group launched its album at Gloucester Cathedral on Friday. A group has created a music album which they say challenges the stereotypes of young people while raising awareness",
         "2": "Entertainment",
         "3": "https://www.msn.com/en-us/entertainment/news/young-people-talk-about-knife-crime-on-hip-hop-album/ar-BB1jfiw9",
         "4": "https://www.bing.com/th?id=OVFT.kBIqzQyzEdLJrR9_6wYIKS&pid=News",
         "5": "BBC on MSN.com",
         "6": "03-Mar-2024",
         "index": 52
        },
        {
         "0": "YouTube Music team laid off by Google while workers testified to Austin City Council about working conditions",
         "1": "Some workers learned of the YouTube Music layoffs while testifying to the Austin city council about Google's refusal to negotiate with the union.",
         "2": "ScienceAndTechnology",
         "3": "https://www.msn.com/en-us/money/companies/youtube-music-team-laid-off-by-google-while-workers-testified-to-austin-city-council-about-working-conditions/ar-BB1jetUk",
         "4": "https://www.bing.com/th?id=OVFT.afLmGGokT-qfEr1XKi_YGS&pid=News",
         "5": "Business Insider on MSN.com",
         "6": "02-Mar-2024",
         "index": 53
        },
        {
         "0": "Elle King Delivers First Performance Since Drunken Grand Ole Opry Incident at Arizona Music Festival",
         "1": "Elle King returned to the stage for the first time since she performed in a Dolly Parton tribute held by the Grand Ole Opry at Nashville's Ryman Auditorium while admittedly drunk. On Friday, the country singer played at Extra Innings Festival in Tempe,",
         "2": "Entertainment",
         "3": "https://www.msn.com/en-us/music/celebrity/elle-king-delivers-first-performance-since-drunken-grand-ole-opry-incident-at-arizona-music-festival/ar-BB1jeENS",
         "4": "https://www.bing.com/th?id=OVFT.M8J6sP6br4B0X6Lw-_a4ey&pid=News",
         "5": "People on MSN.com",
         "6": "03-Mar-2024",
         "index": 54
        },
        {
         "0": "Elle King makes her first return to the stage since her drunken Dolly Parton birthday tribute performance",
         "1": "The singer performed at Arizona’s Extra Innings Festival in her first show since the controversial incident at the Nashville’s Grand Ole Opry in January.",
         "2": "Entertainment",
         "3": "https://www.msn.com/en-us/music/celebrity/elle-king-makes-her-first-return-to-the-stage-since-her-drunken-dolly-parton-birthday-tribute-performance/ar-BB1jeZ8k",
         "4": "https://www.bing.com/th?id=OVFT.jDxeKvSx_09RlsBwf6nvni&pid=News",
         "5": "FOX News on MSN.com",
         "6": "03-Mar-2024",
         "index": 55
        },
        {
         "0": "BRIT Awards: Raye sets record at Britain's pop music honours",
         "1": "Singer-songwriter Raye was the big winner at the BRIT Awards, the biggest night in British music, on Saturday, setting a new record for most prizes in one night at the annual ceremony. Raye won six awards,",
         "2": "Entertainment",
         "3": "https://www.msn.com/en-us/music/news/brit-awards-raye-sets-record-at-britain-s-pop-music-honours/ar-BB1jeDnx",
         "4": "https://www.bing.com/th?id=OVFT.l87Gc6DJUoZOmY9ox-_oGi&pid=News",
         "5": "Reuters on MSN.com",
         "6": "02-Mar-2024",
         "index": 56
        },
        {
         "0": "Kacey Musgraves Performs Barefoot on “Saturday Night Live, ”Rocks 2 Stylish Blue Looks",
         "1": "Kacey Musgraves' Saturn has returned — to Saturday Night Live! For her third time as musical guest on the sketch comedy show, Musgraves, 35, took the stage to perform two tracks",
         "2": "Entertainment",
         "3": "https://www.msn.com/en-us/music/news/kacey-musgraves-performs-barefoot-on-saturday-night-live-rocks-2-stylish-blue-looks/ar-BB1jfBDe",
         "4": "https://www.bing.com/th?id=OVFT.VizLlYliSonoARTFGJaIgi&pid=News",
         "5": "People on MSN.com",
         "6": "03-Mar-2024",
         "index": 57
        },
        {
         "0": "Music's Biggest Night in Britain Is Here! See All the Stars Arriving at the 2024 BRIT Awards",
         "1": "The 2024 BRIT Awards kicked off on Saturday evening in London, with celebrities hitting the red carpet at the city's famed O2 Arena. Before they dazzle on stage, see Dua Lipa, Kylie Minogue, Tate McRae and more singing stars arriving at the 2024 BRIT Awards.",
         "2": "Entertainment",
         "3": "https://www.msn.com/en-us/music/news/musics-biggest-night-in-britain-is-here-see-all-the-stars-arriving-at-the-2024-brit-awards/ar-BB1je7d9",
         "4": "https://www.bing.com/th?id=OVFT.-e7bU2DHmf2MIR3JoXJhUS&pid=News",
         "5": "People on MSN.com",
         "6": "02-Mar-2024",
         "index": 58
        },
        {
         "0": "Being a female runner shouldn't be dangerous. Laken Riley's death reminds us it is.",
         "1": "Laken’s death has reignited the conversation that began in the wake of Eliza Fletcher’s kidnapping and murder nearly two years ago about the dangers female runners face. Fletcher was a teacher who was abducted while on a morning run near the University of Memphis.",
         "2": "LifeStyle",
         "3": "https://www.msn.com/en-us/news/opinion/being-a-female-runner-shouldnt-be-dangerous-laken-rileys-death-reminds-us-it-is/ar-BB1jftL1",
         "4": "https://www.bing.com/th?id=OVFT.NuUEpQzPSZtam-wTULH62i&pid=News",
         "5": "USA Today on MSN.com",
         "6": "03-Mar-2024",
         "index": 59
        },
        {
         "0": "A veteran Republican operative relocated to Kyiv — he says Ukraine can win the war",
         "1": "Steven Moore, a Capitol Hill veteran, says he is now \"doing the right thing\" in helping Ukraine's war effort.",
         "2": "Politics",
         "3": "https://www.msn.com/en-us/news/world/a-veteran-republican-operative-relocated-to-kyiv-he-says-ukraine-can-win-the-war/ar-BB1jfxoS",
         "4": "https://www.bing.com/th?id=OVFT.xt6mUXKHPbO0n9EU1YaidS&pid=News",
         "5": "Business Insider on MSN.com",
         "6": "03-Mar-2024",
         "index": 60
        },
        {
         "0": "Louis Sarkozy: ‘I went from the Elysée Palace to a dirty barrack room in Pennsylvania – thank God’",
         "1": "The former French president’s son has paused his military career to write a book about Napoleon – and thinks Ridley Scott’s film is ‘trash’",
         "2": "World",
         "3": "https://www.msn.com/en-us/news/world/louis-sarkozy-i-went-from-the-elys%C3%A9e-palace-to-a-dirty-barrack-room-in-pennsylvania-thank-god/ar-BB1jf6WG",
         "4": "https://www.bing.com/th?id=OVFT.qljpA6Bg6FKtm-MY0bn0Cy&pid=News",
         "5": "The Daily Telegraph on MSN.com",
         "6": "03-Mar-2024",
         "index": 61
        },
        {
         "0": "The ‘subversive spirituality’ of Bob Marley is still being overlooked",
         "1": "A hit movie has cast reggae superstar Bob Marley back into the spotlight. But it also overlooks a key to Marley’s legacy: To him, his Bible was as important as his guitar. Marley’s subversive spirituality was central to his life and music,",
         "2": "Entertainment",
         "3": "https://www.msn.com/en-us/news/world/the-subversive-spirituality-of-bob-marley-is-still-being-overlooked/ar-BB1jfq0t",
         "4": "https://www.bing.com/th?id=OVFT.4Uxlxfxuasvx4JNpcFYHaS&pid=News",
         "5": "CNN on MSN.com",
         "6": "03-Mar-2024",
         "index": 62
        },
        {
         "0": "Where Old Vegas is still alive today",
         "1": "Finally, the most recognizable throwback to Old Vegas might be the neon “Welcome to Fabulous Las Vegas” sign at the south end of the Las Vegas Strip near Mandalay Bay Resort & Casino. Betty Willis designed the sign back in 1959, and YESCO owns it today. It was added to the National Register of Historic Places in 2009.",
         "2": "LifeStyle",
         "3": "https://www.msn.com/en-us/travel/news/where-old-vegas-is-still-alive-today/ar-BB1jf9Qg",
         "4": "https://www.bing.com/th?id=OVFT.25H96ag35n6q1Pr3KrOgoC&pid=News",
         "5": "CNN on MSN.com",
         "6": "03-Mar-2024",
         "index": 63
        },
        {
         "0": "Martin Bayfield: Six Nations must stay on free to air TV – but coverage needs to improve",
         "1": "Former England second row who has worked as a reporter for BBC, ITV, BT Sport and TNT believes the tournament isn’t being properly projected",
         "2": "Sports",
         "3": "https://www.msn.com/en-us/tv/news/martin-bayfield-six-nations-must-stay-on-free-to-air-tv-but-coverage-needs-to-improve/ar-BB1jfkcd",
         "4": "https://www.bing.com/th?id=OVFT.lwUkMRHVW3dtLs3ADnYF6y&pid=News",
         "5": "The Daily Telegraph on MSN.com",
         "6": "03-Mar-2024",
         "index": 64
        },
        {
         "0": "Raye’s record-breaking Brits defied the limited imaginations of the British music industry",
         "1": "Raye’s six Brit awards marked a huge vindication for the newly independent artist and rightly shamed the major label that apparently couldn’t see her potential",
         "2": "Entertainment",
         "3": "https://www.theguardian.com/music/2024/mar/02/rayes-record-breaking-brits-defied-the-limited-imaginations-of-the-british-music-industry",
         "4": "https://www.bing.com/th?id=OVFT.Izw8m744T-wOfMfxGv8GmS&pid=News",
         "5": "The Guardian",
         "6": "02-Mar-2024",
         "index": 65
        },
        {
         "0": "Brit awards 2024: A blushing music industry eats humble pie",
         "1": "Who should win and who will win? The Times chief rock and pop critic Will Hodgkinson reviews this year’s nominees",
         "2": "Entertainment",
         "3": "https://www.thetimes.co.uk/article/brit-awards-2024-winners-full-list-ggghgz33z",
         "4": "https://www.bing.com/th?id=OVFT.ssb-nkJtXm26PE5fmUsAxS&pid=News",
         "5": "The Times",
         "6": "02-Mar-2024",
         "index": 66
        },
        {
         "0": "The latest on the Israel-Hamas war",
         "1": "Israeli Prime Minister Benjamin Netanyahu has directed the military to prepare to evacuate over 1 million Palestinians from the southern Gaza city of Rafah ahead of a ground operation. Follow for live updates.",
         "2": "World",
         "3": "https://edition.cnn.com/middleeast/live-news/israel-hamas-war-gaza-news-02-10-24/h_cd8908900541adca9751bf5a3ddd9bdd",
         "4": "https://www.bing.com/th?id=OVFT.BjPWSlzcbo7HCTwmyOxxUy&pid=News",
         "5": "CNN",
         "6": "10-Feb-2024",
         "index": 67
        },
        {
         "0": "News Flash: Analysts Just Made A Sizeable Upgrade To Their Vanda Pharmaceuticals Inc. (NASDAQ:VNDA) Forecasts",
         "1": "Celebrations may be in order for Vanda Pharmaceuticals Inc. (NASDAQ:VNDA) shareholders, with the covering analyst delivering a significant upgrade to their statutory estimates for the company. The consensus statutory numbers for both revenue and earnings per share (EPS) increased,",
         "2": "ScienceAndTechnology",
         "3": "https://finance.yahoo.com/news/news-flash-analysts-just-made-124256245.html",
         "4": "https://www.bing.com/th?id=OVFT.7S2v6t5ALCHoDA6DLmT-ES&pid=News",
         "5": "YAHOO!Finance",
         "6": "10-Feb-2024",
         "index": 68
        },
        {
         "0": "Six Nations 2024: England vs Wales match preview, team news, kick-off time & BBC coverage",
         "1": "Match preview, team news, BBC coverage, standings and statistics for Saturday's Six Nations match between England and Wales at Twickenham.",
         "2": "Sports",
         "3": "https://www.bbc.co.uk/sport/rugby-union/68185927",
         "4": "https://www.bing.com/th?id=OVFT.qCGwjb_G0SzAlZjuKfuiPy&pid=News",
         "5": "BBC",
         "6": "10-Feb-2024",
         "index": 69
        },
        {
         "0": "New York Times editorial board demands Biden ‘do better’ in defending his memory, fitness for office",
         "1": "The New York Times editorial board trashed President Biden's Thursday press conference in which he tried to reassure Americans he is mentally fit. It claimed the move \"didn't work\"",
         "2": "Politics",
         "3": "https://www.foxnews.com/media/new-york-times-editorial-board-demands-biden-do-better-defending-memory-fitness-office",
         "4": "https://www.bing.com/th?id=OVFT.nGHW_CIPXX6ke-JC9OkHny&pid=News",
         "5": "Fox News",
         "6": "10-Feb-2024",
         "index": 70
        },
        {
         "0": "King Charles cancer – latest: Monarch makes first statement since diagnosis as Will ‘upset’ with Harry",
         "1": "Prince William has returned to royal duties after stepping back for several weeks to care for his wife after she underwent abdominal surgery",
         "2": "Entertainment",
         "3": "https://www.msn.com/en-gb/health/other/king-charles-cancer-latest-william-upset-at-harry-s-pr-stunt-as-key-update-issued-on-kate-s-recovery/ar-BB1hOvJf",
         "4": "https://www.bing.com/th?id=OVFT.rGsHS-NsYVdk7JjfUGbSLy&pid=News",
         "5": "The Independent on MSN.com",
         "6": "10-Feb-2024",
         "index": 71
        },
        {
         "0": "Australia news live: Coalition will oppose vehicle emission standards that increase prices of popular cars, Taylor says",
         "1": "Follow the day’s news live",
         "2": "LifeStyle",
         "3": "https://www.msn.com/en-gb/news/uknews/australia-news-live-coalition-will-oppose-vehicle-emission-standards-that-increase-prices-of-popular-cars-taylor-says/ar-BB1i5zYD",
         "4": "https://www.bing.com/th?id=OVFT._VmYfzX-QB7baMCZagQYly&pid=News",
         "5": "The Guardian on MSN.com",
         "6": "11-Feb-2024",
         "index": 72
        },
        {
         "0": "Ireland v Italy, Six Nations 2024: Kick-off time, how to watch and latest news",
         "1": "Ireland and Italy face each other on Sunday, February 11. The match kicks off at 3pm GMT. The Aviva Stadium in Dublin. A ground at which the Azzurri have never won. The match will be broadcast live on ITV1 and ITVX in the UK. In the Republic of Ireland, Virgin Media have the rights for the live broadcast.",
         "2": "Sports",
         "3": "https://www.msn.com/en-gb/sport/other/ireland-v-italy-six-nations-2024-kick-off-time-how-to-watch-and-latest-news/ar-BB1i4hzO",
         "4": "https://www.bing.com/th?id=OVFT.N_3-sp2XhHZf5gORfWzy9y&pid=News",
         "5": "The Daily Telegraph on MSN.com",
         "6": "10-Feb-2024",
         "index": 73
        },
        {
         "0": "New Mexico Budget Bill Would Found Literacy Institute, Propel Housing Construction and Conservation",
         "1": "New Mexico’s strategy for spending and investing a multibillion-dollar annual surplus linked closely to oil production has come into sharper focus",
         "2": "Politics",
         "3": "https://www.msn.com/en-us/money/realestate/new-mexico-budget-bill-would-found-literacy-institute-propel-housing-construction-and-conservation/ar-BB1i5Dlz",
         "4": "https://www.bing.com/th?id=OVFT.LQBFjyuPAxQCv8FPnt7-1i&pid=News",
         "5": "The Associated Press on MSN.com",
         "6": "11-Feb-2024",
         "index": 74
        },
        {
         "0": "Scotland v France, Six Nations 2024: Kick-off time today, how to watch and latest news",
         "1": "France head to Edinburgh on the back of a crushing 38-17 home defeat against Six Nations title and Grand Slam favourites Ireland. It followed their shattering World Cup quarter-final loss to South Africa,",
         "2": "Sports",
         "3": "https://www.msn.com/en-us/news/world/scotland-v-france-six-nations-2024-kick-off-time-today-how-to-watch-and-latest-news/ar-BB1i18iu",
         "4": "https://www.bing.com/th?id=OVFT.H_bNkaoWtGCq5FgxkJpvyC&pid=News",
         "5": "The Telegraph on MSN.com",
         "6": "10-Feb-2024",
         "index": 75
        },
        {
         "0": "What is the Super Bowl spread? Latest point spread for 49ers vs. Chiefs",
         "1": "Super Bowl in just over 24 hours, betting odds paint a clear picture. Here is the latest point spread and Vegas betting odds.",
         "2": "Sports",
         "3": "https://www.msn.com/en-us/sports/nfl/what-is-the-super-bowl-spread-latest-point-spread-for-49ers-vs-chiefs/ar-BB1i5v5f",
         "4": "https://www.bing.com/th?id=OVFT.ylSoWMBa4MbOPECLjMAsYy&pid=News",
         "5": "USA Today on MSN.com",
         "6": "10-Feb-2024",
         "index": 76
        },
        {
         "0": "European soccer news: Madrid outclass Girona, Leverkusen defeat Bayern",
         "1": "Real Madrid send a statement win to Girona while Bayer Leverkusen defeat Bayern Munich to continue to defy the odds in the Bundesliga. Here's what you missed in European soccer.",
         "2": "Sports",
         "3": "https://www.msn.com/en-us/sports/soccer/european-soccer-news-madrid-outclass-girona-leverkusen-defeat-bayern/ar-BB1i5SpE",
         "4": "https://www.bing.com/th?id=OVFT.1wbfGL38kkyres1xudGdsS&pid=News",
         "5": "ESPN on MSN.com",
         "6": "11-Feb-2024",
         "index": 77
        },
        {
         "0": "It’s a brand new route on the world’s most famous train – but it’ll cost you $8,500 one way",
         "1": "In travel news this week, a European airline is weighing passengers before takeoff, the new luxury train trip that costs $8,500 one way, and how Ukraine keeps its railways running, two years into the war.",
         "2": "LifeStyle",
         "3": "https://www.msn.com/en-us/travel/news/it-s-a-brand-new-route-on-the-world-s-most-famous-train-but-it-ll-cost-you-8500-one-way/ar-BB1i56QW",
         "4": "https://www.bing.com/th?id=OVFT.wMFk1sBsI3YwpWIM4NzkNS&pid=News",
         "5": "CNN on MSN.com",
         "6": "10-Feb-2024",
         "index": 78
        },
        {
         "0": "New vintage boutique opens in Downtown El Paso",
         "1": "The El Paso Downtown Management District is hosting a grand-opening celebration Saturday, Feb. 10, marking the official inauguration of Pineapple Vintage in Downtown El Paso. The celebration started at noon with a ribbon-cutting celebration,",
         "2": "LifeStyle",
         "3": "https://www.msn.com/en-us/travel/news/new-vintage-boutique-opens-in-downtown-el-paso/ar-BB1i5RtN",
         "4": "https://www.bing.com/th?id=OVFT.RQvhCtfbUWI9U2b3flzTwy&pid=News",
         "5": "KTSM El Paso on MSN.com",
         "6": "10-Feb-2024",
         "index": 79
        },
        {
         "0": "WWE Star Daria Berenato Marries Toni Cassano in New Jersey Wedding Officiated by Maria Menounos (Exclusive)",
         "1": "WWE star Daria Berenato and fitness model Toni Cassano tied the knot on Feb. 10 in an elegant ceremony at the Legacy Castle in New Jersey in front of 140 guests.",
         "2": "LifeStyle",
         "3": "https://www.msn.com/en-us/tv/celebrity/wwe-star-daria-berenato-marries-toni-cassano-in-new-jersey-wedding-officiated-by-maria-menounos-exclusive/ar-BB1i5MS8",
         "4": "https://www.bing.com/th?id=OVFT.Uf1PpdBMv2QSYmMztUz_BC&pid=News",
         "5": "People on MSN.com",
         "6": "11-Feb-2024",
         "index": 80
        },
        {
         "0": "The best new popular fiction for February 2024 — Oh no! My dad’s a sperm donor",
         "1": "Lena’s gift forces her dad, Tom, to admit that he isn’t their biological father — Lena and Alison were donor-conceived, a secret he’d hoped to take to his grave. Alison, who’s trying to start a family with her wife,",
         "2": "Entertainment",
         "3": "https://www.thetimes.co.uk/article/bfda7b32-ebd5-467a-9c9d-1cd0a245750b?shareToken=d890d0be5d05de6f3f47fa9a10e3cdb3",
         "4": "https://www.bing.com/th?id=OVFT.QWr9Akj_iWRBZ9giCWg25i&pid=News",
         "5": "The Times",
         "6": "10-Feb-2024",
         "index": 81
        }
       ],
       "schema": [
        {
         "key": "0",
         "name": "title",
         "type": "string"
        },
        {
         "key": "1",
         "name": "description",
         "type": "string"
        },
        {
         "key": "2",
         "name": "category",
         "type": "string"
        },
        {
         "key": "3",
         "name": "url",
         "type": "string"
        },
        {
         "key": "4",
         "name": "image",
         "type": "string"
        },
        {
         "key": "5",
         "name": "provider",
         "type": "string"
        },
        {
         "key": "6",
         "name": "datePublished",
         "type": "string"
        }
       ],
       "truncated": false
      }
     },
     "type": "Synapse.DataFrame"
    }
   },
   "version": "0.1"
  },
  "widgets": {}
 },
 "nbformat": 4,
 "nbformat_minor": 5
}
